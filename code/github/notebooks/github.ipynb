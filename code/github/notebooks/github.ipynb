{
 "cells": [
  {
   "cell_type": "markdown",
   "id": "1c84bf75",
   "metadata": {},
   "source": [
    "# Github Repository Data Exploration  "
   ]
  },
  {
   "cell_type": "markdown",
   "id": "27fb9696",
   "metadata": {},
   "source": [
    "## Setup \n",
    "\n",
    "Ensure you are in the `coding-smart-github` conda environment and have the following packages in your environment:\n",
    "```bash\n",
    "\n",
    "```\n",
    "\n",
    "### Github Authentication \n",
    "\n",
    "Create a classic access token via [Github Authentication Settings](https://docs.github.com/en/authentication/keeping-your-account-and-data-secure/creating-a-personal-access-token#creating-a-personal-access-token-classic) and create a file called `config.cfg` with the following content: \n",
    "```bash\n",
    "[ACCESS]\n",
    "token = <your-access-token>\n",
    "```\n",
    "Ensure you've pasted in your token, but leave `[ACCESS]` and `token = `."
   ]
  },
  {
   "cell_type": "code",
   "execution_count": 14,
   "id": "1ec74846",
   "metadata": {},
   "outputs": [],
   "source": [
    "import pandas as pd\n",
    "pd.set_option('max_colwidth', 1000)\n",
    "\n",
    "import numpy as np\n",
    "\n",
    "import os\n",
    "\n",
    "import configparser\n",
    "\n",
    "import requests\n",
    "\n",
    "from github import Github\n",
    "\n",
    "import datetime\n",
    "\n",
    "from tqdm import tqdm\n",
    "\n",
    "import matplotlib.pyplot as plt  \n",
    "\n",
    "import json"
   ]
  },
  {
   "cell_type": "code",
   "execution_count": 121,
   "id": "745d078b",
   "metadata": {},
   "outputs": [],
   "source": [
    "# set up github access token with github package: \n",
    "\n",
    "config = configparser.ConfigParser()\n",
    "config.read('../config.cfg')\n",
    "config.sections()\n",
    "\n",
    "access_token = config['ACCESS']['token']\n",
    "g = Github(access_token, per_page=100)"
   ]
  },
  {
   "cell_type": "code",
   "execution_count": 3,
   "id": "28dfe492",
   "metadata": {},
   "outputs": [],
   "source": [
    "# PARSE GITHUB REPO URL INTO USERNAME AND REPO NAME\n",
    "\n",
    " # via @karacolada \n",
    "def parse_github_repo_url(url):  \n",
    "    \"\"\" Take github URL and split into username or organisation ('username') and repo name ('repo_name'). \n",
    "    Return username and repo name. \n",
    "    URL must start with 'https://' to split correctly.\n",
    "    \n",
    "    Examples: \n",
    "    >>> parse_github_repo_url(\"https://github.com/riboviz/riboviz\")\n",
    "    ('riboviz', 'riboviz')\n",
    "\n",
    "    >>> parse_github_repo_url(\"https://github.com/FlicAnderson/20230215-JournalClub-BestPractices\")\n",
    "    ('FlicAnderson', '20230215-JournalClub-BestPractices')\n",
    "    \"\"\"\n",
    "    assert isinstance(url, str), 'Ensure input url is a string' \n",
    "    \n",
    "    try:\n",
    "        _,_,_,username,repo_name = url.split('/')\n",
    "    except ValueError:\n",
    "        print(f\"Could not unpack URL {url} into 5 segments. Confirm input is correct (and starts 'https://github.com/') or refactor function parse_github_repo_url.\")\n",
    "    \n",
    "    return username, repo_name"
   ]
  },
  {
   "cell_type": "code",
   "execution_count": 4,
   "id": "c2e48af2",
   "metadata": {},
   "outputs": [
    {
     "data": {
      "text/plain": [
       "('riboviz', 'riboviz')"
      ]
     },
     "execution_count": 4,
     "metadata": {},
     "output_type": "execute_result"
    }
   ],
   "source": [
    "parse_github_repo_url(\"https://github.com/riboviz/riboviz\")\n",
    "#parse_github_repo_url(\"https://github.com/FlicAnderson/20230215-JournalClub-BestPractices\")  # extra example\n",
    "#parse_github_repo_url(123)  # this correctly triggers assertion error."
   ]
  },
  {
   "cell_type": "code",
   "execution_count": 108,
   "id": "6feb9472",
   "metadata": {},
   "outputs": [],
   "source": [
    "# GET REPO JSON DATA \n",
    "\n",
    "def get_repo_json(username, repo_name):\n",
    "    \n",
    "    \"\"\" Gets json data for a github repository when given a valid username and repository name. \n",
    "    Returns 'json_repo_content', a dict. \n",
    "        \n",
    "    Examples: \n",
    "    \n",
    "    >>> get_repo_json('FlicAnderson', '20230215-JournalClub-BestPractices')\n",
    "    {'id': 595202904,\n",
    "     'node_id': 'R_kgDOI3oTWA',\n",
    "     'name': '20230215-JournalClub-BestPractices',\n",
    "     'full_name': 'FlicAnderson/20230215-JournalClub-BestPractices',\n",
    "     'private': False,\n",
    "     'owner': {'login \n",
    "     ... lots more content...\n",
    "    \n",
    "    # To list all fields load 'json' module and use keys(), e.g. \n",
    "    >>> content = get_repo_json('riboviz', 'riboviz')\n",
    "    >>> content.keys()\n",
    "    >>> ... list of fields returned for the dict. \n",
    "    \n",
    "    # To access the value for a given key, save output to a variable and index the key name: \n",
    "    >>> content = get_repo_json('FlicAnderson', '20230215-JournalClub-BestPractices')\n",
    "    >>> content['has_issues'] \n",
    "    True\n",
    "    \"\"\"\n",
    "    assert isinstance(username, str), 'Ensure input username is a string' \n",
    "    assert isinstance(repo_name, str), 'Ensure input repo_name is a string' \n",
    "        \n",
    "    json_repo_content = requests.get(f'https://api.github.com/repos/{username}/{repo_name}').json() \n",
    "                \n",
    "    return json_repo_content"
   ]
  },
  {
   "cell_type": "code",
   "execution_count": 109,
   "id": "dc030dc5",
   "metadata": {},
   "outputs": [
    {
     "data": {
      "text/plain": [
       "{'id': 184749972,\n",
       " 'node_id': 'MDEwOlJlcG9zaXRvcnkxODQ3NDk5NzI=',\n",
       " 'name': 'riboviz',\n",
       " 'full_name': 'riboviz/riboviz',\n",
       " 'private': False,\n",
       " 'owner': {'login': 'riboviz',\n",
       "  'id': 50236323,\n",
       "  'node_id': 'MDEyOk9yZ2FuaXphdGlvbjUwMjM2MzIz',\n",
       "  'avatar_url': 'https://avatars.githubusercontent.com/u/50236323?v=4',\n",
       "  'gravatar_id': '',\n",
       "  'url': 'https://api.github.com/users/riboviz',\n",
       "  'html_url': 'https://github.com/riboviz',\n",
       "  'followers_url': 'https://api.github.com/users/riboviz/followers',\n",
       "  'following_url': 'https://api.github.com/users/riboviz/following{/other_user}',\n",
       "  'gists_url': 'https://api.github.com/users/riboviz/gists{/gist_id}',\n",
       "  'starred_url': 'https://api.github.com/users/riboviz/starred{/owner}{/repo}',\n",
       "  'subscriptions_url': 'https://api.github.com/users/riboviz/subscriptions',\n",
       "  'organizations_url': 'https://api.github.com/users/riboviz/orgs',\n",
       "  'repos_url': 'https://api.github.com/users/riboviz/repos',\n",
       "  'events_url': 'https://api.github.com/users/riboviz/events{/privacy}',\n",
       "  'received_events_url': 'https://api.github.com/users/riboviz/received_events',\n",
       "  'type': 'Organization',\n",
       "  'site_admin': False},\n",
       " 'html_url': 'https://github.com/riboviz/riboviz',\n",
       " 'description': 'Analysis and Visualization of Ribosome Profiling Data',\n",
       " 'fork': False,\n",
       " 'url': 'https://api.github.com/repos/riboviz/riboviz',\n",
       " 'forks_url': 'https://api.github.com/repos/riboviz/riboviz/forks',\n",
       " 'keys_url': 'https://api.github.com/repos/riboviz/riboviz/keys{/key_id}',\n",
       " 'collaborators_url': 'https://api.github.com/repos/riboviz/riboviz/collaborators{/collaborator}',\n",
       " 'teams_url': 'https://api.github.com/repos/riboviz/riboviz/teams',\n",
       " 'hooks_url': 'https://api.github.com/repos/riboviz/riboviz/hooks',\n",
       " 'issue_events_url': 'https://api.github.com/repos/riboviz/riboviz/issues/events{/number}',\n",
       " 'events_url': 'https://api.github.com/repos/riboviz/riboviz/events',\n",
       " 'assignees_url': 'https://api.github.com/repos/riboviz/riboviz/assignees{/user}',\n",
       " 'branches_url': 'https://api.github.com/repos/riboviz/riboviz/branches{/branch}',\n",
       " 'tags_url': 'https://api.github.com/repos/riboviz/riboviz/tags',\n",
       " 'blobs_url': 'https://api.github.com/repos/riboviz/riboviz/git/blobs{/sha}',\n",
       " 'git_tags_url': 'https://api.github.com/repos/riboviz/riboviz/git/tags{/sha}',\n",
       " 'git_refs_url': 'https://api.github.com/repos/riboviz/riboviz/git/refs{/sha}',\n",
       " 'trees_url': 'https://api.github.com/repos/riboviz/riboviz/git/trees{/sha}',\n",
       " 'statuses_url': 'https://api.github.com/repos/riboviz/riboviz/statuses/{sha}',\n",
       " 'languages_url': 'https://api.github.com/repos/riboviz/riboviz/languages',\n",
       " 'stargazers_url': 'https://api.github.com/repos/riboviz/riboviz/stargazers',\n",
       " 'contributors_url': 'https://api.github.com/repos/riboviz/riboviz/contributors',\n",
       " 'subscribers_url': 'https://api.github.com/repos/riboviz/riboviz/subscribers',\n",
       " 'subscription_url': 'https://api.github.com/repos/riboviz/riboviz/subscription',\n",
       " 'commits_url': 'https://api.github.com/repos/riboviz/riboviz/commits{/sha}',\n",
       " 'git_commits_url': 'https://api.github.com/repos/riboviz/riboviz/git/commits{/sha}',\n",
       " 'comments_url': 'https://api.github.com/repos/riboviz/riboviz/comments{/number}',\n",
       " 'issue_comment_url': 'https://api.github.com/repos/riboviz/riboviz/issues/comments{/number}',\n",
       " 'contents_url': 'https://api.github.com/repos/riboviz/riboviz/contents/{+path}',\n",
       " 'compare_url': 'https://api.github.com/repos/riboviz/riboviz/compare/{base}...{head}',\n",
       " 'merges_url': 'https://api.github.com/repos/riboviz/riboviz/merges',\n",
       " 'archive_url': 'https://api.github.com/repos/riboviz/riboviz/{archive_format}{/ref}',\n",
       " 'downloads_url': 'https://api.github.com/repos/riboviz/riboviz/downloads',\n",
       " 'issues_url': 'https://api.github.com/repos/riboviz/riboviz/issues{/number}',\n",
       " 'pulls_url': 'https://api.github.com/repos/riboviz/riboviz/pulls{/number}',\n",
       " 'milestones_url': 'https://api.github.com/repos/riboviz/riboviz/milestones{/number}',\n",
       " 'notifications_url': 'https://api.github.com/repos/riboviz/riboviz/notifications{?since,all,participating}',\n",
       " 'labels_url': 'https://api.github.com/repos/riboviz/riboviz/labels{/name}',\n",
       " 'releases_url': 'https://api.github.com/repos/riboviz/riboviz/releases{/id}',\n",
       " 'deployments_url': 'https://api.github.com/repos/riboviz/riboviz/deployments',\n",
       " 'created_at': '2019-05-03T12:15:59Z',\n",
       " 'updated_at': '2023-05-11T14:53:11Z',\n",
       " 'pushed_at': '2023-04-24T08:37:56Z',\n",
       " 'git_url': 'git://github.com/riboviz/riboviz.git',\n",
       " 'ssh_url': 'git@github.com:riboviz/riboviz.git',\n",
       " 'clone_url': 'https://github.com/riboviz/riboviz.git',\n",
       " 'svn_url': 'https://github.com/riboviz/riboviz',\n",
       " 'homepage': 'https://riboviz.org',\n",
       " 'size': 139798,\n",
       " 'stargazers_count': 24,\n",
       " 'watchers_count': 24,\n",
       " 'language': 'Python',\n",
       " 'has_issues': True,\n",
       " 'has_projects': True,\n",
       " 'has_downloads': True,\n",
       " 'has_wiki': True,\n",
       " 'has_pages': False,\n",
       " 'has_discussions': False,\n",
       " 'forks_count': 9,\n",
       " 'mirror_url': None,\n",
       " 'archived': False,\n",
       " 'disabled': False,\n",
       " 'open_issues_count': 164,\n",
       " 'license': {'key': 'apache-2.0',\n",
       "  'name': 'Apache License 2.0',\n",
       "  'spdx_id': 'Apache-2.0',\n",
       "  'url': 'https://api.github.com/licenses/apache-2.0',\n",
       "  'node_id': 'MDc6TGljZW5zZTI='},\n",
       " 'allow_forking': True,\n",
       " 'is_template': False,\n",
       " 'web_commit_signoff_required': False,\n",
       " 'topics': [],\n",
       " 'visibility': 'public',\n",
       " 'forks': 9,\n",
       " 'open_issues': 164,\n",
       " 'watchers': 24,\n",
       " 'default_branch': 'main',\n",
       " 'temp_clone_token': None,\n",
       " 'organization': {'login': 'riboviz',\n",
       "  'id': 50236323,\n",
       "  'node_id': 'MDEyOk9yZ2FuaXphdGlvbjUwMjM2MzIz',\n",
       "  'avatar_url': 'https://avatars.githubusercontent.com/u/50236323?v=4',\n",
       "  'gravatar_id': '',\n",
       "  'url': 'https://api.github.com/users/riboviz',\n",
       "  'html_url': 'https://github.com/riboviz',\n",
       "  'followers_url': 'https://api.github.com/users/riboviz/followers',\n",
       "  'following_url': 'https://api.github.com/users/riboviz/following{/other_user}',\n",
       "  'gists_url': 'https://api.github.com/users/riboviz/gists{/gist_id}',\n",
       "  'starred_url': 'https://api.github.com/users/riboviz/starred{/owner}{/repo}',\n",
       "  'subscriptions_url': 'https://api.github.com/users/riboviz/subscriptions',\n",
       "  'organizations_url': 'https://api.github.com/users/riboviz/orgs',\n",
       "  'repos_url': 'https://api.github.com/users/riboviz/repos',\n",
       "  'events_url': 'https://api.github.com/users/riboviz/events{/privacy}',\n",
       "  'received_events_url': 'https://api.github.com/users/riboviz/received_events',\n",
       "  'type': 'Organization',\n",
       "  'site_admin': False},\n",
       " 'network_count': 9,\n",
       " 'subscribers_count': 7}"
      ]
     },
     "execution_count": 109,
     "metadata": {},
     "output_type": "execute_result"
    }
   ],
   "source": [
    "get_repo_json('riboviz', 'riboviz')"
   ]
  },
  {
   "cell_type": "code",
   "execution_count": 111,
   "id": "21945061",
   "metadata": {},
   "outputs": [
    {
     "data": {
      "text/plain": [
       "164"
      ]
     },
     "execution_count": 111,
     "metadata": {},
     "output_type": "execute_result"
    }
   ],
   "source": [
    "content = get_repo_json('riboviz', 'riboviz')\n",
    "#content['open_issues'] # check how many open issues  "
   ]
  },
  {
   "cell_type": "code",
   "execution_count": 122,
   "id": "441d6a2a",
   "metadata": {},
   "outputs": [],
   "source": [
    "# REPO CONNECTION FUNCTION \n",
    "# set up access token separately (see above!)\n",
    "\n",
    "def get_repo_connection(username, repo_name): \n",
    "     \"\"\"Create connection to github repository and get details \n",
    "     when given 'username' and 'repo_name' repository name. \n",
    "     repo_connection is type: github.Repository.Repository.  \n",
    "     \n",
    "     NOTE: Requires access_token setup with Github package. \n",
    "     \n",
    "     Examples: \n",
    "     >>> get_repo_connection('riboviz', 'riboviz')\n",
    "     Repository(full_name=\"riboviz/riboviz\")\n",
    "     \n",
    "     \"\"\"\n",
    "     #g = Github(access_token)  # this access token setup line is required, plus extra setup code elsewhere above. \n",
    "\n",
    "     assert isinstance(username, str), 'Ensure input username is a string'  \n",
    "     assert isinstance(repo_name, str), 'Ensure input repo_name is a string'  \n",
    "    \n",
    "     repo_connection = g.get_repo(f'{username}/{repo_name}')\n",
    "    \n",
    "     return repo_connection"
   ]
  },
  {
   "cell_type": "code",
   "execution_count": 123,
   "id": "652da0ec",
   "metadata": {},
   "outputs": [
    {
     "data": {
      "text/plain": [
       "Repository(full_name=\"riboviz/riboviz\")"
      ]
     },
     "execution_count": 123,
     "metadata": {},
     "output_type": "execute_result"
    }
   ],
   "source": [
    "get_repo_connection('riboviz', 'riboviz')"
   ]
  },
  {
   "cell_type": "code",
   "execution_count": 124,
   "id": "a8af9d34",
   "metadata": {},
   "outputs": [
    {
     "data": {
      "text/plain": [
       "github.Repository.Repository"
      ]
     },
     "execution_count": 124,
     "metadata": {},
     "output_type": "execute_result"
    }
   ],
   "source": [
    "repo_con = get_repo_connection('riboviz', 'riboviz')\n",
    "type(repo_con)"
   ]
  },
  {
   "cell_type": "code",
   "execution_count": 137,
   "id": "876917dd",
   "metadata": {},
   "outputs": [
    {
     "data": {
      "text/plain": [
       "Issue(title=\"Updated riboviz documentation\", number=481)"
      ]
     },
     "execution_count": 137,
     "metadata": {},
     "output_type": "execute_result"
    }
   ],
   "source": [
    "iss = repo_con.get_issues() \n",
    "iss[0]"
   ]
  },
  {
   "cell_type": "code",
   "execution_count": 135,
   "id": "89dc00f8",
   "metadata": {},
   "outputs": [
    {
     "data": {
      "text/plain": [
       "{'url': 'https://api.github.com/repos/riboviz/riboviz/issues/481',\n",
       " 'repository_url': 'https://api.github.com/repos/riboviz/riboviz',\n",
       " 'labels_url': 'https://api.github.com/repos/riboviz/riboviz/issues/481/labels{/name}',\n",
       " 'comments_url': 'https://api.github.com/repos/riboviz/riboviz/issues/481/comments',\n",
       " 'events_url': 'https://api.github.com/repos/riboviz/riboviz/issues/481/events',\n",
       " 'html_url': 'https://github.com/riboviz/riboviz/pull/481',\n",
       " 'id': 1649028927,\n",
       " 'node_id': 'PR_kwDOCwMPlM5NVbwM',\n",
       " 'number': 481,\n",
       " 'title': 'Updated riboviz documentation',\n",
       " 'user': {'login': 'HannahMaroof',\n",
       "  'id': 123739479,\n",
       "  'node_id': 'U_kgDOB2AdVw',\n",
       "  'avatar_url': 'https://avatars.githubusercontent.com/u/123739479?v=4',\n",
       "  'gravatar_id': '',\n",
       "  'url': 'https://api.github.com/users/HannahMaroof',\n",
       "  'html_url': 'https://github.com/HannahMaroof',\n",
       "  'followers_url': 'https://api.github.com/users/HannahMaroof/followers',\n",
       "  'following_url': 'https://api.github.com/users/HannahMaroof/following{/other_user}',\n",
       "  'gists_url': 'https://api.github.com/users/HannahMaroof/gists{/gist_id}',\n",
       "  'starred_url': 'https://api.github.com/users/HannahMaroof/starred{/owner}{/repo}',\n",
       "  'subscriptions_url': 'https://api.github.com/users/HannahMaroof/subscriptions',\n",
       "  'organizations_url': 'https://api.github.com/users/HannahMaroof/orgs',\n",
       "  'repos_url': 'https://api.github.com/users/HannahMaroof/repos',\n",
       "  'events_url': 'https://api.github.com/users/HannahMaroof/events{/privacy}',\n",
       "  'received_events_url': 'https://api.github.com/users/HannahMaroof/received_events',\n",
       "  'type': 'User',\n",
       "  'site_admin': False},\n",
       " 'labels': [],\n",
       " 'state': 'open',\n",
       " 'locked': False,\n",
       " 'assignee': None,\n",
       " 'assignees': [],\n",
       " 'milestone': None,\n",
       " 'comments': 2,\n",
       " 'created_at': '2023-03-31T09:32:56Z',\n",
       " 'updated_at': '2023-04-24T08:37:56Z',\n",
       " 'closed_at': None,\n",
       " 'author_association': 'MEMBER',\n",
       " 'active_lock_reason': None,\n",
       " 'draft': False,\n",
       " 'pull_request': {'url': 'https://api.github.com/repos/riboviz/riboviz/pulls/481',\n",
       "  'html_url': 'https://github.com/riboviz/riboviz/pull/481',\n",
       "  'diff_url': 'https://github.com/riboviz/riboviz/pull/481.diff',\n",
       "  'patch_url': 'https://github.com/riboviz/riboviz/pull/481.patch',\n",
       "  'merged_at': None},\n",
       " 'body': \"I've updated the Run on Eddie documentation. I think that should be all the BamTo5 errors killed for good! Also, just updated some bits so it's easier to follow (at least for myself). Let me know if it's alright!\",\n",
       " 'closed_by': None,\n",
       " 'reactions': {'url': 'https://api.github.com/repos/riboviz/riboviz/issues/481/reactions',\n",
       "  'total_count': 0,\n",
       "  '+1': 0,\n",
       "  '-1': 0,\n",
       "  'laugh': 0,\n",
       "  'hooray': 0,\n",
       "  'confused': 0,\n",
       "  'heart': 0,\n",
       "  'rocket': 0,\n",
       "  'eyes': 0},\n",
       " 'timeline_url': 'https://api.github.com/repos/riboviz/riboviz/issues/481/timeline',\n",
       " 'performed_via_github_app': None,\n",
       " 'state_reason': None}"
      ]
     },
     "execution_count": 135,
     "metadata": {},
     "output_type": "execute_result"
    }
   ],
   "source": [
    "iss = repo_con.get_issues() \n",
    "iss[0].raw_data  # get the json content"
   ]
  },
  {
   "cell_type": "code",
   "execution_count": 136,
   "id": "799327db",
   "metadata": {},
   "outputs": [
    {
     "data": {
      "text/plain": [
       "{'url': 'https://api.github.com/repos/riboviz/riboviz/issues/481',\n",
       " 'repository_url': 'https://api.github.com/repos/riboviz/riboviz',\n",
       " 'labels_url': 'https://api.github.com/repos/riboviz/riboviz/issues/481/labels{/name}',\n",
       " 'comments_url': 'https://api.github.com/repos/riboviz/riboviz/issues/481/comments',\n",
       " 'events_url': 'https://api.github.com/repos/riboviz/riboviz/issues/481/events',\n",
       " 'html_url': 'https://github.com/riboviz/riboviz/pull/481',\n",
       " 'id': 1649028927,\n",
       " 'node_id': 'PR_kwDOCwMPlM5NVbwM',\n",
       " 'number': 481,\n",
       " 'title': 'Updated riboviz documentation',\n",
       " 'user': {'login': 'HannahMaroof',\n",
       "  'id': 123739479,\n",
       "  'node_id': 'U_kgDOB2AdVw',\n",
       "  'avatar_url': 'https://avatars.githubusercontent.com/u/123739479?v=4',\n",
       "  'gravatar_id': '',\n",
       "  'url': 'https://api.github.com/users/HannahMaroof',\n",
       "  'html_url': 'https://github.com/HannahMaroof',\n",
       "  'followers_url': 'https://api.github.com/users/HannahMaroof/followers',\n",
       "  'following_url': 'https://api.github.com/users/HannahMaroof/following{/other_user}',\n",
       "  'gists_url': 'https://api.github.com/users/HannahMaroof/gists{/gist_id}',\n",
       "  'starred_url': 'https://api.github.com/users/HannahMaroof/starred{/owner}{/repo}',\n",
       "  'subscriptions_url': 'https://api.github.com/users/HannahMaroof/subscriptions',\n",
       "  'organizations_url': 'https://api.github.com/users/HannahMaroof/orgs',\n",
       "  'repos_url': 'https://api.github.com/users/HannahMaroof/repos',\n",
       "  'events_url': 'https://api.github.com/users/HannahMaroof/events{/privacy}',\n",
       "  'received_events_url': 'https://api.github.com/users/HannahMaroof/received_events',\n",
       "  'type': 'User',\n",
       "  'site_admin': False},\n",
       " 'labels': [],\n",
       " 'state': 'open',\n",
       " 'locked': False,\n",
       " 'assignee': None,\n",
       " 'assignees': [],\n",
       " 'milestone': None,\n",
       " 'comments': 2,\n",
       " 'created_at': '2023-03-31T09:32:56Z',\n",
       " 'updated_at': '2023-04-24T08:37:56Z',\n",
       " 'closed_at': None,\n",
       " 'author_association': 'MEMBER',\n",
       " 'active_lock_reason': None,\n",
       " 'draft': False,\n",
       " 'pull_request': {'url': 'https://api.github.com/repos/riboviz/riboviz/pulls/481',\n",
       "  'html_url': 'https://github.com/riboviz/riboviz/pull/481',\n",
       "  'diff_url': 'https://github.com/riboviz/riboviz/pull/481.diff',\n",
       "  'patch_url': 'https://github.com/riboviz/riboviz/pull/481.patch',\n",
       "  'merged_at': None},\n",
       " 'body': \"I've updated the Run on Eddie documentation. I think that should be all the BamTo5 errors killed for good! Also, just updated some bits so it's easier to follow (at least for myself). Let me know if it's alright!\",\n",
       " 'reactions': {'url': 'https://api.github.com/repos/riboviz/riboviz/issues/481/reactions',\n",
       "  'total_count': 0,\n",
       "  '+1': 0,\n",
       "  '-1': 0,\n",
       "  'laugh': 0,\n",
       "  'hooray': 0,\n",
       "  'confused': 0,\n",
       "  'heart': 0,\n",
       "  'rocket': 0,\n",
       "  'eyes': 0},\n",
       " 'timeline_url': 'https://api.github.com/repos/riboviz/riboviz/issues/481/timeline',\n",
       " 'performed_via_github_app': None,\n",
       " 'state_reason': None}"
      ]
     },
     "execution_count": 136,
     "metadata": {},
     "output_type": "execute_result"
    }
   ],
   "source": [
    "iss = repo_con.get_issues() \n",
    "iss[0]._rawData # gives the json issue content \n"
   ]
  },
  {
   "cell_type": "code",
   "execution_count": 143,
   "id": "ccecde22",
   "metadata": {},
   "outputs": [],
   "source": [
    "# GET  REPO ISSUES DATA \n",
    "\n",
    "def get_json_repo_issues(username, repo_name):\n",
    "    \n",
    "    \"\"\" Gets LIST of json format issues data for a github repository when given a valid username and repository name. \n",
    "    Returns 'issues_content', a list of json elements. \n",
    "    Number of elements in list will be limited by the github per_page limit (30 by default). \n",
    "\n",
    "    TODO: write alternative function taking repo url input. \n",
    "\n",
    "    Examples: \n",
    "    get_json_repo_issues('riboviz', 'riboviz')\n",
    "    TODO \n",
    "    \"\"\"\n",
    "    \n",
    "    assert isinstance(username, str), 'Ensure input username is a string' \n",
    "    assert isinstance(repo_name, str), 'Ensure input repo_name is a string'\n",
    "    \n",
    "    issues_content = requests.get(f'https://api.github.com/repos/{username}/{repo_name}/issues').json()          \n",
    "    return issues_content\n",
    "    \n",
    "    #repo_info = g.get_repo(f'{username}/{repo_name}')"
   ]
  },
  {
   "cell_type": "code",
   "execution_count": 162,
   "id": "911f03d6",
   "metadata": {},
   "outputs": [
    {
     "data": {
      "text/plain": [
       "list"
      ]
     },
     "execution_count": 162,
     "metadata": {},
     "output_type": "execute_result"
    }
   ],
   "source": [
    "issues_content = get_repo_issues('riboviz', 'riboviz')\n",
    "# per_page\n",
    "  \n",
    "type(issues_content) # it's a LIST of json bits. "
   ]
  },
  {
   "cell_type": "code",
   "execution_count": 163,
   "id": "9e29f152",
   "metadata": {},
   "outputs": [
    {
     "data": {
      "text/plain": [
       "dict"
      ]
     },
     "execution_count": 163,
     "metadata": {},
     "output_type": "execute_result"
    }
   ],
   "source": [
    "type(issues_content[0]) # get type of 1 item in issues_content - it's a dict (json-y)"
   ]
  },
  {
   "cell_type": "code",
   "execution_count": 164,
   "id": "b75f885d",
   "metadata": {},
   "outputs": [
    {
     "data": {
      "text/plain": [
       "Index(['url', 'repository_url', 'labels_url', 'comments_url', 'events_url',\n",
       "       'html_url', 'id', 'node_id', 'number', 'title', 'user', 'labels',\n",
       "       'state', 'locked', 'assignee', 'assignees', 'milestone', 'comments',\n",
       "       'created_at', 'updated_at', 'closed_at', 'author_association',\n",
       "       'active_lock_reason', 'draft', 'pull_request', 'body', 'reactions',\n",
       "       'timeline_url', 'performed_via_github_app', 'state_reason'],\n",
       "      dtype='object')"
      ]
     },
     "execution_count": 164,
     "metadata": {},
     "output_type": "execute_result"
    }
   ],
   "source": [
    "df = pd.DataFrame(issues_content)\n",
    "df.head() # will display first 5 rows  \n",
    "df.keys() # will give column names  "
   ]
  },
  {
   "cell_type": "code",
   "execution_count": null,
   "id": "fa0ac626",
   "metadata": {},
   "outputs": [],
   "source": []
  },
  {
   "cell_type": "code",
   "execution_count": 166,
   "id": "e3cf33d8",
   "metadata": {},
   "outputs": [
    {
     "data": {
      "text/html": [
       "<div>\n",
       "<style scoped>\n",
       "    .dataframe tbody tr th:only-of-type {\n",
       "        vertical-align: middle;\n",
       "    }\n",
       "\n",
       "    .dataframe tbody tr th {\n",
       "        vertical-align: top;\n",
       "    }\n",
       "\n",
       "    .dataframe thead th {\n",
       "        text-align: right;\n",
       "    }\n",
       "</style>\n",
       "<table border=\"1\" class=\"dataframe\">\n",
       "  <thead>\n",
       "    <tr style=\"text-align: right;\">\n",
       "      <th></th>\n",
       "      <th>title</th>\n",
       "      <th>number</th>\n",
       "      <th>state</th>\n",
       "      <th>created_at</th>\n",
       "      <th>closed_at</th>\n",
       "    </tr>\n",
       "  </thead>\n",
       "  <tbody>\n",
       "    <tr>\n",
       "      <th>0</th>\n",
       "      <td>Updated riboviz documentation</td>\n",
       "      <td>481</td>\n",
       "      <td>open</td>\n",
       "      <td>2023-03-31T09:32:56Z</td>\n",
       "      <td>None</td>\n",
       "    </tr>\n",
       "    <tr>\n",
       "      <th>1</th>\n",
       "      <td>Display figshare doi</td>\n",
       "      <td>478</td>\n",
       "      <td>open</td>\n",
       "      <td>2023-01-10T11:47:25Z</td>\n",
       "      <td>None</td>\n",
       "    </tr>\n",
       "    <tr>\n",
       "      <th>2</th>\n",
       "      <td>Generic column name into CollateTpms</td>\n",
       "      <td>476</td>\n",
       "      <td>open</td>\n",
       "      <td>2022-10-07T05:47:03Z</td>\n",
       "      <td>None</td>\n",
       "    </tr>\n",
       "    <tr>\n",
       "      <th>3</th>\n",
       "      <td>Make collateTPMS code flexible to collate other variables</td>\n",
       "      <td>475</td>\n",
       "      <td>open</td>\n",
       "      <td>2022-10-07T05:35:27Z</td>\n",
       "      <td>None</td>\n",
       "    </tr>\n",
       "    <tr>\n",
       "      <th>4</th>\n",
       "      <td>Hisat2 and Bowtie installation issue. Nextflow example issue.</td>\n",
       "      <td>474</td>\n",
       "      <td>open</td>\n",
       "      <td>2022-08-30T06:17:41Z</td>\n",
       "      <td>None</td>\n",
       "    </tr>\n",
       "  </tbody>\n",
       "</table>\n",
       "</div>"
      ],
      "text/plain": [
       "                                                           title  number  \\\n",
       "0                                  Updated riboviz documentation     481   \n",
       "1                                           Display figshare doi     478   \n",
       "2                           Generic column name into CollateTpms     476   \n",
       "3      Make collateTPMS code flexible to collate other variables     475   \n",
       "4  Hisat2 and Bowtie installation issue. Nextflow example issue.     474   \n",
       "\n",
       "  state            created_at closed_at  \n",
       "0  open  2023-03-31T09:32:56Z      None  \n",
       "1  open  2023-01-10T11:47:25Z      None  \n",
       "2  open  2022-10-07T05:47:03Z      None  \n",
       "3  open  2022-10-07T05:35:27Z      None  \n",
       "4  open  2022-08-30T06:17:41Z      None  "
      ]
     },
     "execution_count": 166,
     "metadata": {},
     "output_type": "execute_result"
    }
   ],
   "source": [
    "df[['title', 'number', 'state', 'created_at', 'closed_at']].head()  # need to pass a LIST of column names to use them for indexing multiple columns "
   ]
  },
  {
   "cell_type": "code",
   "execution_count": 156,
   "id": "5db893d3",
   "metadata": {},
   "outputs": [
    {
     "data": {
      "text/plain": [
       "30"
      ]
     },
     "execution_count": 156,
     "metadata": {},
     "output_type": "execute_result"
    }
   ],
   "source": [
    "#df.count() # shows we've got a per_page limit of 30 records... \n",
    "len(df)"
   ]
  },
  {
   "cell_type": "code",
   "execution_count": 150,
   "id": "9ea7c2bb",
   "metadata": {},
   "outputs": [
    {
     "name": "stdout",
     "output_type": "stream",
     "text": [
      "Issue(title=\"Updated riboviz documentation\", number=481)\n"
     ]
    }
   ],
   "source": [
    "repo_con = get_repo_connection('riboviz', 'riboviz')\n",
    "\n",
    "all_issues = repo_con.get_issues(state='all') \n",
    "\n",
    "print(all_issues[0])"
   ]
  },
  {
   "cell_type": "code",
   "execution_count": 151,
   "id": "c18ded29",
   "metadata": {},
   "outputs": [
    {
     "name": "stdout",
     "output_type": "stream",
     "text": [
      "164\n"
     ]
    }
   ],
   "source": [
    "print(all_issues.totalCount) # don't trust totalCount - it's definitely wrong. "
   ]
  },
  {
   "cell_type": "code",
   "execution_count": 158,
   "id": "159d8d57",
   "metadata": {},
   "outputs": [
    {
     "data": {
      "text/plain": [
       "478"
      ]
     },
     "execution_count": 158,
     "metadata": {},
     "output_type": "execute_result"
    }
   ],
   "source": [
    "df = pd.DataFrame(all_issues)\n",
    "len(df) # this gives 478 issues, which is more like it. "
   ]
  },
  {
   "cell_type": "code",
   "execution_count": 154,
   "id": "b25a1036",
   "metadata": {},
   "outputs": [
    {
     "name": "stdout",
     "output_type": "stream",
     "text": [
      "Updated riboviz documentation - 1\n",
      "bam-to-h5-error-479 - 2\n",
      "Fix errors in bam_to_h5.R - 3\n",
      "Display figshare doi - 4\n",
      "Issue with `rhdf5::h5writeAttribute.integer` in `bam_to_h5_functions.R` - 5\n",
      "Generic column name into CollateTpms - 6\n",
      "Make collateTPMS code flexible to collate other variables - 7\n",
      "Hisat2 and Bowtie installation issue. Nextflow example issue. - 8\n",
      "Problems with the Rlibrary in the Wallace group space - 9\n",
      "generateStatsFigs on human ribose data is taking too long and then terminated with an error \"Error in 2:end_reads_pos_subset : argument of length 0\" - 10\n",
      "Full file output 470 - 11\n",
      "Edit the code in codon_feature_analysis.R to give the whole window size not only position 0 - 12\n",
      "Ensure CDS features only are used in Codon (pair) counting - 13\n",
      "Analysing Inhibitory Codon Pairs (ICP) for new species - 14\n",
      "Upgrade Nextflow version to enable dsl1 flag - 15\n",
      "Flag for nextflow dsl 1 - 16\n",
      "Upgrade riboviz output files and figures documentation,2022 edition - 17\n",
      "document num_processes better - 18\n",
      "Documentation updates hackathon- 460 - 19\n",
      "Update issue branch from develop branch - 20\n",
      "Fix test documentation - 21\n",
      "Upgrade Eddie documentation, 2022 edition - 22\n",
      "Write contributor guide - 23\n",
      "h5ls does not give a full list of gene names - 24\n",
      "Point install page to container instructions - 25\n",
      "Install dependencies using Docker - 26\n",
      "\"unable to initialize nextflow environment\" issue on Eddie - 27\n",
      "Update run-on-eddie.md - 28\n",
      "Using riboviz on Amarel - 29\n",
      "Develop - 30\n",
      "Clarify naming convention for UTRs - 31\n",
      "Clarify default parameter values, fixes #449 - 32\n",
      "Clarify that config file parameters override hard-coded parameters. - 33\n",
      "Document effect of hisat2 `-k` and `--non-deterministic` parameters - 34\n",
      "Hisat2 options 267 - 35\n",
      "Update dev docs 443 - 36\n",
      "add troubleshooting section on permission issue to run-on-eddie.md, r… - 37\n",
      "Executable permissions issue on Eddie cluster affecting riboviz repo - 38\n",
      "Update developer documentation - 39\n",
      "Renamed RiboViz and Riboviz to riboviz - 40\n",
      "Explore use of SRA functionality within HPC environments - 41\n",
      "Sra download 207 acope3 - 42\n",
      "Fix file name bug in `run_shiny_server.R` - 43\n",
      "Fix bug in `prep_riboviz.nf` `interactive_viz_params` construction - 44\n",
      "Python package 314 - 45\n",
      "Refactor codon pairs scripts - 46\n",
      "Add documentation on how to develop further integration tests - 47\n",
      "Merge develop into main - 48\n",
      "Address outstanding usability issues in interactive visualization - 49\n",
      "Integration tests optional files 418 from 411 - 50\n",
      "Test & add port forwarding documentation for interactive visualization - 51\n",
      "Document how downloading results and moving them around may affect the shiny visualizations - 52\n",
      "Deprecate or document rpf parameter - 53\n",
      "gene_position_length_counts_5start.tsv fixes #426 - 54\n",
      "Outputting a file that indicates the periodicity of reads of different length. - 55\n",
      "Update documentation of ribogrid data by position and length to riboviz_outputs.md - 56\n",
      "Parallel bamtoh5 376 - 57\n",
      "Parallel countread 386 - 58\n",
      "Codon pairs 286 - 59\n",
      "Update file names 411 - 60\n",
      "Change RiboViz to riboviz - 61\n",
      "Use CDS coordinates from GFF3 instead of buffer for calculating ribosome densities and visualizations.  - 62\n",
      "finished_viz_sample_id channel handler only created if params.run_sta… - 63\n",
      "Update integration tests to better handle optional output files - 64\n",
      "Visualization-239-john-s-f PR - 65\n",
      "Workflow does not complete if `count_reads` is `true` but  `run_static_html` is `false` - 66\n",
      "Check R code to replace all uses of gather() & spread() functions with pivot_*() equivalents - 67\n",
      "More on Eddie - 68\n",
      "Count reads only on CDS, in addition to on whole transcript? - 69\n",
      "Investigate test_bam_to_h5.R and test_bam_to_h5_functions.R warnings for rhdf 2.34.0 - 70\n",
      "Update file names in documentation and code  - 71\n",
      "Downloading results and moving them around may affect the shiny visualizations  - 72\n",
      "Add version number to provenance-related information - 73\n",
      "Release riboviz 2.2 - 74\n",
      "Allow `collate_tpms.R` to take a list of filenames only - 75\n",
      "Remove now-deprecated `stop_in_cds` parameter - 76\n",
      "Remove now-deprecated `stop_in_cds` parameter - 77\n",
      "GUI to generate YAML config file - 78\n",
      "Request to update script_for_transcript_annotation.Rmd to include code for bacterial fasta/gff processing - 79\n",
      "Writing tests for visualisation of features scripts  - 80\n",
      "Add introduction to Linux `screen` command - 81\n",
      "Create Table of Contents for Documentation - 82\n",
      "Mix up in file names in `count_reads.py` - 83\n",
      "Implement `test_collate_tpms_functions.R` - 84\n",
      "Allow `CalculateCodonSpecificRibosomeDensity` to use variable cutoff - 85\n",
      "Add new functions to metafeature scripts for codons  - 86\n",
      "Review names and document all output files and figures - 87\n",
      "Problem running vignette - 88\n",
      "Extend collate_tpms.R test coverage - 89\n",
      "Decouple collate_tpms.R functions from command-line processing - 90\n",
      "Meta-feature plots for single nucleotides  - 91\n",
      "Map all occurences of a metafeature in the same plot - 92\n",
      "GUI to generate yaml config file - 93\n",
      " vignette problems \"Not a valid project name\" issue - 94\n",
      "Can't download R 3.6, or later - 95\n",
      "Parallelize count_reads.py - 96\n",
      "potential memory leak problem in staticHTML - 97\n",
      "Process `bamToH5 (WTnone)` terminated with an error exit status (1) - 98\n",
      "Document how to resume workflow after changing parameters - 99\n",
      "Unable to initialize nextflow environment - 100\n",
      "Question: Are we incorrectly assigning ribosome densities to A, P, and E site  - 101\n",
      "cutadapt 3.x from `conda` causes workflow failure - 102\n",
      "Updates to describe use of 'nextflow log' - 103\n",
      "More on nextflow log in debugging? - 104\n",
      "--un flag in hisat2 may affect the performance - 105\n",
      "Parallelizing the write h5 file part of bamToH5 (bam_to_h5_functions.R) - 106\n",
      "Investigate Java and Nextflow on EDDIE Could not allocate metaspace issue - 107\n",
      "Develop - 108\n",
      "Updated prep_riboviz.nf staticHTML to use intermediate directory - 109\n",
      "Fix bug in `staticHTML` whereby sample names in documents are sometimes wrong - 110\n",
      "Merge develop into main - 111\n",
      "Installation overview - 112\n",
      "change upgrade config script default organism-specific behaviour to null - 113\n",
      "Trna plot 363 - 114\n",
      "Pdf optional 317 - 115\n",
      "Integration tests 290 - 116\n",
      "Rename master main 351 - 117\n",
      "fix dataset links - 118\n",
      "Ribosome Density vs tRNA plotting functions has hard-coded values - 119\n",
      "Deprecate python 176 - 120\n",
      "`CalculateCodonSpecificRibosomeDensity` assumes tRNA file is in alphabetical order - 121\n",
      "Update `bam_to_h5.R` so it does not reorder ORFs - 122\n",
      "Allow collate_tpms.R to take a list of filenames only - 123\n",
      "Fixed bug in prep_riboviz.nf viz_params construction - 124\n",
      "Replace staticHTML R code in prep_riboviz.nf with call to new R script - 125\n",
      "Fix bug in `prep_riboviz.nf` `viz_params` - 126\n",
      "Additional smoke tests for release 2.1 - 127\n",
      "Write tests for ReadsToCountMatrix - 128\n",
      "What does bam_to_h5.R do if there's no CDS for a transcript? - 129\n",
      "Fix bug with AnalysisOutputs.Rmd use of 'here' if .git is not present - 130\n",
      "Rename riboviz master branch to main - 131\n",
      "Test nextflow tower? - 132\n",
      "Fix broken links for 'Example `umi_regexp`' in docs/user/install.md - 133\n",
      "test_bam_to_h5.R and test_bam_to_h5_functions.R tests fail with rhdf 2.36.0 - 134\n",
      "test_generate_stats_figs.R tests fail - 135\n",
      "What happens in check_fasta_gff.py of bam_to_h5.R if UTR is zero-length? - 136\n",
      "Release RiboViz 2.1 - 137\n",
      "Create new integration test dataset for 2.2 - 138\n",
      "Static HTML and multiplexed data - 139\n",
      "Cutadapt can now demultiplex and remove adapters simultaneously.  - 140\n",
      "Update `README.md` and `docs/user/install.md` to remove Python workflow references - 141\n",
      "Document consistent sets of dependency versions - 142\n",
      "Review dependencies and identify redundant or replaceable dependencies - 143\n",
      "Document workaround for R `ShortRead` install package failure - 144\n",
      "Update `docs/user/install.md` so user runs vignette and regression tests before all tests - 145\n",
      "Rename `setenv.sh` to `set-riboviz-env.sh` in `docs/user/install.md` - 146\n",
      "Update docs with `samtools: error while loading shared libraries: libcrypto.so.1.0.0` fix  - 147\n",
      "generate_stats_figs.R has test that dependency - 148\n",
      "Document that rdfh5 package post-28/10/2020 automatically adds new attribute which breaks regression tests - 149\n",
      "Create new integration test dataset for 2.1 - 150\n",
      "Provide quick-start instructions for building VMs - 151\n",
      "Rewrite and simplify references to R versions in docs - 152\n",
      "Combine 'apt-get|yum install' for operating system packages and R packages - 153\n",
      "Docs 326 327 - 154\n",
      "Add developer docs on adding/updating dependencies - 155\n",
      "Add developer docs on use of file configuration parameters in Nextflow - 156\n",
      "Performance Investigation of tasks in the workflow - 157\n",
      "Is dir_tmp obsolete due to nextflow work-dir? - 158\n",
      "bam_to_h5.R fails on Eddie when run inside screen - 159\n",
      "Create R package from riboviz R code - 160\n",
      "Potential issue with different newline characters between systems - 161\n",
      "Investigate check_fasta_gff performance 318 - 162\n",
      "Remove now-deprecated `stop_in_cds` parameter - 163\n",
      "Investigate check_fasta_gff performance - 164\n",
      "Make pdf output optional - 165\n",
      "Upgrade config 313 - 166\n",
      "Refactor bam to h5 61 - 167\n",
      "Implement minimal requirements for riboviz Python package - 168\n",
      "Extend `riboviz.tools.upgrade_config_file` to remove all unused parameters - 169\n",
      " Fix ontological confusion about gene/ORF/CDS - 170\n",
      "Plot TPMs across samples? - 171\n",
      "Discuss R script import restrictions and solutions - 172\n",
      "Collate tpms 33 - 173\n",
      "Specify `sample_sheet` independently of `dir_in` - 174\n",
      "Extend prep-riboviz-run-nextflow.md Debugging and bash scripts section - 175\n",
      "Remove `is_riboviz_gff`?? - 176\n",
      "Update path information for run-on-eddie.md - 177\n",
      "Extend test_bam_to_h5.R coverage - 178\n",
      "Add plots of reads per position for individual genes  - 179\n",
      "Add plots comparing how the ratio of reads in UTRs:CDS change - 180\n",
      "Investigate bam_to_h5.R 'memory not mapped' error - 181\n",
      "Remove `is_test_run` parameter - 182\n",
      "Check fasta gff total features genes 280 - 183\n",
      "Yaml environment vars 274 - 184\n",
      "Rmarkdown outputs 193 - 185\n",
      "Discuss kebab-case vs. snake_case use within YAML configuration and command-line parameters - 186\n",
      "Report read counts in UTRs - 187\n",
      "Simulated data with inhibitory codon pairs - 188\n",
      "Simulated data with more slow codons - 189\n",
      "Explore way to make recording and installation of R dependencies easier - 190\n",
      "Define Python conda and/or pip requirements file - 191\n",
      "Rename regression tests as integration tests - 192\n",
      "Try Python script to create job submission script from RiboViz configuration - 193\n",
      "Py create job submission script 228 - 194\n",
      "Change yeast codon pos i200, fixes #194 - 195\n",
      "Codon pairs table to visualise inhibitory codon pairs - 196\n",
      "Explore and explain h5 files and compression? - 197\n",
      "Umi example docs 279 - 198\n",
      "Exit bam_to_h5.R with error if there are no reads in the BAM file - 199\n",
      "Test bam to h5 238 - 200\n"
     ]
    },
    {
     "name": "stdout",
     "output_type": "stream",
     "text": [
      "Fix `bam_to_h5.R` bug if `is_riboviz_gff` is `FALSE` - 201\n",
      "Add total number of features & genes to check_fasta_gff? - 202\n",
      "Add UMI example to documentation - 203\n",
      "Creating riboviz-friendly fasta and gff files - 204\n",
      "Error from generate_stats_figs during test run of Weinberg dataset  - 205\n",
      "Plots to go in interactive visualization - 206\n",
      "Create helper script to run visualization with parameters from riboviz run - 207\n",
      "Add support for use of environment variable names in YAML configuration file paths - 208\n",
      "Explain gff and fasta choices for users - 209\n",
      "Fixing small documentation typo in read_count_functions.R - 210\n",
      "Check whether riboviz can be set up with Ubuntu LTS 20.04 & update install documentation - 211\n",
      "Merge gff-spec-74 - 212\n",
      "Remove use of IRanges R package functions from R analysis code - 213\n",
      "hisat2rRNA --no-unal, fixes #250 - 214\n",
      "Make hisat2ORF options flexible for multi-mapping etc. - 215\n",
      "3nt periodicity small orf issue 243 acope3 - 216\n",
      "Validating issue with 3nt periodicity plot is handled correctly - 217\n",
      "Document distinct purposes of A-site assignment - 218\n",
      "Rename columns in output of CalcReadFrameProportion and WilcoxTestFrame? - 219\n",
      "Complete roxygen2-style documentation for CombineFrequencies() - 220\n",
      "Clarify inclusion/exclusion of start/stop codons in left/right arguments in documentation of analysis R code - 221\n",
      "Refactor code for A-site calculation functions in read_count_functions.R - 222\n",
      "Implement testing for functions in read_count_functions.R  - 223\n",
      "Implement testing for functions in read_count_functions.R code - 224\n",
      "Clarify type of returned plot objects in R code - 225\n",
      "Decide whether R packages devtools & roxygen2 need to be installed currently if R code is not in package format - 226\n",
      "Clarify Gene, CDS, Transcript in R code - 227\n",
      "Gene-length cutoffs for codon-specific densities - 228\n",
      "Tiny simulated data - 229\n",
      "Explain and document relationships between R analysis functions in read_count_functions.R  - 230\n",
      "R packages: install single `tidyverse` meta-package, or install several tidyverse-stable packages separately? - 231\n",
      "Numbers in read_counts.tsv not lining up - 232\n",
      "Document analysis code flic 153 - 233\n",
      "Arguments for R functions need to be passed in to internal functions - implement '...' argument? - 234\n",
      "Remove hardcoded \"UTR3\", \"UTR5\" in riboviz codebase - 235\n",
      "Upgrade Eddie docs 230 - 236\n",
      "nextflow run prep_riboviz.nf not running on Eddie interactive node - 237\n",
      "usage docs for check_fasta_gff.py, fixes #242 - 238\n",
      "Issue with 3-nucleotide periodicity plots - 239\n",
      "Docstring for check_fasta_gff - 240\n",
      "Integrate bias correction - 241\n",
      "Automated A-site assignment rules - 242\n",
      "Add new visualization system - 243\n",
      "Implement tests for bam_to_h5.R - 244\n",
      "Meta-feature plot code - 245\n",
      "Run riboviz on specific nodes on Eddie, to solve memory allocation problem - 246\n",
      "Can deletion of Nextflow 'work' directory be automated? - 247\n",
      "Subsample fastq 38 - 248\n",
      "Update workflow to use Nextflow dry-run feature when available - 249\n",
      "Make a nextflow config file on Eddie - 250\n",
      "Nextflow report location? - 251\n",
      "Upgrade Eddie documentation - 252\n",
      "Potentially add the ability to exclude samples with certain barcodes - 253\n",
      "Write Python script to create job submission script from RiboViz configuration - 254\n",
      "Nextflow slim 218 - 255\n",
      "Run on eddie 59 - 256\n",
      "Quantify translation on multiple ORFs for a single transcript - 257\n",
      "Bitwise sample sheet 214 - 258\n",
      "Fixing bitwise operator error in sample_sheets.py - 259\n",
      "Fix bitwise error - 260\n",
      "Trim 5p mismatches optional 209 - 261\n",
      "Eddie R packages error causing Riboviz to fail - 262\n",
      "Delete unneeded branches from repo - 263\n",
      "Nextflow work folders for full-size datasets are HUGE! Can we slim it down? - 264\n",
      "Job submission script for Eddie - 265\n",
      "Set number of processes in cutadapt in Nextflow workflow - 266\n",
      "Nextflow expects `pos_sp_nt_freq.tsv` when `do_pos_sp_nt_freq` is false - 267\n",
      "Issue with bitwise operators  - 268\n",
      "Decide which tests need to be created for key functions in generate_stats_figs.R - 269\n",
      "Create new plot: visualise outputs of read_counts.tsv - 270\n",
      "Nextflow fails 210 - 271\n",
      "`generate_stats_figs.R` cannot find R scripts to import if used with Nextflow and non-local`work` directory - 272\n",
      "Make trim_5p_mismatch.py optional - 273\n",
      "Webtool to create config.yaml? - 274\n",
      "Download SRA data via nextflow fromSRA? - 275\n",
      "Nextflow regression test Fail on read_counts.tsv - 276\n",
      "Optional null values 202 203 - 277\n",
      "\"/usr/bin/env python\" points to Python 2.7 when not using conda environment - 278\n",
      "Error when using `upgrade_config_file.py` on new dataset yamls in riboviz 2.0 - 279\n",
      "Nextflow error when organism-specific input files: null in .yaml config - 280\n",
      "Document real size example datasets. - 281\n",
      "Document how to troubleshoot installation using regression test - 282\n",
      "Add details to documentation on how to find log files from nextflow run method - 283\n",
      "Give informative error messages for empty or near-empty datasets - 284\n",
      "Develop - 285\n",
      "Run on eddie 59 - 286\n",
      "Doc review 185 - 287\n",
      "Change data input file yeast_codon_pos_i200.RData to alternative file format - 288\n",
      "Rewrite diagnostic plots in generate_stats_figs.R as .Rmd (R markdown file) - 289\n",
      "Document recommended memory requirements - 290\n",
      "Output stats 186 - 291\n",
      "Explore use of Nextflow's support for SunGridEngine on EDDIE - 292\n",
      "Investigate, Test & Resolve Differences in pos_sp_rpf_norm_reads.tsv from generate_stats_figs.R  - 293\n",
      "Issue with running HISAT 2.2 example from vignette - 294\n",
      "Run R scripts from anywhere - 295\n",
      "Allow user to configure `--output-stats` - 296\n",
      "Review each item of documentation in `develop` branch - 297\n",
      "Regen stats 32 - 298\n",
      "Document dependency versions - 299\n",
      "Release RiboViz 2.0 - 300\n",
      "R Function for pulling all data from h5 - 301\n",
      "Merge nextflow-167 - 302\n",
      "Profile RiboViz to determine memory requirements - 303\n",
      "riboviz.tools.demultiplex_fastq fails if sample sheet only has 1 barcode - 304\n",
      "Explore Nextflow DSL 2.0 - 305\n",
      "Deprecate Python riboviz.tools.prep_riboviz with Nextflow prep_riboviz.nf - 306\n",
      "Explore how to contribute RiboViz Nextflow to nf-core - 307\n",
      "Improve directory structure for temporary multiplexed files - 308\n",
      "Deposit RiboViz 2.0 and get a citable DOI - 309\n",
      "Freestanding config.yaml checker - 310\n",
      "Debug issue in bam_to_h5.R when running Edward's new S.cerevisiae FASTA and GFF - 311\n",
      "H5 open 106 - 312\n",
      "Improve generate_stats_figs.R optional parameter documentation and checks - 313\n",
      "Directly download files from GEO/SRA/ENA public repositories? - 314\n",
      "Port Python `riboviz.tools.prep_riboviz` workflow to Nextflow - 315\n",
      "Analysis Metadata in config.yaml? - 316\n",
      "Investigate new Renv package - 317\n",
      "Get current r 163 - 318\n",
      "Describe how to get the most recent R version - 319\n",
      "Regression check install 160 - 320\n",
      "Generalise regression test vignette 155 - 321\n",
      "Recommend users run regression tests to check installation - 322\n",
      "Provide examples of FASTA + GFF (decribing 2 transcripts with overlapping ORFs) for bacterial genome. - 323\n",
      "Identify/Supply Git/Github Intro Materials to Support Users - 324\n",
      "Create RiboViz User-Guide Navigation Information - 325\n",
      "`pytest not installed` when checking h5py - 326\n",
      "Generalise riboviz.test.regression.test_vignette - 327\n",
      "Write SSI blog post on how workflow languages were assessed - 328\n",
      "Document Analysis Code - 329\n",
      "Document the Outputs - 330\n",
      "Test issue transfer two - 331\n",
      "Confirm author and funder list for README.md - 332\n",
      "Interactive r fix 134 - 333\n",
      "Develop refactoring - 334\n",
      "No multimap rrna 127 - 335\n",
      "Regression tests 131 - 336\n",
      "Added check for Python version to riboviz.tools.prep_riboviz. If vers… - 337\n",
      "Count reads 108 alt - 338\n",
      "Count reads 108 - 339\n",
      "Update prep_riboviz.py to infer rscripts directory from riboviz module location and to use argparse - 340\n",
      "Investigate whether Shiny website directory can be purged from repository history - 341\n",
      "Refactor riboviz.demultiplex_fastq - 342\n",
      "Build 2.0.beta DataSync and GitHub data resources - 343\n",
      "Remove use of Bio.Alphabet import IUPAC - 344\n",
      "Break fork relationship between shahpr/RiboViz and riboviz/RiboViz - 345\n",
      "Issue in R Interactive Sessions Caused by get_Rscript_filename() returning NA - 346\n",
      "Create Codebook for RiboViz - 347\n",
      "Add helpful error if attempt to run RiboViz with Python 2 - 348\n",
      "Update regression tests to optionally validate against output files only - 349\n",
      "Accelerate 2.0-beta release onto master branch for discoverability? - 350\n",
      "Discuss plan to address GFF interoperability - 351\n",
      "Develop plugins for MultiQC - 352\n",
      "Do not multi-map rRNA/contaminant reads - 353\n",
      "Merge provenance-90-115-123 - 354\n",
      "Merge remove-sample-prefix-114 - 355\n",
      "Merge config-86 - 356\n",
      "Update prep_riboviz.py to log versions of 3rd party tools invoked - 357\n",
      "Add genome-centric alignment after the trimming and UMI extraction steps - 358\n",
      "Score candidate ORFs by the 2-d distribution  - 359\n",
      "Replace GetCodonPositionReads with the 2-d approach, supplied as a function argument with a defined file format - 360\n",
      "Compute an entropy measure of reads counted by frame on ORFs - 361\n",
      "docs-80 - 362\n",
      "use-umi-tools-deplex-84 - 363\n",
      "Read frame 89 - 364\n",
      "Insert provenance comments into tsv files - 365\n",
      "Remove sample prefix from file names - 366\n",
      "Per-codon data simulation code into RiboViz? - 367\n",
      "Per-codon simulated data tests - 368\n",
      "Filename case change during Hisat2 mapping in demultiplexing scripts - 369\n",
      "Automatically calculate memory-per-thread for `samtools` - 370\n",
      "Provide configuration parameter to set `samtools sort` memory per thread - 371\n",
      "Count the reads at each processing step for each sample - 372\n",
      "Containerize RiboViz pipeline - 373\n",
      "Parallelize h5 operations in generate_stats_figs.R - 374\n",
      "Make feature matrix for generalized linear model analysis - 375\n",
      "A-site displacement length file - 376\n",
      "Read frame 89 - 377\n",
      "Supply optional left delimiters to demultiplex_fastq.py - 378\n",
      "Remove sample ID as file prefix - 379\n",
      "Refactor prep_riboviz.py to use sample-specific subdirectories of tmp, output, logs - 380\n",
      "Build release 2.0.beta - 381\n",
      "Use umi tools dedup 58 - 382\n",
      "Useful errors if input or intermediate files have no reads - 383\n",
      "Process mouse data for Premal and John - 384\n",
      "Preprocess sample file in demultiplex_fastq.py - 385\n",
      "Organize plot outputs into single html? - 386\n",
      "Deprecate py2 54 - 387\n",
      "ORF finder? - 388\n",
      "README.md to emphasize transcriptome-centric features of RiboViz - 389\n",
      "Add git commit hash etc to log - 390\n",
      "Calculate read frame - 391\n",
      "Check trim_5p_mismatch.py works with STAR output - 392\n",
      "Extend test_vignette to check for presence of PDF files - 393\n",
      "Rename config.yaml variables for consistency - 394\n",
      "Ribogrid plot 68 - 395\n",
      "Extend RiboViz to use UMI-tools for demultiplexing - 396\n",
      "Clarify buffer variable naming - 397\n",
      "Merge simulatefastq 36 - 398\n",
      "Ribogrid bar plot - 399\n",
      "Clearer documentation for prep_riboviz.py call - 400\n"
     ]
    },
    {
     "name": "stdout",
     "output_type": "stream",
     "text": [
      "Investigate fastp for adaptor trimming and UMI extraction - 401\n",
      "Replace NULL with NA in bam_to_h5.R make_option calls - 402\n",
      "Write prep_riboviz.py configuration for simulated fastq records - 403\n",
      "Handle missing features file 66 - 404\n",
      "Create examples repository - 405\n",
      "Define gff3 specification - 406\n",
      "cmd_file default to run_riboviz_vignette.sh - 407\n",
      "Check for None values when constructing R command-line invocations - 408\n",
      "Output bash 63 - 409\n",
      "Prep riboviz log files 55 - 410\n",
      "Check count matrix is an integer - 411\n",
      "Implement ribogrid-style plot - 412\n",
      "Migrate \"calculate features\" RMarkdown file into an R script - 413\n",
      "generate_stats_fig.R doesn't handle missing yeast_features.tsv  - 414\n",
      "Refactor prep riboviz 34 - 415\n",
      "Refactor prep riboviz 34 - 416\n",
      "Option to just output bash commands? - 417\n",
      "Write R helper functions to validate output files - 418\n",
      "Refactor bam_to_h5.R - 419\n",
      "Explore running run RiboViz on Eleanor - 420\n",
      "Explore running RiboViz on Eddie - 421\n",
      "Extend RiboViz to use UMI-tools for deduplication - 422\n",
      "Replace cutadapt with UMI-tools - 423\n",
      "Propose method for quality assurance of analysis results - 424\n",
      "Refactor prep_riboviz.py logging to produce step-specific log files - 425\n",
      "Deprecate Python 2 support - 426\n",
      "Explore options for configuring nprocesses - 427\n",
      "Split RiboViz repository into Python, R and workflow repositories - 428\n",
      "Support configuration via a sample spreadsheet - 429\n",
      "Can script_for_transcript_annotation.Rmd be rewritten into 1/more .R file(s)? - 430\n",
      "Assess CRAC and pyCRAC - 431\n",
      "Assess workflow language options - 432\n",
      "Provide a Citation.cff file - 433\n",
      "Provide a recommended citation - 434\n",
      "Add a copyright statement - 435\n",
      "Discuss making riboviz/RiboViz canonical RiboViz repository - 436\n",
      "Investigate cutadapt -j flag - 437\n",
      "Implement summary tables and plots of data from all samples - 438\n",
      "Implement ribosome occupancy calculation - 439\n",
      "Add \"calculate features\" script to new RiboViz branch - 440\n",
      "Improve downsampling capability - 441\n",
      "Customise UMI-Tools to support simultaneous 5' and 3' UMI extraction - 442\n",
      "Create fastq examples for UMIs and barcode - 443\n",
      "Automatically calculate codons (and other features?) from transcriptome - 444\n",
      "Refactor prep_riboviz.py - 445\n",
      "Refactor collate_tpms.R - 446\n",
      "Refactor generate_stats_figs.R - 447\n",
      "Document provenance and use of RiboViz data files - 448\n",
      "corrected git clone command location - 449\n",
      "Bring in new datasets - 450\n",
      "Run on multiple input .fastq files per sample - 451\n",
      "Fix hisat2 unaligned file name extensions - 452\n",
      "Ingest pyRNATagSeq demultiplexer and deduplicator code - 453\n",
      "Refactor check_fasta_gff.py - 454\n",
      "Refactor trim_5p_mismatch.py - 455\n",
      "Document script_for_transcript_annotation.Rmd - 456\n",
      "Update prep_riboviz.py bedtools calls to add track line to bedgraph files - 457\n",
      "Parallelize over *samples* - 458\n",
      "Summary stats for RNA (non-RPF) datasets - 459\n",
      "Test alternative adapter trim/QC - 460\n",
      "Allow underscore characters in sample names - 461\n",
      "Extend documentation and install scripts with additional required packages - 462\n",
      "Implement regression test suite for R scripts - 463\n",
      "Implement regression test suite for Python scripts - 464\n",
      "Answer regression test-related questions about RiboViz - 465\n",
      "Extend prep_riboviz.nf to invoke check_fasta_gff.py - 466\n",
      "Create tags and releases for 1.0.0 and 1.1.0 - 467\n",
      "Implement regression test suite for prepRiboviz.py - 468\n",
      "Documentation and install script updates - 469\n",
      "Migrate open issues from shahpr/RiboViz to RiboViz/RiboViz - 470\n",
      "Clarify relationship/dependence of pysam on samtools - 471\n",
      "Delete scripts/prepRiboViz.sh - 472\n",
      "Update documentation and extend to cover CentOS, Windows 10 and Mac - 473\n",
      "Fix TypeError in prepRiboviz.py - 474\n",
      "Document how to deploy and run RiboViz Shiny components - 475\n",
      "Deploy RiboViz under Windows Subsystem for Linux on Windows 10 - 476\n",
      "Source from RiboViz community user who has deployed and run RiboViz under MacOSX - 477\n",
      "Audit support for dependencies on Windows and MacOSX - 478\n"
     ]
    }
   ],
   "source": [
    "count = 0\n",
    "\n",
    "for issue in repo_con.get_issues(state='all'): \n",
    "    count += 1\n",
    "    print(f\"{issue.title} - {count}\")\n",
    "    # prints 478 issues, matches the dataframe equivalent. "
   ]
  },
  {
   "cell_type": "code",
   "execution_count": 229,
   "id": "6f9e0173",
   "metadata": {},
   "outputs": [
    {
     "ename": "SyntaxError",
     "evalue": "expression cannot contain assignment, perhaps you meant \"==\"? (1585225610.py, line 1)",
     "output_type": "error",
     "traceback": [
      "\u001b[0;36m  Cell \u001b[0;32mIn[229], line 1\u001b[0;36m\u001b[0m\n\u001b[0;31m    df = pd.DataFrame(repo_con.get_issues(state='all'), 'Nom' = repo_con.get_issues(state='all').number )\u001b[0m\n\u001b[0m                                                        ^\u001b[0m\n\u001b[0;31mSyntaxError\u001b[0m\u001b[0;31m:\u001b[0m expression cannot contain assignment, perhaps you meant \"==\"?\n"
     ]
    }
   ],
   "source": [
    "df = pd.DataFrame(repo_con.get_issues(state='all'), 'Nom' = repo_con.get_issues(state='all').number ) \n",
    "#len(df) # gives 478, nice. \n",
    "#len(df.columns) # gives 1. This is unexpected... Turns out it returns title and number for each issue as 1 item.\n",
    "\n",
    "#df.head()\n",
    "\n",
    "#0\n",
    "#0\tIssue(title=\"Updated riboviz documentation\", number=481)\n",
    "#1\tIssue(title=\"bam-to-h5-error-479\", number=480)\n",
    "#2\tIssue(title=\"Fix errors in bam_to_h5.R\", number=479)\n",
    "#3\tIssue(title=\"Display figshare doi\", number=478)\n",
    "#4\tIssue(title=\"Issue with `rhdf5::h5writeAttribute.integer` in `bam_to_h5_functions.R`\", number=477)"
   ]
  },
  {
   "cell_type": "code",
   "execution_count": 223,
   "id": "238e650c",
   "metadata": {},
   "outputs": [],
   "source": [
    "# CALCULATE ISSUE CLOSURE TIME \n",
    "\n",
    "def calc_issue_closure_days(repo_connection, issue_number):\n",
    "    \n",
    "    \"\"\"\n",
    "    Calculates time in days for a github issue to be marked as closed for a given repository \n",
    "    when given a valid 'repo_connection' and issue number for that repo. \n",
    "\n",
    "    Returns 'time_diff.days'. \n",
    "    \n",
    "    Examples: \n",
    "    calc_issue_closure_days(repo_con, 481) \n",
    "    # does nothing as issue still open \n",
    "    \n",
    "    calc_issue_closure_days(repo_con, 100)\n",
    "    1\n",
    "    \n",
    "    calc_issue_closure_days(repo_con, 477)\n",
    "    131\n",
    "    \"\"\"\n",
    "    \n",
    "    assert isinstance(issue_number, int), 'Ensure input repo_name is an integer'\n",
    "    \n",
    "    if repo_connection.get_issue(number=issue_number).closed_at: # only calc time_diff if issue's definitely closed.\n",
    "               \n",
    "        # get & print the difference between open and closure of issue.  \n",
    "        time_diff = repo_connection.get_issue(number=issue_number).closed_at - repo_connection.get_issue(number=issue_number).created_at  \n",
    "        return time_diff.days \n",
    "    \n",
    "    else: \n",
    "        \n",
    "        return None\n",
    "        #pass # do nothing if it's still open. \n",
    "        #print(f\"ERROR: This issue (#{issue_number}) is NOT closed, so cannot calculate time to closure.\")"
   ]
  },
  {
   "cell_type": "code",
   "execution_count": 224,
   "id": "c7b34e74",
   "metadata": {},
   "outputs": [],
   "source": [
    "calc_issue_closure_days(repo_con, 481)"
   ]
  },
  {
   "cell_type": "code",
   "execution_count": 225,
   "id": "c9674f75",
   "metadata": {},
   "outputs": [
    {
     "data": {
      "text/plain": [
       "1"
      ]
     },
     "execution_count": 225,
     "metadata": {},
     "output_type": "execute_result"
    }
   ],
   "source": [
    "calc_issue_closure_days(repo_con, 100)"
   ]
  },
  {
   "cell_type": "code",
   "execution_count": 226,
   "id": "2a32ddb6",
   "metadata": {},
   "outputs": [
    {
     "data": {
      "text/plain": [
       "131"
      ]
     },
     "execution_count": 226,
     "metadata": {},
     "output_type": "execute_result"
    }
   ],
   "source": [
    "calc_issue_closure_days(repo_con, 477) "
   ]
  },
  {
   "cell_type": "code",
   "execution_count": 212,
   "id": "c2324eb2",
   "metadata": {},
   "outputs": [
    {
     "data": {
      "text/plain": [
       "github.Repository.Repository"
      ]
     },
     "execution_count": 212,
     "metadata": {},
     "output_type": "execute_result"
    }
   ],
   "source": [
    "type(repo_con)"
   ]
  },
  {
   "cell_type": "code",
   "execution_count": 233,
   "id": "2dcad1bf",
   "metadata": {},
   "outputs": [
    {
     "name": "stdout",
     "output_type": "stream",
     "text": [
      "[480, 479, 477, 471, 470]\n"
     ]
    }
   ],
   "source": [
    "# GET FIRST FIVE CLOSED ISSUE NUMBERS \n",
    "\n",
    "closed_issue_nums = []\n",
    "\n",
    "for issue in repo_con.get_issues(state='closed')[:5]: \n",
    "    closed_issue_nums.append(issue.number)\n",
    "    \n",
    "len(closed_issue_nums) # 5 \n",
    "print(closed_issue_nums)"
   ]
  },
  {
   "cell_type": "code",
   "execution_count": 238,
   "id": "f155bd75",
   "metadata": {},
   "outputs": [
    {
     "name": "stdout",
     "output_type": "stream",
     "text": [
      "[20, 27, 131, 0, 1]\n"
     ]
    }
   ],
   "source": [
    "# CALC FIRST FIVE CLOSED ISSUE TIMES IN DAYS\n",
    "\n",
    "closed_issue_closetimes = []\n",
    "\n",
    "for issue in repo_con.get_issues(state='closed')[:5]: \n",
    "    closed_issue_closetimes.append( calc_issue_closure_days(repo_con, issue_number = issue.number ))\n",
    "    \n",
    "len(closed_issue_closetimes) # 5\n",
    "print(closed_issue_closetimes)"
   ]
  },
  {
   "cell_type": "code",
   "execution_count": 235,
   "id": "b9a4fb1b",
   "metadata": {},
   "outputs": [
    {
     "data": {
      "text/plain": [
       "20"
      ]
     },
     "execution_count": 235,
     "metadata": {},
     "output_type": "execute_result"
    }
   ],
   "source": [
    "calc_issue_closure_days(repo_con, 480)"
   ]
  },
  {
   "cell_type": "code",
   "execution_count": 236,
   "id": "47a659be",
   "metadata": {},
   "outputs": [
    {
     "data": {
      "text/plain": [
       "1"
      ]
     },
     "execution_count": 236,
     "metadata": {},
     "output_type": "execute_result"
    }
   ],
   "source": [
    "calc_issue_closure_days(repo_con, 470)"
   ]
  },
  {
   "cell_type": "code",
   "execution_count": 237,
   "id": "d4bf03d1",
   "metadata": {},
   "outputs": [],
   "source": [
    "calc_issue_closure_days(repo_con, 42) # returns nothing, as this is still open. "
   ]
  },
  {
   "cell_type": "code",
   "execution_count": 240,
   "id": "0352b4ed",
   "metadata": {},
   "outputs": [
    {
     "name": "stdout",
     "output_type": "stream",
     "text": [
      "[datetime.datetime(2023, 2, 17, 12, 34, 39), datetime.datetime(2023, 2, 15, 17, 57, 52), datetime.datetime(2022, 11, 3, 19, 21, 52), datetime.datetime(2022, 7, 5, 15, 19, 40), datetime.datetime(2022, 7, 5, 8, 39, 11)]\n"
     ]
    }
   ],
   "source": [
    "# GET FIRST FIVE CLOSED ISSUE CREATION DATES\n",
    "\n",
    "\n",
    "closed_issue_created_at = []\n",
    "\n",
    "for issue in repo_con.get_issues(state='closed')[:5]: \n",
    "    closed_issue_created_at.append( issue.created_at )\n",
    "    \n",
    "#len(closed_issue_created_at) # 5 \n",
    "print(closed_issue_created_at)"
   ]
  },
  {
   "cell_type": "code",
   "execution_count": 241,
   "id": "1e4e93cf",
   "metadata": {},
   "outputs": [
    {
     "name": "stdout",
     "output_type": "stream",
     "text": [
      "[datetime.datetime(2023, 3, 9, 14, 39, 45), datetime.datetime(2023, 3, 15, 17, 34, 5), datetime.datetime(2023, 3, 15, 17, 36, 14), datetime.datetime(2022, 7, 6, 14, 21, 9), datetime.datetime(2022, 7, 6, 14, 36, 59)]\n"
     ]
    }
   ],
   "source": [
    "# GET FIRST FIVE CLOSED ISSUE CLOSURE DATES\n",
    "\n",
    "\n",
    "closed_issue_closed_at = []\n",
    "\n",
    "for issue in repo_con.get_issues(state='closed')[:5]: \n",
    "    closed_issue_closed_at.append( issue.closed_at )\n",
    "    \n",
    "#len(closed_issue_closed_at) # 5 \n",
    "print(closed_issue_closed_at)"
   ]
  },
  {
   "cell_type": "code",
   "execution_count": 257,
   "id": "cd4d15ed",
   "metadata": {},
   "outputs": [
    {
     "data": {
      "text/html": [
       "<div>\n",
       "<style scoped>\n",
       "    .dataframe tbody tr th:only-of-type {\n",
       "        vertical-align: middle;\n",
       "    }\n",
       "\n",
       "    .dataframe tbody tr th {\n",
       "        vertical-align: top;\n",
       "    }\n",
       "\n",
       "    .dataframe thead th {\n",
       "        text-align: right;\n",
       "    }\n",
       "</style>\n",
       "<table border=\"1\" class=\"dataframe\">\n",
       "  <thead>\n",
       "    <tr style=\"text-align: right;\">\n",
       "      <th></th>\n",
       "      <th>issue_num</th>\n",
       "      <th>creation_date</th>\n",
       "      <th>closure_date</th>\n",
       "    </tr>\n",
       "  </thead>\n",
       "  <tbody>\n",
       "    <tr>\n",
       "      <th>0</th>\n",
       "      <td>480</td>\n",
       "      <td>2023-02-17 12:34:39</td>\n",
       "      <td>2023-03-09 14:39:45</td>\n",
       "    </tr>\n",
       "    <tr>\n",
       "      <th>1</th>\n",
       "      <td>479</td>\n",
       "      <td>2023-02-15 17:57:52</td>\n",
       "      <td>2023-03-15 17:34:05</td>\n",
       "    </tr>\n",
       "    <tr>\n",
       "      <th>2</th>\n",
       "      <td>477</td>\n",
       "      <td>2022-11-03 19:21:52</td>\n",
       "      <td>2023-03-15 17:36:14</td>\n",
       "    </tr>\n",
       "    <tr>\n",
       "      <th>3</th>\n",
       "      <td>471</td>\n",
       "      <td>2022-07-05 15:19:40</td>\n",
       "      <td>2022-07-06 14:21:09</td>\n",
       "    </tr>\n",
       "    <tr>\n",
       "      <th>4</th>\n",
       "      <td>470</td>\n",
       "      <td>2022-07-05 08:39:11</td>\n",
       "      <td>2022-07-06 14:36:59</td>\n",
       "    </tr>\n",
       "  </tbody>\n",
       "</table>\n",
       "</div>"
      ],
      "text/plain": [
       "   issue_num       creation_date        closure_date\n",
       "0        480 2023-02-17 12:34:39 2023-03-09 14:39:45\n",
       "1        479 2023-02-15 17:57:52 2023-03-15 17:34:05\n",
       "2        477 2022-11-03 19:21:52 2023-03-15 17:36:14\n",
       "3        471 2022-07-05 15:19:40 2022-07-06 14:21:09\n",
       "4        470 2022-07-05 08:39:11 2022-07-06 14:36:59"
      ]
     },
     "execution_count": 257,
     "metadata": {},
     "output_type": "execute_result"
    }
   ],
   "source": [
    "closed_issue_cols = {'issue_num' : closed_issue_nums, 'creation_date' : closed_issue_created_at, 'closure_date' : closed_issue_closed_at}\n",
    "\n",
    "closed_issue_df = pd.DataFrame(issue_cols)\n",
    "\n",
    "closed_issue_df\n"
   ]
  },
  {
   "cell_type": "code",
   "execution_count": 260,
   "id": "f37e656c",
   "metadata": {},
   "outputs": [],
   "source": [
    "def time_diff (closed_at, created_at):\n",
    "    time_diff = closed_at - created_at\n",
    "    return time_diff.days"
   ]
  },
  {
   "cell_type": "code",
   "execution_count": 263,
   "id": "ca855bb2",
   "metadata": {},
   "outputs": [
    {
     "ename": "SyntaxError",
     "evalue": "positional argument follows keyword argument (2468105531.py, line 3)",
     "output_type": "error",
     "traceback": [
      "\u001b[0;36m  Cell \u001b[0;32mIn[263], line 3\u001b[0;36m\u001b[0m\n\u001b[0;31m    closed_issue_df.apply(func=time_diff, axis=1, args = closed_issue_df.closure_date, closed_issue_df.creation_date)\u001b[0m\n\u001b[0m                                                                                                                    ^\u001b[0m\n\u001b[0;31mSyntaxError\u001b[0m\u001b[0;31m:\u001b[0m positional argument follows keyword argument\n"
     ]
    }
   ],
   "source": [
    "# calculate close time from DF rather than in loop. \n",
    "\n",
    "#closed_issue_df.apply(func=time_diff, axis=1, args = closed_issue_df.closure_date, closed_issue_df.creation_date)\n",
    "# THIS DOES NOT CURRENTLY WORK. NOT SURE WHAT I'VE GOT WRONG IN THE MAPPING/APPLYING :C"
   ]
  }
 ],
 "metadata": {
  "kernelspec": {
   "display_name": "Python 3 (ipykernel)",
   "language": "python",
   "name": "python3"
  },
  "language_info": {
   "codemirror_mode": {
    "name": "ipython",
    "version": 3
   },
   "file_extension": ".py",
   "mimetype": "text/x-python",
   "name": "python",
   "nbconvert_exporter": "python",
   "pygments_lexer": "ipython3",
   "version": "3.10.9"
  }
 },
 "nbformat": 4,
 "nbformat_minor": 5
}
