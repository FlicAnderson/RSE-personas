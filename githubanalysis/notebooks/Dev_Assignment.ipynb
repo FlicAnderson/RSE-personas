{
 "cells": [
  {
   "cell_type": "markdown",
   "id": "6efcb7c6",
   "metadata": {},
   "source": [
    "### imports "
   ]
  },
  {
   "cell_type": "code",
   "execution_count": 1,
   "id": "501b8895",
   "metadata": {},
   "outputs": [],
   "source": [
    "import os\n",
    "from os import path\n",
    "import configparser\n",
    "from github import Github\n",
    "import pandas as pd\n",
    "import numpy\n",
    "import datetime\n",
    "from datetime import datetime\n",
    "from datetime import timezone\n",
    "import requests\n",
    "from requests.adapters import HTTPAdapter, Retry"
   ]
  },
  {
   "cell_type": "code",
   "execution_count": 2,
   "id": "732c7d9c",
   "metadata": {},
   "outputs": [],
   "source": [
    "import githubanalysis.processing.repo_name_clean as name_clean\n",
    "import githubanalysis.processing.get_repo_connection as ghconnect\n",
    "import githubanalysis.processing.setup_github_auth as ghauth\n",
    "import githubanalysis.processing.get_all_pages_issues as getallissues\n",
    "import githubanalysis.analysis.calc_days_since_repo_creation as dayssince\n",
    "import githubanalysis.processing.summarise_repo_stats\n",
    "from githubanalysis.processing.summarise_repo_stats import RepoStatsSummariser\n",
    "import utilities.get_default_logger as loggit\n",
    "import utilities.chunker as chunker"
   ]
  },
  {
   "cell_type": "markdown",
   "id": "4302d562",
   "metadata": {},
   "source": [
    "### access token "
   ]
  },
  {
   "cell_type": "code",
   "execution_count": 3,
   "id": "c81e87b4",
   "metadata": {},
   "outputs": [],
   "source": [
    "# set up github access token with github package: \n",
    "\n",
    "config = configparser.ConfigParser()\n",
    "config.read('../config.cfg')\n",
    "config.sections()\n",
    "\n",
    "access_token = config['ACCESS']['token']\n",
    "g = Github(access_token) "
   ]
  },
  {
   "cell_type": "markdown",
   "id": "b114e37b",
   "metadata": {},
   "source": [
    "### get stats for 1 repo  "
   ]
  },
  {
   "cell_type": "code",
   "execution_count": 4,
   "id": "5e8bb8a9",
   "metadata": {},
   "outputs": [],
   "source": [
    "config_path = '../config.cfg'\n",
    "#config_path = '../../githubanalysis/config.cfg'"
   ]
  },
  {
   "cell_type": "code",
   "execution_count": 5,
   "id": "722656e0",
   "metadata": {},
   "outputs": [
    {
     "name": "stdout",
     "output_type": "stream",
     "text": [
      "GH link opened\n",
      "API response for getting total commits: <Response [200]>\n",
      "API response for getting total commits in year: <Response [200]>\n",
      "API response for getting PRs info: <Response [200]>\n",
      "Stats for dacapobench/dacapobench: {'repo_name': 'dacapobench/dacapobench', 'issues_enabled': True, 'devs': 25, 'total_commits': 1686, 'total_commits_last_year': 176, 'has_PRs': True, 'last_PR_update': datetime.datetime(2023, 11, 17, 3, 38, 51, tzinfo=datetime.timezone.utc), 'closed_tickets': 171, 'repo_age_days': 2253, 'repo_license': License(name=\"Apache License 2.0\"), 'repo_visibility': True, 'repo_language': dict_keys(['Java', 'XSLT', 'Python', 'Perl', 'Shell', 'Batchfile', 'HTML', 'CSS'])}\n"
     ]
    },
    {
     "data": {
      "text/plain": [
       "{'repo_name': 'dacapobench/dacapobench',\n",
       " 'issues_enabled': True,\n",
       " 'devs': 25,\n",
       " 'total_commits': 1686,\n",
       " 'total_commits_last_year': 176,\n",
       " 'has_PRs': True,\n",
       " 'last_PR_update': datetime.datetime(2023, 11, 17, 3, 38, 51, tzinfo=datetime.timezone.utc),\n",
       " 'closed_tickets': 171,\n",
       " 'repo_age_days': 2253,\n",
       " 'repo_license': License(name=\"Apache License 2.0\"),\n",
       " 'repo_visibility': True,\n",
       " 'repo_language': dict_keys(['Java', 'XSLT', 'Python', 'Perl', 'Shell', 'Batchfile', 'HTML', 'CSS'])}"
      ]
     },
     "execution_count": 5,
     "metadata": {},
     "output_type": "execute_result"
    }
   ],
   "source": [
    "\n",
    "logger = loggit.get_default_logger(console=True, set_level_to='DEBUG', log_name='../../logs/summarise_repo_stats_NOTEBOOK_logs.txt')  \n",
    "repo_summariser = RepoStatsSummariser(logger)\n",
    "\n",
    "\n",
    "repo_summariser.summarise_repo_stats(repo_name='dacapobench/dacapobench', config_path='../../githubanalysis/config.cfg', per_pg=1, verbose=True)"
   ]
  },
  {
   "cell_type": "code",
   "execution_count": 6,
   "id": "57360d31",
   "metadata": {},
   "outputs": [
    {
     "data": {
      "text/plain": [
       "(1062, 2)"
      ]
     },
     "execution_count": 6,
     "metadata": {},
     "output_type": "execute_result"
    }
   ],
   "source": [
    "gh_urls_df = pd.read_csv(\"../../data/todo_2024-02-06.csv\", header=0, usecols=['ZenodoID', 'repo_name'], dtype={'ZenodoID':'Int64', 'repo_name':'str'})\n",
    "gh_urls_df.shape"
   ]
  },
  {
   "cell_type": "code",
   "execution_count": 7,
   "id": "9762c5cb",
   "metadata": {},
   "outputs": [
    {
     "name": "stdout",
     "output_type": "stream",
     "text": [
      "   ZenodoID                                          repo_name\n",
      "0     32712                              harnesscloud/irm-nova\n",
      "1   5899728  ericteboul/Fu-Teboul-et-al.-2022.-Gq-activatio...\n",
      "2   3608671            blu-base/tesla-pump-design-optimization\n",
      "3   1122777                          gcube-team/gcube-releases\n",
      "4   6787506                          IPCC-WG1/Chapter-10_Fig13\n",
      "5   5545932                                veronicamorfi/ml4bl\n",
      "6   5608598                       zackspica/Gridded-SlantStack\n",
      "7   6079286                     shaylematsuda/Mcap_Larval_Temp\n",
      "8   3266016                      LXHien88/Flood_forecasting_HB\n",
      "9   4683096            elvisburchia/DigitalSoilMappingSoftware\n"
     ]
    }
   ],
   "source": [
    "gh_urls_df = gh_urls_df[:10]\n",
    "print(gh_urls_df)"
   ]
  },
  {
   "cell_type": "code",
   "execution_count": 8,
   "id": "10228687",
   "metadata": {},
   "outputs": [
    {
     "name": "stdout",
     "output_type": "stream",
     "text": [
      ">>> Getting data for repo harnesscloud/irm-nova\n",
      "GH link opened\n",
      "API response for getting total commits: <Response [200]>\n",
      "API response for getting total commits in year: <Response [200]>\n",
      "API response for getting PRs info: <Response [200]>\n"
     ]
    },
    {
     "name": "stderr",
     "output_type": "stream",
     "text": [
      "ERROR:Error in checking closed issue numbers at harnesscloud/irm-nova and config path ../../githubanalysis/config.cfg: 'created_at'.\n"
     ]
    },
    {
     "name": "stdout",
     "output_type": "stream",
     "text": [
      "column [] not present in all_issues df; \n"
     ]
    },
    {
     "name": "stderr",
     "output_type": "stream",
     "text": [
      "ERROR:Error in checking license of repo at harnesscloud/irm-nova with config path ../../githubanalysis/config.cfg: 404 {\"message\": \"Not Found\", \"documentation_url\": \"https://docs.github.com/rest/licenses/licenses#get-the-license-for-a-repository\"}.\n"
     ]
    },
    {
     "name": "stdout",
     "output_type": "stream",
     "text": [
      "key(s) [] are missing; \n",
      "Stats for harnesscloud/irm-nova: {'repo_name': 'harnesscloud/irm-nova', 'issues_enabled': True, 'devs': 6, 'total_commits': 119, 'total_commits_last_year': 0, 'has_PRs': False, 'last_PR_update': None, 'repo_age_days': 3241, 'repo_visibility': True, 'repo_language': dict_keys(['Python', 'Shell'])}\n",
      ">>> Getting data for repo ericteboul/Fu-Teboul-et-al.-2022.-Gq-activation-in-BLA-parvalbumin-interneurons-Nature-Communications-2022\n",
      "GH link opened\n",
      "API response for getting total commits: <Response [200]>\n",
      "API response for getting total commits in year: <Response [200]>\n",
      "API response for getting PRs info: <Response [200]>\n"
     ]
    },
    {
     "name": "stderr",
     "output_type": "stream",
     "text": [
      "ERROR:Error in checking closed issue numbers at ericteboul/Fu-Teboul-et-al.-2022.-Gq-activation-in-BLA-parvalbumin-interneurons-Nature-Communications-2022 and config path ../../githubanalysis/config.cfg: 'created_at'.\n"
     ]
    },
    {
     "name": "stdout",
     "output_type": "stream",
     "text": [
      "column [] not present in all_issues df; \n",
      "key(s) [] are missing; \n",
      "Stats for ericteboul/Fu-Teboul-et-al.-2022.-Gq-activation-in-BLA-parvalbumin-interneurons-Nature-Communications-2022: {'repo_name': 'ericteboul/Fu-Teboul-et-al.-2022.-Gq-activation-in-BLA-parvalbumin-interneurons-Nature-Communications-2022', 'issues_enabled': True, 'devs': 2, 'total_commits': 29, 'total_commits_last_year': 0, 'has_PRs': False, 'last_PR_update': None, 'repo_age_days': 812, 'repo_license': License(name=\"MIT License\"), 'repo_visibility': True, 'repo_language': dict_keys(['MATLAB', 'Python'])}\n",
      ">>> Getting data for repo blu-base/tesla-pump-design-optimization\n",
      "GH link opened\n"
     ]
    },
    {
     "name": "stderr",
     "output_type": "stream",
     "text": [
      "ERROR:Error in setting up repo connection with repo name blu-base/tesla-pump-design-optimization and config path ../../githubanalysis/config.cfg: 404 {\"message\": \"Not Found\", \"documentation_url\": \"https://docs.github.com/rest/repos/repos#get-a-repository\"}.\n",
      "ERROR:Error in checking issues enabled with with repo name blu-base/tesla-pump-design-optimization and config path ../../githubanalysis/config.cfg: local variable 'repo_con' referenced before assignment.\n",
      "ERROR:Error in checking commits in last year at blu-base/tesla-pump-design-optimization and config path ../../githubanalysis/config.cfg: If using all scalar values, you must pass an index. API response: <Response [404]>\n"
     ]
    },
    {
     "name": "stdout",
     "output_type": "stream",
     "text": [
      "API response total_commits_last_year fail exception: 'last'\n",
      "<class 'KeyError'>\n",
      "'last'\n",
      "API response for getting total commits in year: <Response [404]>\n"
     ]
    },
    {
     "name": "stderr",
     "output_type": "stream",
     "text": [
      "ERROR:Error in checking commits in last year at blu-base/tesla-pump-design-optimization and config path ../../githubanalysis/config.cfg: 404 Client Error: Not Found for url: https://api.github.com/repos/blu-base/tesla-pump-design-optimization/pulls?per_pg=1&state=all&sort=updated&direction=desc. API response: <Response [404]>\n",
      "ERROR:Error in checking closed issue numbers at blu-base/tesla-pump-design-optimization and config path ../../githubanalysis/config.cfg: local variable 'repo_con' referenced before assignment.\n",
      "ERROR:Error in checking age of repo at blu-base/tesla-pump-design-optimization with config path ../../githubanalysis/config.cfg: 404 {\"message\": \"Not Found\", \"documentation_url\": \"https://docs.github.com/rest/repos/repos#get-a-repository\"}.\n",
      "ERROR:Error in checking license of repo at blu-base/tesla-pump-design-optimization with config path ../../githubanalysis/config.cfg: local variable 'repo_con' referenced before assignment.\n",
      "ERROR:Error in checking visibility of repo at blu-base/tesla-pump-design-optimization with config path ../../githubanalysis/config.cfg: local variable 'repo_con' referenced before assignment.\n",
      "ERROR:Error in checking language of repo at blu-base/tesla-pump-design-optimization with config path ../../githubanalysis/config.cfg: local variable 'repo_con' referenced before assignment.\n"
     ]
    },
    {
     "name": "stdout",
     "output_type": "stream",
     "text": [
      "key(s) [] are missing; \n",
      "Stats for blu-base/tesla-pump-design-optimization: {'repo_name': 'blu-base/tesla-pump-design-optimization', 'devs': None, 'total_commits': None}\n",
      ">>> Getting data for repo gcube-team/gcube-releases\n",
      "GH link opened\n",
      "API response for getting total commits: <Response [200]>\n"
     ]
    },
    {
     "name": "stderr",
     "output_type": "stream",
     "text": [
      "ERROR:Error in checking commits in last year at gcube-team/gcube-releases and config path ../../githubanalysis/config.cfg: If using all scalar values, you must pass an index. API response: <Response [403]>\n",
      "ERROR:Error in checking commits in last year at gcube-team/gcube-releases and config path ../../githubanalysis/config.cfg: 403 Client Error: rate limit exceeded for url: https://api.github.com/repos/gcube-team/gcube-releases/pulls?per_pg=1&state=all&sort=updated&direction=desc. API response: <Response [403]>\n"
     ]
    },
    {
     "name": "stdout",
     "output_type": "stream",
     "text": [
      "API response for getting total commits in year: <Response [403]>\n"
     ]
    },
    {
     "name": "stderr",
     "output_type": "stream",
     "text": [
      "ERROR:Error in checking closed issue numbers at gcube-team/gcube-releases and config path ../../githubanalysis/config.cfg: 'created_at'.\n"
     ]
    },
    {
     "name": "stdout",
     "output_type": "stream",
     "text": [
      "column [] not present in all_issues df; \n",
      "key(s) [] are missing; \n",
      "Stats for gcube-team/gcube-releases: {'repo_name': 'gcube-team/gcube-releases', 'issues_enabled': True, 'devs': 2, 'total_commits': 30, 'repo_age_days': 2856, 'repo_license': License(name=\"European Union Public License 1.1\"), 'repo_visibility': True, 'repo_language': dict_keys([])}\n",
      ">>> Getting data for repo IPCC-WG1/Chapter-10_Fig13\n",
      "GH link opened\n"
     ]
    },
    {
     "name": "stderr",
     "output_type": "stream",
     "text": [
      "ERROR:Error in checking commits in last year at IPCC-WG1/Chapter-10_Fig13 and config path ../../githubanalysis/config.cfg: If using all scalar values, you must pass an index. API response: <Response [403]>\n",
      "ERROR:Error in checking commits in last year at IPCC-WG1/Chapter-10_Fig13 and config path ../../githubanalysis/config.cfg: 403 Client Error: rate limit exceeded for url: https://api.github.com/repos/IPCC-WG1/Chapter-10_Fig13/pulls?per_pg=1&state=all&sort=updated&direction=desc. API response: <Response [403]>\n"
     ]
    },
    {
     "name": "stdout",
     "output_type": "stream",
     "text": [
      "API response total_commits_last_year fail exception: 'last'\n",
      "<class 'KeyError'>\n",
      "'last'\n",
      "API response for getting total commits in year: <Response [403]>\n"
     ]
    },
    {
     "name": "stderr",
     "output_type": "stream",
     "text": [
      "ERROR:Error in checking closed issue numbers at IPCC-WG1/Chapter-10_Fig13 and config path ../../githubanalysis/config.cfg: 'created_at'.\n"
     ]
    },
    {
     "name": "stdout",
     "output_type": "stream",
     "text": [
      "column [] not present in all_issues df; \n"
     ]
    },
    {
     "name": "stderr",
     "output_type": "stream",
     "text": [
      "ERROR:Error in checking license of repo at IPCC-WG1/Chapter-10_Fig13 with config path ../../githubanalysis/config.cfg: 404 {\"message\": \"Not Found\", \"documentation_url\": \"https://docs.github.com/rest/licenses/licenses#get-the-license-for-a-repository\"}.\n"
     ]
    },
    {
     "name": "stdout",
     "output_type": "stream",
     "text": [
      "key(s) [] are missing; \n",
      "Stats for IPCC-WG1/Chapter-10_Fig13: {'repo_name': 'IPCC-WG1/Chapter-10_Fig13', 'issues_enabled': True, 'devs': None, 'total_commits': None, 'repo_age_days': 691, 'repo_visibility': True, 'repo_language': dict_keys([])}\n",
      ">>> Getting data for repo veronicamorfi/ml4bl\n",
      "GH link opened\n"
     ]
    },
    {
     "name": "stderr",
     "output_type": "stream",
     "text": [
      "ERROR:Error in checking commits in last year at veronicamorfi/ml4bl and config path ../../githubanalysis/config.cfg: If using all scalar values, you must pass an index. API response: <Response [403]>\n",
      "ERROR:Error in checking commits in last year at veronicamorfi/ml4bl and config path ../../githubanalysis/config.cfg: 403 Client Error: rate limit exceeded for url: https://api.github.com/repos/veronicamorfi/ml4bl/pulls?per_pg=1&state=all&sort=updated&direction=desc. API response: <Response [403]>\n"
     ]
    },
    {
     "name": "stdout",
     "output_type": "stream",
     "text": [
      "API response total_commits_last_year fail exception: 'last'\n",
      "<class 'KeyError'>\n",
      "'last'\n",
      "API response for getting total commits in year: <Response [403]>\n",
      "key(s) [] are missing; \n",
      "Stats for veronicamorfi/ml4bl: {'repo_name': 'veronicamorfi/ml4bl', 'issues_enabled': True, 'devs': None, 'total_commits': None, 'closed_tickets': 1, 'repo_age_days': 883, 'repo_license': License(name=\"MIT License\"), 'repo_visibility': True, 'repo_language': dict_keys(['Jupyter Notebook', 'Python'])}\n",
      ">>> Getting data for repo zackspica/Gridded-SlantStack\n",
      "GH link opened\n"
     ]
    },
    {
     "name": "stderr",
     "output_type": "stream",
     "text": [
      "ERROR:Error in checking commits in last year at zackspica/Gridded-SlantStack and config path ../../githubanalysis/config.cfg: If using all scalar values, you must pass an index. API response: <Response [403]>\n",
      "ERROR:Error in checking commits in last year at zackspica/Gridded-SlantStack and config path ../../githubanalysis/config.cfg: 403 Client Error: rate limit exceeded for url: https://api.github.com/repos/zackspica/Gridded-SlantStack/pulls?per_pg=1&state=all&sort=updated&direction=desc. API response: <Response [403]>\n"
     ]
    },
    {
     "name": "stdout",
     "output_type": "stream",
     "text": [
      "API response total_commits_last_year fail exception: 'last'\n",
      "<class 'KeyError'>\n",
      "'last'\n",
      "API response for getting total commits in year: <Response [403]>\n"
     ]
    },
    {
     "name": "stderr",
     "output_type": "stream",
     "text": [
      "ERROR:Error in checking closed issue numbers at zackspica/Gridded-SlantStack and config path ../../githubanalysis/config.cfg: 'created_at'.\n"
     ]
    },
    {
     "name": "stdout",
     "output_type": "stream",
     "text": [
      "column [] not present in all_issues df; \n",
      "key(s) [] are missing; \n",
      "Stats for zackspica/Gridded-SlantStack: {'repo_name': 'zackspica/Gridded-SlantStack', 'issues_enabled': True, 'devs': None, 'total_commits': None, 'repo_age_days': 840, 'repo_license': License(name=\"MIT License\"), 'repo_visibility': True, 'repo_language': dict_keys(['MATLAB'])}\n",
      ">>> Getting data for repo shaylematsuda/Mcap_Larval_Temp\n",
      "GH link opened\n"
     ]
    },
    {
     "name": "stderr",
     "output_type": "stream",
     "text": [
      "ERROR:Error in checking commits in last year at shaylematsuda/Mcap_Larval_Temp and config path ../../githubanalysis/config.cfg: If using all scalar values, you must pass an index. API response: <Response [403]>\n",
      "ERROR:Error in checking commits in last year at shaylematsuda/Mcap_Larval_Temp and config path ../../githubanalysis/config.cfg: 403 Client Error: rate limit exceeded for url: https://api.github.com/repos/shaylematsuda/Mcap_Larval_Temp/pulls?per_pg=1&state=all&sort=updated&direction=desc. API response: <Response [403]>\n"
     ]
    },
    {
     "name": "stdout",
     "output_type": "stream",
     "text": [
      "API response total_commits_last_year fail exception: 'last'\n",
      "<class 'KeyError'>\n",
      "'last'\n",
      "API response for getting total commits in year: <Response [403]>\n"
     ]
    },
    {
     "name": "stderr",
     "output_type": "stream",
     "text": [
      "ERROR:Error in checking closed issue numbers at shaylematsuda/Mcap_Larval_Temp and config path ../../githubanalysis/config.cfg: 'created_at'.\n"
     ]
    },
    {
     "name": "stdout",
     "output_type": "stream",
     "text": [
      "column [] not present in all_issues df; \n"
     ]
    },
    {
     "name": "stderr",
     "output_type": "stream",
     "text": [
      "ERROR:Error in checking license of repo at shaylematsuda/Mcap_Larval_Temp with config path ../../githubanalysis/config.cfg: 404 {\"message\": \"Not Found\", \"documentation_url\": \"https://docs.github.com/rest/licenses/licenses#get-the-license-for-a-repository\"}.\n"
     ]
    },
    {
     "name": "stdout",
     "output_type": "stream",
     "text": [
      "key(s) [] are missing; \n",
      "Stats for shaylematsuda/Mcap_Larval_Temp: {'repo_name': 'shaylematsuda/Mcap_Larval_Temp', 'issues_enabled': True, 'devs': None, 'total_commits': None, 'repo_age_days': 1374, 'repo_visibility': True, 'repo_language': dict_keys([])}\n",
      ">>> Getting data for repo LXHien88/Flood_forecasting_HB\n",
      "GH link opened\n"
     ]
    },
    {
     "name": "stderr",
     "output_type": "stream",
     "text": [
      "ERROR:Error in setting up repo connection with repo name LXHien88/Flood_forecasting_HB and config path ../../githubanalysis/config.cfg: 404 {\"message\": \"Not Found\", \"documentation_url\": \"https://docs.github.com/rest/repos/repos#get-a-repository\"}.\n",
      "ERROR:Error in checking issues enabled with with repo name LXHien88/Flood_forecasting_HB and config path ../../githubanalysis/config.cfg: local variable 'repo_con' referenced before assignment.\n",
      "ERROR:Error in checking commits in last year at LXHien88/Flood_forecasting_HB and config path ../../githubanalysis/config.cfg: If using all scalar values, you must pass an index. API response: <Response [403]>\n",
      "ERROR:Error in checking commits in last year at LXHien88/Flood_forecasting_HB and config path ../../githubanalysis/config.cfg: 403 Client Error: rate limit exceeded for url: https://api.github.com/repos/LXHien88/Flood_forecasting_HB/pulls?per_pg=1&state=all&sort=updated&direction=desc. API response: <Response [403]>\n",
      "ERROR:Error in checking closed issue numbers at LXHien88/Flood_forecasting_HB and config path ../../githubanalysis/config.cfg: local variable 'repo_con' referenced before assignment.\n"
     ]
    },
    {
     "name": "stdout",
     "output_type": "stream",
     "text": [
      "API response total_commits_last_year fail exception: 'last'\n",
      "<class 'KeyError'>\n",
      "'last'\n",
      "API response for getting total commits in year: <Response [403]>\n"
     ]
    },
    {
     "name": "stderr",
     "output_type": "stream",
     "text": [
      "ERROR:Error in checking age of repo at LXHien88/Flood_forecasting_HB with config path ../../githubanalysis/config.cfg: 404 {\"message\": \"Not Found\", \"documentation_url\": \"https://docs.github.com/rest/repos/repos#get-a-repository\"}.\n",
      "ERROR:Error in checking license of repo at LXHien88/Flood_forecasting_HB with config path ../../githubanalysis/config.cfg: local variable 'repo_con' referenced before assignment.\n",
      "ERROR:Error in checking visibility of repo at LXHien88/Flood_forecasting_HB with config path ../../githubanalysis/config.cfg: local variable 'repo_con' referenced before assignment.\n",
      "ERROR:Error in checking language of repo at LXHien88/Flood_forecasting_HB with config path ../../githubanalysis/config.cfg: local variable 'repo_con' referenced before assignment.\n"
     ]
    },
    {
     "name": "stdout",
     "output_type": "stream",
     "text": [
      "key(s) [] are missing; \n",
      "Stats for LXHien88/Flood_forecasting_HB: {'repo_name': 'LXHien88/Flood_forecasting_HB', 'devs': None, 'total_commits': None}\n",
      ">>> Getting data for repo elvisburchia/DigitalSoilMappingSoftware\n",
      "GH link opened\n"
     ]
    },
    {
     "name": "stderr",
     "output_type": "stream",
     "text": [
      "ERROR:Error in checking commits in last year at elvisburchia/DigitalSoilMappingSoftware and config path ../../githubanalysis/config.cfg: If using all scalar values, you must pass an index. API response: <Response [403]>\n",
      "ERROR:Error in checking commits in last year at elvisburchia/DigitalSoilMappingSoftware and config path ../../githubanalysis/config.cfg: 403 Client Error: rate limit exceeded for url: https://api.github.com/repos/elvisburchia/DigitalSoilMappingSoftware/pulls?per_pg=1&state=all&sort=updated&direction=desc. API response: <Response [403]>\n"
     ]
    },
    {
     "name": "stdout",
     "output_type": "stream",
     "text": [
      "API response total_commits_last_year fail exception: 'last'\n",
      "<class 'KeyError'>\n",
      "'last'\n",
      "API response for getting total commits in year: <Response [403]>\n"
     ]
    },
    {
     "name": "stderr",
     "output_type": "stream",
     "text": [
      "ERROR:Error in checking closed issue numbers at elvisburchia/DigitalSoilMappingSoftware and config path ../../githubanalysis/config.cfg: 'created_at'.\n"
     ]
    },
    {
     "name": "stdout",
     "output_type": "stream",
     "text": [
      "column [] not present in all_issues df; \n"
     ]
    },
    {
     "name": "stderr",
     "output_type": "stream",
     "text": [
      "ERROR:Error in checking license of repo at elvisburchia/DigitalSoilMappingSoftware with config path ../../githubanalysis/config.cfg: 404 {\"message\": \"Not Found\", \"documentation_url\": \"https://docs.github.com/rest/licenses/licenses#get-the-license-for-a-repository\"}.\n"
     ]
    },
    {
     "name": "stdout",
     "output_type": "stream",
     "text": [
      "key(s) [] are missing; \n",
      "Stats for elvisburchia/DigitalSoilMappingSoftware: {'repo_name': 'elvisburchia/DigitalSoilMappingSoftware', 'issues_enabled': True, 'devs': None, 'total_commits': None, 'repo_age_days': 1029, 'repo_visibility': True, 'repo_language': dict_keys(['R'])}\n"
     ]
    }
   ],
   "source": [
    "for repo in gh_urls_df.repo_name:\n",
    "    print(f\">>> Getting data for repo {repo}\")\n",
    "    repo_summariser.summarise_repo_stats(repo_name=repo, config_path='../../githubanalysis/config.cfg', per_pg=1, verbose=True)"
   ]
  }
 ],
 "metadata": {
  "kernelspec": {
   "display_name": "Python 3 (ipykernel)",
   "language": "python",
   "name": "python3"
  },
  "language_info": {
   "codemirror_mode": {
    "name": "ipython",
    "version": 3
   },
   "file_extension": ".py",
   "mimetype": "text/x-python",
   "name": "python",
   "nbconvert_exporter": "python",
   "pygments_lexer": "ipython3",
   "version": "3.10.9"
  }
 },
 "nbformat": 4,
 "nbformat_minor": 5
}
