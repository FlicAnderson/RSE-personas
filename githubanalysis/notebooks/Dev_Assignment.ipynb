{
 "cells": [
  {
   "cell_type": "markdown",
   "id": "6efcb7c6",
   "metadata": {},
   "source": [
    "### imports "
   ]
  },
  {
   "cell_type": "code",
   "execution_count": 1,
   "id": "501b8895",
   "metadata": {},
   "outputs": [],
   "source": [
    "import os\n",
    "from os import path\n",
    "import configparser\n",
    "from github import Github\n",
    "import pandas as pd\n",
    "import numpy\n",
    "import datetime\n",
    "from datetime import datetime\n",
    "from datetime import timezone\n",
    "import requests\n",
    "from requests.adapters import HTTPAdapter, Retry"
   ]
  },
  {
   "cell_type": "code",
   "execution_count": 2,
   "id": "732c7d9c",
   "metadata": {},
   "outputs": [],
   "source": [
    "import githubanalysis.processing.repo_name_clean as name_clean\n",
    "import githubanalysis.processing.get_repo_connection as ghconnect\n",
    "import githubanalysis.processing.setup_github_auth as ghauth\n",
    "import githubanalysis.processing.get_all_pages_issues as getallissues\n",
    "import githubanalysis.analysis.calc_days_since_repo_creation as dayssince\n",
    "import githubanalysis.processing.summarise_repo_stats\n",
    "from githubanalysis.processing.summarise_repo_stats import RepoStatsSummariser\n",
    "import utilities.get_default_logger as loggit\n",
    "import utilities.chunker as chunker"
   ]
  },
  {
   "cell_type": "markdown",
   "id": "4302d562",
   "metadata": {},
   "source": [
    "### access token "
   ]
  },
  {
   "cell_type": "code",
   "execution_count": 3,
   "id": "c81e87b4",
   "metadata": {},
   "outputs": [],
   "source": [
    "# set up github access token with github package: \n",
    "\n",
    "config = configparser.ConfigParser()\n",
    "config.read('../config.cfg')\n",
    "config.sections()\n",
    "\n",
    "access_token = config['ACCESS']['token']\n",
    "g = Github(access_token) "
   ]
  },
  {
   "cell_type": "markdown",
   "id": "b114e37b",
   "metadata": {},
   "source": [
    "### get stats for 1 repo  "
   ]
  },
  {
   "cell_type": "code",
   "execution_count": 4,
   "id": "5e8bb8a9",
   "metadata": {},
   "outputs": [],
   "source": [
    "#config_path = '../config.cfg'\n",
    "#config_path = '../../githubanalysis/config.cfg'"
   ]
  },
  {
   "cell_type": "code",
   "execution_count": 4,
   "id": "c9d3c1f2",
   "metadata": {},
   "outputs": [],
   "source": [
    "logger = loggit.get_default_logger(console=True, set_level_to='DEBUG', log_name='../../logs/summarise_repo_stats_NOTEBOOK_logs.txt')  \n",
    "repo_summariser = RepoStatsSummariser(logger)"
   ]
  },
  {
   "cell_type": "code",
   "execution_count": 5,
   "id": "57360d31",
   "metadata": {},
   "outputs": [
    {
     "data": {
      "text/plain": [
       "(1062, 2)"
      ]
     },
     "execution_count": 5,
     "metadata": {},
     "output_type": "execute_result"
    }
   ],
   "source": [
    "gh_urls_df = pd.read_csv(\"../../data/todo_2024-02-06.csv\", header=0, usecols=['ZenodoID', 'repo_name'], dtype={'ZenodoID':'Int64', 'repo_name':'str'})\n",
    "gh_urls_df.shape"
   ]
  },
  {
   "cell_type": "code",
   "execution_count": 6,
   "id": "2fa70fa8",
   "metadata": {},
   "outputs": [
    {
     "name": "stdout",
     "output_type": "stream",
     "text": [
      "    ZenodoID                                   repo_name\n",
      "10   5109357                               sonwell/ib.cu\n",
      "11   4699379      ling-lyang/Leptodactylus-fuscus-genome\n",
      "12   4497596      lijinghuan1997/helical-magnetic-cavity\n",
      "13   6810288               ramses-antibiotics/snomedizer\n",
      "14    401167                   gcube-team/gcube-releases\n",
      "15   6475255                     dacapobench/dacapobench\n",
      "16     49098                               jjvenky/SIDNO\n",
      "17   5084880  andrew84830813/SelectionEnergyPerm_Project\n",
      "18   6323106                          mcavallaro/rancovr\n",
      "19   3712228         CMUSTRUDEL/Capture-The-Feature-Flag\n"
     ]
    }
   ],
   "source": [
    "gh_urls_df = gh_urls_df[10:20]\n",
    "print(gh_urls_df)"
   ]
  },
  {
   "cell_type": "code",
   "execution_count": 7,
   "id": "616bb4b5",
   "metadata": {},
   "outputs": [
    {
     "name": "stdout",
     "output_type": "stream",
     "text": [
      ">>> Getting data for repo sonwell/ib.cu\n",
      "GH link opened\n"
     ]
    },
    {
     "name": "stderr",
     "output_type": "stream",
     "text": [
      "ERROR:Error in checking commits in last year at sonwell/ib.cu and config path ../../githubanalysis/config.cfg: If using all scalar values, you must pass an index. API response: <Response [403]>\n",
      "ERROR:Error in checking commits in last year at sonwell/ib.cu and config path ../../githubanalysis/config.cfg: 403 Client Error: rate limit exceeded for url: https://api.github.com/repos/sonwell/ib.cu/pulls?per_pg=1&state=all&sort=updated&direction=desc. API response: <Response [403]>\n",
      "ERROR:Error in checking license of repo at sonwell/ib.cu with config path ../../githubanalysis/config.cfg: 404 {\"message\": \"Not Found\", \"documentation_url\": \"https://docs.github.com/rest/licenses/licenses#get-the-license-for-a-repository\"}.\n",
      "INFO:Stats for sonwell/ib.cu: {'repo_name': 'sonwell/ib.cu', 'issues_enabled': True, 'devs': None, 'closed_tickets': 0, 'repo_age_days': 1331, 'repo_visibility': True, 'repo_language': dict_keys(['C++', 'C'])}\n"
     ]
    },
    {
     "name": "stdout",
     "output_type": "stream",
     "text": [
      ">>> Getting data for repo ling-lyang/Leptodactylus-fuscus-genome\n",
      "GH link opened\n"
     ]
    },
    {
     "name": "stderr",
     "output_type": "stream",
     "text": [
      "ERROR:Error in checking commits in last year at ling-lyang/Leptodactylus-fuscus-genome and config path ../../githubanalysis/config.cfg: If using all scalar values, you must pass an index. API response: <Response [403]>\n",
      "ERROR:Error in checking commits in last year at ling-lyang/Leptodactylus-fuscus-genome and config path ../../githubanalysis/config.cfg: 403 Client Error: rate limit exceeded for url: https://api.github.com/repos/ling-lyang/Leptodactylus-fuscus-genome/pulls?per_pg=1&state=all&sort=updated&direction=desc. API response: <Response [403]>\n",
      "ERROR:Error in checking license of repo at ling-lyang/Leptodactylus-fuscus-genome with config path ../../githubanalysis/config.cfg: 404 {\"message\": \"Not Found\", \"documentation_url\": \"https://docs.github.com/rest/licenses/licenses#get-the-license-for-a-repository\"}.\n",
      "INFO:Stats for ling-lyang/Leptodactylus-fuscus-genome: {'repo_name': 'ling-lyang/Leptodactylus-fuscus-genome', 'issues_enabled': True, 'devs': None, 'closed_tickets': 0, 'repo_age_days': 1024, 'repo_visibility': True, 'repo_language': dict_keys([])}\n"
     ]
    },
    {
     "name": "stdout",
     "output_type": "stream",
     "text": [
      ">>> Getting data for repo lijinghuan1997/helical-magnetic-cavity\n",
      "GH link opened\n"
     ]
    },
    {
     "name": "stderr",
     "output_type": "stream",
     "text": [
      "ERROR:Error in checking commits in last year at lijinghuan1997/helical-magnetic-cavity and config path ../../githubanalysis/config.cfg: If using all scalar values, you must pass an index. API response: <Response [403]>\n",
      "ERROR:Error in checking commits in last year at lijinghuan1997/helical-magnetic-cavity and config path ../../githubanalysis/config.cfg: 403 Client Error: rate limit exceeded for url: https://api.github.com/repos/lijinghuan1997/helical-magnetic-cavity/pulls?per_pg=1&state=all&sort=updated&direction=desc. API response: <Response [403]>\n",
      "INFO:Stats for lijinghuan1997/helical-magnetic-cavity: {'repo_name': 'lijinghuan1997/helical-magnetic-cavity', 'issues_enabled': True, 'devs': None, 'closed_tickets': 0, 'repo_age_days': 1099, 'repo_license': License(name=\"MIT License\"), 'repo_visibility': True, 'repo_language': dict_keys(['MATLAB'])}\n"
     ]
    },
    {
     "name": "stdout",
     "output_type": "stream",
     "text": [
      ">>> Getting data for repo ramses-antibiotics/snomedizer\n",
      "GH link opened\n"
     ]
    },
    {
     "name": "stderr",
     "output_type": "stream",
     "text": [
      "ERROR:Error in checking commits in last year at ramses-antibiotics/snomedizer and config path ../../githubanalysis/config.cfg: If using all scalar values, you must pass an index. API response: <Response [403]>\n",
      "ERROR:Error in checking commits in last year at ramses-antibiotics/snomedizer and config path ../../githubanalysis/config.cfg: 403 Client Error: rate limit exceeded for url: https://api.github.com/repos/ramses-antibiotics/snomedizer/pulls?per_pg=1&state=all&sort=updated&direction=desc. API response: <Response [403]>\n",
      "INFO:Stats for ramses-antibiotics/snomedizer: {'repo_name': 'ramses-antibiotics/snomedizer', 'issues_enabled': True, 'devs': None, 'closed_tickets': 36, 'repo_age_days': 1393, 'repo_license': License(name=\"Other\"), 'repo_visibility': True, 'repo_language': dict_keys(['R', 'TeX', 'CSS'])}\n"
     ]
    },
    {
     "name": "stdout",
     "output_type": "stream",
     "text": [
      ">>> Getting data for repo gcube-team/gcube-releases\n",
      "GH link opened\n"
     ]
    },
    {
     "name": "stderr",
     "output_type": "stream",
     "text": [
      "ERROR:Error in checking commits in last year at gcube-team/gcube-releases and config path ../../githubanalysis/config.cfg: If using all scalar values, you must pass an index. API response: <Response [403]>\n",
      "ERROR:Error in checking commits in last year at gcube-team/gcube-releases and config path ../../githubanalysis/config.cfg: 403 Client Error: rate limit exceeded for url: https://api.github.com/repos/gcube-team/gcube-releases/pulls?per_pg=1&state=all&sort=updated&direction=desc. API response: <Response [403]>\n",
      "INFO:Stats for gcube-team/gcube-releases: {'repo_name': 'gcube-team/gcube-releases', 'issues_enabled': True, 'devs': None, 'closed_tickets': 0, 'repo_age_days': 2857, 'repo_license': License(name=\"European Union Public License 1.1\"), 'repo_visibility': True, 'repo_language': dict_keys([])}\n"
     ]
    },
    {
     "name": "stdout",
     "output_type": "stream",
     "text": [
      ">>> Getting data for repo dacapobench/dacapobench\n",
      "GH link opened\n"
     ]
    },
    {
     "name": "stderr",
     "output_type": "stream",
     "text": [
      "ERROR:Error in checking commits in last year at dacapobench/dacapobench and config path ../../githubanalysis/config.cfg: If using all scalar values, you must pass an index. API response: <Response [403]>\n",
      "ERROR:Error in checking commits in last year at dacapobench/dacapobench and config path ../../githubanalysis/config.cfg: 403 Client Error: rate limit exceeded for url: https://api.github.com/repos/dacapobench/dacapobench/pulls?per_pg=1&state=all&sort=updated&direction=desc. API response: <Response [403]>\n",
      "INFO:Stats for dacapobench/dacapobench: {'repo_name': 'dacapobench/dacapobench', 'issues_enabled': True, 'devs': None, 'closed_tickets': 171, 'repo_age_days': 2253, 'repo_license': License(name=\"Apache License 2.0\"), 'repo_visibility': True, 'repo_language': dict_keys(['Java', 'XSLT', 'Python', 'Perl', 'Shell', 'Batchfile', 'HTML', 'CSS'])}\n"
     ]
    },
    {
     "name": "stdout",
     "output_type": "stream",
     "text": [
      ">>> Getting data for repo jjvenky/SIDNO\n",
      "GH link opened\n"
     ]
    },
    {
     "name": "stderr",
     "output_type": "stream",
     "text": [
      "ERROR:Error in checking commits in last year at jjvenky/SIDNO and config path ../../githubanalysis/config.cfg: If using all scalar values, you must pass an index. API response: <Response [403]>\n",
      "ERROR:Error in checking commits in last year at jjvenky/SIDNO and config path ../../githubanalysis/config.cfg: 403 Client Error: rate limit exceeded for url: https://api.github.com/repos/jjvenky/SIDNO/pulls?per_pg=1&state=all&sort=updated&direction=desc. API response: <Response [403]>\n",
      "INFO:Stats for jjvenky/SIDNO: {'repo_name': 'jjvenky/SIDNO', 'issues_enabled': True, 'devs': None, 'closed_tickets': 0, 'repo_age_days': 3690, 'repo_license': License(name=\"MIT License\"), 'repo_visibility': True, 'repo_language': dict_keys([])}\n"
     ]
    },
    {
     "name": "stdout",
     "output_type": "stream",
     "text": [
      ">>> Getting data for repo andrew84830813/SelectionEnergyPerm_Project\n",
      "GH link opened\n"
     ]
    },
    {
     "name": "stderr",
     "output_type": "stream",
     "text": [
      "ERROR:Error in checking commits in last year at andrew84830813/SelectionEnergyPerm_Project and config path ../../githubanalysis/config.cfg: If using all scalar values, you must pass an index. API response: <Response [403]>\n",
      "ERROR:Error in checking commits in last year at andrew84830813/SelectionEnergyPerm_Project and config path ../../githubanalysis/config.cfg: 403 Client Error: rate limit exceeded for url: https://api.github.com/repos/andrew84830813/SelectionEnergyPerm_Project/pulls?per_pg=1&state=all&sort=updated&direction=desc. API response: <Response [403]>\n",
      "INFO:Stats for andrew84830813/SelectionEnergyPerm_Project: {'repo_name': 'andrew84830813/SelectionEnergyPerm_Project', 'issues_enabled': True, 'devs': None, 'closed_tickets': 0, 'repo_age_days': 943, 'repo_license': License(name=\"MIT License\"), 'repo_visibility': True, 'repo_language': dict_keys(['R'])}\n"
     ]
    },
    {
     "name": "stdout",
     "output_type": "stream",
     "text": [
      ">>> Getting data for repo mcavallaro/rancovr\n",
      "GH link opened\n"
     ]
    },
    {
     "name": "stderr",
     "output_type": "stream",
     "text": [
      "ERROR:Error in checking commits in last year at mcavallaro/rancovr and config path ../../githubanalysis/config.cfg: If using all scalar values, you must pass an index. API response: <Response [403]>\n",
      "ERROR:Error in checking commits in last year at mcavallaro/rancovr and config path ../../githubanalysis/config.cfg: 403 Client Error: rate limit exceeded for url: https://api.github.com/repos/mcavallaro/rancovr/pulls?per_pg=1&state=all&sort=updated&direction=desc. API response: <Response [403]>\n",
      "INFO:Stats for mcavallaro/rancovr: {'repo_name': 'mcavallaro/rancovr', 'issues_enabled': True, 'devs': None, 'closed_tickets': 0, 'repo_age_days': 841, 'repo_license': License(name=\"MIT License\"), 'repo_visibility': True, 'repo_language': dict_keys(['R', 'TeX'])}\n"
     ]
    },
    {
     "name": "stdout",
     "output_type": "stream",
     "text": [
      ">>> Getting data for repo CMUSTRUDEL/Capture-The-Feature-Flag\n",
      "GH link opened\n"
     ]
    },
    {
     "name": "stderr",
     "output_type": "stream",
     "text": [
      "ERROR:Error in checking commits in last year at CMUSTRUDEL/Capture-The-Feature-Flag and config path ../../githubanalysis/config.cfg: If using all scalar values, you must pass an index. API response: <Response [403]>\n",
      "ERROR:Error in checking commits in last year at CMUSTRUDEL/Capture-The-Feature-Flag and config path ../../githubanalysis/config.cfg: 403 Client Error: rate limit exceeded for url: https://api.github.com/repos/CMUSTRUDEL/Capture-The-Feature-Flag/pulls?per_pg=1&state=all&sort=updated&direction=desc. API response: <Response [403]>\n",
      "INFO:Stats for CMUSTRUDEL/Capture-The-Feature-Flag: {'repo_name': 'CMUSTRUDEL/Capture-The-Feature-Flag', 'issues_enabled': True, 'devs': None, 'closed_tickets': 0, 'repo_age_days': 1427, 'repo_license': License(name=\"Creative Commons Attribution 4.0 International\"), 'repo_visibility': True, 'repo_language': dict_keys(['Jupyter Notebook', 'R'])}\n"
     ]
    }
   ],
   "source": [
    "for repo in gh_urls_df.repo_name:\n",
    "    print(f\">>> Getting data for repo {repo}\")\n",
    "    repo_summariser.summarise_repo_stats(repo_name=repo, config_path='../../githubanalysis/config.cfg', per_pg=1, verbose=True)"
   ]
  },
  {
   "cell_type": "code",
   "execution_count": null,
   "id": "bcfc8a2f",
   "metadata": {},
   "outputs": [],
   "source": []
  },
  {
   "cell_type": "code",
   "execution_count": null,
   "id": "f91a27b7",
   "metadata": {},
   "outputs": [],
   "source": []
  },
  {
   "cell_type": "code",
   "execution_count": null,
   "id": "286aaef7",
   "metadata": {},
   "outputs": [],
   "source": []
  },
  {
   "cell_type": "code",
   "execution_count": null,
   "id": "42de95d8",
   "metadata": {},
   "outputs": [],
   "source": []
  },
  {
   "cell_type": "code",
   "execution_count": null,
   "id": "fa09a6df",
   "metadata": {},
   "outputs": [],
   "source": []
  },
  {
   "cell_type": "code",
   "execution_count": null,
   "id": "483be9a9",
   "metadata": {},
   "outputs": [],
   "source": []
  },
  {
   "cell_type": "code",
   "execution_count": null,
   "id": "62ace6e7",
   "metadata": {},
   "outputs": [],
   "source": []
  },
  {
   "cell_type": "code",
   "execution_count": 5,
   "id": "722656e0",
   "metadata": {},
   "outputs": [
    {
     "name": "stdout",
     "output_type": "stream",
     "text": [
      "GH link opened\n",
      "API response for getting total commits: <Response [200]>\n",
      "API response for getting total commits in year: <Response [200]>\n",
      "API response for getting PRs info: <Response [200]>\n",
      "Stats for dacapobench/dacapobench: {'repo_name': 'dacapobench/dacapobench', 'issues_enabled': True, 'devs': 25, 'total_commits': 1686, 'total_commits_last_year': 176, 'has_PRs': True, 'last_PR_update': datetime.datetime(2023, 11, 17, 3, 38, 51, tzinfo=datetime.timezone.utc), 'closed_tickets': 171, 'repo_age_days': 2253, 'repo_license': License(name=\"Apache License 2.0\"), 'repo_visibility': True, 'repo_language': dict_keys(['Java', 'XSLT', 'Python', 'Perl', 'Shell', 'Batchfile', 'HTML', 'CSS'])}\n"
     ]
    },
    {
     "data": {
      "text/plain": [
       "{'repo_name': 'dacapobench/dacapobench',\n",
       " 'issues_enabled': True,\n",
       " 'devs': 25,\n",
       " 'total_commits': 1686,\n",
       " 'total_commits_last_year': 176,\n",
       " 'has_PRs': True,\n",
       " 'last_PR_update': datetime.datetime(2023, 11, 17, 3, 38, 51, tzinfo=datetime.timezone.utc),\n",
       " 'closed_tickets': 171,\n",
       " 'repo_age_days': 2253,\n",
       " 'repo_license': License(name=\"Apache License 2.0\"),\n",
       " 'repo_visibility': True,\n",
       " 'repo_language': dict_keys(['Java', 'XSLT', 'Python', 'Perl', 'Shell', 'Batchfile', 'HTML', 'CSS'])}"
      ]
     },
     "execution_count": 5,
     "metadata": {},
     "output_type": "execute_result"
    }
   ],
   "source": [
    "repo_summariser.summarise_repo_stats(repo_name='dacapobench/dacapobench', config_path='../../githubanalysis/config.cfg', per_pg=1, verbose=True)"
   ]
  },
  {
   "cell_type": "code",
   "execution_count": 7,
   "id": "9762c5cb",
   "metadata": {},
   "outputs": [
    {
     "name": "stdout",
     "output_type": "stream",
     "text": [
      "   ZenodoID                                          repo_name\n",
      "0     32712                              harnesscloud/irm-nova\n",
      "1   5899728  ericteboul/Fu-Teboul-et-al.-2022.-Gq-activatio...\n",
      "2   3608671            blu-base/tesla-pump-design-optimization\n",
      "3   1122777                          gcube-team/gcube-releases\n",
      "4   6787506                          IPCC-WG1/Chapter-10_Fig13\n",
      "5   5545932                                veronicamorfi/ml4bl\n",
      "6   5608598                       zackspica/Gridded-SlantStack\n",
      "7   6079286                     shaylematsuda/Mcap_Larval_Temp\n",
      "8   3266016                      LXHien88/Flood_forecasting_HB\n",
      "9   4683096            elvisburchia/DigitalSoilMappingSoftware\n"
     ]
    }
   ],
   "source": [
    "gh_urls_df = gh_urls_df[:10]\n",
    "print(gh_urls_df)"
   ]
  },
  {
   "cell_type": "code",
   "execution_count": 8,
   "id": "10228687",
   "metadata": {},
   "outputs": [
    {
     "name": "stdout",
     "output_type": "stream",
     "text": [
      ">>> Getting data for repo harnesscloud/irm-nova\n",
      "GH link opened\n",
      "API response for getting total commits: <Response [200]>\n",
      "API response for getting total commits in year: <Response [200]>\n",
      "API response for getting PRs info: <Response [200]>\n"
     ]
    },
    {
     "name": "stderr",
     "output_type": "stream",
     "text": [
      "ERROR:Error in checking closed issue numbers at harnesscloud/irm-nova and config path ../../githubanalysis/config.cfg: 'created_at'.\n"
     ]
    },
    {
     "name": "stdout",
     "output_type": "stream",
     "text": [
      "column [] not present in all_issues df; \n"
     ]
    },
    {
     "name": "stderr",
     "output_type": "stream",
     "text": [
      "ERROR:Error in checking license of repo at harnesscloud/irm-nova with config path ../../githubanalysis/config.cfg: 404 {\"message\": \"Not Found\", \"documentation_url\": \"https://docs.github.com/rest/licenses/licenses#get-the-license-for-a-repository\"}.\n"
     ]
    },
    {
     "name": "stdout",
     "output_type": "stream",
     "text": [
      "key(s) [] are missing; \n",
      "Stats for harnesscloud/irm-nova: {'repo_name': 'harnesscloud/irm-nova', 'issues_enabled': True, 'devs': 6, 'total_commits': 119, 'total_commits_last_year': 0, 'has_PRs': False, 'last_PR_update': None, 'repo_age_days': 3241, 'repo_visibility': True, 'repo_language': dict_keys(['Python', 'Shell'])}\n",
      ">>> Getting data for repo ericteboul/Fu-Teboul-et-al.-2022.-Gq-activation-in-BLA-parvalbumin-interneurons-Nature-Communications-2022\n",
      "GH link opened\n",
      "API response for getting total commits: <Response [200]>\n",
      "API response for getting total commits in year: <Response [200]>\n",
      "API response for getting PRs info: <Response [200]>\n"
     ]
    },
    {
     "name": "stderr",
     "output_type": "stream",
     "text": [
      "ERROR:Error in checking closed issue numbers at ericteboul/Fu-Teboul-et-al.-2022.-Gq-activation-in-BLA-parvalbumin-interneurons-Nature-Communications-2022 and config path ../../githubanalysis/config.cfg: 'created_at'.\n"
     ]
    },
    {
     "name": "stdout",
     "output_type": "stream",
     "text": [
      "column [] not present in all_issues df; \n",
      "key(s) [] are missing; \n",
      "Stats for ericteboul/Fu-Teboul-et-al.-2022.-Gq-activation-in-BLA-parvalbumin-interneurons-Nature-Communications-2022: {'repo_name': 'ericteboul/Fu-Teboul-et-al.-2022.-Gq-activation-in-BLA-parvalbumin-interneurons-Nature-Communications-2022', 'issues_enabled': True, 'devs': 2, 'total_commits': 29, 'total_commits_last_year': 0, 'has_PRs': False, 'last_PR_update': None, 'repo_age_days': 812, 'repo_license': License(name=\"MIT License\"), 'repo_visibility': True, 'repo_language': dict_keys(['MATLAB', 'Python'])}\n",
      ">>> Getting data for repo blu-base/tesla-pump-design-optimization\n",
      "GH link opened\n"
     ]
    },
    {
     "name": "stderr",
     "output_type": "stream",
     "text": [
      "ERROR:Error in setting up repo connection with repo name blu-base/tesla-pump-design-optimization and config path ../../githubanalysis/config.cfg: 404 {\"message\": \"Not Found\", \"documentation_url\": \"https://docs.github.com/rest/repos/repos#get-a-repository\"}.\n",
      "ERROR:Error in checking issues enabled with with repo name blu-base/tesla-pump-design-optimization and config path ../../githubanalysis/config.cfg: local variable 'repo_con' referenced before assignment.\n",
      "ERROR:Error in checking commits in last year at blu-base/tesla-pump-design-optimization and config path ../../githubanalysis/config.cfg: If using all scalar values, you must pass an index. API response: <Response [404]>\n"
     ]
    },
    {
     "name": "stdout",
     "output_type": "stream",
     "text": [
      "API response total_commits_last_year fail exception: 'last'\n",
      "<class 'KeyError'>\n",
      "'last'\n",
      "API response for getting total commits in year: <Response [404]>\n"
     ]
    },
    {
     "name": "stderr",
     "output_type": "stream",
     "text": [
      "ERROR:Error in checking commits in last year at blu-base/tesla-pump-design-optimization and config path ../../githubanalysis/config.cfg: 404 Client Error: Not Found for url: https://api.github.com/repos/blu-base/tesla-pump-design-optimization/pulls?per_pg=1&state=all&sort=updated&direction=desc. API response: <Response [404]>\n",
      "ERROR:Error in checking closed issue numbers at blu-base/tesla-pump-design-optimization and config path ../../githubanalysis/config.cfg: local variable 'repo_con' referenced before assignment.\n",
      "ERROR:Error in checking age of repo at blu-base/tesla-pump-design-optimization with config path ../../githubanalysis/config.cfg: 404 {\"message\": \"Not Found\", \"documentation_url\": \"https://docs.github.com/rest/repos/repos#get-a-repository\"}.\n",
      "ERROR:Error in checking license of repo at blu-base/tesla-pump-design-optimization with config path ../../githubanalysis/config.cfg: local variable 'repo_con' referenced before assignment.\n",
      "ERROR:Error in checking visibility of repo at blu-base/tesla-pump-design-optimization with config path ../../githubanalysis/config.cfg: local variable 'repo_con' referenced before assignment.\n",
      "ERROR:Error in checking language of repo at blu-base/tesla-pump-design-optimization with config path ../../githubanalysis/config.cfg: local variable 'repo_con' referenced before assignment.\n"
     ]
    },
    {
     "name": "stdout",
     "output_type": "stream",
     "text": [
      "key(s) [] are missing; \n",
      "Stats for blu-base/tesla-pump-design-optimization: {'repo_name': 'blu-base/tesla-pump-design-optimization', 'devs': None, 'total_commits': None}\n",
      ">>> Getting data for repo gcube-team/gcube-releases\n",
      "GH link opened\n",
      "API response for getting total commits: <Response [200]>\n"
     ]
    },
    {
     "name": "stderr",
     "output_type": "stream",
     "text": [
      "ERROR:Error in checking commits in last year at gcube-team/gcube-releases and config path ../../githubanalysis/config.cfg: If using all scalar values, you must pass an index. API response: <Response [403]>\n",
      "ERROR:Error in checking commits in last year at gcube-team/gcube-releases and config path ../../githubanalysis/config.cfg: 403 Client Error: rate limit exceeded for url: https://api.github.com/repos/gcube-team/gcube-releases/pulls?per_pg=1&state=all&sort=updated&direction=desc. API response: <Response [403]>\n"
     ]
    },
    {
     "name": "stdout",
     "output_type": "stream",
     "text": [
      "API response for getting total commits in year: <Response [403]>\n"
     ]
    },
    {
     "name": "stderr",
     "output_type": "stream",
     "text": [
      "ERROR:Error in checking closed issue numbers at gcube-team/gcube-releases and config path ../../githubanalysis/config.cfg: 'created_at'.\n"
     ]
    },
    {
     "name": "stdout",
     "output_type": "stream",
     "text": [
      "column [] not present in all_issues df; \n",
      "key(s) [] are missing; \n",
      "Stats for gcube-team/gcube-releases: {'repo_name': 'gcube-team/gcube-releases', 'issues_enabled': True, 'devs': 2, 'total_commits': 30, 'repo_age_days': 2856, 'repo_license': License(name=\"European Union Public License 1.1\"), 'repo_visibility': True, 'repo_language': dict_keys([])}\n",
      ">>> Getting data for repo IPCC-WG1/Chapter-10_Fig13\n",
      "GH link opened\n"
     ]
    },
    {
     "name": "stderr",
     "output_type": "stream",
     "text": [
      "ERROR:Error in checking commits in last year at IPCC-WG1/Chapter-10_Fig13 and config path ../../githubanalysis/config.cfg: If using all scalar values, you must pass an index. API response: <Response [403]>\n",
      "ERROR:Error in checking commits in last year at IPCC-WG1/Chapter-10_Fig13 and config path ../../githubanalysis/config.cfg: 403 Client Error: rate limit exceeded for url: https://api.github.com/repos/IPCC-WG1/Chapter-10_Fig13/pulls?per_pg=1&state=all&sort=updated&direction=desc. API response: <Response [403]>\n"
     ]
    },
    {
     "name": "stdout",
     "output_type": "stream",
     "text": [
      "API response total_commits_last_year fail exception: 'last'\n",
      "<class 'KeyError'>\n",
      "'last'\n",
      "API response for getting total commits in year: <Response [403]>\n"
     ]
    },
    {
     "name": "stderr",
     "output_type": "stream",
     "text": [
      "ERROR:Error in checking closed issue numbers at IPCC-WG1/Chapter-10_Fig13 and config path ../../githubanalysis/config.cfg: 'created_at'.\n"
     ]
    },
    {
     "name": "stdout",
     "output_type": "stream",
     "text": [
      "column [] not present in all_issues df; \n"
     ]
    },
    {
     "name": "stderr",
     "output_type": "stream",
     "text": [
      "ERROR:Error in checking license of repo at IPCC-WG1/Chapter-10_Fig13 with config path ../../githubanalysis/config.cfg: 404 {\"message\": \"Not Found\", \"documentation_url\": \"https://docs.github.com/rest/licenses/licenses#get-the-license-for-a-repository\"}.\n"
     ]
    },
    {
     "name": "stdout",
     "output_type": "stream",
     "text": [
      "key(s) [] are missing; \n",
      "Stats for IPCC-WG1/Chapter-10_Fig13: {'repo_name': 'IPCC-WG1/Chapter-10_Fig13', 'issues_enabled': True, 'devs': None, 'total_commits': None, 'repo_age_days': 691, 'repo_visibility': True, 'repo_language': dict_keys([])}\n",
      ">>> Getting data for repo veronicamorfi/ml4bl\n",
      "GH link opened\n"
     ]
    },
    {
     "name": "stderr",
     "output_type": "stream",
     "text": [
      "ERROR:Error in checking commits in last year at veronicamorfi/ml4bl and config path ../../githubanalysis/config.cfg: If using all scalar values, you must pass an index. API response: <Response [403]>\n",
      "ERROR:Error in checking commits in last year at veronicamorfi/ml4bl and config path ../../githubanalysis/config.cfg: 403 Client Error: rate limit exceeded for url: https://api.github.com/repos/veronicamorfi/ml4bl/pulls?per_pg=1&state=all&sort=updated&direction=desc. API response: <Response [403]>\n"
     ]
    },
    {
     "name": "stdout",
     "output_type": "stream",
     "text": [
      "API response total_commits_last_year fail exception: 'last'\n",
      "<class 'KeyError'>\n",
      "'last'\n",
      "API response for getting total commits in year: <Response [403]>\n",
      "key(s) [] are missing; \n",
      "Stats for veronicamorfi/ml4bl: {'repo_name': 'veronicamorfi/ml4bl', 'issues_enabled': True, 'devs': None, 'total_commits': None, 'closed_tickets': 1, 'repo_age_days': 883, 'repo_license': License(name=\"MIT License\"), 'repo_visibility': True, 'repo_language': dict_keys(['Jupyter Notebook', 'Python'])}\n",
      ">>> Getting data for repo zackspica/Gridded-SlantStack\n",
      "GH link opened\n"
     ]
    },
    {
     "name": "stderr",
     "output_type": "stream",
     "text": [
      "ERROR:Error in checking commits in last year at zackspica/Gridded-SlantStack and config path ../../githubanalysis/config.cfg: If using all scalar values, you must pass an index. API response: <Response [403]>\n",
      "ERROR:Error in checking commits in last year at zackspica/Gridded-SlantStack and config path ../../githubanalysis/config.cfg: 403 Client Error: rate limit exceeded for url: https://api.github.com/repos/zackspica/Gridded-SlantStack/pulls?per_pg=1&state=all&sort=updated&direction=desc. API response: <Response [403]>\n"
     ]
    },
    {
     "name": "stdout",
     "output_type": "stream",
     "text": [
      "API response total_commits_last_year fail exception: 'last'\n",
      "<class 'KeyError'>\n",
      "'last'\n",
      "API response for getting total commits in year: <Response [403]>\n"
     ]
    },
    {
     "name": "stderr",
     "output_type": "stream",
     "text": [
      "ERROR:Error in checking closed issue numbers at zackspica/Gridded-SlantStack and config path ../../githubanalysis/config.cfg: 'created_at'.\n"
     ]
    },
    {
     "name": "stdout",
     "output_type": "stream",
     "text": [
      "column [] not present in all_issues df; \n",
      "key(s) [] are missing; \n",
      "Stats for zackspica/Gridded-SlantStack: {'repo_name': 'zackspica/Gridded-SlantStack', 'issues_enabled': True, 'devs': None, 'total_commits': None, 'repo_age_days': 840, 'repo_license': License(name=\"MIT License\"), 'repo_visibility': True, 'repo_language': dict_keys(['MATLAB'])}\n",
      ">>> Getting data for repo shaylematsuda/Mcap_Larval_Temp\n",
      "GH link opened\n"
     ]
    },
    {
     "name": "stderr",
     "output_type": "stream",
     "text": [
      "ERROR:Error in checking commits in last year at shaylematsuda/Mcap_Larval_Temp and config path ../../githubanalysis/config.cfg: If using all scalar values, you must pass an index. API response: <Response [403]>\n",
      "ERROR:Error in checking commits in last year at shaylematsuda/Mcap_Larval_Temp and config path ../../githubanalysis/config.cfg: 403 Client Error: rate limit exceeded for url: https://api.github.com/repos/shaylematsuda/Mcap_Larval_Temp/pulls?per_pg=1&state=all&sort=updated&direction=desc. API response: <Response [403]>\n"
     ]
    },
    {
     "name": "stdout",
     "output_type": "stream",
     "text": [
      "API response total_commits_last_year fail exception: 'last'\n",
      "<class 'KeyError'>\n",
      "'last'\n",
      "API response for getting total commits in year: <Response [403]>\n"
     ]
    },
    {
     "name": "stderr",
     "output_type": "stream",
     "text": [
      "ERROR:Error in checking closed issue numbers at shaylematsuda/Mcap_Larval_Temp and config path ../../githubanalysis/config.cfg: 'created_at'.\n"
     ]
    },
    {
     "name": "stdout",
     "output_type": "stream",
     "text": [
      "column [] not present in all_issues df; \n"
     ]
    },
    {
     "name": "stderr",
     "output_type": "stream",
     "text": [
      "ERROR:Error in checking license of repo at shaylematsuda/Mcap_Larval_Temp with config path ../../githubanalysis/config.cfg: 404 {\"message\": \"Not Found\", \"documentation_url\": \"https://docs.github.com/rest/licenses/licenses#get-the-license-for-a-repository\"}.\n"
     ]
    },
    {
     "name": "stdout",
     "output_type": "stream",
     "text": [
      "key(s) [] are missing; \n",
      "Stats for shaylematsuda/Mcap_Larval_Temp: {'repo_name': 'shaylematsuda/Mcap_Larval_Temp', 'issues_enabled': True, 'devs': None, 'total_commits': None, 'repo_age_days': 1374, 'repo_visibility': True, 'repo_language': dict_keys([])}\n",
      ">>> Getting data for repo LXHien88/Flood_forecasting_HB\n",
      "GH link opened\n"
     ]
    },
    {
     "name": "stderr",
     "output_type": "stream",
     "text": [
      "ERROR:Error in setting up repo connection with repo name LXHien88/Flood_forecasting_HB and config path ../../githubanalysis/config.cfg: 404 {\"message\": \"Not Found\", \"documentation_url\": \"https://docs.github.com/rest/repos/repos#get-a-repository\"}.\n",
      "ERROR:Error in checking issues enabled with with repo name LXHien88/Flood_forecasting_HB and config path ../../githubanalysis/config.cfg: local variable 'repo_con' referenced before assignment.\n",
      "ERROR:Error in checking commits in last year at LXHien88/Flood_forecasting_HB and config path ../../githubanalysis/config.cfg: If using all scalar values, you must pass an index. API response: <Response [403]>\n",
      "ERROR:Error in checking commits in last year at LXHien88/Flood_forecasting_HB and config path ../../githubanalysis/config.cfg: 403 Client Error: rate limit exceeded for url: https://api.github.com/repos/LXHien88/Flood_forecasting_HB/pulls?per_pg=1&state=all&sort=updated&direction=desc. API response: <Response [403]>\n",
      "ERROR:Error in checking closed issue numbers at LXHien88/Flood_forecasting_HB and config path ../../githubanalysis/config.cfg: local variable 'repo_con' referenced before assignment.\n"
     ]
    },
    {
     "name": "stdout",
     "output_type": "stream",
     "text": [
      "API response total_commits_last_year fail exception: 'last'\n",
      "<class 'KeyError'>\n",
      "'last'\n",
      "API response for getting total commits in year: <Response [403]>\n"
     ]
    },
    {
     "name": "stderr",
     "output_type": "stream",
     "text": [
      "ERROR:Error in checking age of repo at LXHien88/Flood_forecasting_HB with config path ../../githubanalysis/config.cfg: 404 {\"message\": \"Not Found\", \"documentation_url\": \"https://docs.github.com/rest/repos/repos#get-a-repository\"}.\n",
      "ERROR:Error in checking license of repo at LXHien88/Flood_forecasting_HB with config path ../../githubanalysis/config.cfg: local variable 'repo_con' referenced before assignment.\n",
      "ERROR:Error in checking visibility of repo at LXHien88/Flood_forecasting_HB with config path ../../githubanalysis/config.cfg: local variable 'repo_con' referenced before assignment.\n",
      "ERROR:Error in checking language of repo at LXHien88/Flood_forecasting_HB with config path ../../githubanalysis/config.cfg: local variable 'repo_con' referenced before assignment.\n"
     ]
    },
    {
     "name": "stdout",
     "output_type": "stream",
     "text": [
      "key(s) [] are missing; \n",
      "Stats for LXHien88/Flood_forecasting_HB: {'repo_name': 'LXHien88/Flood_forecasting_HB', 'devs': None, 'total_commits': None}\n",
      ">>> Getting data for repo elvisburchia/DigitalSoilMappingSoftware\n",
      "GH link opened\n"
     ]
    },
    {
     "name": "stderr",
     "output_type": "stream",
     "text": [
      "ERROR:Error in checking commits in last year at elvisburchia/DigitalSoilMappingSoftware and config path ../../githubanalysis/config.cfg: If using all scalar values, you must pass an index. API response: <Response [403]>\n",
      "ERROR:Error in checking commits in last year at elvisburchia/DigitalSoilMappingSoftware and config path ../../githubanalysis/config.cfg: 403 Client Error: rate limit exceeded for url: https://api.github.com/repos/elvisburchia/DigitalSoilMappingSoftware/pulls?per_pg=1&state=all&sort=updated&direction=desc. API response: <Response [403]>\n"
     ]
    },
    {
     "name": "stdout",
     "output_type": "stream",
     "text": [
      "API response total_commits_last_year fail exception: 'last'\n",
      "<class 'KeyError'>\n",
      "'last'\n",
      "API response for getting total commits in year: <Response [403]>\n"
     ]
    },
    {
     "name": "stderr",
     "output_type": "stream",
     "text": [
      "ERROR:Error in checking closed issue numbers at elvisburchia/DigitalSoilMappingSoftware and config path ../../githubanalysis/config.cfg: 'created_at'.\n"
     ]
    },
    {
     "name": "stdout",
     "output_type": "stream",
     "text": [
      "column [] not present in all_issues df; \n"
     ]
    },
    {
     "name": "stderr",
     "output_type": "stream",
     "text": [
      "ERROR:Error in checking license of repo at elvisburchia/DigitalSoilMappingSoftware with config path ../../githubanalysis/config.cfg: 404 {\"message\": \"Not Found\", \"documentation_url\": \"https://docs.github.com/rest/licenses/licenses#get-the-license-for-a-repository\"}.\n"
     ]
    },
    {
     "name": "stdout",
     "output_type": "stream",
     "text": [
      "key(s) [] are missing; \n",
      "Stats for elvisburchia/DigitalSoilMappingSoftware: {'repo_name': 'elvisburchia/DigitalSoilMappingSoftware', 'issues_enabled': True, 'devs': None, 'total_commits': None, 'repo_age_days': 1029, 'repo_visibility': True, 'repo_language': dict_keys(['R'])}\n"
     ]
    }
   ],
   "source": [
    "for repo in gh_urls_df.repo_name:\n",
    "    print(f\">>> Getting data for repo {repo}\")\n",
    "    repo_summariser.summarise_repo_stats(repo_name=repo, config_path='../../githubanalysis/config.cfg', per_pg=1, verbose=True)"
   ]
  },
  {
   "cell_type": "code",
   "execution_count": 9,
   "id": "c22108af",
   "metadata": {},
   "outputs": [
    {
     "name": "stdout",
     "output_type": "stream",
     "text": [
      "Empty DataFrame\n",
      "Columns: []\n",
      "Index: []\n"
     ]
    }
   ],
   "source": [
    "tmp = getallissues.get_all_pages_issues(\n",
    "                    repo_name='harnesscloud/irm-nova',\n",
    "                    config_path='../../githubanalysis/config.cfg',\n",
    "                    per_pg=100,\n",
    "                    issue_state='closed',\n",
    "                    verbose=False\n",
    "                )  # get closed issues from all pages for given repo\n",
    "\n",
    "print(tmp)"
   ]
  },
  {
   "cell_type": "code",
   "execution_count": 12,
   "id": "94930aec",
   "metadata": {},
   "outputs": [
    {
     "name": "stdout",
     "output_type": "stream",
     "text": [
      "[]\n"
     ]
    }
   ],
   "source": [
    "repo_con = ghconnect.get_repo_connection(repo_name='harnesscloud/irm-nova', config_path='../../githubanalysis/config.cfg', per_pg=100, verbose=False)  # create gh repo object to given repo\n",
    "\n",
    "store_pgs = []\n",
    "for page in repo_con.get_issues(state='closed'):\n",
    "       store_pgs.append(page._rawData)\n",
    "\n",
    "print(store_pgs)"
   ]
  },
  {
   "cell_type": "code",
   "execution_count": 14,
   "id": "8375f04f",
   "metadata": {},
   "outputs": [
    {
     "name": "stdout",
     "output_type": "stream",
     "text": [
      "0\n"
     ]
    },
    {
     "data": {
      "text/plain": [
       "0"
      ]
     },
     "execution_count": 14,
     "metadata": {},
     "output_type": "execute_result"
    }
   ],
   "source": [
    "store_pgs = []\n",
    "print(len(store_pgs))\n",
    "\n",
    "store_pgs = pd.DataFrame()\n",
    "\n",
    "store_pgs.shape[0]"
   ]
  }
 ],
 "metadata": {
  "kernelspec": {
   "display_name": "Python 3 (ipykernel)",
   "language": "python",
   "name": "python3"
  },
  "language_info": {
   "codemirror_mode": {
    "name": "ipython",
    "version": 3
   },
   "file_extension": ".py",
   "mimetype": "text/x-python",
   "name": "python",
   "nbconvert_exporter": "python",
   "pygments_lexer": "ipython3",
   "version": "3.10.9"
  }
 },
 "nbformat": 4,
 "nbformat_minor": 5
}
