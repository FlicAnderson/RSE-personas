{
 "cells": [
  {
   "cell_type": "markdown",
   "id": "6efcb7c6",
   "metadata": {},
   "source": [
    "### imports "
   ]
  },
  {
   "cell_type": "code",
   "execution_count": 1,
   "id": "501b8895",
   "metadata": {},
   "outputs": [],
   "source": [
    "import os\n",
    "from os import path\n",
    "import configparser\n",
    "from github import Github\n",
    "import pandas as pd\n",
    "import numpy\n",
    "import datetime\n",
    "from datetime import datetime\n",
    "from datetime import timezone\n",
    "import requests\n",
    "from requests.adapters import HTTPAdapter, Retry"
   ]
  },
  {
   "cell_type": "code",
   "execution_count": 2,
   "id": "732c7d9c",
   "metadata": {},
   "outputs": [],
   "source": [
    "import githubanalysis.processing.repo_name_clean as name_clean\n",
    "import githubanalysis.processing.get_repo_connection as ghconnect\n",
    "import githubanalysis.processing.setup_github_auth as ghauth\n",
    "import githubanalysis.processing.get_all_pages_issues as getallissues\n",
    "import githubanalysis.analysis.calc_days_since_repo_creation as dayssince\n",
    "import githubanalysis.processing.summarise_repo_stats as summarisestats"
   ]
  },
  {
   "cell_type": "markdown",
   "id": "4302d562",
   "metadata": {},
   "source": [
    "### access token "
   ]
  },
  {
   "cell_type": "code",
   "execution_count": 3,
   "id": "c81e87b4",
   "metadata": {},
   "outputs": [],
   "source": [
    "# set up github access token with github package: \n",
    "\n",
    "config = configparser.ConfigParser()\n",
    "config.read('../config.cfg')\n",
    "config.sections()\n",
    "\n",
    "access_token = config['ACCESS']['token']\n",
    "g = Github(access_token) "
   ]
  },
  {
   "cell_type": "markdown",
   "id": "b114e37b",
   "metadata": {},
   "source": [
    "### get stats for 1 repo  "
   ]
  },
  {
   "cell_type": "code",
   "execution_count": 4,
   "id": "5e8bb8a9",
   "metadata": {},
   "outputs": [],
   "source": [
    "config_path = '../config.cfg'\n",
    "#config_path = '../../githubanalysis/config.cfg'"
   ]
  },
  {
   "cell_type": "code",
   "execution_count": 5,
   "id": "722656e0",
   "metadata": {},
   "outputs": [
    {
     "name": "stdout",
     "output_type": "stream",
     "text": [
      "GH link opened\n",
      "API response for getting total commits: <Response [200]>\n",
      "API response for getting total commits in year: <Response [200]>\n",
      "API response for getting PRs info: <Response [200]>\n"
     ]
    },
    {
     "ename": "OSError",
     "evalue": "[Errno Config file does not exist at path:] githubanalysis/config.cfg",
     "output_type": "error",
     "traceback": [
      "\u001b[0;31m---------------------------------------------------------------------------\u001b[0m",
      "\u001b[0;31mOSError\u001b[0m                                   Traceback (most recent call last)",
      "Cell \u001b[0;32mIn[5], line 1\u001b[0m\n\u001b[0;32m----> 1\u001b[0m \u001b[43msummarisestats\u001b[49m\u001b[38;5;241;43m.\u001b[39;49m\u001b[43msummarise_repo_stats\u001b[49m\u001b[43m(\u001b[49m\u001b[43mrepo_name\u001b[49m\u001b[38;5;241;43m=\u001b[39;49m\u001b[38;5;124;43m'\u001b[39;49m\u001b[38;5;124;43mramses-antibiotics/snomedizer\u001b[39;49m\u001b[38;5;124;43m'\u001b[39;49m\u001b[43m,\u001b[49m\u001b[43m \u001b[49m\u001b[43mconfig_path\u001b[49m\u001b[38;5;241;43m=\u001b[39;49m\u001b[38;5;124;43m'\u001b[39;49m\u001b[38;5;124;43m../../githubanalysis/config.cfg\u001b[39;49m\u001b[38;5;124;43m'\u001b[39;49m\u001b[43m,\u001b[49m\u001b[43m \u001b[49m\u001b[43mper_pg\u001b[49m\u001b[38;5;241;43m=\u001b[39;49m\u001b[38;5;241;43m1\u001b[39;49m\u001b[43m,\u001b[49m\u001b[43m \u001b[49m\u001b[43mverbose\u001b[49m\u001b[38;5;241;43m=\u001b[39;49m\u001b[38;5;28;43;01mTrue\u001b[39;49;00m\u001b[43m)\u001b[49m\n",
      "File \u001b[0;32m~/clonezone/coding-smart/githubanalysis/processing/summarise_repo_stats.py:177\u001b[0m, in \u001b[0;36msummarise_repo_stats\u001b[0;34m(repo_name, config_path, per_pg, verbose)\u001b[0m\n\u001b[1;32m    173\u001b[0m \u001b[38;5;66;03m# count closed issue tickets\u001b[39;00m\n\u001b[1;32m    175\u001b[0m \u001b[38;5;28;01mif\u001b[39;00m \u001b[38;5;28mhasattr\u001b[39m(repo_con, \u001b[38;5;124m'\u001b[39m\u001b[38;5;124mhas_issues\u001b[39m\u001b[38;5;124m'\u001b[39m) \u001b[38;5;129;01mis\u001b[39;00m \u001b[38;5;28;01mTrue\u001b[39;00m:\n\u001b[0;32m--> 177\u001b[0m     closed_issues \u001b[38;5;241m=\u001b[39m \u001b[43mgetallissues\u001b[49m\u001b[38;5;241;43m.\u001b[39;49m\u001b[43mget_all_pages_issues\u001b[49m\u001b[43m(\u001b[49m\n\u001b[1;32m    178\u001b[0m \u001b[43m        \u001b[49m\u001b[43mrepo_name\u001b[49m\u001b[38;5;241;43m=\u001b[39;49m\u001b[43mrepo_name\u001b[49m\u001b[43m,\u001b[49m\n\u001b[1;32m    179\u001b[0m \u001b[43m        \u001b[49m\u001b[43mconfig_path\u001b[49m\u001b[38;5;241;43m=\u001b[39;49m\u001b[38;5;124;43m'\u001b[39;49m\u001b[38;5;124;43mgithubanalysis/config.cfg\u001b[39;49m\u001b[38;5;124;43m'\u001b[39;49m\u001b[43m,\u001b[49m\n\u001b[1;32m    180\u001b[0m \u001b[43m        \u001b[49m\u001b[43mper_pg\u001b[49m\u001b[38;5;241;43m=\u001b[39;49m\u001b[38;5;241;43m100\u001b[39;49m\u001b[43m,\u001b[49m\n\u001b[1;32m    181\u001b[0m \u001b[43m        \u001b[49m\u001b[43missue_state\u001b[49m\u001b[38;5;241;43m=\u001b[39;49m\u001b[38;5;124;43m'\u001b[39;49m\u001b[38;5;124;43mclosed\u001b[39;49m\u001b[38;5;124;43m'\u001b[39;49m\u001b[43m,\u001b[49m\n\u001b[1;32m    182\u001b[0m \u001b[43m        \u001b[49m\u001b[43mverbose\u001b[49m\u001b[38;5;241;43m=\u001b[39;49m\u001b[38;5;28;43;01mFalse\u001b[39;49;00m\n\u001b[1;32m    183\u001b[0m \u001b[43m    \u001b[49m\u001b[43m)\u001b[49m  \u001b[38;5;66;03m# get closed issues from all pages for given repo\u001b[39;00m\n\u001b[1;32m    185\u001b[0m     closed_issues \u001b[38;5;241m=\u001b[39m closed_issues\u001b[38;5;241m.\u001b[39mshape[\u001b[38;5;241m0\u001b[39m]  \u001b[38;5;66;03m# get number; discard df\u001b[39;00m\n\u001b[1;32m    186\u001b[0m \u001b[38;5;28;01melse\u001b[39;00m:\n",
      "File \u001b[0;32m~/clonezone/coding-smart/githubanalysis/processing/get_all_pages_issues.py:27\u001b[0m, in \u001b[0;36mget_all_pages_issues\u001b[0;34m(repo_name, config_path, per_pg, issue_state, verbose)\u001b[0m\n\u001b[1;32m      6\u001b[0m \u001b[38;5;28;01mdef\u001b[39;00m \u001b[38;5;21mget_all_pages_issues\u001b[39m(repo_name, config_path\u001b[38;5;241m=\u001b[39m\u001b[38;5;124m'\u001b[39m\u001b[38;5;124mgithubanalysis/config.cfg\u001b[39m\u001b[38;5;124m'\u001b[39m, per_pg\u001b[38;5;241m=\u001b[39m\u001b[38;5;241m100\u001b[39m, issue_state\u001b[38;5;241m=\u001b[39m\u001b[38;5;124m'\u001b[39m\u001b[38;5;124mall\u001b[39m\u001b[38;5;124m'\u001b[39m, verbose\u001b[38;5;241m=\u001b[39m\u001b[38;5;28;01mTrue\u001b[39;00m):\n\u001b[1;32m      7\u001b[0m     \u001b[38;5;124;03m\"\"\"\u001b[39;00m\n\u001b[1;32m      8\u001b[0m \u001b[38;5;124;03m    Obtains all fields of data from all pages for a given github repo `repo_name`.\u001b[39;00m\n\u001b[1;32m      9\u001b[0m \u001b[38;5;124;03m    :param repo_name: cleaned `repo_name` string without github url root or trailing slashes.\u001b[39;00m\n\u001b[0;32m   (...)\u001b[0m\n\u001b[1;32m     24\u001b[0m \u001b[38;5;124;03m    TODO.\u001b[39;00m\n\u001b[1;32m     25\u001b[0m \u001b[38;5;124;03m    \"\"\"\u001b[39;00m\n\u001b[0;32m---> 27\u001b[0m     repo_con \u001b[38;5;241m=\u001b[39m \u001b[43mghconnect\u001b[49m\u001b[38;5;241;43m.\u001b[39;49m\u001b[43mget_repo_connection\u001b[49m\u001b[43m(\u001b[49m\u001b[43mrepo_name\u001b[49m\u001b[43m,\u001b[49m\u001b[43m \u001b[49m\u001b[43mconfig_path\u001b[49m\u001b[43m,\u001b[49m\u001b[43m \u001b[49m\u001b[43mper_pg\u001b[49m\u001b[43m,\u001b[49m\u001b[43m \u001b[49m\u001b[43mverbose\u001b[49m\u001b[38;5;241;43m=\u001b[39;49m\u001b[38;5;28;43;01mFalse\u001b[39;49;00m\u001b[43m)\u001b[49m  \u001b[38;5;66;03m# create gh repo object to given repo\u001b[39;00m\n\u001b[1;32m     28\u001b[0m     \u001b[38;5;66;03m# contains:  #ghlink = ghauth.setup_github_auth() with config path default to '../config' & per_page=100\u001b[39;00m\n\u001b[1;32m     30\u001b[0m     \u001b[38;5;28;01mif\u001b[39;00m \u001b[38;5;28mhasattr\u001b[39m(repo_con, \u001b[38;5;124m'\u001b[39m\u001b[38;5;124mhas_issues\u001b[39m\u001b[38;5;124m'\u001b[39m) \u001b[38;5;129;01mis\u001b[39;00m \u001b[38;5;28;01mFalse\u001b[39;00m:\n",
      "File \u001b[0;32m~/clonezone/coding-smart/githubanalysis/processing/get_repo_connection.py:32\u001b[0m, in \u001b[0;36mget_repo_connection\u001b[0;34m(repo_name, config_path, per_pg, verbose)\u001b[0m\n\u001b[1;32m      7\u001b[0m \u001b[38;5;124;03m\"\"\"\u001b[39;00m\n\u001b[1;32m      8\u001b[0m \u001b[38;5;124;03mCreate connection to GitHub repository and get details\u001b[39;00m\n\u001b[1;32m      9\u001b[0m \u001b[38;5;124;03mwhen given 'username' and 'repo_name' repository name.\u001b[39;00m\n\u001b[0;32m   (...)\u001b[0m\n\u001b[1;32m     28\u001b[0m \u001b[38;5;124;03mRepository(full_name=\"riboviz/riboviz\")\u001b[39;00m\n\u001b[1;32m     29\u001b[0m \u001b[38;5;124;03m\"\"\"\u001b[39;00m\n\u001b[1;32m     31\u001b[0m \u001b[38;5;66;03m# this access token authentication setup line is required; use defaults `config_path` & `per_pg`=100\u001b[39;00m\n\u001b[0;32m---> 32\u001b[0m ghlink \u001b[38;5;241m=\u001b[39m \u001b[43mghauth\u001b[49m\u001b[38;5;241;43m.\u001b[39;49m\u001b[43msetup_github_auth\u001b[49m\u001b[43m(\u001b[49m\u001b[43mconfig_path\u001b[49m\u001b[43m,\u001b[49m\u001b[43m \u001b[49m\u001b[43mper_pg\u001b[49m\u001b[43m,\u001b[49m\u001b[43m \u001b[49m\u001b[43mverbose\u001b[49m\u001b[38;5;241;43m=\u001b[39;49m\u001b[43mverbose\u001b[49m\u001b[43m)\u001b[49m\n\u001b[1;32m     34\u001b[0m \u001b[38;5;66;03m# TODO: check repo_name input validity\u001b[39;00m\n\u001b[1;32m     35\u001b[0m \n\u001b[1;32m     36\u001b[0m \u001b[38;5;66;03m# try to set up connection\u001b[39;00m\n\u001b[1;32m     37\u001b[0m repo_connection \u001b[38;5;241m=\u001b[39m ghlink\u001b[38;5;241m.\u001b[39mget_repo(repo_name)\n",
      "File \u001b[0;32m~/clonezone/coding-smart/githubanalysis/processing/setup_github_auth.py:34\u001b[0m, in \u001b[0;36msetup_github_auth\u001b[0;34m(config_path, per_pg, verbose)\u001b[0m\n\u001b[1;32m     32\u001b[0m pathchecker \u001b[38;5;241m=\u001b[39m Path(config_path)\n\u001b[1;32m     33\u001b[0m \u001b[38;5;28;01mif\u001b[39;00m pathchecker\u001b[38;5;241m.\u001b[39mexists() \u001b[38;5;129;01mis\u001b[39;00m \u001b[38;5;28;01mFalse\u001b[39;00m:\n\u001b[0;32m---> 34\u001b[0m     \u001b[38;5;28;01mraise\u001b[39;00m \u001b[38;5;167;01mOSError\u001b[39;00m(\u001b[38;5;124m'\u001b[39m\u001b[38;5;124mConfig file does not exist at path:\u001b[39m\u001b[38;5;124m'\u001b[39m, config_path)\n\u001b[1;32m     36\u001b[0m \u001b[38;5;66;03m# read config file and pull out access token details\u001b[39;00m\n\u001b[1;32m     37\u001b[0m config \u001b[38;5;241m=\u001b[39m configparser\u001b[38;5;241m.\u001b[39mConfigParser()\n",
      "\u001b[0;31mOSError\u001b[0m: [Errno Config file does not exist at path:] githubanalysis/config.cfg"
     ]
    }
   ],
   "source": [
    "summarisestats.summarise_repo_stats(repo_name='ramses-antibiotics/snomedizer', config_path='../../githubanalysis/config.cfg', per_pg=1, verbose=True)"
   ]
  }
 ],
 "metadata": {
  "kernelspec": {
   "display_name": "Python 3 (ipykernel)",
   "language": "python",
   "name": "python3"
  },
  "language_info": {
   "codemirror_mode": {
    "name": "ipython",
    "version": 3
   },
   "file_extension": ".py",
   "mimetype": "text/x-python",
   "name": "python",
   "nbconvert_exporter": "python",
   "pygments_lexer": "ipython3",
   "version": "3.10.9"
  }
 },
 "nbformat": 4,
 "nbformat_minor": 5
}
