{
 "cells": [
  {
   "cell_type": "markdown",
   "id": "6efcb7c6",
   "metadata": {},
   "source": [
    "### imports "
   ]
  },
  {
   "cell_type": "code",
   "execution_count": 1,
   "id": "501b8895",
   "metadata": {},
   "outputs": [],
   "source": [
    "import os\n",
    "from os import path\n",
    "import configparser\n",
    "from github import Github\n",
    "import pandas as pd\n",
    "import numpy as np\n",
    "import matplotlib.pyplot as plt\n",
    "import seaborn as sns\n",
    "import datetime\n",
    "from datetime import datetime\n",
    "from datetime import timezone\n",
    "import requests\n",
    "from requests.adapters import HTTPAdapter, Retry"
   ]
  },
  {
   "cell_type": "code",
   "execution_count": 2,
   "id": "732c7d9c",
   "metadata": {},
   "outputs": [],
   "source": [
    "import githubanalysis.processing.repo_name_clean as name_clean\n",
    "import githubanalysis.processing.get_repo_connection as ghconnect\n",
    "import githubanalysis.processing.setup_github_auth as ghauth\n",
    "import githubanalysis.processing.get_all_pages_issues as getallissues\n",
    "import githubanalysis.analysis.calc_days_since_repo_creation as dayssince\n",
    "import githubanalysis.processing.summarise_repo_stats\n",
    "from githubanalysis.processing.summarise_repo_stats import RepoStatsSummariser\n",
    "import utilities.get_default_logger as loggit\n",
    "import utilities.chunker as chunker"
   ]
  },
  {
   "cell_type": "markdown",
   "id": "4302d562",
   "metadata": {},
   "source": [
    "### access token "
   ]
  },
  {
   "cell_type": "code",
   "execution_count": 3,
   "id": "c81e87b4",
   "metadata": {},
   "outputs": [],
   "source": [
    "# set up github access token with github package: \n",
    "\n",
    "config = configparser.ConfigParser()\n",
    "config.read('../config.cfg')\n",
    "config.sections()\n",
    "\n",
    "access_token = config['ACCESS']['token']\n",
    "g = Github(access_token) \n",
    "\n",
    "gh_token = ghauth.setup_github_auth(config_path='../../githubanalysis/config.cfg')\n",
    "headers = {f\"Authorization: Bearer {gh_token}\"}"
   ]
  },
  {
   "cell_type": "code",
   "execution_count": 4,
   "id": "5cbfb87a",
   "metadata": {},
   "outputs": [],
   "source": [
    "#repo_name = 'MotionbyLearning/stm' # 61\n",
    "repo_name = 'nicolasfara/reconfiguration-experiments'\n",
    "\n",
    "import githubanalysis.processing.get_all_pages_issues\n",
    "from githubanalysis.processing.get_all_pages_issues import IssueGetter\n",
    "\n",
    "logger = loggit.get_default_logger(console=True, set_level_to='DEBUG', log_name='../../logs/get_all_pages_issues_NOTEBOOK_logs.txt')  \n",
    "issues_getter = IssueGetter(logger)\n",
    "\n",
    "iss_df = issues_getter.get_all_pages_issues(repo_name=repo_name, config_path='../../githubanalysis/config.cfg', out_filename='all-issues', write_out_location='../../data/')"
   ]
  },
  {
   "cell_type": "code",
   "execution_count": 19,
   "id": "c84b8470",
   "metadata": {},
   "outputs": [
    {
     "data": {
      "text/plain": [
       "1"
      ]
     },
     "execution_count": 19,
     "metadata": {},
     "output_type": "execute_result"
    }
   ],
   "source": [
    "iss_df.state.value_counts().open"
   ]
  },
  {
   "cell_type": "code",
   "execution_count": 11,
   "id": "ceb8b974",
   "metadata": {},
   "outputs": [
    {
     "name": "stdout",
     "output_type": "stream",
     "text": [
      "issue state counts: closed    113\n",
      "open        1\n",
      "Name: state, dtype: int64\n"
     ]
    }
   ],
   "source": [
    "print(f\"issue state counts: {iss_df.state.value_counts()}\")"
   ]
  },
  {
   "cell_type": "markdown",
   "id": "f942645a",
   "metadata": {},
   "source": [
    "### Load 1 repo content via get_repo_connection() "
   ]
  },
  {
   "cell_type": "code",
   "execution_count": null,
   "id": "af603375",
   "metadata": {},
   "outputs": [],
   "source": [
    "# repo_con = ghconnect.get_repo_connection(repo_name='harnesscloud/irm-nova', config_path='../../githubanalysis/config.cfg')\n",
    "# repo_con = repo_con.json()\n",
    "# print(repo_con)"
   ]
  },
  {
   "cell_type": "markdown",
   "id": "33f75c60",
   "metadata": {},
   "source": [
    "### Load 1 repo content via s.get() "
   ]
  },
  {
   "cell_type": "code",
   "execution_count": null,
   "id": "f47394c1",
   "metadata": {},
   "outputs": [],
   "source": [
    "# gh_token = ghauth.setup_github_auth(config_path='../../githubanalysis/config.cfg')\n",
    "# headers = {'Authorization': 'token ' + gh_token}\n",
    "\n",
    "# s = requests.Session()\n",
    "# retries = Retry(total=10, connect=5, read=3, backoff_factor=1.5, status_forcelist=[202, 502, 503, 504])\n",
    "# s.mount('https://', HTTPAdapter(max_retries=retries))"
   ]
  },
  {
   "cell_type": "markdown",
   "id": "59f9ccb8",
   "metadata": {},
   "source": [
    "### Load repo stats file"
   ]
  },
  {
   "cell_type": "code",
   "execution_count": null,
   "id": "1f4f76ae",
   "metadata": {},
   "outputs": [],
   "source": [
    "total_stats = pd.read_csv(\"../../data/gh_stats_2024-02-12-eidf.csv\", header=0, nrows=250)\n",
    "print(total_stats.head)"
   ]
  },
  {
   "cell_type": "code",
   "execution_count": null,
   "id": "fbbac1f3",
   "metadata": {},
   "outputs": [],
   "source": [
    "len(total_stats.index) # number of records (so far)"
   ]
  },
  {
   "cell_type": "code",
   "execution_count": null,
   "id": "31c5138a",
   "metadata": {},
   "outputs": [],
   "source": [
    "total_stats['initial_HTTP_code'].value_counts()"
   ]
  },
  {
   "cell_type": "markdown",
   "id": "2921c9f3",
   "metadata": {},
   "source": [
    "## Subset: only non-404 repos:"
   ]
  },
  {
   "cell_type": "code",
   "execution_count": null,
   "id": "e61bdfb3",
   "metadata": {},
   "outputs": [],
   "source": [
    "total_stats_200s = total_stats[total_stats['initial_HTTP_code'] == 200]\n",
    "\n",
    "#total_stats_200s[['devs', 'repo_age_days', 'total_commits_last_year']].describe()"
   ]
  },
  {
   "cell_type": "code",
   "execution_count": null,
   "id": "2e6f2779",
   "metadata": {},
   "outputs": [],
   "source": [
    "total_stats_200s['has_issues'] = np.where((total_stats_200s['open_tickets'] > 1) | (total_stats_200s['closed_tickets'] > 1), True, False)\n",
    "total_stats_200s['all_tickets'] = (total_stats_200s['open_tickets'] + total_stats_200s['closed_tickets'])\n",
    "\n",
    "#print(total_stats_200s)"
   ]
  },
  {
   "cell_type": "code",
   "execution_count": null,
   "id": "8ec957df",
   "metadata": {},
   "outputs": [],
   "source": [
    "total_stats_200s[['devs', 'repo_age_days', 'all_tickets', 'open_tickets', 'closed_tickets']].mean()"
   ]
  },
  {
   "cell_type": "code",
   "execution_count": null,
   "id": "57c1da32",
   "metadata": {},
   "outputs": [],
   "source": [
    "total_stats_200s[['devs', 'repo_age_days', 'all_tickets', 'open_tickets', 'closed_tickets']].max()"
   ]
  },
  {
   "cell_type": "code",
   "execution_count": null,
   "id": "3e5c4e40",
   "metadata": {},
   "outputs": [],
   "source": [
    "# Find the outlier: \n",
    "# https://github.com/swsoyee/2019-ncov-japan/issues \n",
    "# \"Interactive dashboard for real-time recording of COVID-19 outbreak in Japan\"\n",
    "total_stats_200s[total_stats_200s['closed_tickets'] > 16900]"
   ]
  },
  {
   "cell_type": "code",
   "execution_count": null,
   "id": "faf10f27",
   "metadata": {},
   "outputs": [],
   "source": [
    "tmp = total_stats_200s.drop([93])\n",
    "tmp[['devs', 'repo_age_days', 'all_tickets', 'open_tickets', 'closed_tickets']].max()"
   ]
  },
  {
   "cell_type": "markdown",
   "id": "61f5212a",
   "metadata": {},
   "source": [
    "## remove closed_tickets outlier  "
   ]
  },
  {
   "cell_type": "code",
   "execution_count": null,
   "id": "75d4d642",
   "metadata": {},
   "outputs": [],
   "source": [
    "total_stats_200s = total_stats_200s.drop([93])"
   ]
  },
  {
   "cell_type": "code",
   "execution_count": null,
   "id": "92aad3ad",
   "metadata": {},
   "outputs": [],
   "source": [
    "total_stats_200s[['devs', 'repo_age_days', 'all_tickets', 'open_tickets', 'closed_tickets']].mean()"
   ]
  },
  {
   "cell_type": "markdown",
   "id": "092893c7",
   "metadata": {},
   "source": [
    "Starting number: 250 records.\n",
    "\n",
    "Data excluded:  \n",
    " - 404 repos (may have been made private, or deleted?)  (removes 3 records) \n",
    " - huge outlier of closed_tickets (removes 1 record)   \n",
    " \n",
    "Possibly worth excluding further: \n",
    " - repos with < 50 devs (removes 2 records from the set) \n",
    " - repos which are a fork? (removes 11 records) \n",
    " \n",
    "\n",
    "Key interesting points: \n",
    "\n",
    " - issue-using repos:  \n",
    "   - are older on average  \n",
    "   - are more active (higher commits in last year)  \n",
    "   - have larger numbers of devs in the repo  \n",
    " \n",
    " - solo-dev repos are SUPER COMMON; repos with more than 10 devs are much less common.    \n",
    " \n",
    " - there's a difference in behaviour between repos using issues vs not using issues in YOUNG repos (~1st year; < 500 days) in their commit activity in the last year. Repos not using issues tend to have lower numbers of commits in their first year; there are fewer repos using issues in the first year, but all have fairly high commits in their first year. This isn't explained by forked-ness.  \n",
    " \n",
    " - Repos up to 5 years are the most common. Again, seeing the split between issue use here... Age distribution is fairly even amongst issue-users, but NOT non-issues-users.\n",
    " \n",
    "\n",
    "Worth investigating:  \n",
    " - Zenodo record creation dates vs github repo ages  \n",
    " - actual commits data (not just number of commits in last year)  \n",
    " - binning devs numbers: 1, 2-5, 6+ and plotting out behaviours with   \n",
    " \n",
    " "
   ]
  },
  {
   "cell_type": "code",
   "execution_count": null,
   "id": "27cf969b",
   "metadata": {},
   "outputs": [],
   "source": [
    "repo_name = 'MotionbyLearning/stm' # 61\n",
    "#repo_name = 'nicolasfara/reconfiguration-experiments'\n",
    "\n",
    "gh_token = ghauth.setup_github_auth(config_path='../../githubanalysis/config.cfg')\n",
    "headers = {'Authorization': 'token ' + gh_token}\n",
    "\n",
    "s = requests.Session()\n",
    "retries = Retry(total=10, connect=5, read=3, backoff_factor=1.5, status_forcelist=[202, 502, 503, 504])\n",
    "s.mount('https://', HTTPAdapter(max_retries=retries))"
   ]
  },
  {
   "cell_type": "code",
   "execution_count": null,
   "id": "f3fad246",
   "metadata": {},
   "outputs": [],
   "source": [
    "state='all'\n",
    "issues_url = f\"https://api.github.com/repos/{repo_name}/issues?state={state}&per_page=100&pulls=false\"\n",
    "#print(issues_url)\n",
    "\n",
    "api_response = s.get(url=issues_url, headers=headers)"
   ]
  },
  {
   "cell_type": "code",
   "execution_count": null,
   "id": "d18387c4",
   "metadata": {},
   "outputs": [],
   "source": [
    "#dir(api_response)"
   ]
  },
  {
   "cell_type": "code",
   "execution_count": null,
   "id": "aeeffc5f",
   "metadata": {},
   "outputs": [],
   "source": [
    "print(api_response.links)"
   ]
  },
  {
   "cell_type": "code",
   "execution_count": null,
   "id": "d67b3659",
   "metadata": {},
   "outputs": [],
   "source": [
    "issue_links = api_response.links\n",
    "\n",
    "if 'last' in issue_links:\n",
    "    issue_links_last = issue_links['last']['url'].split(\"&page=\")[1]\n",
    "    pages_issues = int(issue_links_last)\n",
    "\n",
    "    print(pages_issues)"
   ]
  },
  {
   "cell_type": "code",
   "execution_count": null,
   "id": "832b0d0c",
   "metadata": {},
   "outputs": [],
   "source": [
    "#df_js = pd.read_json('https://api.github.com/repositories/693656185/issues?state=all&per_page=100&page=2&pulls=false')"
   ]
  },
  {
   "cell_type": "code",
   "execution_count": null,
   "id": "7f1a5a22",
   "metadata": {},
   "outputs": [],
   "source": [
    "#print(df_js)"
   ]
  },
  {
   "cell_type": "code",
   "execution_count": null,
   "id": "2931810c",
   "metadata": {},
   "outputs": [],
   "source": [
    "# r = range(1,5)\n",
    "# for i in r:\n",
    "#     print(i)"
   ]
  },
  {
   "cell_type": "code",
   "execution_count": null,
   "id": "49151435",
   "metadata": {},
   "outputs": [],
   "source": [
    "pg_range = range(1, (pages_issues+1))\n",
    "all_issues = pd.DataFrame()\n",
    "store_pgs = pd.DataFrame()\n",
    "\n",
    "print(pg_range)\n",
    "\n",
    "\n",
    "for i in pg_range: \n",
    "    print(i)\n",
    "    store_pgs = pd.read_json(path_or_buf=f\"https://api.github.com/repos/{repo_name}/issues?state={state}&per_page=100&page={i}&pulls=false\")\n",
    "    all_issues = pd.concat([all_issues, store_pgs], )\n",
    "\n",
    "print(len(all_issues.index))\n",
    "print(len(store_pgs.index))\n"
   ]
  },
  {
   "cell_type": "code",
   "execution_count": null,
   "id": "8ae68ee6",
   "metadata": {},
   "outputs": [],
   "source": [
    "all_issues"
   ]
  },
  {
   "cell_type": "code",
   "execution_count": null,
   "id": "b8d131a2",
   "metadata": {},
   "outputs": [],
   "source": [
    "print(iss_df)"
   ]
  },
  {
   "cell_type": "code",
   "execution_count": null,
   "id": "d1a5beae",
   "metadata": {},
   "outputs": [],
   "source": [
    "iss_df.dtypes"
   ]
  },
  {
   "cell_type": "code",
   "execution_count": null,
   "id": "a27e7e0f",
   "metadata": {},
   "outputs": [],
   "source": [
    "iss_df.state"
   ]
  },
  {
   "cell_type": "code",
   "execution_count": null,
   "id": "a43303c7",
   "metadata": {},
   "outputs": [],
   "source": []
  },
  {
   "cell_type": "code",
   "execution_count": null,
   "id": "f0d3216a",
   "metadata": {},
   "outputs": [],
   "source": []
  },
  {
   "cell_type": "code",
   "execution_count": null,
   "id": "0f020657",
   "metadata": {},
   "outputs": [],
   "source": []
  },
  {
   "cell_type": "code",
   "execution_count": null,
   "id": "551da081",
   "metadata": {},
   "outputs": [],
   "source": []
  },
  {
   "cell_type": "code",
   "execution_count": null,
   "id": "61e29473",
   "metadata": {},
   "outputs": [],
   "source": []
  },
  {
   "cell_type": "markdown",
   "id": "e7f23df1",
   "metadata": {},
   "source": [
    "### Key stats differences between issues-users and non-issue-users"
   ]
  },
  {
   "cell_type": "code",
   "execution_count": null,
   "id": "d4d41877",
   "metadata": {},
   "outputs": [],
   "source": [
    "total_stats_200s.groupby('has_issues').mean(numeric_only=True)"
   ]
  },
  {
   "cell_type": "markdown",
   "id": "2e31a048",
   "metadata": {},
   "source": [
    "## Distribution of repo ages: bar per year of age  (split by issue-use)"
   ]
  },
  {
   "cell_type": "code",
   "execution_count": null,
   "id": "b65eb268",
   "metadata": {},
   "outputs": [],
   "source": [
    "sns.displot(data=total_stats_200s, x='repo_age_days', binwidth=365, col='has_issues')"
   ]
  },
  {
   "cell_type": "code",
   "execution_count": null,
   "id": "ce01f595",
   "metadata": {},
   "outputs": [],
   "source": [
    "sns.barplot(data=total_stats_200s, x='repo_age_days', y='total_commits_last_year')\n",
    "\n",
    "total_stats_200s"
   ]
  },
  {
   "cell_type": "markdown",
   "id": "88e3d97b",
   "metadata": {},
   "source": [
    "## Number of Devs Per Repo (mostly under 10, averages ~5)"
   ]
  },
  {
   "cell_type": "code",
   "execution_count": null,
   "id": "f043e87e",
   "metadata": {},
   "outputs": [],
   "source": [
    "# Devs per Repo\n",
    "# PLOT ALL DEVS\n",
    "sns.displot(data=total_stats_200s, x='devs')"
   ]
  },
  {
   "cell_type": "code",
   "execution_count": null,
   "id": "89a9d025",
   "metadata": {},
   "outputs": [],
   "source": [
    "# PLOT UNDER 50 DEVS\n",
    "smaller_teams = total_stats_200s[total_stats_200s['devs'] < 50]\n",
    "sns.histplot(data=smaller_teams, x='devs', discrete=True)\n",
    "#len(smaller_teams) # 244\n",
    "#len(total_stats_200s) #246"
   ]
  },
  {
   "cell_type": "code",
   "execution_count": null,
   "id": "18a85342",
   "metadata": {},
   "outputs": [],
   "source": [
    "# PLOT UNDER 20 DEVS\n",
    "smaller_teams = total_stats_200s[total_stats_200s['devs'] <= 20]\n",
    "sns.histplot(data=smaller_teams, x='devs', discrete=True)"
   ]
  },
  {
   "cell_type": "code",
   "execution_count": null,
   "id": "4b5894fb",
   "metadata": {},
   "outputs": [],
   "source": [
    "# PLOT 10 DEVS\n",
    "smaller_teams = total_stats_200s[total_stats_200s['devs'] <= 10]\n",
    "sns.histplot(data=smaller_teams, x='devs', discrete=True)"
   ]
  },
  {
   "cell_type": "markdown",
   "id": "3394d174",
   "metadata": {},
   "source": [
    "### more devs more tickets!"
   ]
  },
  {
   "cell_type": "code",
   "execution_count": null,
   "id": "ef1361eb",
   "metadata": {},
   "outputs": [],
   "source": [
    "sns.scatterplot(data=total_stats_200s, x='devs', y='all_tickets')"
   ]
  },
  {
   "cell_type": "code",
   "execution_count": null,
   "id": "dfe84077",
   "metadata": {},
   "outputs": [],
   "source": [
    "# ZOOM IN ON Devs vs Tickets! \n",
    "# PLOT 50 DEVS\n",
    "smaller_teams = total_stats_200s[total_stats_200s['devs'] <= 50]\n",
    "sns.scatterplot(data=smaller_teams, x='devs', y='all_tickets')"
   ]
  },
  {
   "cell_type": "markdown",
   "id": "3088af66",
   "metadata": {},
   "source": [
    "## Forks don't really make much difference to the data? "
   ]
  },
  {
   "cell_type": "markdown",
   "id": "d44c86ed",
   "metadata": {},
   "source": [
    "# latest commit activity differs..."
   ]
  },
  {
   "cell_type": "code",
   "execution_count": null,
   "id": "f5f1d864",
   "metadata": {},
   "outputs": [],
   "source": [
    "sns.set_theme() \n",
    "sns.set_palette('colorblind')\n",
    "\n",
    "sns.histplot(\n",
    "    data=total_stats_200s, \n",
    "    x='repo_age_days', \n",
    "    y='total_commits_last_year',  \n",
    "    #hue='has_issues', \n",
    "    stat='count',\n",
    "    #binwidth='365',\n",
    "    discrete=True\n",
    ")\n",
    "\n"
   ]
  },
  {
   "cell_type": "code",
   "execution_count": null,
   "id": "9d803a2a",
   "metadata": {},
   "outputs": [],
   "source": []
  },
  {
   "cell_type": "code",
   "execution_count": null,
   "id": "726e000c",
   "metadata": {},
   "outputs": [],
   "source": []
  },
  {
   "cell_type": "code",
   "execution_count": null,
   "id": "59831c12",
   "metadata": {},
   "outputs": [],
   "source": [
    "sns.set_theme() \n",
    "sns.set_palette('colorblind')\n",
    "\n",
    "g = sns.FacetGrid(total_stats_200s, hue='has_issues', col='repo_is_fork', margin_titles=True, height=6, sharey=True, sharex=False)\n",
    "#g.add_legend(legend_data={'False':'blue', 'True': 'yellow'})\n",
    "rp = g.map_dataframe(sns.scatterplot, x='repo_age_days', y='total_commits_last_year', size='devs', alpha=0.5)\n",
    "rp.fig.subplots_adjust(top=0.80) # adjust the Figure in rp\n",
    "#rp.fig.subplot.scale(y='log')\n",
    "rp.fig.suptitle(\"Total Commits in Last Year by Repo Age in Days (size ='N devs')\")"
   ]
  },
  {
   "cell_type": "markdown",
   "id": "9bb985be",
   "metadata": {},
   "source": [
    "### All Repos (including zero commits in last year): commits activity in last year by repo age (UP TO 1000 DAYS)\n",
    "\n"
   ]
  },
  {
   "cell_type": "code",
   "execution_count": null,
   "id": "15223b87",
   "metadata": {},
   "outputs": [],
   "source": [
    "sns.set_theme() \n",
    "sns.set_palette('colorblind')\n",
    "\n",
    "first_1k_days = total_stats_200s[total_stats_200s['repo_age_days'] < 1000]\n",
    "\n",
    "g = sns.FacetGrid(first_1k_days, hue='has_issues', col='repo_is_fork', margin_titles=True, height=6, sharey=True, sharex=False)\n",
    "#g.add_legend(legend_data={'False':'blue', 'True': 'yellow'})\n",
    "rp = g.map_dataframe(sns.scatterplot, x='repo_age_days', y='total_commits_last_year', size='devs', alpha=0.5)\n",
    "rp.fig.subplots_adjust(top=0.80) # adjust the Figure in rp\n",
    "#rp.fig.subplot.scale(y='log')\n",
    "rp.fig.suptitle(\"Total Commits in Last Year by Repo Age in Days (FIRST 1000 DAYS ONLY) (size ='N devs')\")"
   ]
  },
  {
   "cell_type": "markdown",
   "id": "bf0ac8ac",
   "metadata": {},
   "source": [
    "## Active Repos: Commits Activity in Last Year by Repo Age"
   ]
  },
  {
   "cell_type": "code",
   "execution_count": null,
   "id": "38d47dae",
   "metadata": {},
   "outputs": [],
   "source": [
    "active_repos = total_stats_200s[total_stats_200s['total_commits_last_year'] >= 1]\n",
    "len(active_repos) # 77\n",
    "#print(active_repos)\n",
    "\n",
    "#first_1k_days = total_stats_200s[total_stats_200s['repo_age_days'] < 1000]\n",
    "\n",
    "g = sns.FacetGrid(active_repos, hue='has_issues', col='repo_is_fork', margin_titles=True, height=6, sharey=True, sharex=False)\n",
    "#g.add_legend(legend_data={'False':'blue', 'True': 'yellow'})\n",
    "rp = g.map_dataframe(sns.scatterplot, x='repo_age_days', y='total_commits_last_year', size='devs', alpha=0.5)\n",
    "rp.fig.subplots_adjust(top=0.80) # adjust the Figure in rp\n",
    "#rp.fig.subplot.scale(y='log')\n",
    "rp.fig.suptitle(\"Total Commits in Last Year by Repo Age in Days AMONGST ACTIVE REPOS ONLY (>1 commit in last year) (size ='N devs')\")\n"
   ]
  },
  {
   "cell_type": "code",
   "execution_count": null,
   "id": "edbe4539",
   "metadata": {},
   "outputs": [],
   "source": []
  },
  {
   "cell_type": "code",
   "execution_count": null,
   "id": "278e215b",
   "metadata": {},
   "outputs": [],
   "source": []
  },
  {
   "cell_type": "code",
   "execution_count": null,
   "id": "8db1a637",
   "metadata": {},
   "outputs": [],
   "source": []
  },
  {
   "cell_type": "code",
   "execution_count": null,
   "id": "765f9f25",
   "metadata": {},
   "outputs": [],
   "source": []
  },
  {
   "cell_type": "code",
   "execution_count": null,
   "id": "e55309ed",
   "metadata": {},
   "outputs": [],
   "source": [
    "total_stats_200s['issues_enabled'].value_counts() \n"
   ]
  },
  {
   "cell_type": "code",
   "execution_count": null,
   "id": "5a03de55",
   "metadata": {},
   "outputs": [],
   "source": [
    "(total_stats_200s['all_tickets'] == 0).sum() # 171 records with 0 issues"
   ]
  },
  {
   "cell_type": "code",
   "execution_count": null,
   "id": "7bd91399",
   "metadata": {},
   "outputs": [],
   "source": [
    "(total_stats_200s['all_tickets'] > 0).sum() # 75 records with 1+ issues"
   ]
  },
  {
   "cell_type": "code",
   "execution_count": null,
   "id": "80a79e27",
   "metadata": {},
   "outputs": [],
   "source": [
    "total_stats_200s['has_PRs'].value_counts()"
   ]
  },
  {
   "cell_type": "code",
   "execution_count": null,
   "id": "16c3feb0",
   "metadata": {},
   "outputs": [],
   "source": [
    "total_stats_200s['repo_is_fork'].value_counts()"
   ]
  },
  {
   "cell_type": "code",
   "execution_count": null,
   "id": "0ade19d6",
   "metadata": {},
   "outputs": [],
   "source": [
    "total_stats_200s"
   ]
  },
  {
   "cell_type": "code",
   "execution_count": null,
   "id": "d1c744e4",
   "metadata": {},
   "outputs": [],
   "source": [
    "total_stats_200s.describe()"
   ]
  },
  {
   "cell_type": "code",
   "execution_count": null,
   "id": "43fca3dc",
   "metadata": {},
   "outputs": [],
   "source": [
    "# plot setup  \n",
    "(sns.set_theme(), \n",
    " sns.set_palette('colorblind'),\n",
    " #plt.subplots(figsize=(8,8)),\n",
    " sns.relplot(\n",
    "     data=total_stats_200s, x='repo_age_days', y='devs', alpha=0.5, hue='repo_is_fork'\n",
    " ), \n",
    " #plt.xscale('log'),\n",
    " #plt.yscale('log') \n",
    ")"
   ]
  },
  {
   "cell_type": "code",
   "execution_count": null,
   "id": "1f4ebd12",
   "metadata": {},
   "outputs": [],
   "source": [
    "len(total_stats_200s[total_stats_200s['total_commits_last_year'] >= 1].index)\n",
    "# 77 repos with more than 1 commit last year..."
   ]
  },
  {
   "cell_type": "markdown",
   "id": "5da341e7",
   "metadata": {},
   "source": [
    "### Total commits in last year by repo age; split by using issues"
   ]
  },
  {
   "cell_type": "code",
   "execution_count": null,
   "id": "695c989f",
   "metadata": {},
   "outputs": [],
   "source": [
    "sns.set_theme() \n",
    "sns.set_palette('colorblind')\n",
    "\n",
    "g = sns.FacetGrid(total_stats_200s, hue='has_issues', col='has_issues', margin_titles=True, height=6, sharey=True, sharex=False)\n",
    "rp = g.map_dataframe(sns.scatterplot, x='repo_age_days', y='total_commits_last_year', size='devs', alpha=0.5)\n",
    "rp.fig.subplots_adjust(top=0.80) # adjust the Figure in rp\n",
    "#rp.fig.subplot.scale(y='log')\n",
    "rp.fig.suptitle(\"Total Commits in Last Year by Repo Age in Days (size ='N devs')\")"
   ]
  },
  {
   "cell_type": "code",
   "execution_count": null,
   "id": "3134b766",
   "metadata": {},
   "outputs": [],
   "source": [
    "# SAME PLOT BUT WITH 'RUG' TICKS ON AXES\n",
    "sns.set_theme() \n",
    "sns.set_palette('colorblind')\n",
    "\n",
    "g = sns.FacetGrid(total_stats_200s, hue='has_issues', col='has_issues', margin_titles=True, height=6, sharey=True, sharex=False)\n",
    "rp = g.map_dataframe(sns.scatterplot, x='repo_age_days', y='total_commits_last_year', size='devs', alpha=0.5)\n",
    "rp = g.map_dataframe(sns.rugplot, x='repo_age_days', y='total_commits_last_year', height=-.02, clip_on=False)\n",
    "rp.fig.subplots_adjust(top=0.80) # adjust the Figure in rp\n",
    "#rp.fig.subplot.scale(y='log')\n",
    "rp.fig.suptitle(\"Total Commits in Last Year by Repo Age in Days (size ='N devs')\")"
   ]
  },
  {
   "cell_type": "code",
   "execution_count": null,
   "id": "bc65edf9",
   "metadata": {},
   "outputs": [],
   "source": []
  },
  {
   "cell_type": "code",
   "execution_count": null,
   "id": "279933ff",
   "metadata": {},
   "outputs": [],
   "source": []
  },
  {
   "cell_type": "code",
   "execution_count": null,
   "id": "a0b43793",
   "metadata": {},
   "outputs": [],
   "source": [
    "print(total_stats_200s.dtypes)"
   ]
  },
  {
   "cell_type": "code",
   "execution_count": null,
   "id": "a4c7a587",
   "metadata": {},
   "outputs": [],
   "source": [
    "sns.histplot(data=total_stats_200s, x ='closed_tickets', stat='count', discrete=True)"
   ]
  },
  {
   "cell_type": "code",
   "execution_count": null,
   "id": "cfcb4955",
   "metadata": {},
   "outputs": [],
   "source": [
    "sns.histplot(data=total_stats_200s, x ='open_tickets', stat='count', discrete=True)\n"
   ]
  },
  {
   "cell_type": "code",
   "execution_count": null,
   "id": "7e9d387f",
   "metadata": {},
   "outputs": [],
   "source": []
  },
  {
   "cell_type": "code",
   "execution_count": null,
   "id": "0965cfc7",
   "metadata": {},
   "outputs": [],
   "source": [
    "sns.histplot(data=total_stats_200s, x ='all_tickets')"
   ]
  },
  {
   "cell_type": "code",
   "execution_count": null,
   "id": "545d1bfe",
   "metadata": {},
   "outputs": [],
   "source": []
  },
  {
   "cell_type": "code",
   "execution_count": null,
   "id": "870e9831",
   "metadata": {},
   "outputs": [],
   "source": [
    "\n"
   ]
  },
  {
   "cell_type": "code",
   "execution_count": null,
   "id": "c3ec8730",
   "metadata": {},
   "outputs": [],
   "source": []
  },
  {
   "cell_type": "code",
   "execution_count": null,
   "id": "91173bbb",
   "metadata": {},
   "outputs": [],
   "source": [
    "# # plot setup  \n",
    "# (sns.set_theme(), \n",
    "#  sns.set_palette('colorblind'),\n",
    "#  #plt.subplots(figsize=(8,8)),\n",
    "#  sns.relplot(\n",
    "#      data=active_repos, x='total_commits_last_year', y='devs', hue='has_PRs', alpha=0.5\n",
    "#  ), \n",
    "#  #plt.xscale('log'),\n",
    "#  #plt.yscale('log') \n",
    "# )"
   ]
  },
  {
   "cell_type": "code",
   "execution_count": null,
   "id": "21accefc",
   "metadata": {},
   "outputs": [],
   "source": [
    "# # plot setup  \n",
    "# sns.set_theme() \n",
    "# sns.set_palette('colorblind')\n",
    "\n",
    "# g = sns.FacetGrid(active_repos, hue='has_PRs', col='has_PRs', margin_titles=True, height=6, sharey=True, sharex=False)\n",
    "# rp = g.map_dataframe(sns.scatterplot, x='repo_age_days', y='total_commits_last_year', size='devs', alpha=0.5)\n",
    "# rp.fig.subplots_adjust(top=0.80) # adjust the Figure in rp\n",
    "# #rp.fig.subplot.scale(y='log')\n",
    "# rp.fig.suptitle(\"Repos Active within Last Year: Total Commits in Last Year by Repo Age in Days (size ='N devs')\")"
   ]
  },
  {
   "cell_type": "markdown",
   "id": "9714a377",
   "metadata": {},
   "source": [
    "# total commits last year vs dev count in active repos"
   ]
  },
  {
   "cell_type": "code",
   "execution_count": null,
   "id": "edab6961",
   "metadata": {},
   "outputs": [],
   "source": [
    "# plot setup  \n",
    "(sns.set_theme(), \n",
    " sns.set_palette('colorblind'),\n",
    " #plt.subplots(figsize=(8,8)),\n",
    " sns.relplot(\n",
    "     data=total_stats_200s, x='total_commits_last_year', y='devs'\n",
    " ), \n",
    " #plt.xscale('log'),\n",
    " #plt.yscale('log') \n",
    ")"
   ]
  },
  {
   "cell_type": "markdown",
   "id": "b3e138c7",
   "metadata": {},
   "source": [
    "# number of devs in active (commit in last year) repos"
   ]
  },
  {
   "cell_type": "code",
   "execution_count": null,
   "id": "c143f042",
   "metadata": {},
   "outputs": [],
   "source": [
    "bins=[1, 2, 5, 10]\n",
    "\n",
    "\n",
    "# plot setup  \n",
    "(sns.set_theme(), \n",
    " sns.set_palette('colorblind'),\n",
    " #plt.subplots(figsize=(8,8)),\n",
    " sns.displot(\n",
    "     data=total_stats_200s, x='devs', discrete=True\n",
    " ), \n",
    " #plt.xscale('log'),\n",
    " #plt.yscale('log') \n",
    ")"
   ]
  },
  {
   "cell_type": "code",
   "execution_count": null,
   "id": "f1340bab",
   "metadata": {},
   "outputs": [],
   "source": [
    "ax = sns.countplot(data=total_stats, x='initial_HTTP_code')\n",
    "ax.set_title(f\"HTTP Response Codes for GitHub Repositories; N={len(total_stats.index)}\")\n",
    "ax.bar_label(ax.containers[0])"
   ]
  },
  {
   "cell_type": "code",
   "execution_count": null,
   "id": "f42f832a",
   "metadata": {},
   "outputs": [],
   "source": []
  },
  {
   "cell_type": "code",
   "execution_count": null,
   "id": "d08bb868",
   "metadata": {},
   "outputs": [],
   "source": []
  },
  {
   "cell_type": "code",
   "execution_count": null,
   "id": "c38d06c1",
   "metadata": {},
   "outputs": [],
   "source": []
  },
  {
   "cell_type": "code",
   "execution_count": null,
   "id": "d09714cd",
   "metadata": {},
   "outputs": [],
   "source": []
  },
  {
   "cell_type": "code",
   "execution_count": null,
   "id": "6afc0123",
   "metadata": {},
   "outputs": [],
   "source": []
  },
  {
   "cell_type": "markdown",
   "id": "b114e37b",
   "metadata": {},
   "source": [
    "### get stats for 1 repo  "
   ]
  },
  {
   "cell_type": "code",
   "execution_count": null,
   "id": "5e8bb8a9",
   "metadata": {},
   "outputs": [],
   "source": [
    "#config_path = '../../githubanalysis/config.cfg'"
   ]
  },
  {
   "cell_type": "code",
   "execution_count": null,
   "id": "59437dc6",
   "metadata": {},
   "outputs": [],
   "source": [
    "logger = loggit.get_default_logger(console=True, set_level_to='DEBUG', log_name='../../logs/summarise_repo_stats_NOTEBOOK_logs.txt')  \n",
    "repo_summariser = RepoStatsSummariser(logger)"
   ]
  },
  {
   "cell_type": "code",
   "execution_count": null,
   "id": "57360d31",
   "metadata": {},
   "outputs": [],
   "source": [
    "gh_urls_df = pd.read_csv(\"../../data/todo_2024-02-06.csv\", header=0, usecols=['ZenodoID', 'repo_name'], dtype={'ZenodoID':'Int64', 'repo_name':'str'})\n",
    "gh_urls_df.shape"
   ]
  },
  {
   "cell_type": "code",
   "execution_count": null,
   "id": "c13dc823",
   "metadata": {},
   "outputs": [],
   "source": [
    "gh_urls_df_short = gh_urls_df[30:50]\n",
    "print(gh_urls_df_short)"
   ]
  },
  {
   "cell_type": "code",
   "execution_count": null,
   "id": "7bb7358f",
   "metadata": {},
   "outputs": [],
   "source": [
    "rec_collator = []\n",
    "loop_num = 0\n",
    "\n",
    "for repo in gh_urls_df_short.repo_name:\n",
    "    loop_num += 1\n",
    "    print(f\">>> Getting data for repo {loop_num} of {len(gh_urls_df_short.index)}: {repo}\")\n",
    "    repo_stats = repo_summariser.summarise_repo_stats(repo_name=repo, config_path='../../githubanalysis/config.cfg', per_pg=1, verbose=True)\n",
    "    rec_collator.append(repo_stats)\n",
    "    \n",
    "rec_df = pd.DataFrame(rec_collator)\n",
    "print(rec_df)"
   ]
  },
  {
   "cell_type": "code",
   "execution_count": null,
   "id": "b81c4088",
   "metadata": {},
   "outputs": [],
   "source": [
    "logger = loggit.get_default_logger(console=True, set_level_to='DEBUG', log_name='../../logs/summarise_repo_stats_NOTEBOOK_B_logs.txt')  \n",
    "repo_summariser = RepoStatsSummariser(logger)\n",
    "\n",
    "gh_urls_df_short = gh_urls_df[60:80]\n",
    "print(gh_urls_df_short)\n",
    "\n",
    "rec_collator = []\n",
    "loop_num = 0\n",
    "\n",
    "for repo in gh_urls_df_short.repo_name:\n",
    "    loop_num += 1\n",
    "    print(f\">>> Getting data for repo {loop_num} of {len(gh_urls_df_short.index)}: {repo} <<<\")\n",
    "    repo_stats = repo_summariser.summarise_repo_stats(repo_name=repo, config_path='../../githubanalysis/config.cfg', per_pg=1, verbose=True)\n",
    "    rec_collator.append(repo_stats)\n",
    "    \n",
    "rec_df = pd.DataFrame(rec_collator)\n",
    "print(rec_df)"
   ]
  },
  {
   "cell_type": "code",
   "execution_count": null,
   "id": "e92e0404",
   "metadata": {},
   "outputs": [],
   "source": [
    "logger = loggit.get_default_logger(console=True, set_level_to='DEBUG', log_name='../../logs/summarise_repo_stats_NOTEBOOK_B_logs.txt')  \n",
    "repo_summariser = RepoStatsSummariser(logger)\n",
    "\n",
    "gh_urls_df_ton = gh_urls_df[0:100]\n",
    "#print(gh_urls_df_ton)\n",
    "\n",
    "rec_collator = []\n",
    "loop_num = 0\n",
    "\n",
    "for repo in gh_urls_df_ton.repo_name:\n",
    "    loop_num += 1\n",
    "    print(f\">>> Getting data for repo {loop_num} of {len(gh_urls_df_short.index)}: {repo} <<<\")\n",
    "    logger.info(f\">>> Getting data for repo {loop_num} of {len(gh_urls_df_short.index)}: {repo} <<<\")\n",
    "    repo_stats = repo_summariser.summarise_repo_stats(repo_name=repo, config_path='../../githubanalysis/config.cfg', per_pg=1, verbose=True)\n",
    "    rec_collator.append(repo_stats)\n",
    "    \n",
    "rec_df = pd.DataFrame(rec_collator)\n",
    "print(rec_df)"
   ]
  },
  {
   "cell_type": "code",
   "execution_count": null,
   "id": "5bce9e6c",
   "metadata": {},
   "outputs": [],
   "source": []
  },
  {
   "cell_type": "code",
   "execution_count": null,
   "id": "9b69bd86",
   "metadata": {},
   "outputs": [],
   "source": []
  },
  {
   "cell_type": "code",
   "execution_count": null,
   "id": "bfa9fc89",
   "metadata": {},
   "outputs": [],
   "source": []
  },
  {
   "cell_type": "code",
   "execution_count": null,
   "id": "21bcd84d",
   "metadata": {},
   "outputs": [],
   "source": []
  },
  {
   "cell_type": "code",
   "execution_count": null,
   "id": "aba49808",
   "metadata": {},
   "outputs": [],
   "source": []
  },
  {
   "cell_type": "code",
   "execution_count": null,
   "id": "728158aa",
   "metadata": {},
   "outputs": [],
   "source": []
  },
  {
   "cell_type": "code",
   "execution_count": null,
   "id": "7e88f8f2",
   "metadata": {},
   "outputs": [],
   "source": []
  },
  {
   "cell_type": "code",
   "execution_count": null,
   "id": "558974ac",
   "metadata": {},
   "outputs": [],
   "source": []
  },
  {
   "cell_type": "code",
   "execution_count": null,
   "id": "693c7c54",
   "metadata": {},
   "outputs": [],
   "source": []
  },
  {
   "cell_type": "code",
   "execution_count": null,
   "id": "4117bbde",
   "metadata": {},
   "outputs": [],
   "source": []
  },
  {
   "cell_type": "code",
   "execution_count": null,
   "id": "5a15c011",
   "metadata": {},
   "outputs": [],
   "source": []
  },
  {
   "cell_type": "code",
   "execution_count": null,
   "id": "5c119272",
   "metadata": {},
   "outputs": [],
   "source": []
  },
  {
   "cell_type": "code",
   "execution_count": null,
   "id": "72758479",
   "metadata": {},
   "outputs": [],
   "source": []
  },
  {
   "cell_type": "code",
   "execution_count": null,
   "id": "c8e8627d",
   "metadata": {},
   "outputs": [],
   "source": []
  },
  {
   "cell_type": "code",
   "execution_count": null,
   "id": "1eeaefe5",
   "metadata": {},
   "outputs": [],
   "source": []
  },
  {
   "cell_type": "code",
   "execution_count": null,
   "id": "e8dc7e27",
   "metadata": {},
   "outputs": [],
   "source": []
  },
  {
   "cell_type": "code",
   "execution_count": null,
   "id": "905ba572",
   "metadata": {},
   "outputs": [],
   "source": []
  },
  {
   "cell_type": "code",
   "execution_count": null,
   "id": "722656e0",
   "metadata": {},
   "outputs": [],
   "source": []
  },
  {
   "cell_type": "code",
   "execution_count": null,
   "id": "9762c5cb",
   "metadata": {},
   "outputs": [],
   "source": []
  },
  {
   "cell_type": "code",
   "execution_count": null,
   "id": "10228687",
   "metadata": {},
   "outputs": [],
   "source": []
  },
  {
   "cell_type": "code",
   "execution_count": null,
   "id": "36969493",
   "metadata": {},
   "outputs": [],
   "source": []
  },
  {
   "cell_type": "code",
   "execution_count": null,
   "id": "92d00302",
   "metadata": {},
   "outputs": [],
   "source": []
  },
  {
   "cell_type": "code",
   "execution_count": null,
   "id": "bf0a4417",
   "metadata": {},
   "outputs": [],
   "source": []
  }
 ],
 "metadata": {
  "kernelspec": {
   "display_name": "Python 3 (ipykernel)",
   "language": "python",
   "name": "python3"
  },
  "language_info": {
   "codemirror_mode": {
    "name": "ipython",
    "version": 3
   },
   "file_extension": ".py",
   "mimetype": "text/x-python",
   "name": "python",
   "nbconvert_exporter": "python",
   "pygments_lexer": "ipython3",
   "version": "3.10.9"
  }
 },
 "nbformat": 4,
 "nbformat_minor": 5
}
