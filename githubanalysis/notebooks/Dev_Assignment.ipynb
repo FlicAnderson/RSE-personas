{
 "cells": [
  {
   "cell_type": "markdown",
   "id": "6efcb7c6",
   "metadata": {},
   "source": [
    "### imports "
   ]
  },
  {
   "cell_type": "code",
   "execution_count": 1,
   "id": "501b8895",
   "metadata": {},
   "outputs": [],
   "source": [
    "import os\n",
    "from os import path\n",
    "import configparser\n",
    "from github import Github\n",
    "import pandas as pd\n",
    "import numpy as np\n",
    "import matplotlib.pyplot as plt\n",
    "import seaborn as sns\n",
    "import datetime\n",
    "from datetime import datetime\n",
    "from datetime import timezone\n",
    "from ast import literal_eval\n",
    "import requests\n",
    "from requests.adapters import HTTPAdapter, Retry"
   ]
  },
  {
   "cell_type": "code",
   "execution_count": 2,
   "id": "732c7d9c",
   "metadata": {},
   "outputs": [],
   "source": [
    "import githubanalysis.processing.repo_name_clean as name_clean\n",
    "import githubanalysis.processing.get_repo_connection as ghconnect\n",
    "import githubanalysis.processing.setup_github_auth as ghauth\n",
    "import githubanalysis.processing.get_all_pages_issues as getallissues\n",
    "import githubanalysis.processing.get_issue_assignees as get_assignee\n",
    "import githubanalysis.analysis.calc_days_since_repo_creation as dayssince\n",
    "import githubanalysis.processing.summarise_repo_stats\n",
    "from githubanalysis.processing.summarise_repo_stats import RepoStatsSummariser\n",
    "import utilities.get_default_logger as loggit\n",
    "import utilities.chunker as chunker"
   ]
  },
  {
   "cell_type": "markdown",
   "id": "4302d562",
   "metadata": {},
   "source": [
    "### access token "
   ]
  },
  {
   "cell_type": "code",
   "execution_count": 3,
   "id": "c81e87b4",
   "metadata": {},
   "outputs": [],
   "source": [
    "# set up github access token with github package: \n",
    "\n",
    "config = configparser.ConfigParser()\n",
    "config.read('../config.cfg')\n",
    "config.sections()\n",
    "\n",
    "access_token = config['ACCESS']['token']\n",
    "g = Github(access_token) \n",
    "\n",
    "gh_token = ghauth.setup_github_auth(config_path='../../githubanalysis/config.cfg')\n",
    "headers = {f\"Authorization: Bearer {gh_token}\"}"
   ]
  },
  {
   "cell_type": "code",
   "execution_count": 94,
   "id": "56845876",
   "metadata": {},
   "outputs": [
    {
     "name": "stdout",
     "output_type": "stream",
     "text": [
      "(455, 33)\n",
      "455\n",
      "    Unnamed: 0                                                url  \\\n",
      "60          60  https://api.github.com/repos/JeschkeLab/DeerLa...   \n",
      "\n",
      "                                     repository_url  \\\n",
      "60  https://api.github.com/repos/JeschkeLab/DeerLab   \n",
      "\n",
      "                                           labels_url  \\\n",
      "60  https://api.github.com/repos/JeschkeLab/DeerLa...   \n",
      "\n",
      "                                         comments_url  \\\n",
      "60  https://api.github.com/repos/JeschkeLab/DeerLa...   \n",
      "\n",
      "                                           events_url  \\\n",
      "60  https://api.github.com/repos/JeschkeLab/DeerLa...   \n",
      "\n",
      "                                            html_url          id  \\\n",
      "60  https://github.com/JeschkeLab/DeerLab/issues/403  1464493064   \n",
      "\n",
      "               node_id  number  ... active_lock_reason draft pull_request  \\\n",
      "60  I_kwDOEIKXK85XSmQI     403  ...                NaN   NaN          NaN   \n",
      "\n",
      "                                                 body  \\\n",
      "60  During the call to `import deerlab as dl`, Pyt...   \n",
      "\n",
      "                                            reactions  \\\n",
      "60  {'url': 'https://api.github.com/repos/JeschkeL...   \n",
      "\n",
      "                                         timeline_url  \\\n",
      "60  https://api.github.com/repos/JeschkeLab/DeerLa...   \n",
      "\n",
      "   performed_via_github_app state_reason            assigned_devs  is_PR  \n",
      "60                      NaN    completed  ['HKaras', 'luisfabib']  False  \n",
      "\n",
      "[1 rows x 33 columns]\n"
     ]
    }
   ],
   "source": [
    "repo_name = 'JeschkeLab/DeerLab'\n",
    "issues_data = '../../data/all-issues_JeschkeLab-DeerLab_2024-02-22.csv'\n",
    "\n",
    "issues_df = pd.read_csv(issues_data, header=0) \n",
    "\n",
    "print(issues_df.shape)\n",
    "print(len(issues_df.index))\n",
    "print(issues_df[issues_df.index==60])"
   ]
  },
  {
   "cell_type": "code",
   "execution_count": 95,
   "id": "f4ae3e75",
   "metadata": {},
   "outputs": [
    {
     "name": "stdout",
     "output_type": "stream",
     "text": [
      "(456, 33)\n",
      "456\n",
      "    Unnamed: 0                                                url  \\\n",
      "60          60  https://api.github.com/repos/JeschkeLab/DeerLa...   \n",
      "60          60  https://api.github.com/repos/JeschkeLab/DeerLa...   \n",
      "\n",
      "                                     repository_url  \\\n",
      "60  https://api.github.com/repos/JeschkeLab/DeerLab   \n",
      "60  https://api.github.com/repos/JeschkeLab/DeerLab   \n",
      "\n",
      "                                           labels_url  \\\n",
      "60  https://api.github.com/repos/JeschkeLab/DeerLa...   \n",
      "60  https://api.github.com/repos/JeschkeLab/DeerLa...   \n",
      "\n",
      "                                         comments_url  \\\n",
      "60  https://api.github.com/repos/JeschkeLab/DeerLa...   \n",
      "60  https://api.github.com/repos/JeschkeLab/DeerLa...   \n",
      "\n",
      "                                           events_url  \\\n",
      "60  https://api.github.com/repos/JeschkeLab/DeerLa...   \n",
      "60  https://api.github.com/repos/JeschkeLab/DeerLa...   \n",
      "\n",
      "                                            html_url          id  \\\n",
      "60  https://github.com/JeschkeLab/DeerLab/issues/403  1464493064   \n",
      "60  https://github.com/JeschkeLab/DeerLab/issues/403  1464493064   \n",
      "\n",
      "               node_id  number  ... active_lock_reason draft pull_request  \\\n",
      "60  I_kwDOEIKXK85XSmQI     403  ...                NaN   NaN          NaN   \n",
      "60  I_kwDOEIKXK85XSmQI     403  ...                NaN   NaN          NaN   \n",
      "\n",
      "                                                 body  \\\n",
      "60  During the call to `import deerlab as dl`, Pyt...   \n",
      "60  During the call to `import deerlab as dl`, Pyt...   \n",
      "\n",
      "                                            reactions  \\\n",
      "60  {'url': 'https://api.github.com/repos/JeschkeL...   \n",
      "60  {'url': 'https://api.github.com/repos/JeschkeL...   \n",
      "\n",
      "                                         timeline_url  \\\n",
      "60  https://api.github.com/repos/JeschkeLab/DeerLa...   \n",
      "60  https://api.github.com/repos/JeschkeLab/DeerLa...   \n",
      "\n",
      "   performed_via_github_app state_reason  assigned_devs  is_PR  \n",
      "60                      NaN    completed         HKaras  False  \n",
      "60                      NaN    completed      luisfabib  False  \n",
      "\n",
      "[2 rows x 33 columns]\n"
     ]
    }
   ],
   "source": [
    "# reshape dataset to make taller on 'assigned_devs' column (ie 1x row:[dev1, dev2]; -> 2x rows: dev1; dev2\n",
    "\n",
    "from ast import literal_eval\n",
    "\n",
    "exploded_devs = pd.DataFrame()\n",
    "exploded_devs = issues_df\n",
    "\n",
    "exploded_devs['assigned_devs'] = issues_df['assigned_devs'].apply(literal_eval)\n",
    "exploded_devs = exploded_devs.explode(column='assigned_devs')\n",
    "exploded_devs['assigned_devs'] = exploded_devs['assigned_devs'].fillna('unassigned')  \n",
    "\n",
    "print(exploded_devs.shape)\n",
    "print(len(exploded_devs.index))\n",
    "print(exploded_devs[exploded_devs.index==60])"
   ]
  },
  {
   "cell_type": "code",
   "execution_count": 96,
   "id": "f2032d82",
   "metadata": {},
   "outputs": [
    {
     "data": {
      "text/plain": [
       "unassigned    303\n",
       "luisfabib     115\n",
       "HKaras         22\n",
       "stestoll       16\n",
       "Name: assigned_devs, dtype: int64"
      ]
     },
     "execution_count": 96,
     "metadata": {},
     "output_type": "execute_result"
    }
   ],
   "source": [
    "# this works now due to the literal_eval apply via SO: https://stackoverflow.com/a/63589387 \n",
    "exploded_devs['assigned_devs'].value_counts(dropna=False)"
   ]
  },
  {
   "cell_type": "code",
   "execution_count": 97,
   "id": "bdd620cb",
   "metadata": {},
   "outputs": [
    {
     "data": {
      "text/html": [
       "<div>\n",
       "<style scoped>\n",
       "    .dataframe tbody tr th:only-of-type {\n",
       "        vertical-align: middle;\n",
       "    }\n",
       "\n",
       "    .dataframe tbody tr th {\n",
       "        vertical-align: top;\n",
       "    }\n",
       "\n",
       "    .dataframe thead th {\n",
       "        text-align: right;\n",
       "    }\n",
       "</style>\n",
       "<table border=\"1\" class=\"dataframe\">\n",
       "  <thead>\n",
       "    <tr style=\"text-align: right;\">\n",
       "      <th></th>\n",
       "      <th>Unnamed: 0</th>\n",
       "      <th>url</th>\n",
       "      <th>repository_url</th>\n",
       "      <th>labels_url</th>\n",
       "      <th>comments_url</th>\n",
       "      <th>events_url</th>\n",
       "      <th>html_url</th>\n",
       "      <th>id</th>\n",
       "      <th>node_id</th>\n",
       "      <th>number</th>\n",
       "      <th>...</th>\n",
       "      <th>author_association</th>\n",
       "      <th>active_lock_reason</th>\n",
       "      <th>draft</th>\n",
       "      <th>pull_request</th>\n",
       "      <th>body</th>\n",
       "      <th>reactions</th>\n",
       "      <th>timeline_url</th>\n",
       "      <th>performed_via_github_app</th>\n",
       "      <th>state_reason</th>\n",
       "      <th>is_PR</th>\n",
       "    </tr>\n",
       "    <tr>\n",
       "      <th>assigned_devs</th>\n",
       "      <th></th>\n",
       "      <th></th>\n",
       "      <th></th>\n",
       "      <th></th>\n",
       "      <th></th>\n",
       "      <th></th>\n",
       "      <th></th>\n",
       "      <th></th>\n",
       "      <th></th>\n",
       "      <th></th>\n",
       "      <th></th>\n",
       "      <th></th>\n",
       "      <th></th>\n",
       "      <th></th>\n",
       "      <th></th>\n",
       "      <th></th>\n",
       "      <th></th>\n",
       "      <th></th>\n",
       "      <th></th>\n",
       "      <th></th>\n",
       "      <th></th>\n",
       "    </tr>\n",
       "  </thead>\n",
       "  <tbody>\n",
       "    <tr>\n",
       "      <th>HKaras</th>\n",
       "      <td>22</td>\n",
       "      <td>22</td>\n",
       "      <td>22</td>\n",
       "      <td>22</td>\n",
       "      <td>22</td>\n",
       "      <td>22</td>\n",
       "      <td>22</td>\n",
       "      <td>22</td>\n",
       "      <td>22</td>\n",
       "      <td>22</td>\n",
       "      <td>...</td>\n",
       "      <td>22</td>\n",
       "      <td>0</td>\n",
       "      <td>12</td>\n",
       "      <td>12</td>\n",
       "      <td>19</td>\n",
       "      <td>22</td>\n",
       "      <td>22</td>\n",
       "      <td>0</td>\n",
       "      <td>9</td>\n",
       "      <td>22</td>\n",
       "    </tr>\n",
       "    <tr>\n",
       "      <th>luisfabib</th>\n",
       "      <td>115</td>\n",
       "      <td>115</td>\n",
       "      <td>115</td>\n",
       "      <td>115</td>\n",
       "      <td>115</td>\n",
       "      <td>115</td>\n",
       "      <td>115</td>\n",
       "      <td>115</td>\n",
       "      <td>115</td>\n",
       "      <td>115</td>\n",
       "      <td>...</td>\n",
       "      <td>115</td>\n",
       "      <td>0</td>\n",
       "      <td>76</td>\n",
       "      <td>76</td>\n",
       "      <td>106</td>\n",
       "      <td>101</td>\n",
       "      <td>110</td>\n",
       "      <td>5</td>\n",
       "      <td>44</td>\n",
       "      <td>115</td>\n",
       "    </tr>\n",
       "    <tr>\n",
       "      <th>stestoll</th>\n",
       "      <td>16</td>\n",
       "      <td>16</td>\n",
       "      <td>16</td>\n",
       "      <td>16</td>\n",
       "      <td>16</td>\n",
       "      <td>16</td>\n",
       "      <td>16</td>\n",
       "      <td>16</td>\n",
       "      <td>16</td>\n",
       "      <td>16</td>\n",
       "      <td>...</td>\n",
       "      <td>16</td>\n",
       "      <td>0</td>\n",
       "      <td>14</td>\n",
       "      <td>14</td>\n",
       "      <td>12</td>\n",
       "      <td>14</td>\n",
       "      <td>14</td>\n",
       "      <td>2</td>\n",
       "      <td>4</td>\n",
       "      <td>16</td>\n",
       "    </tr>\n",
       "    <tr>\n",
       "      <th>unassigned</th>\n",
       "      <td>303</td>\n",
       "      <td>303</td>\n",
       "      <td>303</td>\n",
       "      <td>303</td>\n",
       "      <td>303</td>\n",
       "      <td>303</td>\n",
       "      <td>303</td>\n",
       "      <td>303</td>\n",
       "      <td>303</td>\n",
       "      <td>303</td>\n",
       "      <td>...</td>\n",
       "      <td>303</td>\n",
       "      <td>0</td>\n",
       "      <td>198</td>\n",
       "      <td>214</td>\n",
       "      <td>241</td>\n",
       "      <td>219</td>\n",
       "      <td>250</td>\n",
       "      <td>53</td>\n",
       "      <td>138</td>\n",
       "      <td>303</td>\n",
       "    </tr>\n",
       "  </tbody>\n",
       "</table>\n",
       "<p>4 rows × 32 columns</p>\n",
       "</div>"
      ],
      "text/plain": [
       "               Unnamed: 0  url  repository_url  labels_url  comments_url  \\\n",
       "assigned_devs                                                              \n",
       "HKaras                 22   22              22          22            22   \n",
       "luisfabib             115  115             115         115           115   \n",
       "stestoll               16   16              16          16            16   \n",
       "unassigned            303  303             303         303           303   \n",
       "\n",
       "               events_url  html_url   id  node_id  number  ...  \\\n",
       "assigned_devs                                              ...   \n",
       "HKaras                 22        22   22       22      22  ...   \n",
       "luisfabib             115       115  115      115     115  ...   \n",
       "stestoll               16        16   16       16      16  ...   \n",
       "unassigned            303       303  303      303     303  ...   \n",
       "\n",
       "               author_association  active_lock_reason  draft  pull_request  \\\n",
       "assigned_devs                                                                \n",
       "HKaras                         22                   0     12            12   \n",
       "luisfabib                     115                   0     76            76   \n",
       "stestoll                       16                   0     14            14   \n",
       "unassigned                    303                   0    198           214   \n",
       "\n",
       "               body  reactions  timeline_url  performed_via_github_app  \\\n",
       "assigned_devs                                                            \n",
       "HKaras           19         22            22                         0   \n",
       "luisfabib       106        101           110                         5   \n",
       "stestoll         12         14            14                         2   \n",
       "unassigned      241        219           250                        53   \n",
       "\n",
       "               state_reason  is_PR  \n",
       "assigned_devs                       \n",
       "HKaras                    9     22  \n",
       "luisfabib                44    115  \n",
       "stestoll                  4     16  \n",
       "unassigned              138    303  \n",
       "\n",
       "[4 rows x 32 columns]"
      ]
     },
     "execution_count": 97,
     "metadata": {},
     "output_type": "execute_result"
    }
   ],
   "source": [
    "# corroboration of those assignments\n",
    "exploded_devs.groupby('assigned_devs').count()"
   ]
  },
  {
   "cell_type": "code",
   "execution_count": 106,
   "id": "864b900a",
   "metadata": {},
   "outputs": [
    {
     "name": "stdout",
     "output_type": "stream",
     "text": [
      "Dev: HKaras\n",
      "  Total assignments: 22\n",
      "  PRs: 12\n",
      "  Issues: 10\n",
      "Dev: luisfabib\n",
      "  Total assignments: 115\n",
      "  PRs: 67\n",
      "  Issues: 48\n",
      "Dev: stestoll\n",
      "  Total assignments: 16\n",
      "  PRs: 14\n",
      "  Issues: 2\n",
      "Dev: unassigned\n",
      "  Total assignments: 303\n",
      "  PRs: 183\n",
      "  Issues: 120\n"
     ]
    }
   ],
   "source": [
    "grouped = exploded_devs.groupby('assigned_devs')\n",
    "\n",
    "for name, group in grouped:  # via https://pandas.pydata.org/pandas-docs/stable/user_guide/groupby.html#iterating-through-groups\n",
    "    print(f\"Dev: {name}\")\n",
    "    total_recs = group['id'].count()\n",
    "    total_PRs = group['is_PR'].sum()\n",
    "    print(f\"  Total assignments: {total_recs}\") # using ID since it's guaranteed to be filled \n",
    "    print(f\"  PRs: {total_PRs}\")\n",
    "    print(f\"  Issues: {total_recs - total_PRs}\")"
   ]
  },
  {
   "cell_type": "code",
   "execution_count": 108,
   "id": "c3541c35",
   "metadata": {},
   "outputs": [
    {
     "name": "stdout",
     "output_type": "stream",
     "text": [
      "{'dev_name': 'unassigned', 'total': 303, 'PRs': 183, 'issues': 120}\n"
     ]
    }
   ],
   "source": [
    "dev_dict = {}\n",
    "\n",
    "dev_dict.update({'dev_name': name})\n",
    "dev_dict.update({'total': total_recs})\n",
    "dev_dict.update({'PRs': total_PRs})\n",
    "dev_dict.update({'issues': total_recs - total_PRs})\n",
    "\n",
    "print(dev_dict)"
   ]
  },
  {
   "cell_type": "code",
   "execution_count": 116,
   "id": "374ef960",
   "metadata": {},
   "outputs": [
    {
     "name": "stdout",
     "output_type": "stream",
     "text": [
      "{'dev_name': 'HKaras', 'total': 22, 'PRs': 12, 'issues': 10}\n",
      "{'dev_name': 'luisfabib', 'total': 115, 'PRs': 67, 'issues': 48}\n",
      "{'dev_name': 'stestoll', 'total': 16, 'PRs': 14, 'issues': 2}\n",
      "{'dev_name': 'unassigned', 'total': 303, 'PRs': 183, 'issues': 120}\n",
      "[{'dev_name': 'HKaras', 'total': 22, 'PRs': 12, 'issues': 10}, {'dev_name': 'luisfabib', 'total': 115, 'PRs': 67, 'issues': 48}, {'dev_name': 'stestoll', 'total': 16, 'PRs': 14, 'issues': 2}, {'dev_name': 'unassigned', 'total': 303, 'PRs': 183, 'issues': 120}]\n",
      "(4, 4)\n",
      "     dev_name  total  PRs  issues\n",
      "0      HKaras     22   12      10\n",
      "1   luisfabib    115   67      48\n",
      "2    stestoll     16   14       2\n",
      "3  unassigned    303  183     120\n"
     ]
    }
   ],
   "source": [
    "all_devs = []\n",
    "dev_dict = {}\n",
    "\n",
    "for name, group in grouped:\n",
    "    total_recs = group['id'].count()\n",
    "    total_PRs = group['is_PR'].sum()\n",
    "    dev_dict.update({'dev_name': name})\n",
    "    dev_dict.update({'total': total_recs})\n",
    "    dev_dict.update({'PRs': total_PRs})\n",
    "    dev_dict.update({'issues': total_recs - total_PRs})\n",
    "    \n",
    "    print(dev_dict)\n",
    "    all_devs.append(dev_dict)\n",
    "    dev_dict = {}\n",
    "    \n",
    "print(all_devs)\n",
    "\n",
    "all_devs_df = pd.DataFrame.from_dict(all_devs)\n",
    "print(all_devs_df.shape)\n",
    "print(all_devs_df)"
   ]
  },
  {
   "cell_type": "code",
   "execution_count": 118,
   "id": "545f7ef6",
   "metadata": {},
   "outputs": [
    {
     "name": "stdout",
     "output_type": "stream",
     "text": [
      "     dev_name  total  PRs  issues      assignment\n",
      "0      HKaras     22   12      10  issues_and_PRs\n",
      "1   luisfabib    115   67      48  issues_and_PRs\n",
      "2    stestoll     16   14       2  issues_and_PRs\n",
      "3  unassigned    303  183     120  issues_and_PRs\n"
     ]
    }
   ],
   "source": [
    "# assign category based on thresholds of >1 of both, either or none. \n",
    "conditions = [\n",
    "    (all_devs_df['PRs'] > 1) & (all_devs_df['issues'] > 1),\n",
    "    (all_devs_df['PRs'] == 0) & (all_devs_df['issues'] > 1),\n",
    "    (all_devs_df['PRs'] > 1) & (all_devs_df['issues'] == 0),\n",
    "    (all_devs_df['PRs'] == 0) & (all_devs_df['issues'] == 0)\n",
    "]\n",
    "choices = ['issues_and_PRs','issues_only', 'PRs_only', 'neither']\n",
    "all_devs_df['assignment'] = np.select(conditions, choices, default='error')\n",
    "print(all_devs_df)\n",
    "\n",
    "# method via https://stackoverflow.com/a/19913845 "
   ]
  },
  {
   "cell_type": "code",
   "execution_count": null,
   "id": "5df181dc",
   "metadata": {},
   "outputs": [],
   "source": []
  },
  {
   "cell_type": "code",
   "execution_count": null,
   "id": "0e608523",
   "metadata": {},
   "outputs": [],
   "source": []
  },
  {
   "cell_type": "code",
   "execution_count": null,
   "id": "64b3eba7",
   "metadata": {},
   "outputs": [],
   "source": []
  },
  {
   "cell_type": "code",
   "execution_count": null,
   "id": "a8b63298",
   "metadata": {},
   "outputs": [],
   "source": []
  },
  {
   "cell_type": "code",
   "execution_count": null,
   "id": "e429762d",
   "metadata": {},
   "outputs": [],
   "source": []
  },
  {
   "cell_type": "code",
   "execution_count": null,
   "id": "a1ca41e3",
   "metadata": {},
   "outputs": [],
   "source": []
  },
  {
   "cell_type": "code",
   "execution_count": 42,
   "id": "2f291b89",
   "metadata": {},
   "outputs": [
    {
     "data": {
      "text/plain": [
       "[]                         303\n",
       "['luisfabib']              114\n",
       "['HKaras']                  21\n",
       "['stestoll']                16\n",
       "['HKaras', 'luisfabib']      1\n",
       "Name: assigned_devs, dtype: int64"
      ]
     },
     "execution_count": 42,
     "metadata": {},
     "output_type": "execute_result"
    }
   ],
   "source": [
    "this['assigned_devs'].value_counts(dropna=False)"
   ]
  },
  {
   "cell_type": "code",
   "execution_count": 19,
   "id": "ac0227ce",
   "metadata": {},
   "outputs": [
    {
     "data": {
      "text/plain": [
       "assigned_devs\n",
       "['HKaras', 'luisfabib']      0\n",
       "['HKaras']                  12\n",
       "['luisfabib']               67\n",
       "['stestoll']                14\n",
       "[]                         183\n",
       "Name: is_PR, dtype: int64"
      ]
     },
     "execution_count": 19,
     "metadata": {},
     "output_type": "execute_result"
    }
   ],
   "source": [
    "# number of PRs assigned to each dev\n",
    "exploded_devs.groupby('assigned_devs')['is_PR'].sum()"
   ]
  },
  {
   "cell_type": "code",
   "execution_count": 28,
   "id": "66d731a1",
   "metadata": {},
   "outputs": [
    {
     "data": {
      "text/html": [
       "<div>\n",
       "<style scoped>\n",
       "    .dataframe tbody tr th:only-of-type {\n",
       "        vertical-align: middle;\n",
       "    }\n",
       "\n",
       "    .dataframe tbody tr th {\n",
       "        vertical-align: top;\n",
       "    }\n",
       "\n",
       "    .dataframe thead th {\n",
       "        text-align: right;\n",
       "    }\n",
       "</style>\n",
       "<table border=\"1\" class=\"dataframe\">\n",
       "  <thead>\n",
       "    <tr style=\"text-align: right;\">\n",
       "      <th></th>\n",
       "      <th>Unnamed: 0</th>\n",
       "      <th>url</th>\n",
       "      <th>repository_url</th>\n",
       "      <th>labels_url</th>\n",
       "      <th>comments_url</th>\n",
       "      <th>events_url</th>\n",
       "      <th>html_url</th>\n",
       "      <th>id</th>\n",
       "      <th>node_id</th>\n",
       "      <th>number</th>\n",
       "      <th>...</th>\n",
       "      <th>author_association</th>\n",
       "      <th>active_lock_reason</th>\n",
       "      <th>draft</th>\n",
       "      <th>pull_request</th>\n",
       "      <th>body</th>\n",
       "      <th>reactions</th>\n",
       "      <th>timeline_url</th>\n",
       "      <th>performed_via_github_app</th>\n",
       "      <th>state_reason</th>\n",
       "      <th>is_PR</th>\n",
       "    </tr>\n",
       "    <tr>\n",
       "      <th>assigned_devs</th>\n",
       "      <th></th>\n",
       "      <th></th>\n",
       "      <th></th>\n",
       "      <th></th>\n",
       "      <th></th>\n",
       "      <th></th>\n",
       "      <th></th>\n",
       "      <th></th>\n",
       "      <th></th>\n",
       "      <th></th>\n",
       "      <th></th>\n",
       "      <th></th>\n",
       "      <th></th>\n",
       "      <th></th>\n",
       "      <th></th>\n",
       "      <th></th>\n",
       "      <th></th>\n",
       "      <th></th>\n",
       "      <th></th>\n",
       "      <th></th>\n",
       "      <th></th>\n",
       "    </tr>\n",
       "  </thead>\n",
       "  <tbody>\n",
       "    <tr>\n",
       "      <th>['HKaras', 'luisfabib']</th>\n",
       "      <td>1</td>\n",
       "      <td>1</td>\n",
       "      <td>1</td>\n",
       "      <td>1</td>\n",
       "      <td>1</td>\n",
       "      <td>1</td>\n",
       "      <td>1</td>\n",
       "      <td>1</td>\n",
       "      <td>1</td>\n",
       "      <td>1</td>\n",
       "      <td>...</td>\n",
       "      <td>1</td>\n",
       "      <td>0</td>\n",
       "      <td>0</td>\n",
       "      <td>0</td>\n",
       "      <td>1</td>\n",
       "      <td>1</td>\n",
       "      <td>1</td>\n",
       "      <td>0</td>\n",
       "      <td>1</td>\n",
       "      <td>1</td>\n",
       "    </tr>\n",
       "    <tr>\n",
       "      <th>['HKaras']</th>\n",
       "      <td>21</td>\n",
       "      <td>21</td>\n",
       "      <td>21</td>\n",
       "      <td>21</td>\n",
       "      <td>21</td>\n",
       "      <td>21</td>\n",
       "      <td>21</td>\n",
       "      <td>21</td>\n",
       "      <td>21</td>\n",
       "      <td>21</td>\n",
       "      <td>...</td>\n",
       "      <td>21</td>\n",
       "      <td>0</td>\n",
       "      <td>12</td>\n",
       "      <td>12</td>\n",
       "      <td>18</td>\n",
       "      <td>21</td>\n",
       "      <td>21</td>\n",
       "      <td>0</td>\n",
       "      <td>8</td>\n",
       "      <td>21</td>\n",
       "    </tr>\n",
       "    <tr>\n",
       "      <th>['luisfabib']</th>\n",
       "      <td>114</td>\n",
       "      <td>114</td>\n",
       "      <td>114</td>\n",
       "      <td>114</td>\n",
       "      <td>114</td>\n",
       "      <td>114</td>\n",
       "      <td>114</td>\n",
       "      <td>114</td>\n",
       "      <td>114</td>\n",
       "      <td>114</td>\n",
       "      <td>...</td>\n",
       "      <td>114</td>\n",
       "      <td>0</td>\n",
       "      <td>76</td>\n",
       "      <td>76</td>\n",
       "      <td>105</td>\n",
       "      <td>100</td>\n",
       "      <td>109</td>\n",
       "      <td>5</td>\n",
       "      <td>43</td>\n",
       "      <td>114</td>\n",
       "    </tr>\n",
       "    <tr>\n",
       "      <th>['stestoll']</th>\n",
       "      <td>16</td>\n",
       "      <td>16</td>\n",
       "      <td>16</td>\n",
       "      <td>16</td>\n",
       "      <td>16</td>\n",
       "      <td>16</td>\n",
       "      <td>16</td>\n",
       "      <td>16</td>\n",
       "      <td>16</td>\n",
       "      <td>16</td>\n",
       "      <td>...</td>\n",
       "      <td>16</td>\n",
       "      <td>0</td>\n",
       "      <td>14</td>\n",
       "      <td>14</td>\n",
       "      <td>12</td>\n",
       "      <td>14</td>\n",
       "      <td>14</td>\n",
       "      <td>2</td>\n",
       "      <td>4</td>\n",
       "      <td>16</td>\n",
       "    </tr>\n",
       "    <tr>\n",
       "      <th>[]</th>\n",
       "      <td>303</td>\n",
       "      <td>303</td>\n",
       "      <td>303</td>\n",
       "      <td>303</td>\n",
       "      <td>303</td>\n",
       "      <td>303</td>\n",
       "      <td>303</td>\n",
       "      <td>303</td>\n",
       "      <td>303</td>\n",
       "      <td>303</td>\n",
       "      <td>...</td>\n",
       "      <td>303</td>\n",
       "      <td>0</td>\n",
       "      <td>198</td>\n",
       "      <td>214</td>\n",
       "      <td>241</td>\n",
       "      <td>219</td>\n",
       "      <td>250</td>\n",
       "      <td>53</td>\n",
       "      <td>138</td>\n",
       "      <td>303</td>\n",
       "    </tr>\n",
       "  </tbody>\n",
       "</table>\n",
       "<p>5 rows × 32 columns</p>\n",
       "</div>"
      ],
      "text/plain": [
       "                         Unnamed: 0  url  repository_url  labels_url  \\\n",
       "assigned_devs                                                          \n",
       "['HKaras', 'luisfabib']           1    1               1           1   \n",
       "['HKaras']                       21   21              21          21   \n",
       "['luisfabib']                   114  114             114         114   \n",
       "['stestoll']                     16   16              16          16   \n",
       "[]                              303  303             303         303   \n",
       "\n",
       "                         comments_url  events_url  html_url   id  node_id  \\\n",
       "assigned_devs                                                               \n",
       "['HKaras', 'luisfabib']             1           1         1    1        1   \n",
       "['HKaras']                         21          21        21   21       21   \n",
       "['luisfabib']                     114         114       114  114      114   \n",
       "['stestoll']                       16          16        16   16       16   \n",
       "[]                                303         303       303  303      303   \n",
       "\n",
       "                         number  ...  author_association  active_lock_reason  \\\n",
       "assigned_devs                    ...                                           \n",
       "['HKaras', 'luisfabib']       1  ...                   1                   0   \n",
       "['HKaras']                   21  ...                  21                   0   \n",
       "['luisfabib']               114  ...                 114                   0   \n",
       "['stestoll']                 16  ...                  16                   0   \n",
       "[]                          303  ...                 303                   0   \n",
       "\n",
       "                         draft  pull_request  body  reactions  timeline_url  \\\n",
       "assigned_devs                                                                 \n",
       "['HKaras', 'luisfabib']      0             0     1          1             1   \n",
       "['HKaras']                  12            12    18         21            21   \n",
       "['luisfabib']               76            76   105        100           109   \n",
       "['stestoll']                14            14    12         14            14   \n",
       "[]                         198           214   241        219           250   \n",
       "\n",
       "                         performed_via_github_app  state_reason  is_PR  \n",
       "assigned_devs                                                           \n",
       "['HKaras', 'luisfabib']                         0             1      1  \n",
       "['HKaras']                                      0             8     21  \n",
       "['luisfabib']                                   5            43    114  \n",
       "['stestoll']                                    2             4     16  \n",
       "[]                                             53           138    303  \n",
       "\n",
       "[5 rows x 32 columns]"
      ]
     },
     "execution_count": 28,
     "metadata": {},
     "output_type": "execute_result"
    }
   ],
   "source": [
    "exploded_devs.groupby('assigned_devs').count() "
   ]
  },
  {
   "cell_type": "code",
   "execution_count": null,
   "id": "73934e05",
   "metadata": {},
   "outputs": [],
   "source": []
  },
  {
   "cell_type": "code",
   "execution_count": 4,
   "id": "5cbfb87a",
   "metadata": {},
   "outputs": [
    {
     "name": "stderr",
     "output_type": "stream",
     "text": [
      "INFO:>> Running issue grab for repo JeschkeLab/DeerLab, in page 1 of 5.\n",
      "INFO:>> Running issue grab for repo JeschkeLab/DeerLab, in page 2 of 5.\n",
      "INFO:>> Running issue grab for repo JeschkeLab/DeerLab, in page 3 of 5.\n",
      "INFO:>> Running issue grab for repo JeschkeLab/DeerLab, in page 4 of 5.\n",
      "INFO:>> Running issue grab for repo JeschkeLab/DeerLab, in page 5 of 5.\n"
     ]
    }
   ],
   "source": [
    "#repo_name = 'MotionbyLearning/stm' # 61\n",
    "repo_name = 'JeschkeLab/DeerLab'\n",
    "\n",
    "import githubanalysis.processing.get_all_pages_issues\n",
    "from githubanalysis.processing.get_all_pages_issues import IssueGetter\n",
    "\n",
    "logger = loggit.get_default_logger(console=True, set_level_to='DEBUG', log_name='../../logs/get_all_pages_issues_NOTEBOOK_logs.txt')  \n",
    "issues_getter = IssueGetter(logger)\n",
    "\n",
    "iss_df = issues_getter.get_all_pages_issues(repo_name=repo_name, config_path='../../githubanalysis/config.cfg', out_filename='all-issues', write_out_location='../../data/')"
   ]
  },
  {
   "cell_type": "code",
   "execution_count": 5,
   "id": "f9632c2c",
   "metadata": {},
   "outputs": [
    {
     "data": {
      "text/plain": [
       "url                         object\n",
       "repository_url              object\n",
       "labels_url                  object\n",
       "comments_url                object\n",
       "events_url                  object\n",
       "html_url                    object\n",
       "id                           int64\n",
       "node_id                     object\n",
       "number                       int64\n",
       "title                       object\n",
       "user                        object\n",
       "labels                      object\n",
       "state                       object\n",
       "locked                        bool\n",
       "assignee                    object\n",
       "assignees                   object\n",
       "milestone                   object\n",
       "comments                     int64\n",
       "created_at                  object\n",
       "updated_at                  object\n",
       "closed_at                   object\n",
       "author_association          object\n",
       "active_lock_reason          object\n",
       "draft                       object\n",
       "pull_request                object\n",
       "body                        object\n",
       "reactions                   object\n",
       "timeline_url                object\n",
       "performed_via_github_app    object\n",
       "state_reason                object\n",
       "assigned_devs               object\n",
       "is_PR                         bool\n",
       "dtype: object"
      ]
     },
     "execution_count": 5,
     "metadata": {},
     "output_type": "execute_result"
    }
   ],
   "source": [
    "iss_df.dtypes"
   ]
  },
  {
   "cell_type": "code",
   "execution_count": 13,
   "id": "483f7b8b",
   "metadata": {},
   "outputs": [
    {
     "name": "stdout",
     "output_type": "stream",
     "text": [
      "                                                  url  \\\n",
      "0   https://api.github.com/repos/JeschkeLab/DeerLa...   \n",
      "1   https://api.github.com/repos/JeschkeLab/DeerLa...   \n",
      "2   https://api.github.com/repos/JeschkeLab/DeerLa...   \n",
      "3   https://api.github.com/repos/JeschkeLab/DeerLa...   \n",
      "4   https://api.github.com/repos/JeschkeLab/DeerLa...   \n",
      "..                                                ...   \n",
      "50  https://api.github.com/repos/JeschkeLab/DeerLa...   \n",
      "51  https://api.github.com/repos/JeschkeLab/DeerLa...   \n",
      "52  https://api.github.com/repos/JeschkeLab/DeerLa...   \n",
      "53  https://api.github.com/repos/JeschkeLab/DeerLa...   \n",
      "54  https://api.github.com/repos/JeschkeLab/DeerLa...   \n",
      "\n",
      "                                     repository_url  \\\n",
      "0   https://api.github.com/repos/JeschkeLab/DeerLab   \n",
      "1   https://api.github.com/repos/JeschkeLab/DeerLab   \n",
      "2   https://api.github.com/repos/JeschkeLab/DeerLab   \n",
      "3   https://api.github.com/repos/JeschkeLab/DeerLab   \n",
      "4   https://api.github.com/repos/JeschkeLab/DeerLab   \n",
      "..                                              ...   \n",
      "50  https://api.github.com/repos/JeschkeLab/DeerLab   \n",
      "51  https://api.github.com/repos/JeschkeLab/DeerLab   \n",
      "52  https://api.github.com/repos/JeschkeLab/DeerLab   \n",
      "53  https://api.github.com/repos/JeschkeLab/DeerLab   \n",
      "54  https://api.github.com/repos/JeschkeLab/DeerLab   \n",
      "\n",
      "                                           labels_url  \\\n",
      "0   https://api.github.com/repos/JeschkeLab/DeerLa...   \n",
      "1   https://api.github.com/repos/JeschkeLab/DeerLa...   \n",
      "2   https://api.github.com/repos/JeschkeLab/DeerLa...   \n",
      "3   https://api.github.com/repos/JeschkeLab/DeerLa...   \n",
      "4   https://api.github.com/repos/JeschkeLab/DeerLa...   \n",
      "..                                                ...   \n",
      "50  https://api.github.com/repos/JeschkeLab/DeerLa...   \n",
      "51  https://api.github.com/repos/JeschkeLab/DeerLa...   \n",
      "52  https://api.github.com/repos/JeschkeLab/DeerLa...   \n",
      "53  https://api.github.com/repos/JeschkeLab/DeerLa...   \n",
      "54  https://api.github.com/repos/JeschkeLab/DeerLa...   \n",
      "\n",
      "                                         comments_url  \\\n",
      "0   https://api.github.com/repos/JeschkeLab/DeerLa...   \n",
      "1   https://api.github.com/repos/JeschkeLab/DeerLa...   \n",
      "2   https://api.github.com/repos/JeschkeLab/DeerLa...   \n",
      "3   https://api.github.com/repos/JeschkeLab/DeerLa...   \n",
      "4   https://api.github.com/repos/JeschkeLab/DeerLa...   \n",
      "..                                                ...   \n",
      "50  https://api.github.com/repos/JeschkeLab/DeerLa...   \n",
      "51  https://api.github.com/repos/JeschkeLab/DeerLa...   \n",
      "52  https://api.github.com/repos/JeschkeLab/DeerLa...   \n",
      "53  https://api.github.com/repos/JeschkeLab/DeerLa...   \n",
      "54  https://api.github.com/repos/JeschkeLab/DeerLa...   \n",
      "\n",
      "                                           events_url  \\\n",
      "0   https://api.github.com/repos/JeschkeLab/DeerLa...   \n",
      "1   https://api.github.com/repos/JeschkeLab/DeerLa...   \n",
      "2   https://api.github.com/repos/JeschkeLab/DeerLa...   \n",
      "3   https://api.github.com/repos/JeschkeLab/DeerLa...   \n",
      "4   https://api.github.com/repos/JeschkeLab/DeerLa...   \n",
      "..                                                ...   \n",
      "50  https://api.github.com/repos/JeschkeLab/DeerLa...   \n",
      "51  https://api.github.com/repos/JeschkeLab/DeerLa...   \n",
      "52  https://api.github.com/repos/JeschkeLab/DeerLa...   \n",
      "53  https://api.github.com/repos/JeschkeLab/DeerLa...   \n",
      "54  https://api.github.com/repos/JeschkeLab/DeerLa...   \n",
      "\n",
      "                                            html_url          id  \\\n",
      "0     https://github.com/JeschkeLab/DeerLab/pull/467  1974618327   \n",
      "1     https://github.com/JeschkeLab/DeerLab/pull/466  1974616835   \n",
      "2     https://github.com/JeschkeLab/DeerLab/pull/464  1926248838   \n",
      "3   https://github.com/JeschkeLab/DeerLab/issues/463  1925610074   \n",
      "4   https://github.com/JeschkeLab/DeerLab/issues/462  1884034188   \n",
      "..                                               ...         ...   \n",
      "50      https://github.com/JeschkeLab/DeerLab/pull/5   655081818   \n",
      "51      https://github.com/JeschkeLab/DeerLab/pull/4   654982730   \n",
      "52      https://github.com/JeschkeLab/DeerLab/pull/3   654234556   \n",
      "53      https://github.com/JeschkeLab/DeerLab/pull/2   653776108   \n",
      "54      https://github.com/JeschkeLab/DeerLab/pull/1   653659168   \n",
      "\n",
      "                             node_id  number  \\\n",
      "0                PR_kwDOEIKXK85ec-82     467   \n",
      "1                PR_kwDOEIKXK85ec-oE     466   \n",
      "2                PR_kwDOEIKXK85b5xEU     464   \n",
      "3                 I_kwDOEIKXK85yxnpa     463   \n",
      "4                 I_kwDOEIKXK85wTBSM     462   \n",
      "..                               ...     ...   \n",
      "50  MDExOlB1bGxSZXF1ZXN0NDQ3Njc5NTE3       5   \n",
      "51  MDExOlB1bGxSZXF1ZXN0NDQ3NjAxNDAz       4   \n",
      "52  MDExOlB1bGxSZXF1ZXN0NDQ3MDAwODg1       3   \n",
      "53  MDExOlB1bGxSZXF1ZXN0NDQ2NjI3NTgw       2   \n",
      "54  MDExOlB1bGxSZXF1ZXN0NDQ2NTM2MTYw       1   \n",
      "\n",
      "                                                title  ... active_lock_reason  \\\n",
      "0                                Push patch into V1.1  ...               None   \n",
      "1                Update changelog.rst for new release  ...               None   \n",
      "2                                 Fixing Sophgrid bug  ...               None   \n",
      "3     SOPHE grid implementation differs from EASYSPIN  ...               None   \n",
      "4   Fix warning with Tqdm when programing in jupyter   ...               None   \n",
      "..                                                ...  ...                ...   \n",
      "50                          Removed pandas dependency  ...               None   \n",
      "51  Wrote fftconvolve KDE to remove KDEpy dependen...  ...               None   \n",
      "52    Vectorized kernel generation. Handled warnings.  ...               None   \n",
      "53                         Added cvxopt nnls function  ...               None   \n",
      "54          Added switch for alternative nnls solvers  ...               None   \n",
      "\n",
      "    draft                                       pull_request  \\\n",
      "0   False  {'url': 'https://api.github.com/repos/JeschkeL...   \n",
      "1   False  {'url': 'https://api.github.com/repos/JeschkeL...   \n",
      "2   False  {'url': 'https://api.github.com/repos/JeschkeL...   \n",
      "3     NaN                                                NaN   \n",
      "4     NaN                                                NaN   \n",
      "..    ...                                                ...   \n",
      "50  False  {'url': 'https://api.github.com/repos/JeschkeL...   \n",
      "51  False  {'url': 'https://api.github.com/repos/JeschkeL...   \n",
      "52  False  {'url': 'https://api.github.com/repos/JeschkeL...   \n",
      "53  False  {'url': 'https://api.github.com/repos/JeschkeL...   \n",
      "54  False  {'url': 'https://api.github.com/repos/JeschkeL...   \n",
      "\n",
      "                                                 body  \\\n",
      "0                                                None   \n",
      "1                                                None   \n",
      "2   Fixes the bug in the `sophgrid` function highl...   \n",
      "3   Hi!\\r\\n\\r\\nIt seems to me that the implementat...   \n",
      "4   When using deerlab in jupyter the following wa...   \n",
      "..                                                ...   \n",
      "50                                                      \n",
      "51  Wrote fftconvolve KDE to remove KDEpy dependen...   \n",
      "52  Vectorized kernel generation - faster, flatter...   \n",
      "53                                                      \n",
      "54                                                      \n",
      "\n",
      "                                            reactions  \\\n",
      "0   {'url': 'https://api.github.com/repos/JeschkeL...   \n",
      "1   {'url': 'https://api.github.com/repos/JeschkeL...   \n",
      "2   {'url': 'https://api.github.com/repos/JeschkeL...   \n",
      "3   {'url': 'https://api.github.com/repos/JeschkeL...   \n",
      "4   {'url': 'https://api.github.com/repos/JeschkeL...   \n",
      "..                                                ...   \n",
      "50  {'url': 'https://api.github.com/repos/JeschkeL...   \n",
      "51  {'url': 'https://api.github.com/repos/JeschkeL...   \n",
      "52  {'url': 'https://api.github.com/repos/JeschkeL...   \n",
      "53  {'url': 'https://api.github.com/repos/JeschkeL...   \n",
      "54  {'url': 'https://api.github.com/repos/JeschkeL...   \n",
      "\n",
      "                                         timeline_url  \\\n",
      "0   https://api.github.com/repos/JeschkeLab/DeerLa...   \n",
      "1   https://api.github.com/repos/JeschkeLab/DeerLa...   \n",
      "2   https://api.github.com/repos/JeschkeLab/DeerLa...   \n",
      "3   https://api.github.com/repos/JeschkeLab/DeerLa...   \n",
      "4   https://api.github.com/repos/JeschkeLab/DeerLa...   \n",
      "..                                                ...   \n",
      "50  https://api.github.com/repos/JeschkeLab/DeerLa...   \n",
      "51  https://api.github.com/repos/JeschkeLab/DeerLa...   \n",
      "52  https://api.github.com/repos/JeschkeLab/DeerLa...   \n",
      "53  https://api.github.com/repos/JeschkeLab/DeerLa...   \n",
      "54  https://api.github.com/repos/JeschkeLab/DeerLa...   \n",
      "\n",
      "   performed_via_github_app  state_reason assigned_devs  is_PR  \n",
      "0                      None          None            []   True  \n",
      "1                      None          None            []   True  \n",
      "2                      None          None      [HKaras]   True  \n",
      "3                      None     completed      [HKaras]  False  \n",
      "4                      None          None            []  False  \n",
      "..                      ...           ...           ...    ...  \n",
      "50                     None          None            []   True  \n",
      "51                     None          None            []   True  \n",
      "52                     None          None            []   True  \n",
      "53                     None          None            []   True  \n",
      "54                     None          None            []   True  \n",
      "\n",
      "[455 rows x 32 columns]\n"
     ]
    }
   ],
   "source": [
    "print(iss_df)"
   ]
  },
  {
   "cell_type": "code",
   "execution_count": 6,
   "id": "c84b8470",
   "metadata": {},
   "outputs": [
    {
     "data": {
      "text/plain": [
       "5"
      ]
     },
     "execution_count": 6,
     "metadata": {},
     "output_type": "execute_result"
    }
   ],
   "source": [
    "iss_df.state.value_counts().open"
   ]
  },
  {
   "cell_type": "code",
   "execution_count": 7,
   "id": "ceb8b974",
   "metadata": {},
   "outputs": [
    {
     "name": "stdout",
     "output_type": "stream",
     "text": [
      "issue state counts: closed    450\n",
      "open        5\n",
      "Name: state, dtype: int64\n"
     ]
    }
   ],
   "source": [
    "print(f\"issue state counts: {iss_df.state.value_counts()}\")"
   ]
  },
  {
   "cell_type": "code",
   "execution_count": 8,
   "id": "b7e71fc3",
   "metadata": {},
   "outputs": [
    {
     "name": "stdout",
     "output_type": "stream",
     "text": [
      "0     {'url': 'https://api.github.com/repos/JeschkeL...\n",
      "1     {'url': 'https://api.github.com/repos/JeschkeL...\n",
      "2     {'url': 'https://api.github.com/repos/JeschkeL...\n",
      "3                                                   NaN\n",
      "4                                                   NaN\n",
      "                            ...                        \n",
      "50    {'url': 'https://api.github.com/repos/JeschkeL...\n",
      "51    {'url': 'https://api.github.com/repos/JeschkeL...\n",
      "52    {'url': 'https://api.github.com/repos/JeschkeL...\n",
      "53    {'url': 'https://api.github.com/repos/JeschkeL...\n",
      "54    {'url': 'https://api.github.com/repos/JeschkeL...\n",
      "Name: pull_request, Length: 455, dtype: object\n"
     ]
    }
   ],
   "source": [
    "print(iss_df['pull_request'])"
   ]
  },
  {
   "cell_type": "code",
   "execution_count": 21,
   "id": "ae26e793",
   "metadata": {},
   "outputs": [
    {
     "ename": "AttributeError",
     "evalue": "'Series' object has no attribute 'counts'",
     "output_type": "error",
     "traceback": [
      "\u001b[0;31m---------------------------------------------------------------------------\u001b[0m",
      "\u001b[0;31mAttributeError\u001b[0m                            Traceback (most recent call last)",
      "Cell \u001b[0;32mIn[21], line 1\u001b[0m\n\u001b[0;32m----> 1\u001b[0m \u001b[43miss_df\u001b[49m\u001b[43m[\u001b[49m\u001b[38;5;124;43m'\u001b[39;49m\u001b[38;5;124;43mpull_request\u001b[39;49m\u001b[38;5;124;43m'\u001b[39;49m\u001b[43m]\u001b[49m\u001b[38;5;241;43m.\u001b[39;49m\u001b[43misna\u001b[49m\u001b[43m(\u001b[49m\u001b[43m)\u001b[49m\u001b[38;5;241;43m.\u001b[39;49m\u001b[43mcounts\u001b[49m()\n",
      "File \u001b[0;32m~/miniconda3/envs/coding-smart-github/lib/python3.10/site-packages/pandas/core/generic.py:5902\u001b[0m, in \u001b[0;36mNDFrame.__getattr__\u001b[0;34m(self, name)\u001b[0m\n\u001b[1;32m   5895\u001b[0m \u001b[38;5;28;01mif\u001b[39;00m (\n\u001b[1;32m   5896\u001b[0m     name \u001b[38;5;129;01mnot\u001b[39;00m \u001b[38;5;129;01min\u001b[39;00m \u001b[38;5;28mself\u001b[39m\u001b[38;5;241m.\u001b[39m_internal_names_set\n\u001b[1;32m   5897\u001b[0m     \u001b[38;5;129;01mand\u001b[39;00m name \u001b[38;5;129;01mnot\u001b[39;00m \u001b[38;5;129;01min\u001b[39;00m \u001b[38;5;28mself\u001b[39m\u001b[38;5;241m.\u001b[39m_metadata\n\u001b[1;32m   5898\u001b[0m     \u001b[38;5;129;01mand\u001b[39;00m name \u001b[38;5;129;01mnot\u001b[39;00m \u001b[38;5;129;01min\u001b[39;00m \u001b[38;5;28mself\u001b[39m\u001b[38;5;241m.\u001b[39m_accessors\n\u001b[1;32m   5899\u001b[0m     \u001b[38;5;129;01mand\u001b[39;00m \u001b[38;5;28mself\u001b[39m\u001b[38;5;241m.\u001b[39m_info_axis\u001b[38;5;241m.\u001b[39m_can_hold_identifiers_and_holds_name(name)\n\u001b[1;32m   5900\u001b[0m ):\n\u001b[1;32m   5901\u001b[0m     \u001b[38;5;28;01mreturn\u001b[39;00m \u001b[38;5;28mself\u001b[39m[name]\n\u001b[0;32m-> 5902\u001b[0m \u001b[38;5;28;01mreturn\u001b[39;00m \u001b[38;5;28;43mobject\u001b[39;49m\u001b[38;5;241;43m.\u001b[39;49m\u001b[38;5;21;43m__getattribute__\u001b[39;49m\u001b[43m(\u001b[49m\u001b[38;5;28;43mself\u001b[39;49m\u001b[43m,\u001b[49m\u001b[43m \u001b[49m\u001b[43mname\u001b[49m\u001b[43m)\u001b[49m\n",
      "\u001b[0;31mAttributeError\u001b[0m: 'Series' object has no attribute 'counts'"
     ]
    }
   ],
   "source": [
    "iss_df['pull_request'].isna()"
   ]
  },
  {
   "cell_type": "code",
   "execution_count": 33,
   "id": "22fb98c0",
   "metadata": {},
   "outputs": [
    {
     "data": {
      "text/plain": [
       "True     276\n",
       "False    179\n",
       "Name: is_PR, dtype: int64"
      ]
     },
     "execution_count": 33,
     "metadata": {},
     "output_type": "execute_result"
    }
   ],
   "source": [
    "#iss_df['is_PR'] = iss_df['pull_request'].notna()\n",
    "iss_df['is_PR'].value_counts()"
   ]
  },
  {
   "cell_type": "code",
   "execution_count": 32,
   "id": "6ef478f5",
   "metadata": {},
   "outputs": [
    {
     "data": {
      "text/plain": [
       "276"
      ]
     },
     "execution_count": 32,
     "metadata": {},
     "output_type": "execute_result"
    }
   ],
   "source": [
    "iss_df['is_PR'].value_counts()[True]"
   ]
  },
  {
   "cell_type": "code",
   "execution_count": 11,
   "id": "dfc5b30b",
   "metadata": {},
   "outputs": [
    {
     "data": {
      "text/html": [
       "<div>\n",
       "<style scoped>\n",
       "    .dataframe tbody tr th:only-of-type {\n",
       "        vertical-align: middle;\n",
       "    }\n",
       "\n",
       "    .dataframe tbody tr th {\n",
       "        vertical-align: top;\n",
       "    }\n",
       "\n",
       "    .dataframe thead th {\n",
       "        text-align: right;\n",
       "    }\n",
       "</style>\n",
       "<table border=\"1\" class=\"dataframe\">\n",
       "  <thead>\n",
       "    <tr style=\"text-align: right;\">\n",
       "      <th></th>\n",
       "      <th>url</th>\n",
       "      <th>repository_url</th>\n",
       "      <th>labels_url</th>\n",
       "      <th>comments_url</th>\n",
       "      <th>events_url</th>\n",
       "      <th>html_url</th>\n",
       "      <th>id</th>\n",
       "      <th>node_id</th>\n",
       "      <th>number</th>\n",
       "      <th>title</th>\n",
       "      <th>...</th>\n",
       "      <th>active_lock_reason</th>\n",
       "      <th>draft</th>\n",
       "      <th>pull_request</th>\n",
       "      <th>body</th>\n",
       "      <th>reactions</th>\n",
       "      <th>timeline_url</th>\n",
       "      <th>performed_via_github_app</th>\n",
       "      <th>state_reason</th>\n",
       "      <th>assigned_devs</th>\n",
       "      <th>is_PR</th>\n",
       "    </tr>\n",
       "  </thead>\n",
       "  <tbody>\n",
       "    <tr>\n",
       "      <th>0</th>\n",
       "      <td>https://api.github.com/repos/JeschkeLab/DeerLa...</td>\n",
       "      <td>https://api.github.com/repos/JeschkeLab/DeerLab</td>\n",
       "      <td>https://api.github.com/repos/JeschkeLab/DeerLa...</td>\n",
       "      <td>https://api.github.com/repos/JeschkeLab/DeerLa...</td>\n",
       "      <td>https://api.github.com/repos/JeschkeLab/DeerLa...</td>\n",
       "      <td>https://github.com/JeschkeLab/DeerLab/pull/467</td>\n",
       "      <td>1974618327</td>\n",
       "      <td>PR_kwDOEIKXK85ec-82</td>\n",
       "      <td>467</td>\n",
       "      <td>Push patch into V1.1</td>\n",
       "      <td>...</td>\n",
       "      <td>None</td>\n",
       "      <td>False</td>\n",
       "      <td>{'url': 'https://api.github.com/repos/JeschkeL...</td>\n",
       "      <td>None</td>\n",
       "      <td>{'url': 'https://api.github.com/repos/JeschkeL...</td>\n",
       "      <td>https://api.github.com/repos/JeschkeLab/DeerLa...</td>\n",
       "      <td>None</td>\n",
       "      <td>None</td>\n",
       "      <td>[]</td>\n",
       "      <td>True</td>\n",
       "    </tr>\n",
       "    <tr>\n",
       "      <th>1</th>\n",
       "      <td>https://api.github.com/repos/JeschkeLab/DeerLa...</td>\n",
       "      <td>https://api.github.com/repos/JeschkeLab/DeerLab</td>\n",
       "      <td>https://api.github.com/repos/JeschkeLab/DeerLa...</td>\n",
       "      <td>https://api.github.com/repos/JeschkeLab/DeerLa...</td>\n",
       "      <td>https://api.github.com/repos/JeschkeLab/DeerLa...</td>\n",
       "      <td>https://github.com/JeschkeLab/DeerLab/pull/466</td>\n",
       "      <td>1974616835</td>\n",
       "      <td>PR_kwDOEIKXK85ec-oE</td>\n",
       "      <td>466</td>\n",
       "      <td>Update changelog.rst for new release</td>\n",
       "      <td>...</td>\n",
       "      <td>None</td>\n",
       "      <td>False</td>\n",
       "      <td>{'url': 'https://api.github.com/repos/JeschkeL...</td>\n",
       "      <td>None</td>\n",
       "      <td>{'url': 'https://api.github.com/repos/JeschkeL...</td>\n",
       "      <td>https://api.github.com/repos/JeschkeLab/DeerLa...</td>\n",
       "      <td>None</td>\n",
       "      <td>None</td>\n",
       "      <td>[]</td>\n",
       "      <td>True</td>\n",
       "    </tr>\n",
       "    <tr>\n",
       "      <th>2</th>\n",
       "      <td>https://api.github.com/repos/JeschkeLab/DeerLa...</td>\n",
       "      <td>https://api.github.com/repos/JeschkeLab/DeerLab</td>\n",
       "      <td>https://api.github.com/repos/JeschkeLab/DeerLa...</td>\n",
       "      <td>https://api.github.com/repos/JeschkeLab/DeerLa...</td>\n",
       "      <td>https://api.github.com/repos/JeschkeLab/DeerLa...</td>\n",
       "      <td>https://github.com/JeschkeLab/DeerLab/pull/464</td>\n",
       "      <td>1926248838</td>\n",
       "      <td>PR_kwDOEIKXK85b5xEU</td>\n",
       "      <td>464</td>\n",
       "      <td>Fixing Sophgrid bug</td>\n",
       "      <td>...</td>\n",
       "      <td>None</td>\n",
       "      <td>False</td>\n",
       "      <td>{'url': 'https://api.github.com/repos/JeschkeL...</td>\n",
       "      <td>Fixes the bug in the `sophgrid` function highl...</td>\n",
       "      <td>{'url': 'https://api.github.com/repos/JeschkeL...</td>\n",
       "      <td>https://api.github.com/repos/JeschkeLab/DeerLa...</td>\n",
       "      <td>None</td>\n",
       "      <td>None</td>\n",
       "      <td>[HKaras]</td>\n",
       "      <td>True</td>\n",
       "    </tr>\n",
       "    <tr>\n",
       "      <th>3</th>\n",
       "      <td>https://api.github.com/repos/JeschkeLab/DeerLa...</td>\n",
       "      <td>https://api.github.com/repos/JeschkeLab/DeerLab</td>\n",
       "      <td>https://api.github.com/repos/JeschkeLab/DeerLa...</td>\n",
       "      <td>https://api.github.com/repos/JeschkeLab/DeerLa...</td>\n",
       "      <td>https://api.github.com/repos/JeschkeLab/DeerLa...</td>\n",
       "      <td>https://github.com/JeschkeLab/DeerLab/issues/463</td>\n",
       "      <td>1925610074</td>\n",
       "      <td>I_kwDOEIKXK85yxnpa</td>\n",
       "      <td>463</td>\n",
       "      <td>SOPHE grid implementation differs from EASYSPIN</td>\n",
       "      <td>...</td>\n",
       "      <td>None</td>\n",
       "      <td>NaN</td>\n",
       "      <td>NaN</td>\n",
       "      <td>Hi!\\r\\n\\r\\nIt seems to me that the implementat...</td>\n",
       "      <td>{'url': 'https://api.github.com/repos/JeschkeL...</td>\n",
       "      <td>https://api.github.com/repos/JeschkeLab/DeerLa...</td>\n",
       "      <td>None</td>\n",
       "      <td>completed</td>\n",
       "      <td>[HKaras]</td>\n",
       "      <td>False</td>\n",
       "    </tr>\n",
       "    <tr>\n",
       "      <th>4</th>\n",
       "      <td>https://api.github.com/repos/JeschkeLab/DeerLa...</td>\n",
       "      <td>https://api.github.com/repos/JeschkeLab/DeerLab</td>\n",
       "      <td>https://api.github.com/repos/JeschkeLab/DeerLa...</td>\n",
       "      <td>https://api.github.com/repos/JeschkeLab/DeerLa...</td>\n",
       "      <td>https://api.github.com/repos/JeschkeLab/DeerLa...</td>\n",
       "      <td>https://github.com/JeschkeLab/DeerLab/issues/462</td>\n",
       "      <td>1884034188</td>\n",
       "      <td>I_kwDOEIKXK85wTBSM</td>\n",
       "      <td>462</td>\n",
       "      <td>Fix warning with Tqdm when programing in jupyter</td>\n",
       "      <td>...</td>\n",
       "      <td>None</td>\n",
       "      <td>NaN</td>\n",
       "      <td>NaN</td>\n",
       "      <td>When using deerlab in jupyter the following wa...</td>\n",
       "      <td>{'url': 'https://api.github.com/repos/JeschkeL...</td>\n",
       "      <td>https://api.github.com/repos/JeschkeLab/DeerLa...</td>\n",
       "      <td>None</td>\n",
       "      <td>None</td>\n",
       "      <td>[]</td>\n",
       "      <td>False</td>\n",
       "    </tr>\n",
       "    <tr>\n",
       "      <th>...</th>\n",
       "      <td>...</td>\n",
       "      <td>...</td>\n",
       "      <td>...</td>\n",
       "      <td>...</td>\n",
       "      <td>...</td>\n",
       "      <td>...</td>\n",
       "      <td>...</td>\n",
       "      <td>...</td>\n",
       "      <td>...</td>\n",
       "      <td>...</td>\n",
       "      <td>...</td>\n",
       "      <td>...</td>\n",
       "      <td>...</td>\n",
       "      <td>...</td>\n",
       "      <td>...</td>\n",
       "      <td>...</td>\n",
       "      <td>...</td>\n",
       "      <td>...</td>\n",
       "      <td>...</td>\n",
       "      <td>...</td>\n",
       "      <td>...</td>\n",
       "    </tr>\n",
       "    <tr>\n",
       "      <th>50</th>\n",
       "      <td>https://api.github.com/repos/JeschkeLab/DeerLa...</td>\n",
       "      <td>https://api.github.com/repos/JeschkeLab/DeerLab</td>\n",
       "      <td>https://api.github.com/repos/JeschkeLab/DeerLa...</td>\n",
       "      <td>https://api.github.com/repos/JeschkeLab/DeerLa...</td>\n",
       "      <td>https://api.github.com/repos/JeschkeLab/DeerLa...</td>\n",
       "      <td>https://github.com/JeschkeLab/DeerLab/pull/5</td>\n",
       "      <td>655081818</td>\n",
       "      <td>MDExOlB1bGxSZXF1ZXN0NDQ3Njc5NTE3</td>\n",
       "      <td>5</td>\n",
       "      <td>Removed pandas dependency</td>\n",
       "      <td>...</td>\n",
       "      <td>None</td>\n",
       "      <td>False</td>\n",
       "      <td>{'url': 'https://api.github.com/repos/JeschkeL...</td>\n",
       "      <td></td>\n",
       "      <td>{'url': 'https://api.github.com/repos/JeschkeL...</td>\n",
       "      <td>https://api.github.com/repos/JeschkeLab/DeerLa...</td>\n",
       "      <td>None</td>\n",
       "      <td>None</td>\n",
       "      <td>[]</td>\n",
       "      <td>True</td>\n",
       "    </tr>\n",
       "    <tr>\n",
       "      <th>51</th>\n",
       "      <td>https://api.github.com/repos/JeschkeLab/DeerLa...</td>\n",
       "      <td>https://api.github.com/repos/JeschkeLab/DeerLab</td>\n",
       "      <td>https://api.github.com/repos/JeschkeLab/DeerLa...</td>\n",
       "      <td>https://api.github.com/repos/JeschkeLab/DeerLa...</td>\n",
       "      <td>https://api.github.com/repos/JeschkeLab/DeerLa...</td>\n",
       "      <td>https://github.com/JeschkeLab/DeerLab/pull/4</td>\n",
       "      <td>654982730</td>\n",
       "      <td>MDExOlB1bGxSZXF1ZXN0NDQ3NjAxNDAz</td>\n",
       "      <td>4</td>\n",
       "      <td>Wrote fftconvolve KDE to remove KDEpy dependen...</td>\n",
       "      <td>...</td>\n",
       "      <td>None</td>\n",
       "      <td>False</td>\n",
       "      <td>{'url': 'https://api.github.com/repos/JeschkeL...</td>\n",
       "      <td>Wrote fftconvolve KDE to remove KDEpy dependen...</td>\n",
       "      <td>{'url': 'https://api.github.com/repos/JeschkeL...</td>\n",
       "      <td>https://api.github.com/repos/JeschkeLab/DeerLa...</td>\n",
       "      <td>None</td>\n",
       "      <td>None</td>\n",
       "      <td>[]</td>\n",
       "      <td>True</td>\n",
       "    </tr>\n",
       "    <tr>\n",
       "      <th>52</th>\n",
       "      <td>https://api.github.com/repos/JeschkeLab/DeerLa...</td>\n",
       "      <td>https://api.github.com/repos/JeschkeLab/DeerLab</td>\n",
       "      <td>https://api.github.com/repos/JeschkeLab/DeerLa...</td>\n",
       "      <td>https://api.github.com/repos/JeschkeLab/DeerLa...</td>\n",
       "      <td>https://api.github.com/repos/JeschkeLab/DeerLa...</td>\n",
       "      <td>https://github.com/JeschkeLab/DeerLab/pull/3</td>\n",
       "      <td>654234556</td>\n",
       "      <td>MDExOlB1bGxSZXF1ZXN0NDQ3MDAwODg1</td>\n",
       "      <td>3</td>\n",
       "      <td>Vectorized kernel generation. Handled warnings.</td>\n",
       "      <td>...</td>\n",
       "      <td>None</td>\n",
       "      <td>False</td>\n",
       "      <td>{'url': 'https://api.github.com/repos/JeschkeL...</td>\n",
       "      <td>Vectorized kernel generation - faster, flatter...</td>\n",
       "      <td>{'url': 'https://api.github.com/repos/JeschkeL...</td>\n",
       "      <td>https://api.github.com/repos/JeschkeLab/DeerLa...</td>\n",
       "      <td>None</td>\n",
       "      <td>None</td>\n",
       "      <td>[]</td>\n",
       "      <td>True</td>\n",
       "    </tr>\n",
       "    <tr>\n",
       "      <th>53</th>\n",
       "      <td>https://api.github.com/repos/JeschkeLab/DeerLa...</td>\n",
       "      <td>https://api.github.com/repos/JeschkeLab/DeerLab</td>\n",
       "      <td>https://api.github.com/repos/JeschkeLab/DeerLa...</td>\n",
       "      <td>https://api.github.com/repos/JeschkeLab/DeerLa...</td>\n",
       "      <td>https://api.github.com/repos/JeschkeLab/DeerLa...</td>\n",
       "      <td>https://github.com/JeschkeLab/DeerLab/pull/2</td>\n",
       "      <td>653776108</td>\n",
       "      <td>MDExOlB1bGxSZXF1ZXN0NDQ2NjI3NTgw</td>\n",
       "      <td>2</td>\n",
       "      <td>Added cvxopt nnls function</td>\n",
       "      <td>...</td>\n",
       "      <td>None</td>\n",
       "      <td>False</td>\n",
       "      <td>{'url': 'https://api.github.com/repos/JeschkeL...</td>\n",
       "      <td></td>\n",
       "      <td>{'url': 'https://api.github.com/repos/JeschkeL...</td>\n",
       "      <td>https://api.github.com/repos/JeschkeLab/DeerLa...</td>\n",
       "      <td>None</td>\n",
       "      <td>None</td>\n",
       "      <td>[]</td>\n",
       "      <td>True</td>\n",
       "    </tr>\n",
       "    <tr>\n",
       "      <th>54</th>\n",
       "      <td>https://api.github.com/repos/JeschkeLab/DeerLa...</td>\n",
       "      <td>https://api.github.com/repos/JeschkeLab/DeerLab</td>\n",
       "      <td>https://api.github.com/repos/JeschkeLab/DeerLa...</td>\n",
       "      <td>https://api.github.com/repos/JeschkeLab/DeerLa...</td>\n",
       "      <td>https://api.github.com/repos/JeschkeLab/DeerLa...</td>\n",
       "      <td>https://github.com/JeschkeLab/DeerLab/pull/1</td>\n",
       "      <td>653659168</td>\n",
       "      <td>MDExOlB1bGxSZXF1ZXN0NDQ2NTM2MTYw</td>\n",
       "      <td>1</td>\n",
       "      <td>Added switch for alternative nnls solvers</td>\n",
       "      <td>...</td>\n",
       "      <td>None</td>\n",
       "      <td>False</td>\n",
       "      <td>{'url': 'https://api.github.com/repos/JeschkeL...</td>\n",
       "      <td></td>\n",
       "      <td>{'url': 'https://api.github.com/repos/JeschkeL...</td>\n",
       "      <td>https://api.github.com/repos/JeschkeLab/DeerLa...</td>\n",
       "      <td>None</td>\n",
       "      <td>None</td>\n",
       "      <td>[]</td>\n",
       "      <td>True</td>\n",
       "    </tr>\n",
       "  </tbody>\n",
       "</table>\n",
       "<p>455 rows × 32 columns</p>\n",
       "</div>"
      ],
      "text/plain": [
       "                                                  url  \\\n",
       "0   https://api.github.com/repos/JeschkeLab/DeerLa...   \n",
       "1   https://api.github.com/repos/JeschkeLab/DeerLa...   \n",
       "2   https://api.github.com/repos/JeschkeLab/DeerLa...   \n",
       "3   https://api.github.com/repos/JeschkeLab/DeerLa...   \n",
       "4   https://api.github.com/repos/JeschkeLab/DeerLa...   \n",
       "..                                                ...   \n",
       "50  https://api.github.com/repos/JeschkeLab/DeerLa...   \n",
       "51  https://api.github.com/repos/JeschkeLab/DeerLa...   \n",
       "52  https://api.github.com/repos/JeschkeLab/DeerLa...   \n",
       "53  https://api.github.com/repos/JeschkeLab/DeerLa...   \n",
       "54  https://api.github.com/repos/JeschkeLab/DeerLa...   \n",
       "\n",
       "                                     repository_url  \\\n",
       "0   https://api.github.com/repos/JeschkeLab/DeerLab   \n",
       "1   https://api.github.com/repos/JeschkeLab/DeerLab   \n",
       "2   https://api.github.com/repos/JeschkeLab/DeerLab   \n",
       "3   https://api.github.com/repos/JeschkeLab/DeerLab   \n",
       "4   https://api.github.com/repos/JeschkeLab/DeerLab   \n",
       "..                                              ...   \n",
       "50  https://api.github.com/repos/JeschkeLab/DeerLab   \n",
       "51  https://api.github.com/repos/JeschkeLab/DeerLab   \n",
       "52  https://api.github.com/repos/JeschkeLab/DeerLab   \n",
       "53  https://api.github.com/repos/JeschkeLab/DeerLab   \n",
       "54  https://api.github.com/repos/JeschkeLab/DeerLab   \n",
       "\n",
       "                                           labels_url  \\\n",
       "0   https://api.github.com/repos/JeschkeLab/DeerLa...   \n",
       "1   https://api.github.com/repos/JeschkeLab/DeerLa...   \n",
       "2   https://api.github.com/repos/JeschkeLab/DeerLa...   \n",
       "3   https://api.github.com/repos/JeschkeLab/DeerLa...   \n",
       "4   https://api.github.com/repos/JeschkeLab/DeerLa...   \n",
       "..                                                ...   \n",
       "50  https://api.github.com/repos/JeschkeLab/DeerLa...   \n",
       "51  https://api.github.com/repos/JeschkeLab/DeerLa...   \n",
       "52  https://api.github.com/repos/JeschkeLab/DeerLa...   \n",
       "53  https://api.github.com/repos/JeschkeLab/DeerLa...   \n",
       "54  https://api.github.com/repos/JeschkeLab/DeerLa...   \n",
       "\n",
       "                                         comments_url  \\\n",
       "0   https://api.github.com/repos/JeschkeLab/DeerLa...   \n",
       "1   https://api.github.com/repos/JeschkeLab/DeerLa...   \n",
       "2   https://api.github.com/repos/JeschkeLab/DeerLa...   \n",
       "3   https://api.github.com/repos/JeschkeLab/DeerLa...   \n",
       "4   https://api.github.com/repos/JeschkeLab/DeerLa...   \n",
       "..                                                ...   \n",
       "50  https://api.github.com/repos/JeschkeLab/DeerLa...   \n",
       "51  https://api.github.com/repos/JeschkeLab/DeerLa...   \n",
       "52  https://api.github.com/repos/JeschkeLab/DeerLa...   \n",
       "53  https://api.github.com/repos/JeschkeLab/DeerLa...   \n",
       "54  https://api.github.com/repos/JeschkeLab/DeerLa...   \n",
       "\n",
       "                                           events_url  \\\n",
       "0   https://api.github.com/repos/JeschkeLab/DeerLa...   \n",
       "1   https://api.github.com/repos/JeschkeLab/DeerLa...   \n",
       "2   https://api.github.com/repos/JeschkeLab/DeerLa...   \n",
       "3   https://api.github.com/repos/JeschkeLab/DeerLa...   \n",
       "4   https://api.github.com/repos/JeschkeLab/DeerLa...   \n",
       "..                                                ...   \n",
       "50  https://api.github.com/repos/JeschkeLab/DeerLa...   \n",
       "51  https://api.github.com/repos/JeschkeLab/DeerLa...   \n",
       "52  https://api.github.com/repos/JeschkeLab/DeerLa...   \n",
       "53  https://api.github.com/repos/JeschkeLab/DeerLa...   \n",
       "54  https://api.github.com/repos/JeschkeLab/DeerLa...   \n",
       "\n",
       "                                            html_url          id  \\\n",
       "0     https://github.com/JeschkeLab/DeerLab/pull/467  1974618327   \n",
       "1     https://github.com/JeschkeLab/DeerLab/pull/466  1974616835   \n",
       "2     https://github.com/JeschkeLab/DeerLab/pull/464  1926248838   \n",
       "3   https://github.com/JeschkeLab/DeerLab/issues/463  1925610074   \n",
       "4   https://github.com/JeschkeLab/DeerLab/issues/462  1884034188   \n",
       "..                                               ...         ...   \n",
       "50      https://github.com/JeschkeLab/DeerLab/pull/5   655081818   \n",
       "51      https://github.com/JeschkeLab/DeerLab/pull/4   654982730   \n",
       "52      https://github.com/JeschkeLab/DeerLab/pull/3   654234556   \n",
       "53      https://github.com/JeschkeLab/DeerLab/pull/2   653776108   \n",
       "54      https://github.com/JeschkeLab/DeerLab/pull/1   653659168   \n",
       "\n",
       "                             node_id  number  \\\n",
       "0                PR_kwDOEIKXK85ec-82     467   \n",
       "1                PR_kwDOEIKXK85ec-oE     466   \n",
       "2                PR_kwDOEIKXK85b5xEU     464   \n",
       "3                 I_kwDOEIKXK85yxnpa     463   \n",
       "4                 I_kwDOEIKXK85wTBSM     462   \n",
       "..                               ...     ...   \n",
       "50  MDExOlB1bGxSZXF1ZXN0NDQ3Njc5NTE3       5   \n",
       "51  MDExOlB1bGxSZXF1ZXN0NDQ3NjAxNDAz       4   \n",
       "52  MDExOlB1bGxSZXF1ZXN0NDQ3MDAwODg1       3   \n",
       "53  MDExOlB1bGxSZXF1ZXN0NDQ2NjI3NTgw       2   \n",
       "54  MDExOlB1bGxSZXF1ZXN0NDQ2NTM2MTYw       1   \n",
       "\n",
       "                                                title  ... active_lock_reason  \\\n",
       "0                                Push patch into V1.1  ...               None   \n",
       "1                Update changelog.rst for new release  ...               None   \n",
       "2                                 Fixing Sophgrid bug  ...               None   \n",
       "3     SOPHE grid implementation differs from EASYSPIN  ...               None   \n",
       "4   Fix warning with Tqdm when programing in jupyter   ...               None   \n",
       "..                                                ...  ...                ...   \n",
       "50                          Removed pandas dependency  ...               None   \n",
       "51  Wrote fftconvolve KDE to remove KDEpy dependen...  ...               None   \n",
       "52    Vectorized kernel generation. Handled warnings.  ...               None   \n",
       "53                         Added cvxopt nnls function  ...               None   \n",
       "54          Added switch for alternative nnls solvers  ...               None   \n",
       "\n",
       "    draft                                       pull_request  \\\n",
       "0   False  {'url': 'https://api.github.com/repos/JeschkeL...   \n",
       "1   False  {'url': 'https://api.github.com/repos/JeschkeL...   \n",
       "2   False  {'url': 'https://api.github.com/repos/JeschkeL...   \n",
       "3     NaN                                                NaN   \n",
       "4     NaN                                                NaN   \n",
       "..    ...                                                ...   \n",
       "50  False  {'url': 'https://api.github.com/repos/JeschkeL...   \n",
       "51  False  {'url': 'https://api.github.com/repos/JeschkeL...   \n",
       "52  False  {'url': 'https://api.github.com/repos/JeschkeL...   \n",
       "53  False  {'url': 'https://api.github.com/repos/JeschkeL...   \n",
       "54  False  {'url': 'https://api.github.com/repos/JeschkeL...   \n",
       "\n",
       "                                                 body  \\\n",
       "0                                                None   \n",
       "1                                                None   \n",
       "2   Fixes the bug in the `sophgrid` function highl...   \n",
       "3   Hi!\\r\\n\\r\\nIt seems to me that the implementat...   \n",
       "4   When using deerlab in jupyter the following wa...   \n",
       "..                                                ...   \n",
       "50                                                      \n",
       "51  Wrote fftconvolve KDE to remove KDEpy dependen...   \n",
       "52  Vectorized kernel generation - faster, flatter...   \n",
       "53                                                      \n",
       "54                                                      \n",
       "\n",
       "                                            reactions  \\\n",
       "0   {'url': 'https://api.github.com/repos/JeschkeL...   \n",
       "1   {'url': 'https://api.github.com/repos/JeschkeL...   \n",
       "2   {'url': 'https://api.github.com/repos/JeschkeL...   \n",
       "3   {'url': 'https://api.github.com/repos/JeschkeL...   \n",
       "4   {'url': 'https://api.github.com/repos/JeschkeL...   \n",
       "..                                                ...   \n",
       "50  {'url': 'https://api.github.com/repos/JeschkeL...   \n",
       "51  {'url': 'https://api.github.com/repos/JeschkeL...   \n",
       "52  {'url': 'https://api.github.com/repos/JeschkeL...   \n",
       "53  {'url': 'https://api.github.com/repos/JeschkeL...   \n",
       "54  {'url': 'https://api.github.com/repos/JeschkeL...   \n",
       "\n",
       "                                         timeline_url  \\\n",
       "0   https://api.github.com/repos/JeschkeLab/DeerLa...   \n",
       "1   https://api.github.com/repos/JeschkeLab/DeerLa...   \n",
       "2   https://api.github.com/repos/JeschkeLab/DeerLa...   \n",
       "3   https://api.github.com/repos/JeschkeLab/DeerLa...   \n",
       "4   https://api.github.com/repos/JeschkeLab/DeerLa...   \n",
       "..                                                ...   \n",
       "50  https://api.github.com/repos/JeschkeLab/DeerLa...   \n",
       "51  https://api.github.com/repos/JeschkeLab/DeerLa...   \n",
       "52  https://api.github.com/repos/JeschkeLab/DeerLa...   \n",
       "53  https://api.github.com/repos/JeschkeLab/DeerLa...   \n",
       "54  https://api.github.com/repos/JeschkeLab/DeerLa...   \n",
       "\n",
       "   performed_via_github_app  state_reason assigned_devs  is_PR  \n",
       "0                      None          None            []   True  \n",
       "1                      None          None            []   True  \n",
       "2                      None          None      [HKaras]   True  \n",
       "3                      None     completed      [HKaras]  False  \n",
       "4                      None          None            []  False  \n",
       "..                      ...           ...           ...    ...  \n",
       "50                     None          None            []   True  \n",
       "51                     None          None            []   True  \n",
       "52                     None          None            []   True  \n",
       "53                     None          None            []   True  \n",
       "54                     None          None            []   True  \n",
       "\n",
       "[455 rows x 32 columns]"
      ]
     },
     "execution_count": 11,
     "metadata": {},
     "output_type": "execute_result"
    }
   ],
   "source": [
    "iss_df"
   ]
  },
  {
   "cell_type": "code",
   "execution_count": 12,
   "id": "de5e3b08",
   "metadata": {},
   "outputs": [
    {
     "ename": "SyntaxError",
     "evalue": "invalid syntax (457180413.py, line 1)",
     "output_type": "error",
     "traceback": [
      "\u001b[0;36m  Cell \u001b[0;32mIn[12], line 1\u001b[0;36m\u001b[0m\n\u001b[0;31m    iss_df[''] =\u001b[0m\n\u001b[0m                 ^\u001b[0m\n\u001b[0;31mSyntaxError\u001b[0m\u001b[0;31m:\u001b[0m invalid syntax\n"
     ]
    }
   ],
   "source": [
    "iss_df[''] = "
   ]
  },
  {
   "cell_type": "code",
   "execution_count": null,
   "id": "3bef3fb6",
   "metadata": {},
   "outputs": [],
   "source": [
    "iss_devs = get_assignee.get_issue_assignees(iss_df)"
   ]
  },
  {
   "cell_type": "code",
   "execution_count": 25,
   "id": "7c69f539",
   "metadata": {},
   "outputs": [
    {
     "ename": "NameError",
     "evalue": "name 'iss_devs' is not defined",
     "output_type": "error",
     "traceback": [
      "\u001b[0;31m---------------------------------------------------------------------------\u001b[0m",
      "\u001b[0;31mNameError\u001b[0m                                 Traceback (most recent call last)",
      "Cell \u001b[0;32mIn[25], line 1\u001b[0m\n\u001b[0;32m----> 1\u001b[0m \u001b[43miss_devs\u001b[49m\u001b[38;5;241m.\u001b[39massigned_devs\u001b[38;5;241m.\u001b[39mvalue_counts()\n",
      "\u001b[0;31mNameError\u001b[0m: name 'iss_devs' is not defined"
     ]
    }
   ],
   "source": [
    "iss_devs.assigned_devs.value_counts()"
   ]
  },
  {
   "cell_type": "code",
   "execution_count": null,
   "id": "09f439c5",
   "metadata": {},
   "outputs": [],
   "source": [
    "# reshape dataset to make taller on 'assigned_devs' column (ie 1x row:[dev1, dev2]; -> 2x rows: dev1; dev2\n",
    "exploded_devs = iss_devs.apply(pd.Series).explode(column='assigned_devs', ignore_index=True)"
   ]
  },
  {
   "cell_type": "code",
   "execution_count": null,
   "id": "9aec1e1c",
   "metadata": {},
   "outputs": [],
   "source": [
    "exploded_devs.assigned_devs.value_counts(normalize=True, dropna=False)"
   ]
  },
  {
   "cell_type": "code",
   "execution_count": null,
   "id": "fe2f0938",
   "metadata": {},
   "outputs": [],
   "source": []
  },
  {
   "cell_type": "code",
   "execution_count": null,
   "id": "d16042aa",
   "metadata": {},
   "outputs": [],
   "source": [
    "# calculate 25% of assigned tickets\n",
    "all_tix = len(iss_devs.index)\n",
    "total_assigned = len(iss_devs[[bool(x) for x in iss_devs.assigned_devs]])\n",
    "#non_assigned = all_tix - total_assigned\n",
    "non_assigned_text = f'{all_tix - total_assigned} Unassigned tickets (N = {all_tix})'\n",
    "\n",
    "print(exploded_devs['assigned_devs'].value_counts(dropna=False))  # print per-dev assignment counts\n",
    "\n",
    "# do actual plotting:\n",
    "exploded_devs['assigned_devs'].value_counts(normalize=True, dropna=False).plot.bar(column='assigned_devs', color='red', label='assigned tickets')\n",
    "\n",
    "plt.xlabel(\"Assigned To user\")\n",
    "plt.ylabel(\"Proportion of issue tickets assigned\")\n",
    "plt.title(f\"Proportion of assigned issue tickets per dev for repo: {repo_name}\")\n",
    "plt.axhline(y=(0.25), linestyle='--', color='black', label=f'25% ({total_assigned}) assigned issues')  # plot line at 25% of all closed assigned tickets\n",
    "plt.plot([], [], ' ', label=non_assigned_text)  # Create empty plot with blank marker containing the extra label\n",
    "plt.legend(loc='upper right')"
   ]
  },
  {
   "cell_type": "code",
   "execution_count": null,
   "id": "a532ce52",
   "metadata": {},
   "outputs": [],
   "source": [
    "# plot issue ticket assignment proportions amongst devs for 1 repo\n",
    "\n",
    "def without_hue(plot, feature):\n",
    "    total = len(feature)\n",
    "    for p in ax.patches:\n",
    "        percentage = '{:.1f}%'.format(100 * p.get_height()/total)\n",
    "        x = p.get_x() + p.get_width() / 2 - 0.05\n",
    "        y = p.get_y() + p.get_height()\n",
    "        ax.annotate(percentage, (x, y), size = 12)\n",
    "    plt.show()\n",
    "    # method for plotting percentages onto seaborn plot without hue via https://stackoverflow.com/a/62076347\n",
    "\n",
    "# calculate 25% of assigned tickets\n",
    "all_tix = len(iss_devs.index)\n",
    "#total_assigned = len(iss_devs[[bool(x) for x in iss_devs.assigned_devs]]) # used by axhline label if used\n",
    "\n",
    "    \n",
    "# deal with NaNs: \n",
    "exploded_devs['assigned_devs'] = exploded_devs['assigned_devs'].fillna('unassigned')   # via https://stackoverflow.com/a/46415931\n",
    "\n",
    "plt.figure(figsize=(7,5))\n",
    "ax=sns.countplot(\n",
    "    x='assigned_devs', \n",
    "    data=exploded_devs, \n",
    "    order = exploded_devs['assigned_devs'].value_counts(dropna=False).index  # order the bars; via https://stackoverflow.com/a/46624802\n",
    ")\n",
    "plt.xticks(size=12)\n",
    "plt.xlabel('Assigned To User', size=12)\n",
    "plt.yticks(size=12)\n",
    "plt.ylabel('Count of Tickets Assigned', size=12)\n",
    "#plt.axhline(y=(all_tix*0.10), linestyle='--', color='black', label=f'25% ({total_assigned}) assigned issues')  # plot line at 10% of all assigned tickets\n",
    "plt.title(f\"Issue Ticket Assignment in {repo_name} repo:  N = {all_tix}\")\n",
    "\n",
    "\n",
    "without_hue(ax, exploded_devs.assigned_devs)"
   ]
  },
  {
   "cell_type": "code",
   "execution_count": null,
   "id": "dcf75e33",
   "metadata": {},
   "outputs": [],
   "source": []
  },
  {
   "cell_type": "code",
   "execution_count": null,
   "id": "9172f555",
   "metadata": {},
   "outputs": [],
   "source": []
  },
  {
   "cell_type": "code",
   "execution_count": null,
   "id": "873a237c",
   "metadata": {},
   "outputs": [],
   "source": []
  },
  {
   "cell_type": "code",
   "execution_count": null,
   "id": "d661fb91",
   "metadata": {},
   "outputs": [],
   "source": []
  },
  {
   "cell_type": "code",
   "execution_count": null,
   "id": "1b4d7a14",
   "metadata": {},
   "outputs": [],
   "source": []
  },
  {
   "cell_type": "code",
   "execution_count": null,
   "id": "98615e73",
   "metadata": {},
   "outputs": [],
   "source": []
  },
  {
   "cell_type": "code",
   "execution_count": null,
   "id": "95a6cdf8",
   "metadata": {},
   "outputs": [],
   "source": []
  },
  {
   "cell_type": "code",
   "execution_count": null,
   "id": "94921971",
   "metadata": {},
   "outputs": [],
   "source": [
    "import pandas as pd\n",
    "import seaborn as sns\n",
    "\n",
    "df = sns.load_dataset(\"tips\")\n",
    "x, y, hue = \"day\", \"proportion\", \"sex\"\n",
    "hue_order = [\"Male\", \"Female\"]\n",
    "\n",
    "(df[x]\n",
    " .groupby(df[hue])\n",
    " .value_counts(normalize=True)\n",
    " .rename(y)\n",
    " .reset_index()\n",
    " .pipe((sns.barplot, \"data\"), x=x, y=y, hue=hue))"
   ]
  },
  {
   "cell_type": "markdown",
   "id": "f942645a",
   "metadata": {},
   "source": [
    "### Load 1 repo content via get_repo_connection() "
   ]
  },
  {
   "cell_type": "code",
   "execution_count": null,
   "id": "af603375",
   "metadata": {},
   "outputs": [],
   "source": [
    "# repo_con = ghconnect.get_repo_connection(repo_name='harnesscloud/irm-nova', config_path='../../githubanalysis/config.cfg')\n",
    "# repo_con = repo_con.json()\n",
    "# print(repo_con)"
   ]
  },
  {
   "cell_type": "markdown",
   "id": "33f75c60",
   "metadata": {},
   "source": [
    "### Load 1 repo content via s.get() "
   ]
  },
  {
   "cell_type": "code",
   "execution_count": null,
   "id": "f47394c1",
   "metadata": {},
   "outputs": [],
   "source": [
    "# gh_token = ghauth.setup_github_auth(config_path='../../githubanalysis/config.cfg')\n",
    "# headers = {'Authorization': 'token ' + gh_token}\n",
    "\n",
    "# s = requests.Session()\n",
    "# retries = Retry(total=10, connect=5, read=3, backoff_factor=1.5, status_forcelist=[202, 502, 503, 504])\n",
    "# s.mount('https://', HTTPAdapter(max_retries=retries))"
   ]
  },
  {
   "cell_type": "markdown",
   "id": "59f9ccb8",
   "metadata": {},
   "source": [
    "### Load repo stats file"
   ]
  },
  {
   "cell_type": "code",
   "execution_count": null,
   "id": "1f4f76ae",
   "metadata": {},
   "outputs": [],
   "source": [
    "total_stats = pd.read_csv(\"../../data/gh_stats_2024-02-14-eidf.csv\", header=0, nrows=250)\n",
    "print(total_stats.head)"
   ]
  },
  {
   "cell_type": "code",
   "execution_count": null,
   "id": "fbbac1f3",
   "metadata": {},
   "outputs": [],
   "source": [
    "len(total_stats.index) # number of records (so far)"
   ]
  },
  {
   "cell_type": "code",
   "execution_count": null,
   "id": "31c5138a",
   "metadata": {},
   "outputs": [],
   "source": [
    "total_stats['initial_HTTP_code'].value_counts()"
   ]
  },
  {
   "cell_type": "markdown",
   "id": "2921c9f3",
   "metadata": {},
   "source": [
    "## Subset: only non-404 repos:"
   ]
  },
  {
   "cell_type": "code",
   "execution_count": null,
   "id": "e61bdfb3",
   "metadata": {},
   "outputs": [],
   "source": [
    "total_stats_200s = total_stats[total_stats['initial_HTTP_code'] == 200]\n",
    "\n",
    "#total_stats_200s[['devs', 'repo_age_days', 'total_commits_last_year']].describe()"
   ]
  },
  {
   "cell_type": "code",
   "execution_count": null,
   "id": "2e6f2779",
   "metadata": {},
   "outputs": [],
   "source": [
    "total_stats_200s['has_issues'] = np.where((total_stats_200s['open_tickets'] > 1) | (total_stats_200s['closed_tickets'] > 1), True, False)\n",
    "total_stats_200s['all_tickets'] = (total_stats_200s['open_tickets'] + total_stats_200s['closed_tickets'])\n",
    "\n",
    "#print(total_stats_200s)"
   ]
  },
  {
   "cell_type": "code",
   "execution_count": null,
   "id": "8ec957df",
   "metadata": {},
   "outputs": [],
   "source": [
    "total_stats_200s[['devs', 'repo_age_days', 'all_tickets', 'open_tickets', 'closed_tickets']].mean()"
   ]
  },
  {
   "cell_type": "code",
   "execution_count": null,
   "id": "57c1da32",
   "metadata": {},
   "outputs": [],
   "source": [
    "total_stats_200s[['devs', 'repo_age_days', 'all_tickets', 'open_tickets', 'closed_tickets']].max()"
   ]
  },
  {
   "cell_type": "code",
   "execution_count": null,
   "id": "3e5c4e40",
   "metadata": {},
   "outputs": [],
   "source": [
    "# Find the outlier: \n",
    "# https://github.com/swsoyee/2019-ncov-japan/issues \n",
    "# \"Interactive dashboard for real-time recording of COVID-19 outbreak in Japan\"\n",
    "total_stats_200s[total_stats_200s['closed_tickets'] > 16900]"
   ]
  },
  {
   "cell_type": "code",
   "execution_count": null,
   "id": "faf10f27",
   "metadata": {},
   "outputs": [],
   "source": [
    "tmp = total_stats_200s.drop([93])\n",
    "tmp[['devs', 'repo_age_days', 'all_tickets', 'open_tickets', 'closed_tickets']].max()"
   ]
  },
  {
   "cell_type": "markdown",
   "id": "61f5212a",
   "metadata": {},
   "source": [
    "## remove closed_tickets outlier  "
   ]
  },
  {
   "cell_type": "code",
   "execution_count": null,
   "id": "75d4d642",
   "metadata": {},
   "outputs": [],
   "source": [
    "total_stats_200s = total_stats_200s.drop([93])"
   ]
  },
  {
   "cell_type": "code",
   "execution_count": null,
   "id": "92aad3ad",
   "metadata": {},
   "outputs": [],
   "source": [
    "total_stats_200s[['devs', 'repo_age_days', 'all_tickets', 'open_tickets', 'closed_tickets']].mean()"
   ]
  },
  {
   "cell_type": "markdown",
   "id": "092893c7",
   "metadata": {},
   "source": [
    "Starting number: 250 records.\n",
    "\n",
    "Data excluded:  \n",
    " - 404 repos (may have been made private, or deleted?)  (removes 3 records) \n",
    " - huge outlier of closed_tickets (removes 1 record)   \n",
    " \n",
    "Possibly worth excluding further: \n",
    " - repos with < 50 devs (removes 2 records from the set) \n",
    " - repos which are a fork? (removes 11 records) \n",
    " \n",
    "\n",
    "Key interesting points: \n",
    "\n",
    " - issue-using repos:  \n",
    "   - are older on average  \n",
    "   - are more active (higher commits in last year)  \n",
    "   - have larger numbers of devs in the repo  \n",
    " \n",
    " - solo-dev repos are SUPER COMMON; repos with more than 10 devs are much less common.    \n",
    " \n",
    " - there's a difference in behaviour between repos using issues vs not using issues in YOUNG repos (~1st year; < 500 days) in their commit activity in the last year. Repos not using issues tend to have lower numbers of commits in their first year; there are fewer repos using issues in the first year, but all have fairly high commits in their first year. This isn't explained by forked-ness.  \n",
    " \n",
    " - Repos up to 5 years are the most common. Again, seeing the split between issue use here... Age distribution is fairly even amongst issue-users, but NOT non-issues-users.\n",
    " \n",
    "\n",
    "Worth investigating:  \n",
    " - Zenodo record creation dates vs github repo ages  \n",
    " - actual commits data (not just number of commits in last year)  \n",
    " - binning devs numbers: 1, 2-5, 6+ and plotting out behaviours with   \n",
    " \n",
    " "
   ]
  },
  {
   "cell_type": "code",
   "execution_count": null,
   "id": "27cf969b",
   "metadata": {},
   "outputs": [],
   "source": [
    "repo_name = 'MotionbyLearning/stm' # 61\n",
    "#repo_name = 'nicolasfara/reconfiguration-experiments'\n",
    "\n",
    "gh_token = ghauth.setup_github_auth(config_path='../../githubanalysis/config.cfg')\n",
    "headers = {'Authorization': 'token ' + gh_token}\n",
    "\n",
    "s = requests.Session()\n",
    "retries = Retry(total=10, connect=5, read=3, backoff_factor=1.5, status_forcelist=[202, 502, 503, 504])\n",
    "s.mount('https://', HTTPAdapter(max_retries=retries))"
   ]
  },
  {
   "cell_type": "code",
   "execution_count": null,
   "id": "f3fad246",
   "metadata": {},
   "outputs": [],
   "source": [
    "state='all'\n",
    "issues_url = f\"https://api.github.com/repos/{repo_name}/issues?state={state}&per_page=100&pulls=false\"\n",
    "#print(issues_url)\n",
    "\n",
    "api_response = s.get(url=issues_url, headers=headers)"
   ]
  },
  {
   "cell_type": "code",
   "execution_count": null,
   "id": "d18387c4",
   "metadata": {},
   "outputs": [],
   "source": [
    "#dir(api_response)"
   ]
  },
  {
   "cell_type": "code",
   "execution_count": null,
   "id": "aeeffc5f",
   "metadata": {},
   "outputs": [],
   "source": [
    "print(api_response.links)"
   ]
  },
  {
   "cell_type": "code",
   "execution_count": null,
   "id": "d67b3659",
   "metadata": {},
   "outputs": [],
   "source": [
    "issue_links = api_response.links\n",
    "\n",
    "if 'last' in issue_links:\n",
    "    issue_links_last = issue_links['last']['url'].split(\"&page=\")[1]\n",
    "    pages_issues = int(issue_links_last)\n",
    "\n",
    "    print(pages_issues)"
   ]
  },
  {
   "cell_type": "code",
   "execution_count": null,
   "id": "832b0d0c",
   "metadata": {},
   "outputs": [],
   "source": [
    "#df_js = pd.read_json('https://api.github.com/repositories/693656185/issues?state=all&per_page=100&page=2&pulls=false')"
   ]
  },
  {
   "cell_type": "code",
   "execution_count": null,
   "id": "7f1a5a22",
   "metadata": {},
   "outputs": [],
   "source": [
    "#print(df_js)"
   ]
  },
  {
   "cell_type": "code",
   "execution_count": null,
   "id": "2931810c",
   "metadata": {},
   "outputs": [],
   "source": [
    "# r = range(1,5)\n",
    "# for i in r:\n",
    "#     print(i)"
   ]
  },
  {
   "cell_type": "code",
   "execution_count": null,
   "id": "49151435",
   "metadata": {},
   "outputs": [],
   "source": [
    "pg_range = range(1, (pages_issues+1))\n",
    "all_issues = pd.DataFrame()\n",
    "store_pgs = pd.DataFrame()\n",
    "\n",
    "print(pg_range)\n",
    "\n",
    "\n",
    "for i in pg_range: \n",
    "    print(i)\n",
    "    store_pgs = pd.read_json(path_or_buf=f\"https://api.github.com/repos/{repo_name}/issues?state={state}&per_page=100&page={i}&pulls=false\")\n",
    "    all_issues = pd.concat([all_issues, store_pgs], )\n",
    "\n",
    "print(len(all_issues.index))\n",
    "print(len(store_pgs.index))\n"
   ]
  },
  {
   "cell_type": "code",
   "execution_count": null,
   "id": "8ae68ee6",
   "metadata": {},
   "outputs": [],
   "source": [
    "all_issues"
   ]
  },
  {
   "cell_type": "code",
   "execution_count": null,
   "id": "b8d131a2",
   "metadata": {},
   "outputs": [],
   "source": [
    "print(iss_df)"
   ]
  },
  {
   "cell_type": "code",
   "execution_count": null,
   "id": "d1a5beae",
   "metadata": {},
   "outputs": [],
   "source": [
    "iss_df.dtypes"
   ]
  },
  {
   "cell_type": "code",
   "execution_count": null,
   "id": "a27e7e0f",
   "metadata": {},
   "outputs": [],
   "source": [
    "iss_df.state"
   ]
  },
  {
   "cell_type": "code",
   "execution_count": null,
   "id": "a43303c7",
   "metadata": {},
   "outputs": [],
   "source": []
  },
  {
   "cell_type": "code",
   "execution_count": null,
   "id": "f0d3216a",
   "metadata": {},
   "outputs": [],
   "source": []
  },
  {
   "cell_type": "code",
   "execution_count": null,
   "id": "0f020657",
   "metadata": {},
   "outputs": [],
   "source": []
  },
  {
   "cell_type": "code",
   "execution_count": null,
   "id": "551da081",
   "metadata": {},
   "outputs": [],
   "source": []
  },
  {
   "cell_type": "code",
   "execution_count": null,
   "id": "61e29473",
   "metadata": {},
   "outputs": [],
   "source": []
  },
  {
   "cell_type": "markdown",
   "id": "e7f23df1",
   "metadata": {},
   "source": [
    "### Key stats differences between issues-users and non-issue-users"
   ]
  },
  {
   "cell_type": "code",
   "execution_count": null,
   "id": "d4d41877",
   "metadata": {},
   "outputs": [],
   "source": [
    "total_stats_200s.groupby('has_issues').mean(numeric_only=True)"
   ]
  },
  {
   "cell_type": "markdown",
   "id": "2e31a048",
   "metadata": {},
   "source": [
    "## Distribution of repo ages: bar per year of age  (split by issue-use)"
   ]
  },
  {
   "cell_type": "code",
   "execution_count": null,
   "id": "b65eb268",
   "metadata": {},
   "outputs": [],
   "source": [
    "sns.displot(data=total_stats_200s, x='repo_age_days', binwidth=365, col='has_issues')"
   ]
  },
  {
   "cell_type": "code",
   "execution_count": null,
   "id": "ce01f595",
   "metadata": {},
   "outputs": [],
   "source": [
    "#sns.displot(data=total_stats_200s, x='repo_age_days', y='total_commits_last_year', kind='hist')\n",
    "\n",
    "# Plot repo age (x) vs total commits last year (y) as bar chart of binned years and activity on y. \n",
    "# Maybe side-by-side the issues/non-issues/both as bars TODO: explain\n",
    "\n",
    "sns.set_theme() \n",
    "sns.set_palette('colorblind')\n",
    "\n",
    "# add new column to data that's the repos age in years to bin by\n",
    "total_stats_200s['repo_age_years'] = (total_stats_200s['repo_age_days'] // 365 )  # use integer division, not float division (10 // 3 = 3)\n",
    "\n",
    "#print(total_stats_200s['repo_age_years'])\n",
    "\n",
    "ax = sns.barplot(data=total_stats_200s, x='repo_age_years', y='total_commits_last_year', estimator='mean', errorbar=None)\n",
    "#ax.bar_label(ax.containers[0].round(2), fontsize=10);"
   ]
  },
  {
   "cell_type": "code",
   "execution_count": null,
   "id": "4a527427",
   "metadata": {},
   "outputs": [],
   "source": [
    "#sns.displot(data=total_stats_200s, x='repo_age_days', y='total_commits_last_year', kind='hist')\n",
    "\n",
    "# Plot repo age (x) vs total commits last year (y) as bar chart of binned years and activity on y. \n",
    "# Maybe side-by-side the issues/non-issues/both as bars TODO: explain\n",
    "\n",
    "sns.set_theme() \n",
    "sns.set_palette('colorblind')\n",
    "\n",
    "# add new column to data that's the repos age in years to bin by\n",
    "total_stats_200s['repo_age_years'] = (total_stats_200s['repo_age_days'] // 365 )  # use integer division, not float division (10 // 3 = 3)\n",
    "total_stats_200s = total_stats_200s.astype({'repo_age_years': int})\n",
    "\n",
    "#print(total_stats_200s['repo_age_years'])\n",
    "\n",
    "\n",
    "plot = sns.catplot(data=total_stats_200s, x='repo_age_years', y='total_commits_last_year', kind='bar', estimator='mean', errorbar=None)\n",
    "#plot = sns.catplot(data=total_stats_200s, x='repo_age_years', y='total_commits_last_year', kind='bar', estimator='mean', errorbar=('se'))\n",
    "plot.figure.subplots_adjust(top=0.9)\n",
    "plot.fig.suptitle(f\"Average Number of Commits in Last Year by Repository Ages: N={len(total_stats_200s.repo_name)}\")\n",
    "\n",
    "plt.xticks(size=12)\n",
    "plt.xlabel('Repository Age (years)', size=12)\n",
    "plt.yticks(size=12)\n",
    "plt.ylabel('Average Commits in Last Year', size=12)\n",
    "\n",
    "\n",
    "for i, bar in enumerate(plot.ax.patches):\n",
    "    h = bar.get_height()\n",
    "    plot.ax.text(\n",
    "        i, # bar index (x coordinate of text)\n",
    "        h+1, # y coordinate of text\n",
    "        #'{0:.2f}'.format(h),  # y label with 2decimal places\n",
    "        '{}'.format(int(h)),  # y label with whole numbers\n",
    "        ha='center', \n",
    "        va='center', \n",
    "        #fontweight='bold', \n",
    "        size=8)"
   ]
  },
  {
   "cell_type": "code",
   "execution_count": null,
   "id": "772ea17c",
   "metadata": {},
   "outputs": [],
   "source": [
    "plot = sns.catplot(data=total_stats_200s, x='repo_age_years', kind='count')\n",
    "plot.figure.subplots_adjust(top=0.9)\n",
    "plot.fig.suptitle(f\"Number of Repositories at Each Age in Years: N={len(total_stats_200s)}\")\n",
    "\n",
    "plt.xticks(size=12)\n",
    "plt.xlabel('Repository Age (years)', size=12)\n",
    "plt.yticks(size=12)\n",
    "plt.ylabel('Number of Repositories', size=12)\n",
    "\n",
    "# add values to bars (integers)\n",
    "for i, bar in enumerate(plot.ax.patches):\n",
    "    h = bar.get_height()\n",
    "    plot.ax.text(\n",
    "        i, # bar index (x coordinate of text)\n",
    "        h+1, # y coordinate of text\n",
    "        #'{0:.2f}'.format(h),  # y label with 2 decimal places\n",
    "        '{}'.format(int(h)),  # y label with whole numbers\n",
    "        ha='center', \n",
    "        va='center', \n",
    "        #fontweight='bold', \n",
    "        size=8)"
   ]
  },
  {
   "cell_type": "code",
   "execution_count": null,
   "id": "988bcb3a",
   "metadata": {},
   "outputs": [],
   "source": [
    "repos_7yrs = total_stats_200s[total_stats_200s['repo_age_years'] == 7]\n",
    "\n",
    "len(repos_7yrs.index)\n",
    "\n",
    "#repos_7yrs[['devs', 'repo_age_days', 'all_tickets', 'open_tickets', 'closed_tickets']].mean()\n",
    "\n",
    "#repos_7yrs[['devs', 'repo_age_days', 'all_tickets', 'open_tickets', 'closed_tickets']].median()\n",
    "\n",
    "repos_7yrs['total_commits_last_year'].describe()\n"
   ]
  },
  {
   "cell_type": "code",
   "execution_count": null,
   "id": "23bf76f0",
   "metadata": {},
   "outputs": [],
   "source": [
    "sns.countplot(data=repos_7yrs, x='total_commits_last_year')"
   ]
  },
  {
   "cell_type": "code",
   "execution_count": null,
   "id": "576e2014",
   "metadata": {},
   "outputs": [],
   "source": [
    "print(repos_7yrs[repos_7yrs['total_commits_last_year'] == 108]) # get this specific datapoint ^\n",
    "\n",
    "total_stats_200s[total_stats_200s['repo_name'] == 'SciTools/python-stratify']  # pull out its whole record."
   ]
  },
  {
   "cell_type": "code",
   "execution_count": null,
   "id": "6b67ec11",
   "metadata": {},
   "outputs": [],
   "source": []
  },
  {
   "cell_type": "code",
   "execution_count": null,
   "id": "957f5fb8",
   "metadata": {},
   "outputs": [],
   "source": []
  },
  {
   "cell_type": "code",
   "execution_count": null,
   "id": "7f0e55a6",
   "metadata": {},
   "outputs": [],
   "source": []
  },
  {
   "cell_type": "markdown",
   "id": "88e3d97b",
   "metadata": {},
   "source": [
    "## Number of Devs Per Repo (mostly under 10, averages ~5)"
   ]
  },
  {
   "cell_type": "code",
   "execution_count": null,
   "id": "f043e87e",
   "metadata": {},
   "outputs": [],
   "source": [
    "# Devs per Repo\n",
    "# PLOT ALL DEVS\n",
    "sns.displot(data=total_stats_200s, x='devs')"
   ]
  },
  {
   "cell_type": "code",
   "execution_count": null,
   "id": "89a9d025",
   "metadata": {},
   "outputs": [],
   "source": [
    "# PLOT UNDER 50 DEVS\n",
    "smaller_teams = total_stats_200s[total_stats_200s['devs'] < 50]\n",
    "sns.histplot(data=smaller_teams, x='devs', discrete=True)\n",
    "#len(smaller_teams) # 244\n",
    "#len(total_stats_200s) #246"
   ]
  },
  {
   "cell_type": "code",
   "execution_count": null,
   "id": "18a85342",
   "metadata": {},
   "outputs": [],
   "source": [
    "# PLOT UNDER 20 DEVS\n",
    "smaller_teams = total_stats_200s[total_stats_200s['devs'] <= 20]\n",
    "sns.histplot(data=smaller_teams, x='devs', discrete=True)"
   ]
  },
  {
   "cell_type": "code",
   "execution_count": null,
   "id": "4b5894fb",
   "metadata": {},
   "outputs": [],
   "source": [
    "# PLOT 10 DEVS\n",
    "smaller_teams = total_stats_200s[total_stats_200s['devs'] <= 10]\n",
    "sns.histplot(data=smaller_teams, x='devs', discrete=True)"
   ]
  },
  {
   "cell_type": "markdown",
   "id": "3394d174",
   "metadata": {},
   "source": [
    "### more devs more tickets!"
   ]
  },
  {
   "cell_type": "code",
   "execution_count": null,
   "id": "ef1361eb",
   "metadata": {},
   "outputs": [],
   "source": [
    "sns.scatterplot(data=total_stats_200s, x='devs', y='all_tickets')"
   ]
  },
  {
   "cell_type": "code",
   "execution_count": null,
   "id": "dfe84077",
   "metadata": {},
   "outputs": [],
   "source": [
    "# ZOOM IN ON Devs vs Tickets! \n",
    "# PLOT 50 DEVS\n",
    "smaller_teams = total_stats_200s[total_stats_200s['devs'] <= 50]\n",
    "sns.scatterplot(data=smaller_teams, x='devs', y='all_tickets')"
   ]
  },
  {
   "cell_type": "markdown",
   "id": "3088af66",
   "metadata": {},
   "source": [
    "## Forks don't really make much difference to the data? "
   ]
  },
  {
   "cell_type": "markdown",
   "id": "d44c86ed",
   "metadata": {},
   "source": [
    "# latest commit activity differs..."
   ]
  },
  {
   "cell_type": "code",
   "execution_count": null,
   "id": "f5f1d864",
   "metadata": {},
   "outputs": [],
   "source": [
    "sns.set_theme() \n",
    "sns.set_palette('colorblind')\n",
    "\n",
    "sns.histplot(\n",
    "    data=total_stats_200s, \n",
    "    x='repo_age_days', \n",
    "    y='total_commits_last_year',  \n",
    "    #hue='has_issues', \n",
    "    stat='count',\n",
    "    #binwidth='365',\n",
    "    discrete=True\n",
    ")\n",
    "\n"
   ]
  },
  {
   "cell_type": "code",
   "execution_count": null,
   "id": "9d803a2a",
   "metadata": {},
   "outputs": [],
   "source": []
  },
  {
   "cell_type": "code",
   "execution_count": null,
   "id": "726e000c",
   "metadata": {},
   "outputs": [],
   "source": []
  },
  {
   "cell_type": "code",
   "execution_count": null,
   "id": "59831c12",
   "metadata": {},
   "outputs": [],
   "source": [
    "sns.set_theme() \n",
    "sns.set_palette('colorblind')\n",
    "\n",
    "g = sns.FacetGrid(total_stats_200s, hue='has_issues', col='repo_is_fork', margin_titles=True, height=6, sharey=True, sharex=False)\n",
    "#g.add_legend(legend_data={'False':'blue', 'True': 'yellow'})\n",
    "rp = g.map_dataframe(sns.scatterplot, x='repo_age_days', y='total_commits_last_year', size='devs', alpha=0.5)\n",
    "rp.fig.subplots_adjust(top=0.80) # adjust the Figure in rp\n",
    "#rp.fig.subplot.scale(y='log')\n",
    "rp.fig.suptitle(\"Total Commits in Last Year by Repo Age in Days (size ='N devs')\")"
   ]
  },
  {
   "cell_type": "markdown",
   "id": "9bb985be",
   "metadata": {},
   "source": [
    "### All Repos (including zero commits in last year): commits activity in last year by repo age (UP TO 1000 DAYS)\n",
    "\n"
   ]
  },
  {
   "cell_type": "code",
   "execution_count": null,
   "id": "15223b87",
   "metadata": {},
   "outputs": [],
   "source": [
    "sns.set_theme() \n",
    "sns.set_palette('colorblind')\n",
    "\n",
    "first_1k_days = total_stats_200s[total_stats_200s['repo_age_days'] < 1000]\n",
    "\n",
    "g = sns.FacetGrid(first_1k_days, hue='has_issues', col='repo_is_fork', margin_titles=True, height=6, sharey=True, sharex=False)\n",
    "#g.add_legend(legend_data={'False':'blue', 'True': 'yellow'})\n",
    "rp = g.map_dataframe(sns.scatterplot, x='repo_age_days', y='total_commits_last_year', size='devs', alpha=0.5)\n",
    "rp.fig.subplots_adjust(top=0.80) # adjust the Figure in rp\n",
    "#rp.fig.subplot.scale(y='log')\n",
    "rp.fig.suptitle(\"Total Commits in Last Year by Repo Age in Days (FIRST 1000 DAYS ONLY) (size ='N devs')\")"
   ]
  },
  {
   "cell_type": "markdown",
   "id": "bf0ac8ac",
   "metadata": {},
   "source": [
    "## Active Repos: Commits Activity in Last Year by Repo Age"
   ]
  },
  {
   "cell_type": "code",
   "execution_count": null,
   "id": "38d47dae",
   "metadata": {},
   "outputs": [],
   "source": [
    "active_repos = total_stats_200s[total_stats_200s['total_commits_last_year'] >= 1]\n",
    "len(active_repos) # 77\n",
    "#print(active_repos)\n",
    "\n",
    "#first_1k_days = total_stats_200s[total_stats_200s['repo_age_days'] < 1000]\n",
    "\n",
    "g = sns.FacetGrid(active_repos, hue='has_issues', col='repo_is_fork', margin_titles=True, height=6, sharey=True, sharex=False)\n",
    "#g.add_legend(legend_data={'False':'blue', 'True': 'yellow'})\n",
    "rp = g.map_dataframe(sns.scatterplot, x='repo_age_days', y='total_commits_last_year', size='devs', alpha=0.5)\n",
    "rp.fig.subplots_adjust(top=0.80) # adjust the Figure in rp\n",
    "#rp.fig.subplot.scale(y='log')\n",
    "rp.fig.suptitle(\"Total Commits in Last Year by Repo Age in Days AMONGST ACTIVE REPOS ONLY (>1 commit in last year) (size ='N devs')\")\n"
   ]
  },
  {
   "cell_type": "code",
   "execution_count": null,
   "id": "edbe4539",
   "metadata": {},
   "outputs": [],
   "source": []
  },
  {
   "cell_type": "code",
   "execution_count": null,
   "id": "278e215b",
   "metadata": {},
   "outputs": [],
   "source": []
  },
  {
   "cell_type": "code",
   "execution_count": null,
   "id": "8db1a637",
   "metadata": {},
   "outputs": [],
   "source": []
  },
  {
   "cell_type": "code",
   "execution_count": null,
   "id": "765f9f25",
   "metadata": {},
   "outputs": [],
   "source": []
  },
  {
   "cell_type": "code",
   "execution_count": null,
   "id": "e55309ed",
   "metadata": {},
   "outputs": [],
   "source": [
    "total_stats_200s['issues_enabled'].value_counts() \n"
   ]
  },
  {
   "cell_type": "code",
   "execution_count": null,
   "id": "5a03de55",
   "metadata": {},
   "outputs": [],
   "source": [
    "(total_stats_200s['all_tickets'] == 0).sum() # 171 records with 0 issues"
   ]
  },
  {
   "cell_type": "code",
   "execution_count": null,
   "id": "7bd91399",
   "metadata": {},
   "outputs": [],
   "source": [
    "(total_stats_200s['all_tickets'] > 0).sum() # 75 records with 1+ issues"
   ]
  },
  {
   "cell_type": "code",
   "execution_count": null,
   "id": "80a79e27",
   "metadata": {},
   "outputs": [],
   "source": [
    "total_stats_200s['has_PRs'].value_counts()"
   ]
  },
  {
   "cell_type": "code",
   "execution_count": null,
   "id": "16c3feb0",
   "metadata": {},
   "outputs": [],
   "source": [
    "total_stats_200s['repo_is_fork'].value_counts()"
   ]
  },
  {
   "cell_type": "code",
   "execution_count": null,
   "id": "0ade19d6",
   "metadata": {},
   "outputs": [],
   "source": [
    "total_stats_200s"
   ]
  },
  {
   "cell_type": "code",
   "execution_count": null,
   "id": "d1c744e4",
   "metadata": {},
   "outputs": [],
   "source": [
    "total_stats_200s.describe()"
   ]
  },
  {
   "cell_type": "code",
   "execution_count": null,
   "id": "43fca3dc",
   "metadata": {},
   "outputs": [],
   "source": [
    "# plot setup  \n",
    "(sns.set_theme(), \n",
    " sns.set_palette('colorblind'),\n",
    " #plt.subplots(figsize=(8,8)),\n",
    " sns.relplot(\n",
    "     data=total_stats_200s, x='repo_age_days', y='devs', alpha=0.5, hue='repo_is_fork'\n",
    " ), \n",
    " #plt.xscale('log'),\n",
    " #plt.yscale('log') \n",
    ")"
   ]
  },
  {
   "cell_type": "code",
   "execution_count": null,
   "id": "1f4ebd12",
   "metadata": {},
   "outputs": [],
   "source": [
    "len(total_stats_200s[total_stats_200s['total_commits_last_year'] >= 1].index)\n",
    "# 77 repos with more than 1 commit last year..."
   ]
  },
  {
   "cell_type": "markdown",
   "id": "5da341e7",
   "metadata": {},
   "source": [
    "### Total commits in last year by repo age; split by using issues"
   ]
  },
  {
   "cell_type": "code",
   "execution_count": null,
   "id": "695c989f",
   "metadata": {},
   "outputs": [],
   "source": [
    "sns.set_theme() \n",
    "sns.set_palette('colorblind')\n",
    "\n",
    "g = sns.FacetGrid(total_stats_200s, hue='has_issues', col='has_issues', margin_titles=True, height=6, sharey=True, sharex=False)\n",
    "rp = g.map_dataframe(sns.scatterplot, x='repo_age_days', y='total_commits_last_year', size='devs', alpha=0.5)\n",
    "rp.fig.subplots_adjust(top=0.80) # adjust the Figure in rp\n",
    "#rp.fig.subplot.scale(y='log')\n",
    "rp.fig.suptitle(\"Total Commits in Last Year by Repo Age in Days (size ='N devs')\")"
   ]
  },
  {
   "cell_type": "code",
   "execution_count": null,
   "id": "3134b766",
   "metadata": {},
   "outputs": [],
   "source": [
    "# SAME PLOT BUT WITH 'RUG' TICKS ON AXES\n",
    "sns.set_theme() \n",
    "sns.set_palette('colorblind')\n",
    "\n",
    "g = sns.FacetGrid(total_stats_200s, hue='has_issues', col='has_issues', margin_titles=True, height=6, sharey=True, sharex=False)\n",
    "rp = g.map_dataframe(sns.scatterplot, x='repo_age_days', y='total_commits_last_year', size='devs', alpha=0.5)\n",
    "rp = g.map_dataframe(sns.rugplot, x='repo_age_days', y='total_commits_last_year', height=-.02, clip_on=False)\n",
    "rp.fig.subplots_adjust(top=0.80) # adjust the Figure in rp\n",
    "#rp.fig.subplot.scale(y='log')\n",
    "rp.fig.suptitle(\"Total Commits in Last Year by Repo Age in Days (size ='N devs')\")"
   ]
  },
  {
   "cell_type": "code",
   "execution_count": null,
   "id": "bc65edf9",
   "metadata": {},
   "outputs": [],
   "source": []
  },
  {
   "cell_type": "code",
   "execution_count": null,
   "id": "279933ff",
   "metadata": {},
   "outputs": [],
   "source": []
  },
  {
   "cell_type": "code",
   "execution_count": null,
   "id": "a0b43793",
   "metadata": {},
   "outputs": [],
   "source": [
    "print(total_stats_200s.dtypes)"
   ]
  },
  {
   "cell_type": "code",
   "execution_count": null,
   "id": "a4c7a587",
   "metadata": {},
   "outputs": [],
   "source": [
    "sns.histplot(data=total_stats_200s, x ='closed_tickets', stat='count', discrete=True)"
   ]
  },
  {
   "cell_type": "code",
   "execution_count": null,
   "id": "cfcb4955",
   "metadata": {},
   "outputs": [],
   "source": [
    "sns.histplot(data=total_stats_200s, x ='open_tickets', stat='count', discrete=True)\n"
   ]
  },
  {
   "cell_type": "code",
   "execution_count": null,
   "id": "7e9d387f",
   "metadata": {},
   "outputs": [],
   "source": []
  },
  {
   "cell_type": "code",
   "execution_count": null,
   "id": "0965cfc7",
   "metadata": {},
   "outputs": [],
   "source": [
    "sns.histplot(data=total_stats_200s, x ='all_tickets')"
   ]
  },
  {
   "cell_type": "code",
   "execution_count": null,
   "id": "545d1bfe",
   "metadata": {},
   "outputs": [],
   "source": []
  },
  {
   "cell_type": "code",
   "execution_count": null,
   "id": "870e9831",
   "metadata": {},
   "outputs": [],
   "source": [
    "\n"
   ]
  },
  {
   "cell_type": "code",
   "execution_count": null,
   "id": "c3ec8730",
   "metadata": {},
   "outputs": [],
   "source": []
  },
  {
   "cell_type": "code",
   "execution_count": null,
   "id": "91173bbb",
   "metadata": {},
   "outputs": [],
   "source": [
    "# # plot setup  \n",
    "# (sns.set_theme(), \n",
    "#  sns.set_palette('colorblind'),\n",
    "#  #plt.subplots(figsize=(8,8)),\n",
    "#  sns.relplot(\n",
    "#      data=active_repos, x='total_commits_last_year', y='devs', hue='has_PRs', alpha=0.5\n",
    "#  ), \n",
    "#  #plt.xscale('log'),\n",
    "#  #plt.yscale('log') \n",
    "# )"
   ]
  },
  {
   "cell_type": "code",
   "execution_count": null,
   "id": "21accefc",
   "metadata": {},
   "outputs": [],
   "source": [
    "# # plot setup  \n",
    "# sns.set_theme() \n",
    "# sns.set_palette('colorblind')\n",
    "\n",
    "# g = sns.FacetGrid(active_repos, hue='has_PRs', col='has_PRs', margin_titles=True, height=6, sharey=True, sharex=False)\n",
    "# rp = g.map_dataframe(sns.scatterplot, x='repo_age_days', y='total_commits_last_year', size='devs', alpha=0.5)\n",
    "# rp.fig.subplots_adjust(top=0.80) # adjust the Figure in rp\n",
    "# #rp.fig.subplot.scale(y='log')\n",
    "# rp.fig.suptitle(\"Repos Active within Last Year: Total Commits in Last Year by Repo Age in Days (size ='N devs')\")"
   ]
  },
  {
   "cell_type": "markdown",
   "id": "9714a377",
   "metadata": {},
   "source": [
    "# total commits last year vs dev count in active repos"
   ]
  },
  {
   "cell_type": "code",
   "execution_count": null,
   "id": "edab6961",
   "metadata": {},
   "outputs": [],
   "source": [
    "# plot setup  \n",
    "(sns.set_theme(), \n",
    " sns.set_palette('colorblind'),\n",
    " #plt.subplots(figsize=(8,8)),\n",
    " sns.relplot(\n",
    "     data=total_stats_200s, x='total_commits_last_year', y='devs'\n",
    " ), \n",
    " #plt.xscale('log'),\n",
    " #plt.yscale('log') \n",
    ")"
   ]
  },
  {
   "cell_type": "markdown",
   "id": "b3e138c7",
   "metadata": {},
   "source": [
    "# number of devs in active (commit in last year) repos"
   ]
  },
  {
   "cell_type": "code",
   "execution_count": null,
   "id": "c143f042",
   "metadata": {},
   "outputs": [],
   "source": [
    "bins=[1, 2, 5, 10]\n",
    "\n",
    "\n",
    "# plot setup  \n",
    "(sns.set_theme(), \n",
    " sns.set_palette('colorblind'),\n",
    " #plt.subplots(figsize=(8,8)),\n",
    " sns.displot(\n",
    "     data=total_stats_200s, x='devs', discrete=True\n",
    " ), \n",
    " #plt.xscale('log'),\n",
    " #plt.yscale('log') \n",
    ")"
   ]
  },
  {
   "cell_type": "code",
   "execution_count": null,
   "id": "f1340bab",
   "metadata": {},
   "outputs": [],
   "source": [
    "ax = sns.countplot(data=total_stats, x='initial_HTTP_code')\n",
    "ax.set_title(f\"HTTP Response Codes for GitHub Repositories; N={len(total_stats.index)}\")\n",
    "ax.bar_label(ax.containers[0])"
   ]
  },
  {
   "cell_type": "code",
   "execution_count": null,
   "id": "f42f832a",
   "metadata": {},
   "outputs": [],
   "source": []
  },
  {
   "cell_type": "code",
   "execution_count": null,
   "id": "d08bb868",
   "metadata": {},
   "outputs": [],
   "source": []
  },
  {
   "cell_type": "code",
   "execution_count": null,
   "id": "c38d06c1",
   "metadata": {},
   "outputs": [],
   "source": []
  },
  {
   "cell_type": "code",
   "execution_count": null,
   "id": "d09714cd",
   "metadata": {},
   "outputs": [],
   "source": []
  },
  {
   "cell_type": "code",
   "execution_count": null,
   "id": "6afc0123",
   "metadata": {},
   "outputs": [],
   "source": []
  },
  {
   "cell_type": "markdown",
   "id": "b114e37b",
   "metadata": {},
   "source": [
    "### get stats for 1 repo  "
   ]
  },
  {
   "cell_type": "code",
   "execution_count": null,
   "id": "5e8bb8a9",
   "metadata": {},
   "outputs": [],
   "source": [
    "#config_path = '../../githubanalysis/config.cfg'"
   ]
  },
  {
   "cell_type": "code",
   "execution_count": null,
   "id": "59437dc6",
   "metadata": {},
   "outputs": [],
   "source": [
    "logger = loggit.get_default_logger(console=True, set_level_to='DEBUG', log_name='../../logs/summarise_repo_stats_NOTEBOOK_logs.txt')  \n",
    "repo_summariser = RepoStatsSummariser(logger)"
   ]
  },
  {
   "cell_type": "code",
   "execution_count": null,
   "id": "57360d31",
   "metadata": {},
   "outputs": [],
   "source": [
    "gh_urls_df = pd.read_csv(\"../../data/todo_2024-02-06.csv\", header=0, usecols=['ZenodoID', 'repo_name'], dtype={'ZenodoID':'Int64', 'repo_name':'str'})\n",
    "gh_urls_df.shape"
   ]
  },
  {
   "cell_type": "code",
   "execution_count": null,
   "id": "c13dc823",
   "metadata": {},
   "outputs": [],
   "source": [
    "gh_urls_df_short = gh_urls_df[30:50]\n",
    "print(gh_urls_df_short)"
   ]
  },
  {
   "cell_type": "code",
   "execution_count": null,
   "id": "7bb7358f",
   "metadata": {},
   "outputs": [],
   "source": [
    "rec_collator = []\n",
    "loop_num = 0\n",
    "\n",
    "for repo in gh_urls_df_short.repo_name:\n",
    "    loop_num += 1\n",
    "    print(f\">>> Getting data for repo {loop_num} of {len(gh_urls_df_short.index)}: {repo}\")\n",
    "    repo_stats = repo_summariser.summarise_repo_stats(repo_name=repo, config_path='../../githubanalysis/config.cfg', per_pg=1, verbose=True)\n",
    "    rec_collator.append(repo_stats)\n",
    "    \n",
    "rec_df = pd.DataFrame(rec_collator)\n",
    "print(rec_df)"
   ]
  },
  {
   "cell_type": "code",
   "execution_count": null,
   "id": "b81c4088",
   "metadata": {},
   "outputs": [],
   "source": [
    "logger = loggit.get_default_logger(console=True, set_level_to='DEBUG', log_name='../../logs/summarise_repo_stats_NOTEBOOK_B_logs.txt')  \n",
    "repo_summariser = RepoStatsSummariser(logger)\n",
    "\n",
    "gh_urls_df_short = gh_urls_df[60:80]\n",
    "print(gh_urls_df_short)\n",
    "\n",
    "rec_collator = []\n",
    "loop_num = 0\n",
    "\n",
    "for repo in gh_urls_df_short.repo_name:\n",
    "    loop_num += 1\n",
    "    print(f\">>> Getting data for repo {loop_num} of {len(gh_urls_df_short.index)}: {repo} <<<\")\n",
    "    repo_stats = repo_summariser.summarise_repo_stats(repo_name=repo, config_path='../../githubanalysis/config.cfg', per_pg=1, verbose=True)\n",
    "    rec_collator.append(repo_stats)\n",
    "    \n",
    "rec_df = pd.DataFrame(rec_collator)\n",
    "print(rec_df)"
   ]
  },
  {
   "cell_type": "code",
   "execution_count": null,
   "id": "e92e0404",
   "metadata": {},
   "outputs": [],
   "source": [
    "logger = loggit.get_default_logger(console=True, set_level_to='DEBUG', log_name='../../logs/summarise_repo_stats_NOTEBOOK_B_logs.txt')  \n",
    "repo_summariser = RepoStatsSummariser(logger)\n",
    "\n",
    "gh_urls_df_ton = gh_urls_df[0:100]\n",
    "#print(gh_urls_df_ton)\n",
    "\n",
    "rec_collator = []\n",
    "loop_num = 0\n",
    "\n",
    "for repo in gh_urls_df_ton.repo_name:\n",
    "    loop_num += 1\n",
    "    print(f\">>> Getting data for repo {loop_num} of {len(gh_urls_df_short.index)}: {repo} <<<\")\n",
    "    logger.info(f\">>> Getting data for repo {loop_num} of {len(gh_urls_df_short.index)}: {repo} <<<\")\n",
    "    repo_stats = repo_summariser.summarise_repo_stats(repo_name=repo, config_path='../../githubanalysis/config.cfg', per_pg=1, verbose=True)\n",
    "    rec_collator.append(repo_stats)\n",
    "    \n",
    "rec_df = pd.DataFrame(rec_collator)\n",
    "print(rec_df)"
   ]
  },
  {
   "cell_type": "code",
   "execution_count": null,
   "id": "5bce9e6c",
   "metadata": {},
   "outputs": [],
   "source": []
  },
  {
   "cell_type": "code",
   "execution_count": null,
   "id": "9b69bd86",
   "metadata": {},
   "outputs": [],
   "source": []
  },
  {
   "cell_type": "code",
   "execution_count": null,
   "id": "bfa9fc89",
   "metadata": {},
   "outputs": [],
   "source": []
  },
  {
   "cell_type": "code",
   "execution_count": null,
   "id": "21bcd84d",
   "metadata": {},
   "outputs": [],
   "source": []
  },
  {
   "cell_type": "code",
   "execution_count": null,
   "id": "aba49808",
   "metadata": {},
   "outputs": [],
   "source": []
  },
  {
   "cell_type": "code",
   "execution_count": null,
   "id": "728158aa",
   "metadata": {},
   "outputs": [],
   "source": []
  },
  {
   "cell_type": "code",
   "execution_count": null,
   "id": "7e88f8f2",
   "metadata": {},
   "outputs": [],
   "source": []
  },
  {
   "cell_type": "code",
   "execution_count": null,
   "id": "558974ac",
   "metadata": {},
   "outputs": [],
   "source": []
  },
  {
   "cell_type": "code",
   "execution_count": null,
   "id": "693c7c54",
   "metadata": {},
   "outputs": [],
   "source": []
  },
  {
   "cell_type": "code",
   "execution_count": null,
   "id": "4117bbde",
   "metadata": {},
   "outputs": [],
   "source": []
  },
  {
   "cell_type": "code",
   "execution_count": null,
   "id": "5a15c011",
   "metadata": {},
   "outputs": [],
   "source": []
  },
  {
   "cell_type": "code",
   "execution_count": null,
   "id": "5c119272",
   "metadata": {},
   "outputs": [],
   "source": []
  },
  {
   "cell_type": "code",
   "execution_count": null,
   "id": "72758479",
   "metadata": {},
   "outputs": [],
   "source": []
  },
  {
   "cell_type": "code",
   "execution_count": null,
   "id": "c8e8627d",
   "metadata": {},
   "outputs": [],
   "source": []
  },
  {
   "cell_type": "code",
   "execution_count": null,
   "id": "1eeaefe5",
   "metadata": {},
   "outputs": [],
   "source": []
  },
  {
   "cell_type": "code",
   "execution_count": null,
   "id": "e8dc7e27",
   "metadata": {},
   "outputs": [],
   "source": []
  },
  {
   "cell_type": "code",
   "execution_count": null,
   "id": "905ba572",
   "metadata": {},
   "outputs": [],
   "source": []
  },
  {
   "cell_type": "code",
   "execution_count": null,
   "id": "722656e0",
   "metadata": {},
   "outputs": [],
   "source": []
  },
  {
   "cell_type": "code",
   "execution_count": null,
   "id": "9762c5cb",
   "metadata": {},
   "outputs": [],
   "source": []
  },
  {
   "cell_type": "code",
   "execution_count": null,
   "id": "10228687",
   "metadata": {},
   "outputs": [],
   "source": []
  },
  {
   "cell_type": "code",
   "execution_count": null,
   "id": "36969493",
   "metadata": {},
   "outputs": [],
   "source": []
  },
  {
   "cell_type": "code",
   "execution_count": null,
   "id": "92d00302",
   "metadata": {},
   "outputs": [],
   "source": []
  },
  {
   "cell_type": "code",
   "execution_count": null,
   "id": "bf0a4417",
   "metadata": {},
   "outputs": [],
   "source": []
  }
 ],
 "metadata": {
  "kernelspec": {
   "display_name": "Python 3 (ipykernel)",
   "language": "python",
   "name": "python3"
  },
  "language_info": {
   "codemirror_mode": {
    "name": "ipython",
    "version": 3
   },
   "file_extension": ".py",
   "mimetype": "text/x-python",
   "name": "python",
   "nbconvert_exporter": "python",
   "pygments_lexer": "ipython3",
   "version": "3.10.9"
  }
 },
 "nbformat": 4,
 "nbformat_minor": 5
}
