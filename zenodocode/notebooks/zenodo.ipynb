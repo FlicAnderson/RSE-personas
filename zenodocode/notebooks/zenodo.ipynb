{
 "cells": [
  {
   "cell_type": "markdown",
   "id": "b12179ec",
   "metadata": {},
   "source": [
    "# Zenodo API code for getting GitHub Repos "
   ]
  },
  {
   "cell_type": "markdown",
   "id": "61504180",
   "metadata": {},
   "source": [
    "### Setup  \n",
    "\n",
    "Ensure you are in the `coding-smart-github` conda environment and have the following python packages in your environment:\n",
    "  * requests    \n",
    "\n",
    "#### Github Authentication\n",
    "\n",
    "Create an access token via Zenodo Applications settings [here](https://zenodo.org/account/settings/applications/tokens/) and create a file called `zenodoconfig.cfg` with the following content:\n",
    "\n",
    "    [ACCESS]\n",
    "    token = <your-access-token>\n",
    "    \n",
    "Ensure you've pasted in your token, but leave `[ACCESS]` and `token =` ."
   ]
  },
  {
   "cell_type": "code",
   "execution_count": 1,
   "id": "af169961",
   "metadata": {},
   "outputs": [],
   "source": [
    "import pandas as pd\n",
    "#import numpy as np \n",
    "import os \n",
    "from os import path\n",
    "import configparser \n",
    "import requests\n",
    "import csv "
   ]
  },
  {
   "cell_type": "code",
   "execution_count": 281,
   "id": "e3b4797b",
   "metadata": {},
   "outputs": [
    {
     "data": {
      "text/plain": [
       "{'status': 403, 'message': 'Permission denied.'}"
      ]
     },
     "execution_count": 281,
     "metadata": {},
     "output_type": "execute_result"
    }
   ],
   "source": [
    "import requests\n",
    "r = requests.get(\"https://zenodo.org/api/deposit/depositions\")\n",
    "r.status_code\n",
    "# 403\n",
    "r.json()\n",
    "# permission denied is OK because we didn't do any access token things yet I think "
   ]
  },
  {
   "cell_type": "code",
   "execution_count": 300,
   "id": "6d75fa66",
   "metadata": {},
   "outputs": [
    {
     "name": "stdout",
     "output_type": "stream",
     "text": [
      "<Response [200]>\n"
     ]
    }
   ],
   "source": [
    "# set up zenodo access token\n",
    "\n",
    "config = configparser.ConfigParser()\n",
    "config.read('../zenodoconfig.cfg')\n",
    "config.sections()\n",
    "\n",
    "access_token = config['ACCESS']['token']\n",
    "\n",
    "r = requests.get('https://zenodo.org/api/deposit/depositions',\n",
    "                  params={'access_token': access_token})\n",
    "\n",
    "print(r)\n",
    "\n",
    "r.status_code\n",
    "# 200\n",
    "\n",
    "r.json()\n",
    "# []\n",
    "\n",
    "#r.status_code == requests.codes.ok\n",
    "#r.raise_for_status()"
   ]
  },
  {
   "cell_type": "code",
   "execution_count": 45,
   "id": "886ccd52",
   "metadata": {},
   "outputs": [],
   "source": [
    "# records_api_url = 'https://zenodo.org/api/records'\n",
    "# search_query = 'type:software AND creators.affiliation:Cambridge'\n",
    "# res = requests.get(records_api_url, params={'q': search_query, 'size': 25, 'page': 1})"
   ]
  },
  {
   "cell_type": "code",
   "execution_count": 263,
   "id": "d7309504",
   "metadata": {},
   "outputs": [
    {
     "data": {
      "text/plain": [
       "[{'identifier': 'https://github.com/sequana/versionix/tree/v0.2.1',\n",
       "  'relation': 'isSupplementTo',\n",
       "  'scheme': 'url'}]"
      ]
     },
     "execution_count": 263,
     "metadata": {},
     "output_type": "execute_result"
    }
   ],
   "source": [
    "requests.get(\"https://zenodo.org/api/records/{}\".format(8412005)).json()['metadata']['related_identifiers']"
   ]
  },
  {
   "cell_type": "code",
   "execution_count": 324,
   "id": "d00dcfa4",
   "metadata": {},
   "outputs": [
    {
     "data": {
      "text/plain": [
       "200"
      ]
     },
     "execution_count": 324,
     "metadata": {},
     "output_type": "execute_result"
    }
   ],
   "source": [
    "records_api_url = 'https://zenodo.org/api/records'\n",
    "search_query = 'type:software'\n",
    "r = requests.get(records_api_url, params={'q': search_query, 'size':20})\n",
    "\n",
    "r.status_code"
   ]
  },
  {
   "cell_type": "code",
   "execution_count": 325,
   "id": "4363e265",
   "metadata": {},
   "outputs": [
    {
     "name": "stdout",
     "output_type": "stream",
     "text": [
      "[7347926, 8349181, 8409685, 8393472, 8284953, 8419851, 8364959, 3719296, 8347255, 20349, 5521767, 7774003, 7844986, 7218076, 1435021, 7716938, 10015936, 8145703, 1043307, 1045123]\n"
     ]
    }
   ],
   "source": [
    "r.raise_for_status()\n",
    "\n",
    "identifiers = [] \n",
    "\n",
    "for record_id in r.json():\n",
    "    identifiers.append(record_id['id'])\n",
    "\n",
    "\n",
    "\n",
    "# still_iterating = True\n",
    "\n",
    "# while (len(identifiers) < 50): \n",
    "#     for record_id in r.json()['id']:\n",
    "#         identifiers.append(record_id)\n",
    "\n",
    "print(identifiers)\n",
    "\n",
    "####### read this: https://github.com/dvolgyes/zenodo_get/blob/master/zenodo_get/zget.py  line ~307\n",
    "\n"
   ]
  },
  {
   "cell_type": "code",
   "execution_count": 332,
   "id": "dab1008c",
   "metadata": {},
   "outputs": [
    {
     "name": "stdout",
     "output_type": "stream",
     "text": [
      "[{'identifier': 'https://github.com/ultralytics/yolov5/tree/v7.0', 'relation': 'isSupplementTo', 'scheme': 'url'}]\n",
      "[{'identifier': 'https://github.com/ultralytics/yolov5/tree/v7.0', 'relation': 'isSupplementTo', 'scheme': 'url'}]\n",
      "[{'identifier': 'https://github.com/ultralytics/yolov5/tree/v7.0', 'relation': 'isSupplementTo', 'scheme': 'url'}]\n",
      "[{'identifier': 'https://github.com/ultralytics/yolov5/tree/v7.0', 'relation': 'isSupplementTo', 'scheme': 'url'}]\n",
      "[{'identifier': 'https://github.com/ultralytics/yolov5/tree/v7.0', 'relation': 'isSupplementTo', 'scheme': 'url'}]\n",
      "[{'identifier': 'https://github.com/ultralytics/yolov5/tree/v7.0', 'relation': 'isSupplementTo', 'scheme': 'url'}]\n",
      "[{'identifier': 'https://github.com/ultralytics/yolov5/tree/v7.0', 'relation': 'isSupplementTo', 'scheme': 'url'}]\n",
      "[{'identifier': 'https://github.com/ultralytics/yolov5/tree/v7.0', 'relation': 'isSupplementTo', 'scheme': 'url'}]\n",
      "[{'identifier': 'https://github.com/ultralytics/yolov5/tree/v7.0', 'relation': 'isSupplementTo', 'scheme': 'url'}]\n",
      "[{'identifier': 'https://github.com/ultralytics/yolov5/tree/v7.0', 'relation': 'isSupplementTo', 'scheme': 'url'}]\n",
      "[{'identifier': 'https://github.com/ultralytics/yolov5/tree/v7.0', 'relation': 'isSupplementTo', 'scheme': 'url'}]\n",
      "[{'identifier': 'https://github.com/ultralytics/yolov5/tree/v7.0', 'relation': 'isSupplementTo', 'scheme': 'url'}]\n",
      "[{'identifier': 'https://github.com/ultralytics/yolov5/tree/v7.0', 'relation': 'isSupplementTo', 'scheme': 'url'}]\n",
      "[{'identifier': 'https://github.com/ultralytics/yolov5/tree/v7.0', 'relation': 'isSupplementTo', 'scheme': 'url'}]\n",
      "[{'identifier': 'https://github.com/ultralytics/yolov5/tree/v7.0', 'relation': 'isSupplementTo', 'scheme': 'url'}]\n",
      "[{'identifier': 'https://github.com/ultralytics/yolov5/tree/v7.0', 'relation': 'isSupplementTo', 'scheme': 'url'}]\n",
      "[{'identifier': 'https://github.com/ultralytics/yolov5/tree/v7.0', 'relation': 'isSupplementTo', 'scheme': 'url'}]\n",
      "[{'identifier': 'https://github.com/ultralytics/yolov5/tree/v7.0', 'relation': 'isSupplementTo', 'scheme': 'url'}]\n",
      "[{'identifier': 'https://github.com/ultralytics/yolov5/tree/v7.0', 'relation': 'isSupplementTo', 'scheme': 'url'}]\n",
      "[{'identifier': 'https://github.com/ultralytics/yolov5/tree/v7.0', 'relation': 'isSupplementTo', 'scheme': 'url'}]\n"
     ]
    }
   ],
   "source": [
    "#for record_id in identifiers: \n",
    "#    print(r.json()['metadata']['related_identifiers'])"
   ]
  },
  {
   "cell_type": "code",
   "execution_count": 333,
   "id": "d01d71b1",
   "metadata": {},
   "outputs": [
    {
     "ename": "KeyError",
     "evalue": "'related_identifiers'",
     "output_type": "error",
     "traceback": [
      "\u001b[0;31m---------------------------------------------------------------------------\u001b[0m",
      "\u001b[0;31mKeyError\u001b[0m                                  Traceback (most recent call last)",
      "Cell \u001b[0;32mIn[333], line 15\u001b[0m\n\u001b[1;32m     12\u001b[0m record_title \u001b[38;5;241m=\u001b[39m r\u001b[38;5;241m.\u001b[39mjson()[\u001b[38;5;124m'\u001b[39m\u001b[38;5;124mtitle\u001b[39m\u001b[38;5;124m'\u001b[39m]\n\u001b[1;32m     13\u001b[0m record_doi \u001b[38;5;241m=\u001b[39m r\u001b[38;5;241m.\u001b[39mjson()[\u001b[38;5;124m'\u001b[39m\u001b[38;5;124mdoi\u001b[39m\u001b[38;5;124m'\u001b[39m]\n\u001b[0;32m---> 15\u001b[0m \u001b[38;5;28;01mfor\u001b[39;00m \u001b[38;5;28mid\u001b[39m \u001b[38;5;129;01min\u001b[39;00m \u001b[43mr\u001b[49m\u001b[38;5;241;43m.\u001b[39;49m\u001b[43mjson\u001b[49m\u001b[43m(\u001b[49m\u001b[43m)\u001b[49m\u001b[43m[\u001b[49m\u001b[38;5;124;43m'\u001b[39;49m\u001b[38;5;124;43mmetadata\u001b[39;49m\u001b[38;5;124;43m'\u001b[39;49m\u001b[43m]\u001b[49m\u001b[43m[\u001b[49m\u001b[38;5;124;43m'\u001b[39;49m\u001b[38;5;124;43mrelated_identifiers\u001b[39;49m\u001b[38;5;124;43m'\u001b[39;49m\u001b[43m]\u001b[49m:\n\u001b[1;32m     16\u001b[0m     \u001b[38;5;28;01mif\u001b[39;00m (\u001b[38;5;124m\"\u001b[39m\u001b[38;5;124mgithub.com\u001b[39m\u001b[38;5;124m\"\u001b[39m \u001b[38;5;129;01min\u001b[39;00m \u001b[38;5;28mid\u001b[39m[\u001b[38;5;124m'\u001b[39m\u001b[38;5;124midentifier\u001b[39m\u001b[38;5;124m'\u001b[39m]) \u001b[38;5;241m&\u001b[39m (\u001b[38;5;124m\"\u001b[39m\u001b[38;5;124murl\u001b[39m\u001b[38;5;124m\"\u001b[39m \u001b[38;5;129;01min\u001b[39;00m \u001b[38;5;28mid\u001b[39m[\u001b[38;5;124m'\u001b[39m\u001b[38;5;124mscheme\u001b[39m\u001b[38;5;124m'\u001b[39m]):\n\u001b[1;32m     17\u001b[0m         row \u001b[38;5;241m=\u001b[39m []\n",
      "\u001b[0;31mKeyError\u001b[0m: 'related_identifiers'"
     ]
    }
   ],
   "source": [
    "#### WORK ON THIS - it doesn't work!! \n",
    "\n",
    "f = open('../../data/zenodo-results.csv', 'w')\n",
    "writer = csv.writer(f)\n",
    "\n",
    "header = ['Zenodo ID', 'Title', 'DOI', 'GitHub Related Link', 'Relation Type']\n",
    "writer.writerow(header)\n",
    "\n",
    "for record_id in identifiers:\n",
    "    r = requests.get(\"https://zenodo.org/api/records/{}\".format(record_id))\n",
    "\n",
    "    record_title = r.json()['title']\n",
    "    record_doi = r.json()['doi']\n",
    "\n",
    "    for id in r.json()['metadata']['related_identifiers']:\n",
    "        if (\"github.com\" in id['identifier']) & (\"url\" in id['scheme']):\n",
    "            row = []\n",
    "            row.append(record_id)\n",
    "            row.append(record_title)\n",
    "            row.append(record_doi)\n",
    "            row.append(id['identifier'])\n",
    "            row.append(id['relation'])\n",
    "            writer.writerow(row)\n",
    "\n",
    "f.close()"
   ]
  },
  {
   "cell_type": "code",
   "execution_count": 12,
   "id": "bc003f69",
   "metadata": {},
   "outputs": [
    {
     "data": {
      "text/plain": [
       "{'title': 'ultralytics/yolov5: v7.0 - YOLOv5 SOTA Realtime Instance Segmentation',\n",
       " 'doi': '10.5281/zenodo.7347926',\n",
       " 'publication_date': '2022-11-22',\n",
       " 'description': '<p>&lt;div align=\"center\"&gt;\\n&lt;a align=\"center\" href=\"https://ultralytics.com/yolov5\" target=\"_blank\"&gt;\\n&lt;img width=\"850\" src=\"https://github.com/ultralytics/assets/blob/master/yolov5/v70/splash.png\"&gt;&lt;/a&gt;\\n&lt;/div&gt;\\n&lt;br&gt;</p>\\n<p>Our new YOLOv5 v7.0 instance segmentation models are the fastest and most accurate in the world, beating all current <a href=\"https://paperswithcode.com/sota/real-time-instance-segmentation-on-mscoco\">SOTA benchmarks</a>. We\\'ve made them super simple to train, validate and deploy. See full details in our <a href=\"https://github.com/ultralytics/yolov5/releases/v7.0\">Release Notes</a> and visit our <a href=\"https://github.com/ultralytics/yolov5/blob/master/segment/tutorial.ipynb\">YOLOv5 Segmentation Colab Notebook</a> for quickstart tutorials.</p>\\n<p>&lt;div align=\"center\"&gt;\\n&lt;a align=\"center\" href=\"https://ultralytics.com/yolov5\" target=\"_blank\"&gt;\\n&lt;img width=\"800\" src=\"https://user-images.githubusercontent.com/26833433/203348073-9b85607b-03e2-48e1-a6ba-fe1c1c31749c.png\"&gt;&lt;/a&gt;\\n&lt;/div&gt;\\n&lt;br&gt;</p>\\n<p>Our primary goal with this release is to introduce super simple YOLOv5 segmentation workflows just like our existing object detection models. The new v7.0 YOLOv5-seg models below are just a start, we will continue to improve these going forward together with our existing detection and classification models. We\\'d love your feedback and <a href=\"https://github.com/ultralytics/yolov5/blob/master/CONTRIBUTING.md\">contributions</a> on this effort!</p>\\n<p>This release incorporates <a href=\"https://github.com/ultralytics/yolov5/compare/v6.2...v7.0\"><strong>280 PRs</strong> from <strong>41 contributors</strong></a> since our last <a href=\"https://github.com/ultralytics/yolov5/releases/tag/v6.2\">release</a> in August 2022.</p>\\nImportant Updates\\n<ul>\\n<li><strong>Segmentation Models ⭐ NEW</strong>: SOTA YOLOv5-seg COCO-pretrained segmentation models are now available for the first time (<a href=\"https://github.com/ultralytics/yolov5/pull/9052\">https://github.com/ultralytics/yolov5/pull/9052</a> by @glenn-jocher, @AyushExel and @Laughing-q)</li>\\n<li><strong>Paddle Paddle Export</strong>: Export any YOLOv5 model (cls, seg, det) to Paddle format with python export.py --include paddle (<a href=\"https://github.com/ultralytics/yolov5/pull/9459\">https://github.com/ultralytics/yolov5/pull/9459</a> by @glenn-jocher)</li>\\n<li><strong>YOLOv5 AutoCache</strong>: Use <code>python train.py --cache ram</code> will now scan available memory and compare against predicted dataset RAM usage. This reduces risk in caching and should help improve adoption of the dataset caching feature, which can significantly speed up training. (<a href=\"https://github.com/ultralytics/yolov5/pull/10027\">https://github.com/ultralytics/yolov5/pull/10027</a> by @glenn-jocher)</li>\\n<li><strong>Comet Logging and Visualization Integration:</strong> Free forever, <a href=\"https://bit.ly/yolov5-readme-comet\">Comet</a> lets you save YOLOv5 models, resume training, and interactively visualise and debug predictions. (<a href=\"https://github.com/ultralytics/yolov5/pull/9232\">https://github.com/ultralytics/yolov5/pull/9232</a> by @DN6)</li>\\n</ul>\\nNew Segmentation Checkpoints\\n<p>We trained YOLOv5 segmentations models on COCO for 300 epochs at image size 640 using A100 GPUs. We exported all models to ONNX FP32 for CPU speed tests and to TensorRT FP16 for GPU speed tests. We ran all speed tests on Google <a href=\"https://colab.research.google.com/signup\">Colab Pro</a> notebooks for easy reproducibility.</p>\\n<table>\\n<thead><tr>\\n<th>Model</th>\\n<th>size&lt;br&gt;&lt;sup&gt;(pixels)</th>\\n<th>mAP&lt;sup&gt;box&lt;br&gt;50-95</th>\\n<th>mAP&lt;sup&gt;mask&lt;br&gt;50-95</th>\\n<th>Train time&lt;br&gt;&lt;sup&gt;300 epochs&lt;br&gt;A100 (hours)</th>\\n<th>Speed&lt;br&gt;&lt;sup&gt;ONNX CPU&lt;br&gt;(ms)</th>\\n<th>Speed&lt;br&gt;&lt;sup&gt;TRT A100&lt;br&gt;(ms)</th>\\n<th>params&lt;br&gt;&lt;sup&gt;(M)</th>\\n<th>FLOPs&lt;br&gt;&lt;sup&gt;@640 (B)</th>\\n</tr>\\n</thead>\\n<tbody>\\n<tr>\\n<td><a href=\"https://github.com/ultralytics/yolov5/releases/download/v7.0/yolov5n-seg.pt\">YOLOv5n-seg</a></td>\\n<td>640</td>\\n<td>27.6</td>\\n<td>23.4</td>\\n<td>80:17</td>\\n<td><strong>62.7</strong></td>\\n<td><strong>1.2</strong></td>\\n<td><strong>2.0</strong></td>\\n<td><strong>7.1</strong></td>\\n</tr>\\n<tr>\\n<td><a href=\"https://github.com/ultralytics/yolov5/releases/download/v7.0/yolov5s-seg.pt\">YOLOv5s-seg</a></td>\\n<td>640</td>\\n<td>37.6</td>\\n<td>31.7</td>\\n<td>88:16</td>\\n<td>173.3</td>\\n<td>1.4</td>\\n<td>7.6</td>\\n<td>26.4</td>\\n</tr>\\n<tr>\\n<td><a href=\"https://github.com/ultralytics/yolov5/releases/download/v7.0/yolov5m-seg.pt\">YOLOv5m-seg</a></td>\\n<td>640</td>\\n<td>45.0</td>\\n<td>37.1</td>\\n<td>108:36</td>\\n<td>427.0</td>\\n<td>2.2</td>\\n<td>22.0</td>\\n<td>70.8</td>\\n</tr>\\n<tr>\\n<td><a href=\"https://github.com/ultralytics/yolov5/releases/download/v7.0/yolov5l-seg.pt\">YOLOv5l-seg</a></td>\\n<td>640</td>\\n<td>49.0</td>\\n<td>39.9</td>\\n<td>66:43 (2x)</td>\\n<td>857.4</td>\\n<td>2.9</td>\\n<td>47.9</td>\\n<td>147.7</td>\\n</tr>\\n<tr>\\n<td><a href=\"https://github.com/ultralytics/yolov5/releases/download/v7.0/yolov5x-seg.pt\">YOLOv5x-seg</a></td>\\n<td>640</td>\\n<td><strong>50.7</strong></td>\\n<td><strong>41.4</strong></td>\\n<td>62:56 (3x)</td>\\n<td>1579.2</td>\\n<td>4.5</td>\\n<td>88.8</td>\\n<td>265.7</td>\\n</tr>\\n</tbody>\\n</table>\\n<ul>\\n<li>All checkpoints are trained to 300 epochs with SGD optimizer with <code>lr0=0.01</code> and <code>weight_decay=5e-5</code> at image size 640 and all default settings.&lt;br&gt;Runs logged to <a href=\"https://wandb.ai/glenn-jocher/YOLOv5_v70_official\">https://wandb.ai/glenn-jocher/YOLOv5_v70_official</a></li>\\n<li><strong>Accuracy</strong> values are for single-model single-scale on COCO dataset.&lt;br&gt;Reproduce by <code>python segment/val.py --data coco.yaml --weights yolov5s-seg.pt</code></li>\\n<li><strong>Speed</strong> averaged over 100 inference images using a <a href=\"https://colab.research.google.com/signup\">Colab Pro</a> A100 High-RAM instance. Values indicate inference speed only (NMS adds about 1ms per image). &lt;br&gt;Reproduce by <code>python segment/val.py --data coco.yaml --weights yolov5s-seg.pt --batch 1</code></li>\\n<li><strong>Export</strong> to ONNX at FP32 and TensorRT at FP16 done with <code>export.py</code>. &lt;br&gt;Reproduce by <code>python export.py --weights yolov5s-seg.pt --include engine --device 0 --half</code></li>\\n</ul>\\nNew Segmentation Usage Examples\\nTrain\\n<p>YOLOv5 segmentation training supports auto-download COCO128-seg segmentation dataset with <code>--data coco128-seg.yaml</code> argument and manual download of COCO-segments dataset with <code>bash data/scripts/get_coco.sh --train --val --segments</code> and then <code>python train.py --data coco.yaml</code>.</p>\\n<pre><code class=\"lang-bash\"># Single-GPU\\npython segment/train.py --model yolov5s-seg.pt --data coco128-seg.yaml --epochs 5 --img 640\\n\\n# Multi-GPU DDP\\npython -m torch.distributed.run --nproc_per_node 4 --master_port 1 segment/train.py --model yolov5s-seg.pt --data coco128-seg.yaml --epochs 5 --img 640 --device 0,1,2,3\\n</code></pre>\\nVal\\n<p>Validate YOLOv5m-seg accuracy on ImageNet-1k dataset:</p>\\n<pre><code class=\"lang-bash\">bash data/scripts/get_coco.sh --val --segments  # download COCO val segments split (780MB, 5000 images)\\npython segment/val.py --weights yolov5s-seg.pt --data coco.yaml --img 640  # validate\\n</code></pre>\\nPredict\\n<p>Use pretrained YOLOv5m-seg to predict bus.jpg:</p>\\n<pre><code class=\"lang-bash\">python segment/predict.py --weights yolov5m-seg.pt --data data/images/bus.jpg\\n</code></pre>\\n<pre><code class=\"lang-python\">model = torch.hub.load(&#39;ultralytics/yolov5&#39;, &#39;custom&#39;, &#39;yolov5m-seg.pt&#39;)  # load from PyTorch Hub (WARNING: inference not yet supported)\\n</code></pre>\\n<table>\\n<thead><tr>\\n<th></th>\\n<th></th>\\n</tr>\\n</thead>\\n<tbody>\\n<tr>\\n<td></td>\\n</tr>\\n</tbody>\\n</table>\\nExport\\n<p>Export YOLOv5s-seg model to ONNX and TensorRT:</p>\\n<pre><code class=\"lang-bash\">python export.py --weights yolov5s-seg.pt --include onnx engine --img 640 --device 0\\n</code></pre>\\nChangelog\\n<ul>\\n<li>Changes between <strong>previous release and this release</strong>: <a href=\"https://github.com/ultralytics/yolov5/compare/v6.2...v7.0\">https://github.com/ultralytics/yolov5/compare/v6.2...v7.0</a></li>\\n<li>Changes <strong>since this release</strong>: <a href=\"https://github.com/ultralytics/yolov5/compare/v7.0...HEAD\">https://github.com/ultralytics/yolov5/compare/v7.0...HEAD</a></li>\\n</ul>\\n&lt;details&gt;\\n  &lt;summary&gt;🛠️ New Features and Bug Fixes (280)&lt;/summary&gt;\\n* Improve classification comments by @glenn-jocher in https://github.com/ultralytics/yolov5/pull/8997\\n* Update `attempt_download(release=\\'v6.2\\')` by @glenn-jocher in https://github.com/ultralytics/yolov5/pull/8998\\n* Update README_cn.md by @KieraMengru0907 in https://github.com/ultralytics/yolov5/pull/9001\\n* Update dataset `names` from array to dictionary by @glenn-jocher in https://github.com/ultralytics/yolov5/pull/9000\\n* [segment]: Allow inference on dirs and videos by @AyushExel in https://github.com/ultralytics/yolov5/pull/9003\\n* DockerHub tag update Usage example by @glenn-jocher in https://github.com/ultralytics/yolov5/pull/9005\\n* Add weight `decay` to argparser by @glenn-jocher in https://github.com/ultralytics/yolov5/pull/9006\\n* Add glob quotes to detect.py usage example by @glenn-jocher in https://github.com/ultralytics/yolov5/pull/9007\\n* Fix TorchScript JSON string key bug by @glenn-jocher in https://github.com/ultralytics/yolov5/pull/9015\\n* EMA FP32 assert classification bug fix by @glenn-jocher in https://github.com/ultralytics/yolov5/pull/9016\\n* Faster pre-processing for gray image input by @cher-liang in https://github.com/ultralytics/yolov5/pull/9009\\n* Improved `Profile()` inference timing by @glenn-jocher in https://github.com/ultralytics/yolov5/pull/9024\\n* `torch.empty()` for speed improvements by @glenn-jocher in https://github.com/ultralytics/yolov5/pull/9025\\n* Remove unused `time_sync` import by @glenn-jocher in https://github.com/ultralytics/yolov5/pull/9026\\n* Add PyTorch Hub classification CI checks by @glenn-jocher in https://github.com/ultralytics/yolov5/pull/9027\\n* Attach transforms to model by @glenn-jocher in https://github.com/ultralytics/yolov5/pull/9028\\n* Default --data `imagenette160` training (fastest) by @glenn-jocher in https://github.com/ultralytics/yolov5/pull/9033\\n* VOC `names` dictionary fix by @glenn-jocher in https://github.com/ultralytics/yolov5/pull/9034\\n* Update train.py `import val as validate` by @glenn-jocher in https://github.com/ultralytics/yolov5/pull/9037\\n* AutoBatch protect from negative batch sizes by @glenn-jocher in https://github.com/ultralytics/yolov5/pull/9048\\n* Temporarily remove `macos-latest` from CI by @glenn-jocher in https://github.com/ultralytics/yolov5/pull/9049\\n* Add `--save-hybrid` mAP warning by @glenn-jocher in https://github.com/ultralytics/yolov5/pull/9050\\n* Refactor for simplification by @glenn-jocher in https://github.com/ultralytics/yolov5/pull/9054\\n* Refactor for simplification 2 by @glenn-jocher in https://github.com/ultralytics/yolov5/pull/9055\\n* zero-mAP fix return `.detach()` to EMA by @glenn-jocher in https://github.com/ultralytics/yolov5/pull/9056\\n* zero-mAP fix 3 by @glenn-jocher in https://github.com/ultralytics/yolov5/pull/9058\\n* Daemon `plot_labels()` for faster start by @glenn-jocher in https://github.com/ultralytics/yolov5/pull/9057\\n* TensorBoard fix in tutorial.ipynb by @glenn-jocher in https://github.com/ultralytics/yolov5/pull/9064\\n* zero-mAP fix remove `torch.empty()` forward pass in `.train()` mode by @0zppd in https://github.com/ultralytics/yolov5/pull/9068\\n* Rename \\'labels\\' to \\'instances\\' by @glenn-jocher in https://github.com/ultralytics/yolov5/pull/9066\\n* Threaded TensorBoard graph logging by @glenn-jocher in https://github.com/ultralytics/yolov5/pull/9070\\n* De-thread TensorBoard graph logging by @glenn-jocher in https://github.com/ultralytics/yolov5/pull/9071\\n* Two dimensional `size=(h,w)` AutoShape support by @glenn-jocher in https://github.com/ultralytics/yolov5/pull/9072\\n* Remove unused Timeout import by @glenn-jocher in https://github.com/ultralytics/yolov5/pull/9073\\n* Improved Usage example docstrings by @glenn-jocher in https://github.com/ultralytics/yolov5/pull/9075\\n* Install `torch` latest stable by @glenn-jocher in https://github.com/ultralytics/yolov5/pull/9092\\n* New `@try_export` decorator by @glenn-jocher in https://github.com/ultralytics/yolov5/pull/9096\\n* Add optional `transforms` argument to LoadStreams() by @glenn-jocher in https://github.com/ultralytics/yolov5/pull/9105\\n* Streaming Classification support by @glenn-jocher in https://github.com/ultralytics/yolov5/pull/9106\\n* Fix numpy to torch cls streaming bug by @glenn-jocher in https://github.com/ultralytics/yolov5/pull/9112\\n* Infer Loggers project name  by @AyushExel in https://github.com/ultralytics/yolov5/pull/9117\\n* Add CSV logging to GenericLogger by @glenn-jocher in https://github.com/ultralytics/yolov5/pull/9128\\n* New TryExcept decorator by @glenn-jocher in https://github.com/ultralytics/yolov5/pull/9154\\n* Fixed segment offsets by @glenn-jocher in https://github.com/ultralytics/yolov5/pull/9155\\n* New YOLOv5 v6.2 splash images by @glenn-jocher in https://github.com/ultralytics/yolov5/pull/9142\\n* Rename onnx_dynamic -&gt; dynamic by @glenn-jocher in https://github.com/ultralytics/yolov5/pull/9168\\n* Inline `_make_grid()` meshgrid by @glenn-jocher in https://github.com/ultralytics/yolov5/pull/9170\\n* Comment EMA assert by @glenn-jocher in https://github.com/ultralytics/yolov5/pull/9173\\n* Fix confidence threshold for ClearML debug images by @HighMans in https://github.com/ultralytics/yolov5/pull/9174\\n* Update Dockerfile-cpu by @glenn-jocher in https://github.com/ultralytics/yolov5/pull/9184\\n* Update Dockerfile-cpu to libpython3-dev by @glenn-jocher in https://github.com/ultralytics/yolov5/pull/9185\\n* Update Dockerfile-arm64 to libpython3-dev by @glenn-jocher in https://github.com/ultralytics/yolov5/pull/9187\\n* Fix AutoAnchor MPS bug by @glenn-jocher in https://github.com/ultralytics/yolov5/pull/9188\\n* Skip AMP check on MPS by @glenn-jocher in https://github.com/ultralytics/yolov5/pull/9189\\n* ClearML\\'s set_report_period\\'s time is defined in minutes not seconds. by @HighMans in https://github.com/ultralytics/yolov5/pull/9186\\n* Add `check_git_status(..., branch=\\'master\\')` argument by @glenn-jocher in https://github.com/ultralytics/yolov5/pull/9199\\n* `check_font()` on notebook init by @glenn-jocher in https://github.com/ultralytics/yolov5/pull/9200\\n* Comment `protobuf` in requirements.txt by @glenn-jocher in https://github.com/ultralytics/yolov5/pull/9207\\n* `check_font()` fstring update by @glenn-jocher in https://github.com/ultralytics/yolov5/pull/9208\\n* AutoBatch protect from extreme batch sizes by @glenn-jocher in https://github.com/ultralytics/yolov5/pull/9209\\n* Default AutoBatch 0.8 fraction by @glenn-jocher in https://github.com/ultralytics/yolov5/pull/9212\\n* Delete rebase.yml by @glenn-jocher in https://github.com/ultralytics/yolov5/pull/9202\\n* Duplicate segment verification fix by @glenn-jocher in https://github.com/ultralytics/yolov5/pull/9225\\n* New `LetterBox(size)` `CenterCrop(size)`, `ToTensor()` transforms (#9213) by @glenn-jocher in https://github.com/ultralytics/yolov5/pull/9213\\n* Add ClassificationModel TF export assert by @glenn-jocher in https://github.com/ultralytics/yolov5/pull/9226\\n* Remove usage of `pathlib.Path.unlink(missing_ok=...)` by @ymerkli in https://github.com/ultralytics/yolov5/pull/9227\\n* Add support for `*.pfm` images  by @spacewalk01 in https://github.com/ultralytics/yolov5/pull/9230\\n* Python check warning emoji by @glenn-jocher in https://github.com/ultralytics/yolov5/pull/9238\\n* Add `url_getsize()` function by @glenn-jocher in https://github.com/ultralytics/yolov5/pull/9247\\n* Update dataloaders.py by @glenn-jocher in https://github.com/ultralytics/yolov5/pull/9250\\n* Refactor Loggers : Move code outside train.py by @AyushExel in https://github.com/ultralytics/yolov5/pull/9241\\n* Update general.py by @glenn-jocher in https://github.com/ultralytics/yolov5/pull/9252\\n* Add LoadImages._cv2_rotate() by @glenn-jocher in https://github.com/ultralytics/yolov5/pull/9249\\n* Move `cudnn.benchmarks(True)` to LoadStreams by @glenn-jocher in https://github.com/ultralytics/yolov5/pull/9258\\n* `cudnn.benchmark = True` on Seed 0 by @glenn-jocher in https://github.com/ultralytics/yolov5/pull/9259\\n* Update `TryExcept(msg=\\'...\\')`` by @glenn-jocher in https://github.com/ultralytics/yolov5/pull/9261\\n* Make sure best.pt model file is preserved ClearML by @thepycoder in https://github.com/ultralytics/yolov5/pull/9265\\n* DetectMultiBackend improvements by @glenn-jocher in https://github.com/ultralytics/yolov5/pull/9269\\n* Update DetectMultiBackend for tuple outputs by @glenn-jocher in https://github.com/ultralytics/yolov5/pull/9274\\n* Update DetectMultiBackend for tuple outputs 2 by @glenn-jocher in https://github.com/ultralytics/yolov5/pull/9275\\n* Update benchmarks CI with `--hard-fail` min metric floor by @glenn-jocher in https://github.com/ultralytics/yolov5/pull/9276\\n* Add new `--vid-stride` inference parameter for videos by @VELCpro in https://github.com/ultralytics/yolov5/pull/9256\\n* [pre-commit.ci] pre-commit suggestions by @pre-commit-ci in https://github.com/ultralytics/yolov5/pull/9295\\n* Replace deprecated `np.int` with `int` by @glenn-jocher in https://github.com/ultralytics/yolov5/pull/9307\\n* Comet Logging and Visualization Integration by @DN6 in https://github.com/ultralytics/yolov5/pull/9232\\n* Comet changes by @DN6 in https://github.com/ultralytics/yolov5/pull/9328\\n* Train.py line 486 typo fix by @robinned in https://github.com/ultralytics/yolov5/pull/9330\\n* Add dilated conv support by @YellowAndGreen in https://github.com/ultralytics/yolov5/pull/9347\\n* Update `check_requirements()` single install by @glenn-jocher in https://github.com/ultralytics/yolov5/pull/9353\\n* Update `check_requirements(args, cmds=\\'\\')` by @glenn-jocher in https://github.com/ultralytics/yolov5/pull/9355\\n* Update `check_requirements()` multiple string by @glenn-jocher in https://github.com/ultralytics/yolov5/pull/9356\\n* Add PaddlePaddle export and inference by @kisaragychihaya in https://github.com/ultralytics/yolov5/pull/9240\\n* PaddlePaddle Usage examples by @glenn-jocher in https://github.com/ultralytics/yolov5/pull/9358\\n* labels.jpg names fix by @glenn-jocher in https://github.com/ultralytics/yolov5/pull/9361\\n* Exclude `ipython` from hubconf.py `check_requirements()` by @glenn-jocher in https://github.com/ultralytics/yolov5/pull/9362\\n* `torch.jit.trace()` fix by @glenn-jocher in https://github.com/ultralytics/yolov5/pull/9363\\n* AMP Check fix by @glenn-jocher in https://github.com/ultralytics/yolov5/pull/9367\\n* Remove duplicate line in setup.cfg by @zldrobit in https://github.com/ultralytics/yolov5/pull/9380\\n* Remove `.train()` mode exports by @glenn-jocher in https://github.com/ultralytics/yolov5/pull/9429\\n* Continue on Docker arm64 failure by @glenn-jocher in https://github.com/ultralytics/yolov5/pull/9430\\n* Continue on Docker failure (all backends) by @glenn-jocher in https://github.com/ultralytics/yolov5/pull/9432\\n* Continue on Docker fail (all backends) fix by @glenn-jocher in https://github.com/ultralytics/yolov5/pull/9433\\n* YOLOv5 segmentation model support by @AyushExel in https://github.com/ultralytics/yolov5/pull/9052\\n* Fix val.py zero-TP bug by @glenn-jocher in https://github.com/ultralytics/yolov5/pull/9431\\n* New model.yaml `activation:` field by @glenn-jocher in https://github.com/ultralytics/yolov5/pull/9371\\n* Fix tick labels for background FN/FP by @hotohoto in https://github.com/ultralytics/yolov5/pull/9414\\n* Fix TensorRT exports to ONNX opset 12 by @glenn-jocher in https://github.com/ultralytics/yolov5/pull/9441\\n* AutoShape explicit arguments fix by @glenn-jocher in https://github.com/ultralytics/yolov5/pull/9443\\n* Update Detections() instance printing by @glenn-jocher in https://github.com/ultralytics/yolov5/pull/9445\\n* AutoUpdate TensorFlow in export.py by @glenn-jocher in https://github.com/ultralytics/yolov5/pull/9447\\n* AutoBatch `cudnn.benchmark=True` fix by @glenn-jocher in https://github.com/ultralytics/yolov5/pull/9448\\n* Do not move downloaded zips by @glenn-jocher in https://github.com/ultralytics/yolov5/pull/9455\\n* Update general.py by @glenn-jocher in https://github.com/ultralytics/yolov5/pull/9454\\n* `Detect()` and `Segment()` fixes for CoreML and Paddle by @glenn-jocher in https://github.com/ultralytics/yolov5/pull/9458\\n* Add Paddle exports to benchmarks by @glenn-jocher in https://github.com/ultralytics/yolov5/pull/9459\\n* Add `macos-latest` runner for CoreML benchmarks by @glenn-jocher in https://github.com/ultralytics/yolov5/pull/9453\\n* Fix cutout bug by @Oswells in https://github.com/ultralytics/yolov5/pull/9452\\n* Optimize imports by @glenn-jocher in https://github.com/ultralytics/yolov5/pull/9464\\n* TensorRT SegmentationModel fix by @glenn-jocher in https://github.com/ultralytics/yolov5/pull/9465\\n* `Conv()` dilation argument fix by @glenn-jocher in https://github.com/ultralytics/yolov5/pull/9466\\n* Update ClassificationModel default training `imgsz=224` by @glenn-jocher in https://github.com/ultralytics/yolov5/pull/9469\\n* Standardize warnings with `WARNING  ⚠️ ...` by @glenn-jocher in https://github.com/ultralytics/yolov5/pull/9467\\n* TensorFlow macOS AutoUpdate by @glenn-jocher in https://github.com/ultralytics/yolov5/pull/9471\\n* `segment/predict --save-txt` fix by @glenn-jocher in https://github.com/ultralytics/yolov5/pull/9478\\n* TensorFlow SegmentationModel support by @glenn-jocher in https://github.com/ultralytics/yolov5/pull/9472\\n* AutoBatch report include reserved+allocated by @glenn-jocher in https://github.com/ultralytics/yolov5/pull/9491\\n* Update Detect() grid init `for` loop by @glenn-jocher in https://github.com/ultralytics/yolov5/pull/9494\\n* Accelerate video inference by @mucunwuxian in https://github.com/ultralytics/yolov5/pull/9487\\n* Comet Image Logging Fix by @DN6 in https://github.com/ultralytics/yolov5/pull/9498\\n* Fix visualization title bug by @glenn-jocher in https://github.com/ultralytics/yolov5/pull/9500\\n* Add paddle tips by @Zengyf-CVer in https://github.com/ultralytics/yolov5/pull/9502\\n* Segmentation `polygons2masks_overlap()` in `np.int32` by @glenn-jocher in https://github.com/ultralytics/yolov5/pull/9493\\n* Fix `random_perspective` param bug in segment by @FeiGeChuanShu in https://github.com/ultralytics/yolov5/pull/9512\\n* Remove `check_requirements(\\'flatbuffers==1.12\\')` by @glenn-jocher in https://github.com/ultralytics/yolov5/pull/9514\\n* Fix TF Lite exports by @glenn-jocher in https://github.com/ultralytics/yolov5/pull/9517\\n* TFLite fix 2 by @glenn-jocher in https://github.com/ultralytics/yolov5/pull/9518\\n* FROM nvcr.io/nvidia/pytorch:22.08-py3 by @glenn-jocher in https://github.com/ultralytics/yolov5/pull/9520\\n* Remove scikit-learn constraint on coremltools 6.0 by @glenn-jocher in https://github.com/ultralytics/yolov5/pull/9530\\n* Update scikit-learn constraint per coremltools 6.0 by @glenn-jocher in https://github.com/ultralytics/yolov5/pull/9531\\n* Update `coremltools&gt;=6.0` by @glenn-jocher in https://github.com/ultralytics/yolov5/pull/9532\\n* Update albumentations by @glenn-jocher in https://github.com/ultralytics/yolov5/pull/9503\\n* import re by @glenn-jocher in https://github.com/ultralytics/yolov5/pull/9535\\n* TF.js fix by @glenn-jocher in https://github.com/ultralytics/yolov5/pull/9536\\n* Refactor dataset batch-size by @glenn-jocher in https://github.com/ultralytics/yolov5/pull/9551\\n* Add `--source screen` for screenshot inference by @zombob in https://github.com/ultralytics/yolov5/pull/9542\\n* Update `is_url()` by @glenn-jocher in https://github.com/ultralytics/yolov5/pull/9566\\n* Detect.py supports running against a Triton container by @gaziqbal in https://github.com/ultralytics/yolov5/pull/9228\\n* New `scale_segments()` function by @glenn-jocher in https://github.com/ultralytics/yolov5/pull/9570\\n* generator seed fix for DDP mAP drop by @Forever518 in https://github.com/ultralytics/yolov5/pull/9545\\n* Update default GitHub assets by @glenn-jocher in https://github.com/ultralytics/yolov5/pull/9573\\n* Update requirements.txt comment https://pytorch.org/get-started/locally/ by @davidamacey in https://github.com/ultralytics/yolov5/pull/9576\\n* Add segment line predictions by @glenn-jocher in https://github.com/ultralytics/yolov5/pull/9571\\n* TensorRT detect.py inference fix by @glenn-jocher in https://github.com/ultralytics/yolov5/pull/9581\\n* Update Comet links by @glenn-jocher in https://github.com/ultralytics/yolov5/pull/9587\\n* Add global YOLOv5_DATASETS_DIR by @glenn-jocher in https://github.com/ultralytics/yolov5/pull/9586\\n* Add Paperspace Gradient badges by @glenn-jocher in https://github.com/ultralytics/yolov5/pull/9588\\n* #YOLOVISION22 announcement by @glenn-jocher in https://github.com/ultralytics/yolov5/pull/9590\\n* Bump actions/stale from 5 to 6 by @dependabot in https://github.com/ultralytics/yolov5/pull/9595\\n* #YOLOVISION22 update by @glenn-jocher in https://github.com/ultralytics/yolov5/pull/9598\\n* Apple MPS -&gt; CPU NMS fallback strategy by @glenn-jocher in https://github.com/ultralytics/yolov5/pull/9600\\n* Updated Segmentation and Classification usage by @glenn-jocher in https://github.com/ultralytics/yolov5/pull/9607\\n* Update export.py Usage examples by @glenn-jocher in https://github.com/ultralytics/yolov5/pull/9609\\n* Fix `is_url(\\'https://ultralytics.com\\')` by @glenn-jocher in https://github.com/ultralytics/yolov5/pull/9610\\n* Add `results.save(save_dir=\\'path\\', exist_ok=False)` by @glenn-jocher in https://github.com/ultralytics/yolov5/pull/9617\\n* NMS MPS device wrapper by @glenn-jocher in https://github.com/ultralytics/yolov5/pull/9620\\n* Add SegmentationModel unsupported warning by @glenn-jocher in https://github.com/ultralytics/yolov5/pull/9632\\n* Disabled upload_dataset flag temporarily due to an artifact related bug by @soumik12345 in https://github.com/ultralytics/yolov5/pull/9652\\n* Add NVIDIA Jetson Nano Deployment tutorial by @glenn-jocher in https://github.com/ultralytics/yolov5/pull/9656\\n* Added cutout import from utils/augmentations.py to use Cutout Aug in … by @senhorinfinito in https://github.com/ultralytics/yolov5/pull/9668\\n* Simplify val.py benchmark mode with speed mode by @glenn-jocher in https://github.com/ultralytics/yolov5/pull/9674\\n* Allow list for Comet artifact class \\'names\\' field by @KristenKehrer in https://github.com/ultralytics/yolov5/pull/9654\\n* [pre-commit.ci] pre-commit suggestions by @pre-commit-ci in https://github.com/ultralytics/yolov5/pull/9685\\n* TensorRT `--dynamic` fix by @glenn-jocher in https://github.com/ultralytics/yolov5/pull/9691\\n* FROM nvcr.io/nvidia/pytorch:22.09-py3 by @glenn-jocher in https://github.com/ultralytics/yolov5/pull/9711\\n* Error in utils/segment/general `masks2segments()` by @paulguerrie in https://github.com/ultralytics/yolov5/pull/9724\\n* Fix segment evolution keys by @glenn-jocher in https://github.com/ultralytics/yolov5/pull/9742\\n* Remove #YOLOVISION22 notice by @glenn-jocher in https://github.com/ultralytics/yolov5/pull/9751\\n* Update Loggers by @glenn-jocher in https://github.com/ultralytics/yolov5/pull/9760\\n* update mask2segments and saving results by @vladoossss in https://github.com/ultralytics/yolov5/pull/9785\\n* HUB VOC fix by @glenn-jocher in https://github.com/ultralytics/yolov5/pull/9792\\n* Update hubconf.py local repo Usage example by @glenn-jocher in https://github.com/ultralytics/yolov5/pull/9803\\n* Fix xView dataloaders import by @glenn-jocher in https://github.com/ultralytics/yolov5/pull/9807\\n* Argoverse HUB fix by @glenn-jocher in https://github.com/ultralytics/yolov5/pull/9809\\n* `smart_optimizer()` revert to weight with decay by @glenn-jocher in https://github.com/ultralytics/yolov5/pull/9817\\n* Allow PyTorch Hub results to display in notebooks by @glenn-jocher in https://github.com/ultralytics/yolov5/pull/9825\\n* Logger Cleanup by @glenn-jocher in https://github.com/ultralytics/yolov5/pull/9828\\n* Remove ipython from `check_requirements` exclude list by @glenn-jocher in https://github.com/ultralytics/yolov5/pull/9841\\n* Update HUBDatasetStats() usage examples by @glenn-jocher in https://github.com/ultralytics/yolov5/pull/9842\\n* Update ZipFile to context manager by @glenn-jocher in https://github.com/ultralytics/yolov5/pull/9843\\n* Update README.md by @glenn-jocher in https://github.com/ultralytics/yolov5/pull/9846\\n* Webcam show fix by @glenn-jocher in https://github.com/ultralytics/yolov5/pull/9847\\n* Fix OpenVINO Usage example by @glenn-jocher in https://github.com/ultralytics/yolov5/pull/9874\\n* ClearML Dockerfile fix by @glenn-jocher in https://github.com/ultralytics/yolov5/pull/9876\\n* Windows Python 3.7 .isfile() fix by @SSTato in https://github.com/ultralytics/yolov5/pull/9879\\n* Add TFLite Metadata to TFLite and Edge TPU models by @paradigmn in https://github.com/ultralytics/yolov5/pull/9903\\n* Add `gnupg` to Dockerfile-cpu by @glenn-jocher in https://github.com/ultralytics/yolov5/pull/9932\\n* Add ClearML minimum version requirement by @glenn-jocher in https://github.com/ultralytics/yolov5/pull/9933\\n* Update Comet Integrations table text by @glenn-jocher in https://github.com/ultralytics/yolov5/pull/9937\\n* Update README.md by @glenn-jocher in https://github.com/ultralytics/yolov5/pull/9957\\n* Update README.md by @glenn-jocher in https://github.com/ultralytics/yolov5/pull/9958\\n* Update README.md by @glenn-jocher in https://github.com/ultralytics/yolov5/pull/9961\\n* Switch from suffix checks to archive checks by @kalenmike in https://github.com/ultralytics/yolov5/pull/9963\\n* FROM nvcr.io/nvidia/pytorch:22.10-py3 by @glenn-jocher in https://github.com/ultralytics/yolov5/pull/9966\\n* Full-size proto code (optional) by @glenn-jocher in https://github.com/ultralytics/yolov5/pull/9980\\n* Update README.md by @glenn-jocher in https://github.com/ultralytics/yolov5/pull/9970\\n* Segmentation Tutorial by @paulguerrie in https://github.com/ultralytics/yolov5/pull/9521\\n* Fix `is_colab()` by @glenn-jocher in https://github.com/ultralytics/yolov5/pull/9994\\n* Check online twice on AutoUpdate by @glenn-jocher in https://github.com/ultralytics/yolov5/pull/9999\\n* Add `min_items` filter option by @glenn-jocher in https://github.com/ultralytics/yolov5/pull/9997\\n* Improved `check_online()` robustness by @glenn-jocher in https://github.com/ultralytics/yolov5/pull/10000\\n* Fix `min_items` by @glenn-jocher in https://github.com/ultralytics/yolov5/pull/10001\\n* Update default `--epochs 100` by @glenn-jocher in https://github.com/ultralytics/yolov5/pull/10024\\n* YOLOv5 AutoCache Update by @glenn-jocher in https://github.com/ultralytics/yolov5/pull/10027\\n* IoU `eps` adjustment by @glenn-jocher in https://github.com/ultralytics/yolov5/pull/10051\\n* Update get_coco.sh by @glenn-jocher in https://github.com/ultralytics/yolov5/pull/10057\\n* [pre-commit.ci] pre-commit suggestions by @pre-commit-ci in https://github.com/ultralytics/yolov5/pull/10068\\n* Use MNIST160 by @glenn-jocher in https://github.com/ultralytics/yolov5/pull/10069\\n* Update Dockerfile keep default torch installation by @glenn-jocher in https://github.com/ultralytics/yolov5/pull/10071\\n* Add `ultralytics` pip package by @glenn-jocher in https://github.com/ultralytics/yolov5/pull/10103\\n* AutoShape integer image-size fix by @janus-zheng in https://github.com/ultralytics/yolov5/pull/10090\\n* YouTube Usage example comments by @glenn-jocher in https://github.com/ultralytics/yolov5/pull/10106\\n* Mapped project and name to ClearML by @thepycoder in https://github.com/ultralytics/yolov5/pull/10100\\n* Update IoU functions by @glenn-jocher in https://github.com/ultralytics/yolov5/pull/10123\\n* Add Ultralytics HUB to README by @glenn-jocher in https://github.com/ultralytics/yolov5/pull/10070\\n* Fix benchmark.py usage comment by @rusamentiaga in https://github.com/ultralytics/yolov5/pull/10131\\n* Update HUB banner image by @glenn-jocher in https://github.com/ultralytics/yolov5/pull/10134\\n* Copy-Paste zero value fix by @glenn-jocher in https://github.com/ultralytics/yolov5/pull/10152\\n* Add Copy-Paste to `mosaic9()` by @glenn-jocher in https://github.com/ultralytics/yolov5/pull/10165\\n* Add `join_threads()` by @glenn-jocher in https://github.com/ultralytics/yolov5/pull/10086\\n* Fix dataloader filepath modification to perform replace only once and not for all occurences of string by @adumrewal in https://github.com/ultralytics/yolov5/pull/10163\\n* fix: prevent logging config clobbering by @rkechols in https://github.com/ultralytics/yolov5/pull/10133\\n* Filter PyTorch 1.13  UserWarnings by @triple-Mu in https://github.com/ultralytics/yolov5/pull/10166\\n* Revert \"fix: prevent logging config clobbering\" by @glenn-jocher in https://github.com/ultralytics/yolov5/pull/10177\\n* Apply make_divisible for ONNX models in Autoshape by @janus-zheng in https://github.com/ultralytics/yolov5/pull/10172\\n* data.yaml `names.keys()` integer assert by @glenn-jocher in https://github.com/ultralytics/yolov5/pull/10190\\n* fix: try 2 - prevent logging config clobbering by @rkechols in https://github.com/ultralytics/yolov5/pull/10192\\n* Segment prediction labels normalization fix by @glenn-jocher in https://github.com/ultralytics/yolov5/pull/10205\\n* Simplify dataloader tqdm descriptions by @glenn-jocher in https://github.com/ultralytics/yolov5/pull/10210\\n* New global `TQDM_BAR_FORMAT` by @glenn-jocher in https://github.com/ultralytics/yolov5/pull/10211\\n* Feature/classification tutorial refactor by @paulguerrie in https://github.com/ultralytics/yolov5/pull/10039\\n* Remove Colab notebook High-Memory notices by @glenn-jocher in https://github.com/ultralytics/yolov5/pull/10212\\n* Revert `--save-txt` to default False by @glenn-jocher in https://github.com/ultralytics/yolov5/pull/10213\\n* Add `--source screen` Usage example by @glenn-jocher in https://github.com/ultralytics/yolov5/pull/10215\\n* Add `git` info to training checkpoints by @glenn-jocher in https://github.com/ultralytics/yolov5/pull/9655\\n* Add git info to cls, seg checkpoints by @glenn-jocher in https://github.com/ultralytics/yolov5/pull/10217\\n* Update Comet preview image by @glenn-jocher in https://github.com/ultralytics/yolov5/pull/10220\\n* Scope gitpyhon import in `check_git_info()` by @glenn-jocher in https://github.com/ultralytics/yolov5/pull/10221\\n* Squeezenet reshape outputs fix by @glenn-jocher in https://github.com/ultralytics/yolov5/pull/10222\\n\\n&lt;/details&gt;&lt;details&gt;\\n  &lt;summary&gt;😃 New Contributors (30)&lt;/summary&gt;\\n* @KieraMengru0907 made their first contribution in https://github.com/ultralytics/yolov5/pull/9001\\n* @cher-liang made their first contribution in https://github.com/ultralytics/yolov5/pull/9009\\n* @0zppd made their first contribution in https://github.com/ultralytics/yolov5/pull/9068\\n* @HighMans made their first contribution in https://github.com/ultralytics/yolov5/pull/9174\\n* @ymerkli made their first contribution in https://github.com/ultralytics/yolov5/pull/9227\\n* @spacewalk01 made their first contribution in https://github.com/ultralytics/yolov5/pull/9230\\n* @VELCpro made their first contribution in https://github.com/ultralytics/yolov5/pull/9256\\n* @DN6 made their first contribution in https://github.com/ultralytics/yolov5/pull/9232\\n* @robinned made their first contribution in https://github.com/ultralytics/yolov5/pull/9330\\n* @kisaragychihaya made their first contribution in https://github.com/ultralytics/yolov5/pull/9240\\n* @hotohoto made their first contribution in https://github.com/ultralytics/yolov5/pull/9414\\n* @Oswells made their first contribution in https://github.com/ultralytics/yolov5/pull/9452\\n* @mucunwuxian made their first contribution in https://github.com/ultralytics/yolov5/pull/9487\\n* @FeiGeChuanShu made their first contribution in https://github.com/ultralytics/yolov5/pull/9512\\n* @zombob made their first contribution in https://github.com/ultralytics/yolov5/pull/9542\\n* @gaziqbal made their first contribution in https://github.com/ultralytics/yolov5/pull/9228\\n* @Forever518 made their first contribution in https://github.com/ultralytics/yolov5/pull/9545\\n* @davidamacey made their first contribution in https://github.com/ultralytics/yolov5/pull/9576\\n* @soumik12345 made their first contribution in https://github.com/ultralytics/yolov5/pull/9652\\n* @senhorinfinito made their first contribution in https://github.com/ultralytics/yolov5/pull/9668\\n* @KristenKehrer made their first contribution in https://github.com/ultralytics/yolov5/pull/9654\\n* @paulguerrie made their first contribution in https://github.com/ultralytics/yolov5/pull/9724\\n* @vladoossss made their first contribution in https://github.com/ultralytics/yolov5/pull/9785\\n* @SSTato made their first contribution in https://github.com/ultralytics/yolov5/pull/9879\\n* @janus-zheng made their first contribution in https://github.com/ultralytics/yolov5/pull/10090\\n* @rusamentiaga made their first contribution in https://github.com/ultralytics/yolov5/pull/10131\\n* @adumrewal made their first contribution in https://github.com/ultralytics/yolov5/pull/10163\\n* @rkechols made their first contribution in https://github.com/ultralytics/yolov5/pull/10133\\n* @triple-Mu made their first contribution in https://github.com/ultralytics/yolov5/pull/10166\\n\\n&lt;/details&gt;',\n",
       " 'access_right': 'open',\n",
       " 'creators': [{'name': 'Glenn Jocher', 'affiliation': '@ultralytics'},\n",
       "  {'name': 'Ayush Chaurasia', 'affiliation': None},\n",
       "  {'name': 'Alex Stoken',\n",
       "   'affiliation': 'Jacobs JETS @ NASA Johnson Space Center'},\n",
       "  {'name': 'Jirka Borovec', 'affiliation': 'Grid.ai | PytorchLightning'},\n",
       "  {'name': 'NanoCode012', 'affiliation': None},\n",
       "  {'name': 'Yonghye Kwon', 'affiliation': 'MarkAny'},\n",
       "  {'name': 'Kalen Michael', 'affiliation': None},\n",
       "  {'name': 'TaoXie', 'affiliation': '罗布乐思'},\n",
       "  {'name': 'Jiacong Fang', 'affiliation': None},\n",
       "  {'name': 'imyhxy', 'affiliation': None},\n",
       "  {'name': 'Lorna', 'affiliation': 'Dakewe Biotech Co., Ltd.'},\n",
       "  {'name': '曾逸夫(Zeng Yifu)', 'affiliation': None},\n",
       "  {'name': 'Colin Wong', 'affiliation': '@frc5431 @Rebirth-of-the-Night'},\n",
       "  {'name': 'Abhiram V', 'affiliation': '@zealabs'},\n",
       "  {'name': 'Diego Montes', 'affiliation': None},\n",
       "  {'name': 'Zhiqiang Wang', 'affiliation': '@AXERA-TECH'},\n",
       "  {'name': 'Cristi Fati', 'affiliation': None},\n",
       "  {'name': 'Jebastin Nadar', 'affiliation': None},\n",
       "  {'name': 'Laughing', 'affiliation': None},\n",
       "  {'name': 'UnglvKitDe', 'affiliation': None},\n",
       "  {'name': 'Victor Sonck', 'affiliation': None},\n",
       "  {'name': 'tkianai', 'affiliation': '别怕失败,大不了从头来过'},\n",
       "  {'name': 'yxNONG', 'affiliation': None},\n",
       "  {'name': 'Piotr Skalski', 'affiliation': '@roboflow-ai'},\n",
       "  {'name': 'Adam Hogan', 'affiliation': 'North Carolina State University'},\n",
       "  {'name': 'Dhruv Nair', 'affiliation': None},\n",
       "  {'name': 'Max Strobel', 'affiliation': 'Technische Universität München'},\n",
       "  {'name': 'Mrinal Jain', 'affiliation': 'Ephesoft'}],\n",
       " 'related_identifiers': [{'identifier': 'https://github.com/ultralytics/yolov5/tree/v7.0',\n",
       "   'relation': 'isSupplementTo',\n",
       "   'scheme': 'url'}],\n",
       " 'version': 'v7.0',\n",
       " 'license': 'other-open',\n",
       " 'imprint_publisher': 'Zenodo',\n",
       " 'upload_type': 'software',\n",
       " 'prereserve_doi': {'doi': '10.5281/zenodo.7347926', 'recid': 7347926}}"
      ]
     },
     "execution_count": 12,
     "metadata": {},
     "output_type": "execute_result"
    }
   ],
   "source": [
    "#res.json()[0].get('metadata')"
   ]
  },
  {
   "cell_type": "code",
   "execution_count": 26,
   "id": "f2ae04a6",
   "metadata": {},
   "outputs": [
    {
     "data": {
      "text/plain": [
       "[{'identifier': 'https://github.com/ultralytics/yolov5/tree/v7.0',\n",
       "  'relation': 'isSupplementTo',\n",
       "  'scheme': 'url'}]"
      ]
     },
     "execution_count": 26,
     "metadata": {},
     "output_type": "execute_result"
    }
   ],
   "source": [
    "#res.json()[0]['metadata']['related_identifiers']"
   ]
  },
  {
   "cell_type": "code",
   "execution_count": null,
   "id": "765b6b3b",
   "metadata": {},
   "outputs": [],
   "source": [
    "# Field details here: https://help.zenodo.org/guides/search/  "
   ]
  },
  {
   "cell_type": "code",
   "execution_count": 96,
   "id": "c89c085c",
   "metadata": {},
   "outputs": [
    {
     "data": {
      "text/plain": [
       "dict_keys(['title', 'doi', 'publication_date', 'description', 'access_right', 'creators', 'related_identifiers', 'version', 'license', 'imprint_publisher', 'upload_type', 'prereserve_doi'])"
      ]
     },
     "execution_count": 96,
     "metadata": {},
     "output_type": "execute_result"
    }
   ],
   "source": [
    "#res.json()[0].get('metadata').keys()"
   ]
  },
  {
   "cell_type": "code",
   "execution_count": 107,
   "id": "74e02d61",
   "metadata": {},
   "outputs": [
    {
     "data": {
      "text/plain": [
       "[{'identifier': 'https://github.com/ultralytics/yolov5/tree/v7.0',\n",
       "  'relation': 'isSupplementTo',\n",
       "  'scheme': 'url'}]"
      ]
     },
     "execution_count": 107,
     "metadata": {},
     "output_type": "execute_result"
    }
   ],
   "source": [
    "#res.json()[0].get('metadata').get('related_identifiers')"
   ]
  },
  {
   "cell_type": "code",
   "execution_count": 258,
   "id": "e74ebf7c",
   "metadata": {},
   "outputs": [],
   "source": [
    "content = pd.DataFrame.from_dict(res.json())\n",
    " # pulling the json query output into a dataframe \n",
    "    # can then begin to pull data out of metadata column... \n",
    "    # ... where it's got related_identifiers including github.com"
   ]
  },
  {
   "cell_type": "code",
   "execution_count": 259,
   "id": "38a6d91c",
   "metadata": {},
   "outputs": [
    {
     "name": "stdout",
     "output_type": "stream",
     "text": [
      "                            created                          modified  \\\n",
      "0  2022-11-22T15:29:21.125713+00:00  2022-11-23T02:26:37.566894+00:00   \n",
      "1  2023-09-15T14:02:38.609718+00:00  2023-09-15T14:26:57.370604+00:00   \n",
      "2  2023-10-05T08:49:40.550242+00:00  2023-10-05T14:27:13.161473+00:00   \n",
      "3  2023-09-29T19:01:55.671486+00:00  2023-09-30T02:27:05.766147+00:00   \n",
      "4  2023-08-26T10:02:01.165552+00:00  2023-08-27T02:26:55.890297+00:00   \n",
      "5  2023-10-09T04:42:46.029552+00:00  2023-10-09T14:27:00.049603+00:00   \n",
      "6  2023-09-20T21:02:10.942443+00:00  2023-09-21T02:27:04.290583+00:00   \n",
      "7  2020-03-20T13:53:21.347110+00:00  2020-03-20T20:20:39.657140+00:00   \n",
      "8  2023-09-15T02:33:47.463107+00:00  2023-09-15T14:26:56.948563+00:00   \n",
      "9         2015-07-16T12:45:24+00:00  2020-01-29T13:09:11.520772+00:00   \n",
      "\n",
      "        id conceptrecid                     doi              conceptdoi  \\\n",
      "0  7347926      3908559  10.5281/zenodo.7347926  10.5281/zenodo.3908559   \n",
      "1  8349181       596518  10.5281/zenodo.8349181   10.5281/zenodo.596518   \n",
      "2  8409685      1243862  10.5281/zenodo.8409685  10.5281/zenodo.1243862   \n",
      "3  8393472       592845  10.5281/zenodo.8393472   10.5281/zenodo.592845   \n",
      "4  8284953       605791  10.5281/zenodo.8284953   10.5281/zenodo.605791   \n",
      "5  8419851      3996439  10.5281/zenodo.8419851  10.5281/zenodo.3996439   \n",
      "6  8364959      3509134  10.5281/zenodo.8364959  10.5281/zenodo.3509134   \n",
      "7  3719296       597993  10.5281/zenodo.3719296   10.5281/zenodo.597993   \n",
      "8  8347255       592536  10.5281/zenodo.8347255   10.5281/zenodo.592536   \n",
      "9    20349       611345    10.5281/zenodo.20349   10.5281/zenodo.611345   \n",
      "\n",
      "                                  doi_url  \\\n",
      "0  https://doi.org/10.5281/zenodo.7347926   \n",
      "1  https://doi.org/10.5281/zenodo.8349181   \n",
      "2  https://doi.org/10.5281/zenodo.8409685   \n",
      "3  https://doi.org/10.5281/zenodo.8393472   \n",
      "4  https://doi.org/10.5281/zenodo.8284953   \n",
      "5  https://doi.org/10.5281/zenodo.8419851   \n",
      "6  https://doi.org/10.5281/zenodo.8364959   \n",
      "7  https://doi.org/10.5281/zenodo.3719296   \n",
      "8  https://doi.org/10.5281/zenodo.8347255   \n",
      "9    https://doi.org/10.5281/zenodo.20349   \n",
      "\n",
      "                                            metadata  \\\n",
      "0  {'title': 'ultralytics/yolov5: v7.0 - YOLOv5 S...   \n",
      "1  {'title': 'python-pillow/Pillow: 10.0.1', 'doi...   \n",
      "2  {'title': 'Scientific colour maps', 'doi': '10...   \n",
      "3  {'title': 'mwaskom/seaborn:  v0.13.0 (Septembe...   \n",
      "4  {'title': 'Colour 0.4.3', 'doi': '10.5281/zeno...   \n",
      "5  {'title': 'Trixi.jl', 'doi': '10.5281/zenodo.8...   \n",
      "6  {'title': 'pandas-dev/pandas: Pandas', 'doi': ...   \n",
      "7  {'title': 'Xenon', 'doi': '10.5281/zenodo.3719...   \n",
      "8  {'title': 'Matplotlib: Visualization with Pyth...   \n",
      "9  {'title': 'Eddy-Covariance Software TK3', 'doi...   \n",
      "\n",
      "                                               title  \\\n",
      "0  ultralytics/yolov5: v7.0 - YOLOv5 SOTA Realtim...   \n",
      "1                       python-pillow/Pillow: 10.0.1   \n",
      "2                             Scientific colour maps   \n",
      "3         mwaskom/seaborn:  v0.13.0 (September 2023)   \n",
      "4                                       Colour 0.4.3   \n",
      "5                                           Trixi.jl   \n",
      "6                          pandas-dev/pandas: Pandas   \n",
      "7                                              Xenon   \n",
      "8              Matplotlib: Visualization with Python   \n",
      "9                       Eddy-Covariance Software TK3   \n",
      "\n",
      "                                               links  record_id  owner  \\\n",
      "0  {'self': 'https://zenodo.org/api/records/73479...    7347926  64193   \n",
      "1  {'self': 'https://zenodo.org/api/records/83491...    8349181  17549   \n",
      "2  {'self': 'https://zenodo.org/api/records/84096...    8409685  43498   \n",
      "3  {'self': 'https://zenodo.org/api/records/83934...    8393472   6810   \n",
      "4  {'self': 'https://zenodo.org/api/records/82849...    8284953   5866   \n",
      "5  {'self': 'https://zenodo.org/api/records/84198...    8419851  58288   \n",
      "6  {'self': 'https://zenodo.org/api/records/83649...    8364959  76185   \n",
      "7  {'self': 'https://zenodo.org/api/records/37192...    3719296  19641   \n",
      "8  {'self': 'https://zenodo.org/api/records/83472...    8347255   5742   \n",
      "9  {'self': 'https://zenodo.org/api/records/20349...      20349   6825   \n",
      "\n",
      "                                               files state  submitted  \n",
      "0  [{'id': '6d9a4918-34ef-47ed-a472-e11bb6edcdcf'...  done       True  \n",
      "1  [{'id': '453c7390-aa5c-4ca8-b727-d0f11c837828'...  done       True  \n",
      "2  [{'id': 'df9ec0f1-6ad8-46d2-8485-5e93eb5d8593'...  done       True  \n",
      "3  [{'id': 'e54069d6-e095-46b5-adef-450dd2a78cf7'...  done       True  \n",
      "4  [{'id': '6bac0d3f-ba73-4a4a-8505-fb43b2b60317'...  done       True  \n",
      "5  [{'id': 'f019370d-4a46-4579-a879-db695a43081e'...  done       True  \n",
      "6  [{'id': '0a0ff1b0-e508-48fc-825e-482a82513aed'...  done       True  \n",
      "7  [{'id': 'bb327c7c-2d7e-48c6-aacb-482956eadb09'...  done       True  \n",
      "8  [{'id': '15f489ba-bba4-4cc4-8cb4-76f1ec9f95dd'...  done       True  \n",
      "9  [{'id': '1fc83c3b-71a3-4669-aba0-9ea621388a44'...  done       True  \n"
     ]
    }
   ],
   "source": [
    "print(content)"
   ]
  },
  {
   "cell_type": "code",
   "execution_count": 260,
   "id": "901c5bc0",
   "metadata": {},
   "outputs": [
    {
     "data": {
      "text/plain": [
       "{'self': 'https://zenodo.org/api/records/8409685',\n",
       " 'self_html': 'https://zenodo.org/records/8409685',\n",
       " 'self_doi': 'https://zenodo.org/doi/10.5281/zenodo.8409685',\n",
       " 'doi': 'https://doi.org/10.5281/zenodo.8409685',\n",
       " 'parent': 'https://zenodo.org/api/records/1243862',\n",
       " 'parent_html': 'https://zenodo.org/records/1243862',\n",
       " 'parent_doi': 'https://zenodo.org/doi/10.5281/zenodo.1243862',\n",
       " 'self_iiif_manifest': 'https://zenodo.org/api/iiif/record:8409685/manifest',\n",
       " 'self_iiif_sequence': 'https://zenodo.org/api/iiif/record:8409685/sequence/default',\n",
       " 'files': 'https://zenodo.org/api/records/8409685/files',\n",
       " 'media_files': 'https://zenodo.org/api/records/8409685/media-files',\n",
       " 'archive': 'https://zenodo.org/api/records/8409685/files-archive',\n",
       " 'archive_media': 'https://zenodo.org/api/records/8409685/media-files-archive',\n",
       " 'latest': 'https://zenodo.org/api/records/8409685/versions/latest',\n",
       " 'latest_html': 'https://zenodo.org/records/8409685/latest',\n",
       " 'draft': 'https://zenodo.org/api/records/8409685/draft',\n",
       " 'versions': 'https://zenodo.org/api/records/8409685/versions',\n",
       " 'access_links': 'https://zenodo.org/api/records/8409685/access/links',\n",
       " 'access_users': 'https://zenodo.org/api/records/8409685/access/users',\n",
       " 'access_request': 'https://zenodo.org/api/records/8409685/access/request',\n",
       " 'access': 'https://zenodo.org/api/records/8409685/access',\n",
       " 'reserve_doi': 'https://zenodo.org/api/records/8409685/draft/pids/doi',\n",
       " 'communities': 'https://zenodo.org/api/records/8409685/communities',\n",
       " 'communities-suggestions': 'https://zenodo.org/api/records/8409685/communities-suggestions',\n",
       " 'requests': 'https://zenodo.org/api/records/8409685/requests'}"
      ]
     },
     "execution_count": 260,
     "metadata": {},
     "output_type": "execute_result"
    }
   ],
   "source": [
    "content.links[2]"
   ]
  },
  {
   "cell_type": "code",
   "execution_count": 149,
   "id": "1a0571b9",
   "metadata": {},
   "outputs": [],
   "source": [
    "#### START HERE #####\n",
    "\n",
    "#### continue by pulling the github.com/*/* content out into a file. \n"
   ]
  },
  {
   "cell_type": "code",
   "execution_count": null,
   "id": "03ef3d1e",
   "metadata": {},
   "outputs": [],
   "source": []
  },
  {
   "cell_type": "code",
   "execution_count": null,
   "id": "b514195a",
   "metadata": {},
   "outputs": [],
   "source": []
  },
  {
   "cell_type": "code",
   "execution_count": null,
   "id": "f88e08f7",
   "metadata": {},
   "outputs": [],
   "source": []
  },
  {
   "cell_type": "code",
   "execution_count": null,
   "id": "3c3fa076",
   "metadata": {},
   "outputs": [],
   "source": []
  },
  {
   "cell_type": "code",
   "execution_count": 80,
   "id": "4d5f058b",
   "metadata": {},
   "outputs": [
    {
     "data": {
      "text/plain": [
       "Index(['created', 'modified', 'id', 'conceptrecid', 'doi', 'conceptdoi',\n",
       "       'doi_url', 'metadata', 'title', 'links', 'record_id', 'owner', 'files',\n",
       "       'state', 'submitted'],\n",
       "      dtype='object')"
      ]
     },
     "execution_count": 80,
     "metadata": {},
     "output_type": "execute_result"
    }
   ],
   "source": [
    "content.keys()"
   ]
  },
  {
   "cell_type": "code",
   "execution_count": 112,
   "id": "86c19ebb",
   "metadata": {},
   "outputs": [],
   "source": [
    "content['related_identifiers'] = content[['metadata']].apply(lambda x: [x.get('related_identifiers') for x in x])"
   ]
  },
  {
   "cell_type": "code",
   "execution_count": 113,
   "id": "8429d7fb",
   "metadata": {},
   "outputs": [
    {
     "data": {
      "text/html": [
       "<div>\n",
       "<style scoped>\n",
       "    .dataframe tbody tr th:only-of-type {\n",
       "        vertical-align: middle;\n",
       "    }\n",
       "\n",
       "    .dataframe tbody tr th {\n",
       "        vertical-align: top;\n",
       "    }\n",
       "\n",
       "    .dataframe thead th {\n",
       "        text-align: right;\n",
       "    }\n",
       "</style>\n",
       "<table border=\"1\" class=\"dataframe\">\n",
       "  <thead>\n",
       "    <tr style=\"text-align: right;\">\n",
       "      <th></th>\n",
       "      <th>created</th>\n",
       "      <th>modified</th>\n",
       "      <th>id</th>\n",
       "      <th>conceptrecid</th>\n",
       "      <th>doi</th>\n",
       "      <th>conceptdoi</th>\n",
       "      <th>doi_url</th>\n",
       "      <th>metadata</th>\n",
       "      <th>title</th>\n",
       "      <th>links</th>\n",
       "      <th>record_id</th>\n",
       "      <th>owner</th>\n",
       "      <th>files</th>\n",
       "      <th>state</th>\n",
       "      <th>submitted</th>\n",
       "      <th>related_identifiers</th>\n",
       "      <th>related_identifiers_url</th>\n",
       "    </tr>\n",
       "  </thead>\n",
       "  <tbody>\n",
       "    <tr>\n",
       "      <th>0</th>\n",
       "      <td>2022-11-22T15:29:21.125713+00:00</td>\n",
       "      <td>2022-11-23T02:26:37.566894+00:00</td>\n",
       "      <td>7347926</td>\n",
       "      <td>3908559</td>\n",
       "      <td>10.5281/zenodo.7347926</td>\n",
       "      <td>10.5281/zenodo.3908559</td>\n",
       "      <td>https://doi.org/10.5281/zenodo.7347926</td>\n",
       "      <td>{'title': 'ultralytics/yolov5: v7.0 - YOLOv5 S...</td>\n",
       "      <td>ultralytics/yolov5: v7.0 - YOLOv5 SOTA Realtim...</td>\n",
       "      <td>{'self': 'https://zenodo.org/api/records/73479...</td>\n",
       "      <td>7347926</td>\n",
       "      <td>64193</td>\n",
       "      <td>[{'id': '6d9a4918-34ef-47ed-a472-e11bb6edcdcf'...</td>\n",
       "      <td>done</td>\n",
       "      <td>True</td>\n",
       "      <td>[{'identifier': 'https://github.com/ultralytic...</td>\n",
       "      <td>None</td>\n",
       "    </tr>\n",
       "    <tr>\n",
       "      <th>1</th>\n",
       "      <td>2023-09-15T14:02:38.609718+00:00</td>\n",
       "      <td>2023-09-15T14:26:57.370604+00:00</td>\n",
       "      <td>8349181</td>\n",
       "      <td>596518</td>\n",
       "      <td>10.5281/zenodo.8349181</td>\n",
       "      <td>10.5281/zenodo.596518</td>\n",
       "      <td>https://doi.org/10.5281/zenodo.8349181</td>\n",
       "      <td>{'title': 'python-pillow/Pillow: 10.0.1', 'doi...</td>\n",
       "      <td>python-pillow/Pillow: 10.0.1</td>\n",
       "      <td>{'self': 'https://zenodo.org/api/records/83491...</td>\n",
       "      <td>8349181</td>\n",
       "      <td>17549</td>\n",
       "      <td>[{'id': '453c7390-aa5c-4ca8-b727-d0f11c837828'...</td>\n",
       "      <td>done</td>\n",
       "      <td>True</td>\n",
       "      <td>[{'identifier': 'https://github.com/python-pil...</td>\n",
       "      <td>None</td>\n",
       "    </tr>\n",
       "    <tr>\n",
       "      <th>2</th>\n",
       "      <td>2023-10-05T08:49:40.550242+00:00</td>\n",
       "      <td>2023-10-05T14:27:13.161473+00:00</td>\n",
       "      <td>8409685</td>\n",
       "      <td>1243862</td>\n",
       "      <td>10.5281/zenodo.8409685</td>\n",
       "      <td>10.5281/zenodo.1243862</td>\n",
       "      <td>https://doi.org/10.5281/zenodo.8409685</td>\n",
       "      <td>{'title': 'Scientific colour maps', 'doi': '10...</td>\n",
       "      <td>Scientific colour maps</td>\n",
       "      <td>{'self': 'https://zenodo.org/api/records/84096...</td>\n",
       "      <td>8409685</td>\n",
       "      <td>43498</td>\n",
       "      <td>[{'id': 'df9ec0f1-6ad8-46d2-8485-5e93eb5d8593'...</td>\n",
       "      <td>done</td>\n",
       "      <td>True</td>\n",
       "      <td>[{'identifier': '10.5194/gmd-2017-328', 'relat...</td>\n",
       "      <td>None</td>\n",
       "    </tr>\n",
       "  </tbody>\n",
       "</table>\n",
       "</div>"
      ],
      "text/plain": [
       "                            created                          modified  \\\n",
       "0  2022-11-22T15:29:21.125713+00:00  2022-11-23T02:26:37.566894+00:00   \n",
       "1  2023-09-15T14:02:38.609718+00:00  2023-09-15T14:26:57.370604+00:00   \n",
       "2  2023-10-05T08:49:40.550242+00:00  2023-10-05T14:27:13.161473+00:00   \n",
       "\n",
       "        id conceptrecid                     doi              conceptdoi  \\\n",
       "0  7347926      3908559  10.5281/zenodo.7347926  10.5281/zenodo.3908559   \n",
       "1  8349181       596518  10.5281/zenodo.8349181   10.5281/zenodo.596518   \n",
       "2  8409685      1243862  10.5281/zenodo.8409685  10.5281/zenodo.1243862   \n",
       "\n",
       "                                  doi_url  \\\n",
       "0  https://doi.org/10.5281/zenodo.7347926   \n",
       "1  https://doi.org/10.5281/zenodo.8349181   \n",
       "2  https://doi.org/10.5281/zenodo.8409685   \n",
       "\n",
       "                                            metadata  \\\n",
       "0  {'title': 'ultralytics/yolov5: v7.0 - YOLOv5 S...   \n",
       "1  {'title': 'python-pillow/Pillow: 10.0.1', 'doi...   \n",
       "2  {'title': 'Scientific colour maps', 'doi': '10...   \n",
       "\n",
       "                                               title  \\\n",
       "0  ultralytics/yolov5: v7.0 - YOLOv5 SOTA Realtim...   \n",
       "1                       python-pillow/Pillow: 10.0.1   \n",
       "2                             Scientific colour maps   \n",
       "\n",
       "                                               links  record_id  owner  \\\n",
       "0  {'self': 'https://zenodo.org/api/records/73479...    7347926  64193   \n",
       "1  {'self': 'https://zenodo.org/api/records/83491...    8349181  17549   \n",
       "2  {'self': 'https://zenodo.org/api/records/84096...    8409685  43498   \n",
       "\n",
       "                                               files state  submitted  \\\n",
       "0  [{'id': '6d9a4918-34ef-47ed-a472-e11bb6edcdcf'...  done       True   \n",
       "1  [{'id': '453c7390-aa5c-4ca8-b727-d0f11c837828'...  done       True   \n",
       "2  [{'id': 'df9ec0f1-6ad8-46d2-8485-5e93eb5d8593'...  done       True   \n",
       "\n",
       "                                 related_identifiers related_identifiers_url  \n",
       "0  [{'identifier': 'https://github.com/ultralytic...                    None  \n",
       "1  [{'identifier': 'https://github.com/python-pil...                    None  \n",
       "2  [{'identifier': '10.5194/gmd-2017-328', 'relat...                    None  "
      ]
     },
     "execution_count": 113,
     "metadata": {},
     "output_type": "execute_result"
    }
   ],
   "source": [
    "content"
   ]
  },
  {
   "cell_type": "code",
   "execution_count": 243,
   "id": "0965628f",
   "metadata": {},
   "outputs": [
    {
     "name": "stdout",
     "output_type": "stream",
     "text": [
      "[{'identifier': 'https://github.com/ultralytics/yolov5/tree/v7.0', 'relation': 'isSupplementTo', 'scheme': 'url'}]\n",
      "[{'identifier': 'https://github.com/python-pillow/Pillow/tree/10.0.1', 'relation': 'isSupplementTo', 'scheme': 'url'}]\n",
      "[{'identifier': '10.5194/gmd-2017-328', 'relation': 'isDocumentedBy', 'scheme': 'doi'}]\n"
     ]
    }
   ],
   "source": [
    "for id in content['related_identifiers']:\n",
    "\n",
    "    print(id)"
   ]
  },
  {
   "cell_type": "code",
   "execution_count": 236,
   "id": "de9d6984",
   "metadata": {},
   "outputs": [
    {
     "name": "stdout",
     "output_type": "stream",
     "text": [
      "https://github.com/ultralytics/yolov5/tree/v7.0\n",
      "isSupplementTo\n",
      "url\n",
      "https://github.com/python-pillow/Pillow/tree/10.0.1\n",
      "isSupplementTo\n",
      "url\n",
      "10.5194/gmd-2017-328\n",
      "isDocumentedBy\n",
      "doi\n"
     ]
    }
   ],
   "source": [
    "for id in content['related_identifiers']:\n",
    "#         if (\"github.com\" in id['identifier']):\n",
    "#             row = []\n",
    "#             row.append(record_id)\n",
    "#             row.append(id['identifier'])\n",
    "#             row.append(id['relation'])\n",
    "\n",
    "    print(id[0].get('identifier'))\n",
    "    print(id[0].get('relation'))\n",
    "    print(id[0].get('scheme'))"
   ]
  },
  {
   "cell_type": "code",
   "execution_count": 238,
   "id": "c0c475bb",
   "metadata": {},
   "outputs": [
    {
     "name": "stdout",
     "output_type": "stream",
     "text": [
      "https://github.com/ultralytics/yolov5/tree/v7.0\n",
      "isSupplementTo\n",
      "url\n",
      "https://github.com/python-pillow/Pillow/tree/10.0.1\n",
      "isSupplementTo\n",
      "url\n"
     ]
    }
   ],
   "source": [
    "for id in content['related_identifiers']:\n",
    "\n",
    "    if (\"github.com\" in id[0].get('identifier')):\n",
    "        print(id[0].get('identifier'))\n",
    "        print(id[0].get('relation'))\n",
    "        print(id[0].get('scheme'))"
   ]
  },
  {
   "cell_type": "code",
   "execution_count": 239,
   "id": "dc7f02b5",
   "metadata": {},
   "outputs": [
    {
     "data": {
      "text/plain": [
       "0    7347926\n",
       "1    8349181\n",
       "2    8409685\n",
       "Name: id, dtype: int64"
      ]
     },
     "execution_count": 239,
     "metadata": {},
     "output_type": "execute_result"
    }
   ],
   "source": [
    "identifiers"
   ]
  },
  {
   "cell_type": "code",
   "execution_count": 232,
   "id": "a14960d6",
   "metadata": {},
   "outputs": [
    {
     "data": {
      "text/plain": [
       "Index(['created', 'modified', 'id', 'conceptrecid', 'doi', 'conceptdoi',\n",
       "       'doi_url', 'metadata', 'title', 'links', 'record_id', 'owner', 'files',\n",
       "       'state', 'submitted', 'related_identifiers', 'related_identifiers_url',\n",
       "       'related_identifiers_gh', 'related_identifiers_gh_str'],\n",
       "      dtype='object')"
      ]
     },
     "execution_count": 232,
     "metadata": {},
     "output_type": "execute_result"
    }
   ],
   "source": [
    "content.columns"
   ]
  },
  {
   "cell_type": "code",
   "execution_count": 22,
   "id": "1130cee1",
   "metadata": {},
   "outputs": [],
   "source": [
    "# get zenodo records with type software  \n",
    "# via: https://github.com/npch/reporunner/blob/main/notebooks/zenodo.ipynb\n",
    "\n",
    "#search_query = \"software\"\n",
    "#r = requests.get(\"https://zenodo.org/api/records\", params={'type': 'software'})  \n",
    "  # this comes from the format w/in 'records' entity here: https://pythonhosted.org/zenodo/api/records.html  "
   ]
  },
  {
   "cell_type": "markdown",
   "id": "6a6f4c9b",
   "metadata": {},
   "source": [
    "This search just pulls software records from the api ^  "
   ]
  },
  {
   "cell_type": "code",
   "execution_count": 9,
   "id": "00cd8b68",
   "metadata": {},
   "outputs": [
    {
     "data": {
      "text/plain": [
       "{'server': 'nginx', 'date': 'Mon, 16 Oct 2023 15:14:32 GMT', 'content-type': 'application/json', 'transfer-encoding': 'chunked', 'vary': 'Accept-Encoding', 'x-ratelimit-limit': '60', 'x-ratelimit-remaining': '58', 'x-ratelimit-reset': '1697469332', 'retry-after': '59', 'permissions-policy': 'interest-cohort=()', 'x-frame-options': 'sameorigin', 'x-xss-protection': '1; mode=block', 'x-content-type-options': 'nosniff', 'content-security-policy': \"default-src 'self' fonts.googleapis.com *.gstatic.com data: 'unsafe-inline' 'unsafe-eval' blob: zenodo-broker.web.cern.ch zenodo-broker-qa.web.cern.ch maxcdn.bootstrapcdn.com cdnjs.cloudflare.com ajax.googleapis.com webanalytics.web.cern.ch\", 'strict-transport-security': 'max-age=31556926; includeSubDomains, max-age=15768000', 'referrer-policy': 'strict-origin-when-cross-origin', 'access-control-allow-origin': '*', 'access-control-expose-headers': 'Content-Type, ETag, Link, X-RateLimit-Limit, X-RateLimit-Remaining, X-RateLimit-Reset', 'set-cookie': 'session=5ef951ce1586fc19_652d5358.S_02fZRhoo3PV-A-24oGxKKoR1g; Secure; HttpOnly; Path=/; SameSite=Lax, 5569e5a730cade8ff2b54f1e815f3670=99ff61ab2387084ce7b5c95f764ec010; path=/; HttpOnly; Secure; SameSite=None', 'x-request-id': 'b5a378b7b6bf4c38cbc8e8c5dfda2320', 'content-encoding': 'gzip', 'cache-control': 'private'}"
      ]
     },
     "execution_count": 9,
     "metadata": {},
     "output_type": "execute_result"
    }
   ],
   "source": [
    "r.headers"
   ]
  },
  {
   "cell_type": "code",
   "execution_count": 20,
   "id": "1bdf14f6",
   "metadata": {},
   "outputs": [
    {
     "data": {
      "text/plain": [
       "'https://zenodo.org/api/records?type=software'"
      ]
     },
     "execution_count": 20,
     "metadata": {},
     "output_type": "execute_result"
    }
   ],
   "source": [
    "r.url"
   ]
  },
  {
   "cell_type": "code",
   "execution_count": 138,
   "id": "377ad3be",
   "metadata": {},
   "outputs": [],
   "source": []
  }
 ],
 "metadata": {
  "kernelspec": {
   "display_name": "Python 3 (ipykernel)",
   "language": "python",
   "name": "python3"
  },
  "language_info": {
   "codemirror_mode": {
    "name": "ipython",
    "version": 3
   },
   "file_extension": ".py",
   "mimetype": "text/x-python",
   "name": "python",
   "nbconvert_exporter": "python",
   "pygments_lexer": "ipython3",
   "version": "3.10.9"
  }
 },
 "nbformat": 4,
 "nbformat_minor": 5
}
