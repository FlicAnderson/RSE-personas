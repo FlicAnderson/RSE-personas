{
 "cells": [
  {
   "cell_type": "markdown",
   "id": "b12179ec",
   "metadata": {},
   "source": [
    "# Zenodo API code for getting GitHub Repos "
   ]
  },
  {
   "cell_type": "markdown",
   "id": "61504180",
   "metadata": {},
   "source": [
    "### Setup  \n",
    "\n",
    "Ensure you are in the `coding-smart-github` conda environment and have the following python packages in your environment:\n",
    "  * requests    \n",
    "\n",
    "#### Github Authentication\n",
    "\n",
    "Create an access token via Zenodo Applications settings [here](https://zenodo.org/account/settings/applications/tokens/) and create a file called `zenodoconfig.cfg` with the following content:\n",
    "\n",
    "    [ACCESS]\n",
    "    token = <your-access-token>\n",
    "    \n",
    "Ensure you've pasted in your token, but leave `[ACCESS]` and `token =` ."
   ]
  },
  {
   "cell_type": "code",
   "execution_count": 22,
   "id": "af169961",
   "metadata": {},
   "outputs": [],
   "source": [
    "import pandas as pd\n",
    "#import numpy as np \n",
    "import os \n",
    "from os import path\n",
    "import configparser \n",
    "import requests\n",
    "import csv \n",
    "import json"
   ]
  },
  {
   "cell_type": "code",
   "execution_count": 2,
   "id": "e3b4797b",
   "metadata": {},
   "outputs": [
    {
     "data": {
      "text/plain": [
       "{'status': 403, 'message': 'Permission denied.'}"
      ]
     },
     "execution_count": 2,
     "metadata": {},
     "output_type": "execute_result"
    }
   ],
   "source": [
    "import requests\n",
    "r = requests.get(\"https://zenodo.org/api/deposit/depositions\")\n",
    "r.status_code\n",
    "# 403\n",
    "r.json()\n",
    "# permission denied is OK because we didn't do any access token things yet I think "
   ]
  },
  {
   "cell_type": "code",
   "execution_count": 3,
   "id": "6d75fa66",
   "metadata": {},
   "outputs": [
    {
     "name": "stdout",
     "output_type": "stream",
     "text": [
      "<Response [200]>\n"
     ]
    },
    {
     "data": {
      "text/plain": [
       "[{'created': '2015-06-25T15:04:19+00:00',\n",
       "  'modified': '2020-01-24T19:27:28.405139+00:00',\n",
       "  'id': 12271,\n",
       "  'conceptrecid': '592847',\n",
       "  'doi': '10.5281/zenodo.12271',\n",
       "  'conceptdoi': '',\n",
       "  'doi_url': 'https://doi.org/10.5281/zenodo.12271',\n",
       "  'metadata': {'title': 'peramagroon: seed',\n",
       "   'doi': '10.5281/zenodo.12271',\n",
       "   'publication_date': '2014-10-16',\n",
       "   'description': '<p>This is the beginning of my reproducible research / open data / science journey.</p>\\n\\n<p>I&#39;ll use this repo to document my progress in analysing and publishing results from data collected during fieldwork carried out during my masters (MSc) thesis. The original thesis was on the vegetation of Peramagroon Mountain in Iraqi Kurdistan, and was completed in August 2013.</p>\\n\\n<p>It will contain my data, data cleaning/tidying and analysis scripts, figures, and manuscripts. I&#39;m also aiming to make everything reproducible and openly accessible, so I&#39;ll also detail these factors and include notes on how I do this. I&#39;m hoping that I&#39;ll learn a lot from this experiment, and that the data I collected and results and conclusions I come to will be useful.</p>\\n\\n<blockquote>\\n<p>&quot;I do not fear computers. I fear the lack of them.&quot; Isaac Asimov</p>\\n</blockquote>\\n\\n<p>Flic</p>',\n",
       "   'access_right': 'open',\n",
       "   'creators': [{'name': 'Flic Anderson',\n",
       "     'affiliation': 'Centre for Middle Eastern Plants (CMEP) at Royal Botanic Garden Edinburgh'}],\n",
       "   'contributors': [{'name': 'Forrest, Alan',\n",
       "     'affiliation': 'RBGE',\n",
       "     'type': 'Supervisor'}],\n",
       "   'keywords': ['botany', 'ecology', 'open access', 'vegetation'],\n",
       "   'related_identifiers': [{'identifier': 'https://github.com/FlicAnderson/peramagroon/tree/v0.0',\n",
       "     'relation': 'isSupplementTo',\n",
       "     'scheme': 'url'}],\n",
       "   'version': 'v0.0',\n",
       "   'license': 'odc-by',\n",
       "   'imprint_publisher': 'Zenodo',\n",
       "   'thesis_university': 'University of Edinburgh',\n",
       "   'upload_type': 'software',\n",
       "   'prereserve_doi': {'doi': '10.5281/zenodo.12271', 'recid': 12271}},\n",
       "  'title': 'peramagroon: seed',\n",
       "  'links': {'self': 'https://zenodo.org/api/records/12271',\n",
       "   'html': 'https://zenodo.org/records/12271',\n",
       "   'doi': 'https://doi.org/10.5281/zenodo.12271',\n",
       "   'parent_doi': 'https://zenodo.org/doi/',\n",
       "   'badge': 'https://zenodo.org/badge/doi/10.5281%2Fzenodo.12271.svg',\n",
       "   'conceptbadge': 'https://zenodo.org/badge/doi/.svg',\n",
       "   'files': 'https://zenodo.org/api/records/12271/files',\n",
       "   'bucket': 'https://zenodo.org/api/files/',\n",
       "   'latest_draft': 'https://zenodo.org/api/deposit/depositions/12271',\n",
       "   'latest_draft_html': 'https://zenodo.org/deposit/12271',\n",
       "   'publish': 'https://zenodo.org/api/deposit/depositions/12271/actions/publish',\n",
       "   'edit': 'https://zenodo.org/api/deposit/depositions/12271/actions/edit',\n",
       "   'discard': 'https://zenodo.org/api/deposit/depositions/12271/actions/discard',\n",
       "   'newversion': 'https://zenodo.org/api/deposit/depositions/12271/actions/newversion',\n",
       "   'registerconceptdoi': 'https://zenodo.org/api/deposit/depositions/12271/actions/registerconceptdoi',\n",
       "   'record': 'https://zenodo.org/api/records/12271',\n",
       "   'record_html': 'https://zenodo.org/record/12271',\n",
       "   'latest': 'https://zenodo.org/api/records/12271/versions/latest',\n",
       "   'latest_html': 'https://zenodo.org/record/12271/versions/latest'},\n",
       "  'record_id': 12271,\n",
       "  'owner': 6655,\n",
       "  'files': [{'id': '7b48697a-c388-4f0d-9f5c-fdda4bc56574',\n",
       "    'filename': 'peramagroon-v0.0.zip',\n",
       "    'filesize': 3291,\n",
       "    'checksum': '12147702c7a8265e7048a3f6409ae525',\n",
       "    'links': {'self': 'https://zenodo.org/api/records/12271/files/7b48697a-c388-4f0d-9f5c-fdda4bc56574',\n",
       "     'download': 'https://zenodo.org/api/files//peramagroon-v0.0.zip'}}],\n",
       "  'state': 'done',\n",
       "  'submitted': True}]"
      ]
     },
     "execution_count": 3,
     "metadata": {},
     "output_type": "execute_result"
    }
   ],
   "source": [
    "# set up zenodo access token\n",
    "\n",
    "config = configparser.ConfigParser()\n",
    "config.read('../zenodoconfig.cfg')\n",
    "config.sections()\n",
    "\n",
    "access_token = config['ACCESS']['token']\n",
    "\n",
    "r = requests.get('https://zenodo.org/api/deposit/depositions',\n",
    "                  params={'access_token': access_token})\n",
    "\n",
    "print(r)\n",
    "\n",
    "r.status_code\n",
    "# 200\n",
    "\n",
    "r.json()\n",
    "# []\n",
    "\n",
    "#r.status_code == requests.codes.ok\n",
    "#r.raise_for_status()"
   ]
  },
  {
   "cell_type": "code",
   "execution_count": 45,
   "id": "886ccd52",
   "metadata": {},
   "outputs": [],
   "source": [
    "# records_api_url = 'https://zenodo.org/api/records'\n",
    "# search_query = 'type:software AND creators.affiliation:Cambridge'\n",
    "# res = requests.get(records_api_url, params={'q': search_query, 'size': 25, 'page': 1})"
   ]
  },
  {
   "cell_type": "code",
   "execution_count": 4,
   "id": "d7309504",
   "metadata": {},
   "outputs": [
    {
     "data": {
      "text/plain": [
       "[{'identifier': 'https://github.com/sequana/versionix/tree/v0.2.1',\n",
       "  'relation': 'isSupplementTo',\n",
       "  'scheme': 'url'}]"
      ]
     },
     "execution_count": 4,
     "metadata": {},
     "output_type": "execute_result"
    }
   ],
   "source": [
    "requests.get(\"https://zenodo.org/api/records/{}\".format(8412005)).json()['metadata']['related_identifiers']"
   ]
  },
  {
   "cell_type": "code",
   "execution_count": 75,
   "id": "d00dcfa4",
   "metadata": {},
   "outputs": [
    {
     "name": "stdout",
     "output_type": "stream",
     "text": [
      "200\n",
      "{}\n"
     ]
    }
   ],
   "source": [
    "records_api_url = 'https://zenodo.org/api/records'\n",
    "search_query = 'type:software'\n",
    "r = requests.get(records_api_url, params={'q': search_query, 'size':20})\n",
    "\n",
    "print(r.status_code)\n",
    "print(r.links)"
   ]
  },
  {
   "cell_type": "code",
   "execution_count": 118,
   "id": "354a1831",
   "metadata": {},
   "outputs": [
    {
     "name": "stdout",
     "output_type": "stream",
     "text": [
      "200\n",
      "{}\n",
      "None\n",
      "[{'created': '2021-11-13T14:27:12.158730+00:00', 'modified': '2021-11-14T13:49:23.519181+00:00', 'id': 5694496, 'conceptrecid': '5694495', 'doi': '10.5281/zenodo.5694496', 'conceptdoi': '10.5281/zenodo.5694495', 'doi_url': 'https://doi.org/10.5281/zenodo.5694496', 'metadata': {'title': 'spawaskar-cora/cora-docs: v2.1.0 Open Community Release', 'doi': '10.5281/zenodo.5694496', 'publication_date': '2021-11-13', 'description': '<p>This release includes the following</p>\\n<p>The main reason for this release was to tie this to a Zenodo DOI number for citation purposes.\\nGIF images for most of the important screens and workflows\\nIncludes all available Anomalies, Pathologies, Traumas, and Taphonomies.\\nAdded documentation for CoRA Data Export and Import (of measurements for Osteometric Sorting Algorithms).</p>', 'access_right': 'open', 'creators': [{'name': 'Sachin Pawaskar', 'affiliation': None}, {'name': 'Emily Streetman', 'affiliation': None}, {'name': 'C. LeGarde', 'affiliation': None}, {'name': 'Nate Jensen', 'affiliation': None}, {'name': 'Stuti Raut', 'affiliation': 'University of Nebraska at Omaha'}, {'name': 'Franklin Damann', 'affiliation': None}, {'name': 'Vaibhav Rahangdale', 'affiliation': None}, {'name': 'Jasmine Smith', 'affiliation': None}, {'name': 'wwetzel', 'affiliation': None}, {'name': 'cvenkatesan21', 'affiliation': None}, {'name': 'LucieBiehlerGomez', 'affiliation': None}, {'name': 'Katie-East', 'affiliation': None}, {'name': 'Traci Van Deest', 'affiliation': None}, {'name': 'Jeff Lynch', 'affiliation': None}, {'name': 'btrnew', 'affiliation': None}, {'name': 'Sihley Pawaskar', 'affiliation': None}], 'related_identifiers': [{'identifier': 'https://github.com/spawaskar-cora/cora-docs/tree/v2.1.0', 'relation': 'isSupplementTo', 'scheme': 'url'}], 'version': 'v2.1.0', 'license': 'other-open', 'imprint_publisher': 'Zenodo', 'upload_type': 'software', 'prereserve_doi': {'doi': '10.5281/zenodo.5694496', 'recid': 5694496}}, 'title': 'spawaskar-cora/cora-docs: v2.1.0 Open Community Release', 'links': {'self': 'https://zenodo.org/api/records/5694496', 'self_html': 'https://zenodo.org/records/5694496', 'self_doi': 'https://zenodo.org/doi/10.5281/zenodo.5694496', 'doi': 'https://doi.org/10.5281/zenodo.5694496', 'parent': 'https://zenodo.org/api/records/5694495', 'parent_html': 'https://zenodo.org/records/5694495', 'parent_doi': 'https://zenodo.org/doi/10.5281/zenodo.5694495', 'self_iiif_manifest': 'https://zenodo.org/api/iiif/record:5694496/manifest', 'self_iiif_sequence': 'https://zenodo.org/api/iiif/record:5694496/sequence/default', 'files': 'https://zenodo.org/api/records/5694496/files', 'media_files': 'https://zenodo.org/api/records/5694496/media-files', 'archive': 'https://zenodo.org/api/records/5694496/files-archive', 'archive_media': 'https://zenodo.org/api/records/5694496/media-files-archive', 'latest': 'https://zenodo.org/api/records/5694496/versions/latest', 'latest_html': 'https://zenodo.org/records/5694496/latest', 'draft': 'https://zenodo.org/api/records/5694496/draft', 'versions': 'https://zenodo.org/api/records/5694496/versions', 'access_links': 'https://zenodo.org/api/records/5694496/access/links', 'access_users': 'https://zenodo.org/api/records/5694496/access/users', 'access_request': 'https://zenodo.org/api/records/5694496/access/request', 'access': 'https://zenodo.org/api/records/5694496/access', 'reserve_doi': 'https://zenodo.org/api/records/5694496/draft/pids/doi', 'communities': 'https://zenodo.org/api/records/5694496/communities', 'communities-suggestions': 'https://zenodo.org/api/records/5694496/communities-suggestions', 'requests': 'https://zenodo.org/api/records/5694496/requests'}, 'record_id': 5694496, 'owner': 264931, 'files': [{'id': 'e784e067-de88-4876-b6f4-50785857fdc0', 'filename': 'spawaskar-cora/cora-docs-v2.1.0.zip', 'filesize': 77555348, 'checksum': '410acaa292e6a7bd8ea7456d77d5da41', 'links': {'self': 'https://zenodo.org/api/records/5694496/files/e784e067-de88-4876-b6f4-50785857fdc0'}}], 'state': 'done', 'submitted': True}, {'created': '2021-09-22T06:57:07.468158+00:00', 'modified': '2021-09-22T13:48:24.879583+00:00', 'id': 5520494, 'conceptrecid': '5520493', 'doi': '10.5281/zenodo.5520494', 'conceptdoi': '10.5281/zenodo.5520493', 'doi_url': 'https://doi.org/10.5281/zenodo.5520494', 'metadata': {'title': 'sbernasek/binding: Release for P/Y Paper', 'doi': '10.5281/zenodo.5520494', 'publication_date': '2021-09-22', 'description': 'Cython framework for modeling the statistical mechanics of protein-DNA binding', 'access_right': 'open', 'creators': [{'name': 'Sebastian Bernasek', 'affiliation': None}], 'related_identifiers': [{'identifier': 'https://github.com/sbernasek/binding/tree/v0.3', 'relation': 'isSupplementTo', 'scheme': 'url'}], 'version': 'v0.3', 'license': 'other-open', 'imprint_publisher': 'Zenodo', 'upload_type': 'software', 'prereserve_doi': {'doi': '10.5281/zenodo.5520494', 'recid': 5520494}}, 'title': 'sbernasek/binding: Release for P/Y Paper', 'links': {'self': 'https://zenodo.org/api/records/5520494', 'self_html': 'https://zenodo.org/records/5520494', 'self_doi': 'https://zenodo.org/doi/10.5281/zenodo.5520494', 'doi': 'https://doi.org/10.5281/zenodo.5520494', 'parent': 'https://zenodo.org/api/records/5520493', 'parent_html': 'https://zenodo.org/records/5520493', 'parent_doi': 'https://zenodo.org/doi/10.5281/zenodo.5520493', 'self_iiif_manifest': 'https://zenodo.org/api/iiif/record:5520494/manifest', 'self_iiif_sequence': 'https://zenodo.org/api/iiif/record:5520494/sequence/default', 'files': 'https://zenodo.org/api/records/5520494/files', 'media_files': 'https://zenodo.org/api/records/5520494/media-files', 'archive': 'https://zenodo.org/api/records/5520494/files-archive', 'archive_media': 'https://zenodo.org/api/records/5520494/media-files-archive', 'latest': 'https://zenodo.org/api/records/5520494/versions/latest', 'latest_html': 'https://zenodo.org/records/5520494/latest', 'draft': 'https://zenodo.org/api/records/5520494/draft', 'versions': 'https://zenodo.org/api/records/5520494/versions', 'access_links': 'https://zenodo.org/api/records/5520494/access/links', 'access_users': 'https://zenodo.org/api/records/5520494/access/users', 'access_request': 'https://zenodo.org/api/records/5520494/access/request', 'access': 'https://zenodo.org/api/records/5520494/access', 'reserve_doi': 'https://zenodo.org/api/records/5520494/draft/pids/doi', 'communities': 'https://zenodo.org/api/records/5520494/communities', 'communities-suggestions': 'https://zenodo.org/api/records/5520494/communities-suggestions', 'requests': 'https://zenodo.org/api/records/5520494/requests'}, 'record_id': 5520494, 'owner': 255255, 'files': [{'id': 'c8755de5-4010-4098-9456-5e83b52c3f16', 'filename': 'sbernasek/binding-v0.3.zip', 'filesize': 326690, 'checksum': 'ea9297069b0fadbd68187161d111d451', 'links': {'self': 'https://zenodo.org/api/records/5520494/files/c8755de5-4010-4098-9456-5e83b52c3f16'}}], 'state': 'done', 'submitted': True}, {'created': '2022-04-28T10:53:47.708959+00:00', 'modified': '2022-04-28T13:49:55.882108+00:00', 'id': 6500649, 'conceptrecid': '6500648', 'doi': '10.5281/zenodo.6500649', 'conceptdoi': '10.5281/zenodo.6500648', 'doi_url': 'https://doi.org/10.5281/zenodo.6500649', 'metadata': {'title': 'Jean-Baptiste-Camps/word_normalisation_data: v0.1 DH Tokyo Abstract', 'doi': '10.5281/zenodo.6500649', 'publication_date': '2022-04-28', 'description': '<p>v0.1 DH Tokyo Abstract release</p>', 'access_right': 'open', 'creators': [{'name': 'Jean-Baptiste Camps', 'affiliation': 'École nationale des chartes (@chartes) | PSL'}, {'name': 'MargueriteVernet', 'affiliation': None}], 'related_identifiers': [{'identifier': 'https://github.com/Jean-Baptiste-Camps/word_normalisation_data/tree/v0.1', 'relation': 'isSupplementTo', 'scheme': 'url'}], 'version': 'v0.1', 'license': 'other-open', 'imprint_publisher': 'Zenodo', 'upload_type': 'software', 'prereserve_doi': {'doi': '10.5281/zenodo.6500649', 'recid': 6500649}}, 'title': 'Jean-Baptiste-Camps/word_normalisation_data: v0.1 DH Tokyo Abstract', 'links': {'self': 'https://zenodo.org/api/records/6500649', 'self_html': 'https://zenodo.org/records/6500649', 'self_doi': 'https://zenodo.org/doi/10.5281/zenodo.6500649', 'doi': 'https://doi.org/10.5281/zenodo.6500649', 'parent': 'https://zenodo.org/api/records/6500648', 'parent_html': 'https://zenodo.org/records/6500648', 'parent_doi': 'https://zenodo.org/doi/10.5281/zenodo.6500648', 'self_iiif_manifest': 'https://zenodo.org/api/iiif/record:6500649/manifest', 'self_iiif_sequence': 'https://zenodo.org/api/iiif/record:6500649/sequence/default', 'files': 'https://zenodo.org/api/records/6500649/files', 'media_files': 'https://zenodo.org/api/records/6500649/media-files', 'archive': 'https://zenodo.org/api/records/6500649/files-archive', 'archive_media': 'https://zenodo.org/api/records/6500649/media-files-archive', 'latest': 'https://zenodo.org/api/records/6500649/versions/latest', 'latest_html': 'https://zenodo.org/records/6500649/latest', 'draft': 'https://zenodo.org/api/records/6500649/draft', 'versions': 'https://zenodo.org/api/records/6500649/versions', 'access_links': 'https://zenodo.org/api/records/6500649/access/links', 'access_users': 'https://zenodo.org/api/records/6500649/access/users', 'access_request': 'https://zenodo.org/api/records/6500649/access/request', 'access': 'https://zenodo.org/api/records/6500649/access', 'reserve_doi': 'https://zenodo.org/api/records/6500649/draft/pids/doi', 'communities': 'https://zenodo.org/api/records/6500649/communities', 'communities-suggestions': 'https://zenodo.org/api/records/6500649/communities-suggestions', 'requests': 'https://zenodo.org/api/records/6500649/requests'}, 'record_id': 6500649, 'owner': 39436, 'files': [{'id': '9ebfd198-aba3-42eb-a107-74a18db7a3f5', 'filename': 'Jean-Baptiste-Camps/word_normalisation_data-v0.1.zip', 'filesize': 18144008, 'checksum': '6370d648006ae1e663ec5f43f1cead73', 'links': {'self': 'https://zenodo.org/api/records/6500649/files/9ebfd198-aba3-42eb-a107-74a18db7a3f5'}}], 'state': 'done', 'submitted': True}, {'created': '2022-02-10T00:08:28.841496+00:00', 'modified': '2022-02-10T01:49:17.279710+00:00', 'id': 6029408, 'conceptrecid': '6029407', 'doi': '10.5281/zenodo.6029408', 'conceptdoi': '10.5281/zenodo.6029407', 'doi_url': 'https://doi.org/10.5281/zenodo.6029408', 'metadata': {'title': 'pkeys/WAM2layersPython:', 'doi': '10.5281/zenodo.6029408', 'publication_date': '2022-02-10', 'description': 'cite name of the model as: \"WAM-2layers v2.x.xx\"', 'access_right': 'open', 'creators': [{'name': 'pkeys', 'affiliation': None}], 'related_identifiers': [{'identifier': 'https://github.com/pkeys/WAM2layersPython/tree/v2.4.08', 'relation': 'isSupplementTo', 'scheme': 'url'}], 'version': 'v2.4.08', 'license': 'other-open', 'imprint_publisher': 'Zenodo', 'upload_type': 'software', 'prereserve_doi': {'doi': '10.5281/zenodo.6029408', 'recid': 6029408}}, 'title': 'pkeys/WAM2layersPython:', 'links': {'self': 'https://zenodo.org/api/records/6029408', 'self_html': 'https://zenodo.org/records/6029408', 'self_doi': 'https://zenodo.org/doi/10.5281/zenodo.6029408', 'doi': 'https://doi.org/10.5281/zenodo.6029408', 'parent': 'https://zenodo.org/api/records/6029407', 'parent_html': 'https://zenodo.org/records/6029407', 'parent_doi': 'https://zenodo.org/doi/10.5281/zenodo.6029407', 'self_iiif_manifest': 'https://zenodo.org/api/iiif/record:6029408/manifest', 'self_iiif_sequence': 'https://zenodo.org/api/iiif/record:6029408/sequence/default', 'files': 'https://zenodo.org/api/records/6029408/files', 'media_files': 'https://zenodo.org/api/records/6029408/media-files', 'archive': 'https://zenodo.org/api/records/6029408/files-archive', 'archive_media': 'https://zenodo.org/api/records/6029408/media-files-archive', 'latest': 'https://zenodo.org/api/records/6029408/versions/latest', 'latest_html': 'https://zenodo.org/records/6029408/latest', 'draft': 'https://zenodo.org/api/records/6029408/draft', 'versions': 'https://zenodo.org/api/records/6029408/versions', 'access_links': 'https://zenodo.org/api/records/6029408/access/links', 'access_users': 'https://zenodo.org/api/records/6029408/access/users', 'access_request': 'https://zenodo.org/api/records/6029408/access/request', 'access': 'https://zenodo.org/api/records/6029408/access', 'reserve_doi': 'https://zenodo.org/api/records/6029408/draft/pids/doi', 'communities': 'https://zenodo.org/api/records/6029408/communities', 'communities-suggestions': 'https://zenodo.org/api/records/6029408/communities-suggestions', 'requests': 'https://zenodo.org/api/records/6029408/requests'}, 'record_id': 6029408, 'owner': 303423, 'files': [{'id': '06e31da5-ce02-4f7f-bcd3-f66c8327cf70', 'filename': 'pkeys/WAM2layersPython-v2.4.08.zip', 'filesize': 578639, 'checksum': '8a86c51d6e5a4913cb28c508b3a92f10', 'links': {'self': 'https://zenodo.org/api/records/6029408/files/06e31da5-ce02-4f7f-bcd3-f66c8327cf70'}}], 'state': 'done', 'submitted': True}, {'created': '2022-05-18T01:17:44.408607+00:00', 'modified': '2022-05-18T13:51:47.973869+00:00', 'id': 6558631, 'conceptrecid': '6558630', 'doi': '10.5281/zenodo.6558631', 'conceptdoi': '10.5281/zenodo.6558630', 'doi_url': 'https://doi.org/10.5281/zenodo.6558631', 'metadata': {'title': 'bc/stfeasibility: May 17 Submission to PNAS', 'doi': '10.5281/zenodo.6558631', 'publication_date': '2022-05-18', 'description': 'Spatiotemporal Feasibility Theory', 'access_right': 'open', 'creators': [{'name': 'Brian Cohn', 'affiliation': '@kaspect @usc-bbdl'}], 'related_identifiers': [{'identifier': 'https://github.com/bc/stfeasibility/tree/Pub', 'relation': 'isSupplementTo', 'scheme': 'url'}], 'version': 'Pub', 'license': 'other-open', 'imprint_publisher': 'Zenodo', 'upload_type': 'software', 'prereserve_doi': {'doi': '10.5281/zenodo.6558631', 'recid': 6558631}}, 'title': 'bc/stfeasibility: May 17 Submission to PNAS', 'links': {'self': 'https://zenodo.org/api/records/6558631', 'self_html': 'https://zenodo.org/records/6558631', 'self_doi': 'https://zenodo.org/doi/10.5281/zenodo.6558631', 'doi': 'https://doi.org/10.5281/zenodo.6558631', 'parent': 'https://zenodo.org/api/records/6558630', 'parent_html': 'https://zenodo.org/records/6558630', 'parent_doi': 'https://zenodo.org/doi/10.5281/zenodo.6558630', 'self_iiif_manifest': 'https://zenodo.org/api/iiif/record:6558631/manifest', 'self_iiif_sequence': 'https://zenodo.org/api/iiif/record:6558631/sequence/default', 'files': 'https://zenodo.org/api/records/6558631/files', 'media_files': 'https://zenodo.org/api/records/6558631/media-files', 'archive': 'https://zenodo.org/api/records/6558631/files-archive', 'archive_media': 'https://zenodo.org/api/records/6558631/media-files-archive', 'latest': 'https://zenodo.org/api/records/6558631/versions/latest', 'latest_html': 'https://zenodo.org/records/6558631/latest', 'draft': 'https://zenodo.org/api/records/6558631/draft', 'versions': 'https://zenodo.org/api/records/6558631/versions', 'access_links': 'https://zenodo.org/api/records/6558631/access/links', 'access_users': 'https://zenodo.org/api/records/6558631/access/users', 'access_request': 'https://zenodo.org/api/records/6558631/access/request', 'access': 'https://zenodo.org/api/records/6558631/access', 'reserve_doi': 'https://zenodo.org/api/records/6558631/draft/pids/doi', 'communities': 'https://zenodo.org/api/records/6558631/communities', 'communities-suggestions': 'https://zenodo.org/api/records/6558631/communities-suggestions', 'requests': 'https://zenodo.org/api/records/6558631/requests'}, 'record_id': 6558631, 'owner': 351552, 'files': [{'id': '568e446e-fdf2-4b19-91e3-13ff22fc11b3', 'filename': 'bc/stfeasibility-Pub.zip', 'filesize': 100066860, 'checksum': '33373f80735638d635db5f5614431783', 'links': {'self': 'https://zenodo.org/api/records/6558631/files/568e446e-fdf2-4b19-91e3-13ff22fc11b3'}}], 'state': 'done', 'submitted': True}, {'created': '2022-12-30T18:16:43.668647+00:00', 'modified': '2022-12-31T02:26:50.565319+00:00', 'id': 7495452, 'conceptrecid': '7495451', 'doi': '10.5281/zenodo.7495452', 'conceptdoi': '10.5281/zenodo.7495451', 'doi_url': 'https://doi.org/10.5281/zenodo.7495452', 'metadata': {'title': 'TerraPIN: Terraces Put Into Numerics', 'doi': '10.5281/zenodo.7495452', 'publication_date': '2016-05-15', 'description': \"<p>From 2016, including that year's AGU Fall Meeting presentation:</p>\\n<p>Wickert, A. D., T. F. Schildgen, S. Tofelde, S. Savi, M. R. Strecker, and K. R. Barnhart (2016), A\\nmass-balance coupling between river terrace and long profile evolution, in <em>AGU Fall Meeting\\nAbstracts</em>, EP41D–08, San Francisco, CA.</p>\", 'access_right': 'open', 'creators': [{'name': 'Wickert, Andrew D.', 'affiliation': None, 'orcid': '0000-0002-9545-3365'}], 'related_identifiers': [{'identifier': 'https://github.com/awickert/terrapin/tree/v0.0.0', 'relation': 'isSupplementTo', 'scheme': 'url'}], 'version': '0.0.0', 'license': 'other-open', 'imprint_publisher': 'Zenodo', 'upload_type': 'software', 'prereserve_doi': {'doi': '10.5281/zenodo.7495452', 'recid': 7495452}}, 'title': 'TerraPIN: Terraces Put Into Numerics', 'links': {'self': 'https://zenodo.org/api/records/7495452', 'self_html': 'https://zenodo.org/records/7495452', 'self_doi': 'https://zenodo.org/doi/10.5281/zenodo.7495452', 'doi': 'https://doi.org/10.5281/zenodo.7495452', 'parent': 'https://zenodo.org/api/records/7495451', 'parent_html': 'https://zenodo.org/records/7495451', 'parent_doi': 'https://zenodo.org/doi/10.5281/zenodo.7495451', 'self_iiif_manifest': 'https://zenodo.org/api/iiif/record:7495452/manifest', 'self_iiif_sequence': 'https://zenodo.org/api/iiif/record:7495452/sequence/default', 'files': 'https://zenodo.org/api/records/7495452/files', 'media_files': 'https://zenodo.org/api/records/7495452/media-files', 'archive': 'https://zenodo.org/api/records/7495452/files-archive', 'archive_media': 'https://zenodo.org/api/records/7495452/media-files-archive', 'latest': 'https://zenodo.org/api/records/7495452/versions/latest', 'latest_html': 'https://zenodo.org/records/7495452/latest', 'draft': 'https://zenodo.org/api/records/7495452/draft', 'versions': 'https://zenodo.org/api/records/7495452/versions', 'access_links': 'https://zenodo.org/api/records/7495452/access/links', 'access_users': 'https://zenodo.org/api/records/7495452/access/users', 'access_request': 'https://zenodo.org/api/records/7495452/access/request', 'access': 'https://zenodo.org/api/records/7495452/access', 'reserve_doi': 'https://zenodo.org/api/records/7495452/draft/pids/doi', 'communities': 'https://zenodo.org/api/records/7495452/communities', 'communities-suggestions': 'https://zenodo.org/api/records/7495452/communities-suggestions', 'requests': 'https://zenodo.org/api/records/7495452/requests'}, 'record_id': 7495452, 'owner': 56949, 'files': [{'id': '1908b3eb-a741-44a6-86d3-791e9b5a5a30', 'filename': 'awickert/terrapin-v0.0.0.zip', 'filesize': 38602, 'checksum': 'b3310ee458ca8c37eb87031a657ed312', 'links': {'self': 'https://zenodo.org/api/records/7495452/files/1908b3eb-a741-44a6-86d3-791e9b5a5a30'}}], 'state': 'done', 'submitted': True}, {'created': '2022-03-04T15:49:40.857630+00:00', 'modified': '2022-06-05T08:19:42.521418+00:00', 'id': 5901450, 'conceptrecid': '5901449', 'doi': '10.5281/zenodo.5901450', 'conceptdoi': '10.5281/zenodo.5901449', 'doi_url': 'https://doi.org/10.5281/zenodo.5901450', 'metadata': {'title': 'Data from: Environmental drivers of population-level variation in the migratory and diving ontogeny of an Arctic top predator', 'doi': '10.5281/zenodo.5901450', 'publication_date': '2022-03-04', 'description': '<p>The development of migratory strategies that enable juveniles to survive to recruitment is critical for species that exploit seasonal niches. For animals that forage via breath-hold diving this requires a combination of both physiological and foraging skill development. Here, we assess how migratory and dive behaviour develop over the first months of life for a migratory Arctic top predator, the harp seal, tracked using animal-borne satellite relay data loggers. We reveal similarities in migratory movements and differences in diving behaviour between juveniles from breeding populations in the Northwest Atlantic and Greenland Sea. In both regions, periods of resident and transient behaviour during migration were associated with proxies for food availability; sea ice concentration and water depth. However, while ontogenetic development of dive behaviour was similar for both groups of juveniles over the first 25 days, after this time Greenland Sea animals performed shorter and shallower dives and were more closely associated with sea ice than Northwest Atlantic animals. Together, these results highlight the role of both intrinsic and extrinsic factors in shaping early-life behaviour. Differences in the environmental conditions experienced during early-life may shape how populations respond to the rapid changes occurring in the Arctic ocean ecosystem.</p>', 'access_right': 'open', 'creators': [{'name': 'Grecian, James', 'affiliation': 'University of St Andrews', 'orcid': '0000-0002-6428-719X'}, {'name': 'Stenson, Garry', 'affiliation': 'Fisheries and Oceans Canada'}, {'name': 'Biuw, Martin', 'affiliation': 'Norwegian Institute of Marine Research'}, {'name': 'Boehme, Lars', 'affiliation': 'University of St Andrews'}, {'name': 'Folkow, Lars', 'affiliation': 'UiT The Arctic University of Norway'}, {'name': 'Goulet, Pierre', 'affiliation': 'Fisheries and Oceans Canada'}, {'name': 'Jonsen, Ian', 'affiliation': 'Macquarie University'}, {'name': 'Malde, Aleksander', 'affiliation': 'UiT The Arctic University of Norway'}, {'name': 'Nordøy, Erling S.', 'affiliation': 'UiT The Arctic University of Norway'}, {'name': 'Rosing-Asvid, Aqqalu', 'affiliation': 'Greenland Institute of Natural Resources*'}, {'name': 'Smout, Sophie', 'affiliation': 'University of St Andrews'}], 'keywords': ['animal movement', 'foraging ecology', 'migration', 'move persistence', 'spatial ecology'], 'related_identifiers': [{'identifier': '10.5281/zenodo.5901390', 'relation': 'isDerivedFrom', 'scheme': 'doi'}, {'identifier': '10.5061/dryad.2jm63xsqh', 'relation': 'isSourceOf', 'scheme': 'doi'}], 'license': 'mit-license', 'imprint_publisher': 'Zenodo', 'communities': [{'identifier': 'dryad'}], 'upload_type': 'software', 'prereserve_doi': {'doi': '10.5281/zenodo.5901450', 'recid': 5901450}}, 'title': 'Data from: Environmental drivers of population-level variation in the migratory and diving ontogeny of an Arctic top predator', 'links': {'self': 'https://zenodo.org/api/records/5901450', 'self_html': 'https://zenodo.org/records/5901450', 'self_doi': 'https://zenodo.org/doi/10.5281/zenodo.5901450', 'doi': 'https://doi.org/10.5281/zenodo.5901450', 'parent': 'https://zenodo.org/api/records/5901449', 'parent_html': 'https://zenodo.org/records/5901449', 'parent_doi': 'https://zenodo.org/doi/10.5281/zenodo.5901449', 'self_iiif_manifest': 'https://zenodo.org/api/iiif/record:5901450/manifest', 'self_iiif_sequence': 'https://zenodo.org/api/iiif/record:5901450/sequence/default', 'files': 'https://zenodo.org/api/records/5901450/files', 'media_files': 'https://zenodo.org/api/records/5901450/media-files', 'archive': 'https://zenodo.org/api/records/5901450/files-archive', 'archive_media': 'https://zenodo.org/api/records/5901450/media-files-archive', 'latest': 'https://zenodo.org/api/records/5901450/versions/latest', 'latest_html': 'https://zenodo.org/records/5901450/latest', 'draft': 'https://zenodo.org/api/records/5901450/draft', 'versions': 'https://zenodo.org/api/records/5901450/versions', 'access_links': 'https://zenodo.org/api/records/5901450/access/links', 'access_users': 'https://zenodo.org/api/records/5901450/access/users', 'access_request': 'https://zenodo.org/api/records/5901450/access/request', 'access': 'https://zenodo.org/api/records/5901450/access', 'reserve_doi': 'https://zenodo.org/api/records/5901450/draft/pids/doi', 'communities': 'https://zenodo.org/api/records/5901450/communities', 'communities-suggestions': 'https://zenodo.org/api/records/5901450/communities-suggestions', 'requests': 'https://zenodo.org/api/records/5901450/requests'}, 'record_id': 5901450, 'owner': 90070, 'files': [{'id': 'f4dc87bc-0025-4cb5-ae37-5a96193c5675', 'filename': '5901391', 'filesize': 27787, 'checksum': 'be50d80ff203c5a63c57d5977edac62a', 'links': {'self': 'https://zenodo.org/api/records/5901450/files/f4dc87bc-0025-4cb5-ae37-5a96193c5675'}}], 'state': 'done', 'submitted': True}, {'created': '2021-08-20T22:58:02.463923+00:00', 'modified': '2021-08-21T01:48:22.247560+00:00', 'id': 5228707, 'conceptrecid': '5156595', 'doi': '10.5281/zenodo.5228707', 'conceptdoi': '10.5281/zenodo.5156595', 'doi_url': 'https://doi.org/10.5281/zenodo.5228707', 'metadata': {'title': 'ZeRO-Infinity: Breaking the GPU Memory Wall for Extreme Scale Deep Learning', 'doi': '10.5281/zenodo.5228707', 'publication_date': '2021-04-16', 'description': '<p>DeepSpeed is a deep learning optimization library that makes distributed training easy, efficient, and effective. This repo contains the code used in the paper <a href=\"https://arxiv.org/abs/2104.07857\">[2104.07857] ZeRO-Infinity: Breaking the GPU Memory Wall for Extreme Scale Deep Learning (arxiv.org)</a>.</p>', 'access_right': 'open', 'creators': [{'name': 'Samyam Rajbhandari', 'affiliation': 'Microsoft'}, {'name': 'Olatunji Ruwase', 'affiliation': 'Microsoft'}, {'name': 'Jeff Rasley', 'affiliation': 'Microsoft'}, {'name': 'Shaden Smith', 'affiliation': 'Microsoft'}, {'name': 'Yuxiong He', 'affiliation': 'Microsoft'}], 'related_identifiers': [{'identifier': 'https://github.com/jeffra/DeepSpeed/tree/sc21', 'relation': 'isSupplementTo', 'scheme': 'url'}], 'version': 'sc21', 'license': 'mit-license', 'imprint_publisher': 'Zenodo', 'upload_type': 'software', 'prereserve_doi': {'doi': '10.5281/zenodo.5228707', 'recid': 5228707}}, 'title': 'ZeRO-Infinity: Breaking the GPU Memory Wall for Extreme Scale Deep Learning', 'links': {'self': 'https://zenodo.org/api/records/5228707', 'self_html': 'https://zenodo.org/records/5228707', 'self_doi': 'https://zenodo.org/doi/10.5281/zenodo.5228707', 'doi': 'https://doi.org/10.5281/zenodo.5228707', 'parent': 'https://zenodo.org/api/records/5156595', 'parent_html': 'https://zenodo.org/records/5156595', 'parent_doi': 'https://zenodo.org/doi/10.5281/zenodo.5156595', 'self_iiif_manifest': 'https://zenodo.org/api/iiif/record:5228707/manifest', 'self_iiif_sequence': 'https://zenodo.org/api/iiif/record:5228707/sequence/default', 'files': 'https://zenodo.org/api/records/5228707/files', 'media_files': 'https://zenodo.org/api/records/5228707/media-files', 'archive': 'https://zenodo.org/api/records/5228707/files-archive', 'archive_media': 'https://zenodo.org/api/records/5228707/media-files-archive', 'latest': 'https://zenodo.org/api/records/5228707/versions/latest', 'latest_html': 'https://zenodo.org/records/5228707/latest', 'draft': 'https://zenodo.org/api/records/5228707/draft', 'versions': 'https://zenodo.org/api/records/5228707/versions', 'access_links': 'https://zenodo.org/api/records/5228707/access/links', 'access_users': 'https://zenodo.org/api/records/5228707/access/users', 'access_request': 'https://zenodo.org/api/records/5228707/access/request', 'access': 'https://zenodo.org/api/records/5228707/access', 'reserve_doi': 'https://zenodo.org/api/records/5228707/draft/pids/doi', 'communities': 'https://zenodo.org/api/records/5228707/communities', 'communities-suggestions': 'https://zenodo.org/api/records/5228707/communities-suggestions', 'requests': 'https://zenodo.org/api/records/5228707/requests'}, 'record_id': 5228707, 'owner': 246273, 'files': [{'id': '6c1ab280-1b6e-4265-8071-519096509a0f', 'filename': 'DeepSpeedExamples-sc21.zip', 'filesize': 10030914, 'checksum': '6b1b3d9e0d16a82ae41e48e72225cee2', 'links': {'self': 'https://zenodo.org/api/records/5228707/files/6c1ab280-1b6e-4265-8071-519096509a0f'}}, {'id': '480bf979-15d3-47f2-a49d-3188a0ae4b8e', 'filename': 'jeffra/DeepSpeed-sc21.zip', 'filesize': 16710934, 'checksum': '7349c978a1468464e9e988dc78eed4ef', 'links': {'self': 'https://zenodo.org/api/records/5228707/files/480bf979-15d3-47f2-a49d-3188a0ae4b8e'}}], 'state': 'done', 'submitted': True}, {'created': '2022-02-02T06:17:25.215808+00:00', 'modified': '2022-02-02T13:49:07.832260+00:00', 'id': 5946593, 'conceptrecid': '5946592', 'doi': '10.5281/zenodo.5946593', 'conceptdoi': '10.5281/zenodo.5946592', 'doi_url': 'https://doi.org/10.5281/zenodo.5946593', 'metadata': {'title': 'permedtau/covid-vaccination-biobeat-paper: v1.0.0', 'doi': '10.5281/zenodo.5946593', 'publication_date': '2022-02-02', 'description': 'Code for paper - Utilizing wearable sensors for objective, continuous and highly-sensitive monitoring of reactions to the BNT162b2 mRNA COVID-19', 'access_right': 'open', 'creators': [{'name': 'permedtau', 'affiliation': None}], 'related_identifiers': [{'identifier': 'https://github.com/permedtau/covid-vaccination-biobeat-paper/tree/v.1.0.0', 'relation': 'isSupplementTo', 'scheme': 'url'}], 'version': 'v.1.0.0', 'license': 'other-open', 'imprint_publisher': 'Zenodo', 'upload_type': 'software', 'prereserve_doi': {'doi': '10.5281/zenodo.5946593', 'recid': 5946593}}, 'title': 'permedtau/covid-vaccination-biobeat-paper: v1.0.0', 'links': {'self': 'https://zenodo.org/api/records/5946593', 'self_html': 'https://zenodo.org/records/5946593', 'self_doi': 'https://zenodo.org/doi/10.5281/zenodo.5946593', 'doi': 'https://doi.org/10.5281/zenodo.5946593', 'parent': 'https://zenodo.org/api/records/5946592', 'parent_html': 'https://zenodo.org/records/5946592', 'parent_doi': 'https://zenodo.org/doi/10.5281/zenodo.5946592', 'self_iiif_manifest': 'https://zenodo.org/api/iiif/record:5946593/manifest', 'self_iiif_sequence': 'https://zenodo.org/api/iiif/record:5946593/sequence/default', 'files': 'https://zenodo.org/api/records/5946593/files', 'media_files': 'https://zenodo.org/api/records/5946593/media-files', 'archive': 'https://zenodo.org/api/records/5946593/files-archive', 'archive_media': 'https://zenodo.org/api/records/5946593/media-files-archive', 'latest': 'https://zenodo.org/api/records/5946593/versions/latest', 'latest_html': 'https://zenodo.org/records/5946593/latest', 'draft': 'https://zenodo.org/api/records/5946593/draft', 'versions': 'https://zenodo.org/api/records/5946593/versions', 'access_links': 'https://zenodo.org/api/records/5946593/access/links', 'access_users': 'https://zenodo.org/api/records/5946593/access/users', 'access_request': 'https://zenodo.org/api/records/5946593/access/request', 'access': 'https://zenodo.org/api/records/5946593/access', 'reserve_doi': 'https://zenodo.org/api/records/5946593/draft/pids/doi', 'communities': 'https://zenodo.org/api/records/5946593/communities', 'communities-suggestions': 'https://zenodo.org/api/records/5946593/communities-suggestions', 'requests': 'https://zenodo.org/api/records/5946593/requests'}, 'record_id': 5946593, 'owner': 297148, 'files': [{'id': 'c07cbe8b-e8ca-4ef3-a6dc-61d4f708ce4d', 'filename': 'permedtau/covid-vaccination-biobeat-paper-v.1.0.0.zip', 'filesize': 2403699, 'checksum': '4928a9dcf08423056d3768991c38cd3c', 'links': {'self': 'https://zenodo.org/api/records/5946593/files/c07cbe8b-e8ca-4ef3-a6dc-61d4f708ce4d'}}], 'state': 'done', 'submitted': True}, {'created': '2022-09-07T11:02:19.298382+00:00', 'modified': '2022-09-07T14:26:32.517711+00:00', 'id': 7057132, 'conceptrecid': '5060325', 'doi': '10.5281/zenodo.7057132', 'conceptdoi': '10.5281/zenodo.5060325', 'doi_url': 'https://doi.org/10.5281/zenodo.7057132', 'metadata': {'title': 'GVI: Greenness Visibility Index R package', 'doi': '10.5281/zenodo.7057132', 'publication_date': '2022-09-07', 'description': '<p>The GVI R package provides tools for computing a Greenness Visibility Index (GVI) surface from a DSM, DTM and Greenness Surface.</p>\\n\\n<p>We have provided data for testing the GVI R package <a href=\"https://doi.org/10.5281/zenodo.5061257\">here</a>.</p>', 'access_right': 'open', 'creators': [{'name': 'Sebastian Brinkmann', 'affiliation': None, 'orcid': '0000-0001-9835-7347'}, {'name': 'S.M. Labib', 'affiliation': None, 'orcid': '0000-0002-4127-2075'}], 'contributors': [{'name': 'Jonny J. Huck', 'affiliation': None, 'type': 'Researcher'}, {'name': 'Sarah Lindley', 'affiliation': None, 'type': 'Researcher'}], 'keywords': ['R'], 'related_identifiers': [{'identifier': 'https://github.com/STBrinkmann/GVI', 'relation': 'isSupplementTo', 'resource_type': 'software', 'scheme': 'url'}, {'identifier': '10.5281/zenodo.5061257', 'relation': 'isSupplementedBy', 'resource_type': 'dataset', 'scheme': 'doi'}], 'version': 'v1.1', 'references': ['Labib, S. M.; Huck, Jonny J.; Lindley, Sarah (2021): Modelling and mapping eye-level greenness visibility exposure using multi-source data at high spatial resolutions. In: The Science of the total environment 755 (Pt 1), S. 143050. DOI: 10.1016/j.scitotenv.2020.143050.', 'Brinkmann, S. T., Kremer, D., and Walker, B. B. (2022): Modelling eye-level visibility of urban green space: Optimising city-wide point-based viewshed computations through prototyping, AGILE GIScience Ser., 3, 27, https://doi.org/10.5194/agile-giss-3-27-2022.'], 'license': 'mit-license', 'imprint_publisher': 'Zenodo', 'upload_type': 'software', 'prereserve_doi': {'doi': '10.5281/zenodo.7057132', 'recid': 7057132}}, 'title': 'GVI: Greenness Visibility Index R package', 'links': {'self': 'https://zenodo.org/api/records/7057132', 'self_html': 'https://zenodo.org/records/7057132', 'self_doi': 'https://zenodo.org/doi/10.5281/zenodo.7057132', 'doi': 'https://doi.org/10.5281/zenodo.7057132', 'parent': 'https://zenodo.org/api/records/5060325', 'parent_html': 'https://zenodo.org/records/5060325', 'parent_doi': 'https://zenodo.org/doi/10.5281/zenodo.5060325', 'self_iiif_manifest': 'https://zenodo.org/api/iiif/record:7057132/manifest', 'self_iiif_sequence': 'https://zenodo.org/api/iiif/record:7057132/sequence/default', 'files': 'https://zenodo.org/api/records/7057132/files', 'media_files': 'https://zenodo.org/api/records/7057132/media-files', 'archive': 'https://zenodo.org/api/records/7057132/files-archive', 'archive_media': 'https://zenodo.org/api/records/7057132/media-files-archive', 'latest': 'https://zenodo.org/api/records/7057132/versions/latest', 'latest_html': 'https://zenodo.org/records/7057132/latest', 'draft': 'https://zenodo.org/api/records/7057132/draft', 'versions': 'https://zenodo.org/api/records/7057132/versions', 'access_links': 'https://zenodo.org/api/records/7057132/access/links', 'access_users': 'https://zenodo.org/api/records/7057132/access/users', 'access_request': 'https://zenodo.org/api/records/7057132/access/request', 'access': 'https://zenodo.org/api/records/7057132/access', 'reserve_doi': 'https://zenodo.org/api/records/7057132/draft/pids/doi', 'communities': 'https://zenodo.org/api/records/7057132/communities', 'communities-suggestions': 'https://zenodo.org/api/records/7057132/communities-suggestions', 'requests': 'https://zenodo.org/api/records/7057132/requests'}, 'record_id': 7057132, 'owner': 238008, 'files': [{'id': 'db40807a-d397-407f-a9ff-2eeef3a03d3b', 'filename': 'GVI-v.1.1.zip', 'filesize': 3404222, 'checksum': '7e075524d19196990544f91d7a218c49', 'links': {'self': 'https://zenodo.org/api/records/7057132/files/db40807a-d397-407f-a9ff-2eeef3a03d3b'}}], 'state': 'done', 'submitted': True}, {'created': '2022-05-25T02:13:02.122213+00:00', 'modified': '2022-05-25T13:50:19.288981+00:00', 'id': 6578814, 'conceptrecid': '6578813', 'doi': '10.5281/zenodo.6578814', 'conceptdoi': '10.5281/zenodo.6578813', 'doi_url': 'https://doi.org/10.5281/zenodo.6578814', 'metadata': {'title': 'aimerykong/pollenDetClsSystem: MEE-code-release-v1', 'doi': '10.5281/zenodo.6578814', 'publication_date': '2022-05-25', 'description': 'Automated Recognition and Counting of Pollen Grain Species from Field Samples', 'access_right': 'open', 'creators': [{'name': 'Shu Kong', 'affiliation': 'Robotics Institute @ CMU'}], 'related_identifiers': [{'identifier': 'https://github.com/aimerykong/pollenDetClsSystem/tree/MEE-code-release-v1', 'relation': 'isSupplementTo', 'scheme': 'url'}], 'version': 'MEE-code-release-v1', 'license': 'other-open', 'imprint_publisher': 'Zenodo', 'upload_type': 'software', 'prereserve_doi': {'doi': '10.5281/zenodo.6578814', 'recid': 6578814}}, 'title': 'aimerykong/pollenDetClsSystem: MEE-code-release-v1', 'links': {'self': 'https://zenodo.org/api/records/6578814', 'self_html': 'https://zenodo.org/records/6578814', 'self_doi': 'https://zenodo.org/doi/10.5281/zenodo.6578814', 'doi': 'https://doi.org/10.5281/zenodo.6578814', 'parent': 'https://zenodo.org/api/records/6578813', 'parent_html': 'https://zenodo.org/records/6578813', 'parent_doi': 'https://zenodo.org/doi/10.5281/zenodo.6578813', 'self_iiif_manifest': 'https://zenodo.org/api/iiif/record:6578814/manifest', 'self_iiif_sequence': 'https://zenodo.org/api/iiif/record:6578814/sequence/default', 'files': 'https://zenodo.org/api/records/6578814/files', 'media_files': 'https://zenodo.org/api/records/6578814/media-files', 'archive': 'https://zenodo.org/api/records/6578814/files-archive', 'archive_media': 'https://zenodo.org/api/records/6578814/media-files-archive', 'latest': 'https://zenodo.org/api/records/6578814/versions/latest', 'latest_html': 'https://zenodo.org/records/6578814/latest', 'draft': 'https://zenodo.org/api/records/6578814/draft', 'versions': 'https://zenodo.org/api/records/6578814/versions', 'access_links': 'https://zenodo.org/api/records/6578814/access/links', 'access_users': 'https://zenodo.org/api/records/6578814/access/users', 'access_request': 'https://zenodo.org/api/records/6578814/access/request', 'access': 'https://zenodo.org/api/records/6578814/access', 'reserve_doi': 'https://zenodo.org/api/records/6578814/draft/pids/doi', 'communities': 'https://zenodo.org/api/records/6578814/communities', 'communities-suggestions': 'https://zenodo.org/api/records/6578814/communities-suggestions', 'requests': 'https://zenodo.org/api/records/6578814/requests'}, 'record_id': 6578814, 'owner': 354267, 'files': [{'id': '0b463f45-6dda-40a2-8927-c10ceb120846', 'filename': 'aimerykong/pollenDetClsSystem-MEE-code-release-v1.zip', 'filesize': 596987425, 'checksum': 'faceab96352d9b6466518ed76ee81878', 'links': {'self': 'https://zenodo.org/api/records/6578814/files/0b463f45-6dda-40a2-8927-c10ceb120846'}}], 'state': 'done', 'submitted': True}, {'created': '2022-06-23T11:43:52.546537+00:00', 'modified': '2022-06-23T13:51:57.872416+00:00', 'id': 6700714, 'conceptrecid': '6674835', 'doi': '10.5281/zenodo.6700714', 'conceptdoi': '10.5281/zenodo.6674835', 'doi_url': 'https://doi.org/10.5281/zenodo.6700714', 'metadata': {'title': 'Zibunas/Towards-circular-plastics-within-planetary-boundaries-Q-matrix: v1.0.1 Zibunas/Towards-circular-plastics-within-planetary-boundaries-Q-matrix', 'doi': '10.5281/zenodo.6700714', 'publication_date': '2022-06-23', 'description': 'No description provided.', 'access_right': 'open', 'creators': [{'name': 'Zibunas', 'affiliation': None}], 'related_identifiers': [{'identifier': 'https://github.com/Zibunas/Towards-circular-plastics-within-planetary-boundaries-Q-matrix/tree/v1.0.2', 'relation': 'isSupplementTo', 'scheme': 'url'}], 'version': 'v1.0.2', 'license': 'other-open', 'imprint_publisher': 'Zenodo', 'upload_type': 'software', 'prereserve_doi': {'doi': '10.5281/zenodo.6700714', 'recid': 6700714}}, 'title': 'Zibunas/Towards-circular-plastics-within-planetary-boundaries-Q-matrix: v1.0.1 Zibunas/Towards-circular-plastics-within-planetary-boundaries-Q-matrix', 'links': {'self': 'https://zenodo.org/api/records/6700714', 'self_html': 'https://zenodo.org/records/6700714', 'self_doi': 'https://zenodo.org/doi/10.5281/zenodo.6700714', 'doi': 'https://doi.org/10.5281/zenodo.6700714', 'parent': 'https://zenodo.org/api/records/6674835', 'parent_html': 'https://zenodo.org/records/6674835', 'parent_doi': 'https://zenodo.org/doi/10.5281/zenodo.6674835', 'self_iiif_manifest': 'https://zenodo.org/api/iiif/record:6700714/manifest', 'self_iiif_sequence': 'https://zenodo.org/api/iiif/record:6700714/sequence/default', 'files': 'https://zenodo.org/api/records/6700714/files', 'media_files': 'https://zenodo.org/api/records/6700714/media-files', 'archive': 'https://zenodo.org/api/records/6700714/files-archive', 'archive_media': 'https://zenodo.org/api/records/6700714/media-files-archive', 'latest': 'https://zenodo.org/api/records/6700714/versions/latest', 'latest_html': 'https://zenodo.org/records/6700714/latest', 'draft': 'https://zenodo.org/api/records/6700714/draft', 'versions': 'https://zenodo.org/api/records/6700714/versions', 'access_links': 'https://zenodo.org/api/records/6700714/access/links', 'access_users': 'https://zenodo.org/api/records/6700714/access/users', 'access_request': 'https://zenodo.org/api/records/6700714/access/request', 'access': 'https://zenodo.org/api/records/6700714/access', 'reserve_doi': 'https://zenodo.org/api/records/6700714/draft/pids/doi', 'communities': 'https://zenodo.org/api/records/6700714/communities', 'communities-suggestions': 'https://zenodo.org/api/records/6700714/communities-suggestions', 'requests': 'https://zenodo.org/api/records/6700714/requests'}, 'record_id': 6700714, 'owner': 364773, 'files': [{'id': '252d746c-8062-4161-a7bd-22ad923eea9a', 'filename': 'Zibunas/Towards-circular-plastics-within-planetary-boundaries-Q-matrix-v1.0.2.zip', 'filesize': 115964, 'checksum': '46579776b3259268b81144a1fa2024ad', 'links': {'self': 'https://zenodo.org/api/records/6700714/files/252d746c-8062-4161-a7bd-22ad923eea9a'}}], 'state': 'done', 'submitted': True}, {'created': '2020-12-23T09:58:58.020565+00:00', 'modified': '2020-12-24T02:25:07.203673+00:00', 'id': 4388632, 'conceptrecid': '4388631', 'doi': '10.5281/zenodo.4388632', 'conceptdoi': '10.5281/zenodo.4388631', 'doi_url': 'https://doi.org/10.5281/zenodo.4388632', 'metadata': {'title': 'SCALE-SDM source code and configuration files for Isolated cumulus congestus based on SCMS campaign', 'doi': '10.5281/zenodo.4388632', 'publication_date': '2020-12-23', 'description': '<p>This repository contains SCALE-SDM source code and configuration files for an isolated cumulus congestus based on SCMS campaign.</p>\\n\\n<p>SCALE-RM is a regional atmospheric simulation model (<a href=\"https://scale.riken.jp\">https://scale.riken.jp</a>) .</p>\\n\\n<p>SDM is a&nbsp; Lagrangian particle-based cloud microphysical model (Shima et al., 2009).</p>\\n\\n<p>&nbsp;</p>', 'access_right': 'open', 'creators': [{'name': 'Matsushima, Toshiki', 'affiliation': 'RIKEN Center for Computational Science'}, {'name': 'Shima, Shin-ichiro', 'affiliation': 'University of Hyogo', 'orcid': '0000-0001-5540-713X'}, {'name': 'Nishizawa, Seiya', 'affiliation': 'RIKEN Center for Computational Science', 'orcid': '0000-0001-9457-7457'}], 'license': 'bsd-2-clause', 'imprint_publisher': 'Zenodo', 'upload_type': 'software', 'prereserve_doi': {'doi': '10.5281/zenodo.4388632', 'recid': 4388632}}, 'title': 'SCALE-SDM source code and configuration files for Isolated cumulus congestus based on SCMS campaign', 'links': {'self': 'https://zenodo.org/api/records/4388632', 'self_html': 'https://zenodo.org/records/4388632', 'self_doi': 'https://zenodo.org/doi/10.5281/zenodo.4388632', 'doi': 'https://doi.org/10.5281/zenodo.4388632', 'parent': 'https://zenodo.org/api/records/4388631', 'parent_html': 'https://zenodo.org/records/4388631', 'parent_doi': 'https://zenodo.org/doi/10.5281/zenodo.4388631', 'self_iiif_manifest': 'https://zenodo.org/api/iiif/record:4388632/manifest', 'self_iiif_sequence': 'https://zenodo.org/api/iiif/record:4388632/sequence/default', 'files': 'https://zenodo.org/api/records/4388632/files', 'media_files': 'https://zenodo.org/api/records/4388632/media-files', 'archive': 'https://zenodo.org/api/records/4388632/files-archive', 'archive_media': 'https://zenodo.org/api/records/4388632/media-files-archive', 'latest': 'https://zenodo.org/api/records/4388632/versions/latest', 'latest_html': 'https://zenodo.org/records/4388632/latest', 'draft': 'https://zenodo.org/api/records/4388632/draft', 'versions': 'https://zenodo.org/api/records/4388632/versions', 'access_links': 'https://zenodo.org/api/records/4388632/access/links', 'access_users': 'https://zenodo.org/api/records/4388632/access/users', 'access_request': 'https://zenodo.org/api/records/4388632/access/request', 'access': 'https://zenodo.org/api/records/4388632/access', 'reserve_doi': 'https://zenodo.org/api/records/4388632/draft/pids/doi', 'communities': 'https://zenodo.org/api/records/4388632/communities', 'communities-suggestions': 'https://zenodo.org/api/records/4388632/communities-suggestions', 'requests': 'https://zenodo.org/api/records/4388632/requests'}, 'record_id': 4388632, 'owner': 158332, 'files': [{'id': '988528fb-35b7-4338-a52c-9a6a38d48576', 'filename': 'SCALE-SDM-config.tar.gz', 'filesize': 42461862, 'checksum': 'e82742264fdba24f1e1d9351f5851e1d', 'links': {'self': 'https://zenodo.org/api/records/4388632/files/988528fb-35b7-4338-a52c-9a6a38d48576'}}], 'state': 'done', 'submitted': True}, {'created': '2022-05-20T15:49:07.999754+00:00', 'modified': '2022-05-21T01:50:06.067816+00:00', 'id': 6567232, 'conceptrecid': '1436872', 'doi': '10.5281/zenodo.6567232', 'conceptdoi': '10.5281/zenodo.1436872', 'doi_url': 'https://doi.org/10.5281/zenodo.6567232', 'metadata': {'title': 'globalbioticinteractions/choy2017: update index configuration', 'doi': '10.5281/zenodo.6567232', 'publication_date': '2022-05-20', 'description': '<p>Another update to index configuration to mitigate issue described in <a href=\"https://github.com/globalbioticinteractions/globalbioticinteractions/issues/793\">https://github.com/globalbioticinteractions/globalbioticinteractions/issues/793</a> .</p>', 'access_right': 'open', 'creators': [{'name': 'Jorrit Poelen', 'affiliation': None}], 'related_identifiers': [{'identifier': 'https://github.com/globalbioticinteractions/choy2017/tree/0.3', 'relation': 'isSupplementTo', 'scheme': 'url'}], 'version': '0.3', 'license': 'other-open', 'imprint_publisher': 'Zenodo', 'upload_type': 'software', 'prereserve_doi': {'doi': '10.5281/zenodo.6567232', 'recid': 6567232}}, 'title': 'globalbioticinteractions/choy2017: update index configuration', 'links': {'self': 'https://zenodo.org/api/records/6567232', 'self_html': 'https://zenodo.org/records/6567232', 'self_doi': 'https://zenodo.org/doi/10.5281/zenodo.6567232', 'doi': 'https://doi.org/10.5281/zenodo.6567232', 'parent': 'https://zenodo.org/api/records/1436872', 'parent_html': 'https://zenodo.org/records/1436872', 'parent_doi': 'https://zenodo.org/doi/10.5281/zenodo.1436872', 'self_iiif_manifest': 'https://zenodo.org/api/iiif/record:6567232/manifest', 'self_iiif_sequence': 'https://zenodo.org/api/iiif/record:6567232/sequence/default', 'files': 'https://zenodo.org/api/records/6567232/files', 'media_files': 'https://zenodo.org/api/records/6567232/media-files', 'archive': 'https://zenodo.org/api/records/6567232/files-archive', 'archive_media': 'https://zenodo.org/api/records/6567232/media-files-archive', 'latest': 'https://zenodo.org/api/records/6567232/versions/latest', 'latest_html': 'https://zenodo.org/records/6567232/latest', 'draft': 'https://zenodo.org/api/records/6567232/draft', 'versions': 'https://zenodo.org/api/records/6567232/versions', 'access_links': 'https://zenodo.org/api/records/6567232/access/links', 'access_users': 'https://zenodo.org/api/records/6567232/access/users', 'access_request': 'https://zenodo.org/api/records/6567232/access/request', 'access': 'https://zenodo.org/api/records/6567232/access', 'reserve_doi': 'https://zenodo.org/api/records/6567232/draft/pids/doi', 'communities': 'https://zenodo.org/api/records/6567232/communities', 'communities-suggestions': 'https://zenodo.org/api/records/6567232/communities-suggestions', 'requests': 'https://zenodo.org/api/records/6567232/requests'}, 'record_id': 6567232, 'owner': 7292, 'files': [{'id': '27dc502e-270c-4164-b82a-9c9602f36b89', 'filename': 'globalbioticinteractions/choy2017-0.3.zip', 'filesize': 10067, 'checksum': '4f3fa3505e77716506efed2c3e6f40a9', 'links': {'self': 'https://zenodo.org/api/records/6567232/files/27dc502e-270c-4164-b82a-9c9602f36b89'}}], 'state': 'done', 'submitted': True}, {'created': '2022-02-19T11:25:54.216077+00:00', 'modified': '2022-02-19T13:50:51.364734+00:00', 'id': 6162606, 'conceptrecid': '3723105', 'doi': '10.5281/zenodo.6162606', 'conceptdoi': '10.5281/zenodo.3723105', 'doi_url': 'https://doi.org/10.5281/zenodo.6162606', 'metadata': {'title': 'unitedstates/images: Release 2022.02', 'doi': '10.5281/zenodo.6162606', 'publication_date': '2022-02-19', 'description': 'What\\'s Changed\\n<ul>\\n<li>Lots of photo additions and changes by @dwillis (no PR)</li>\\n<li>fix(gpo_member_photos): regex was returning 0 results by @ryparker in <a href=\"https://github.com/unitedstates/images/pull/212\">https://github.com/unitedstates/images/pull/212</a></li>\\n<li>Add support for Python 3.10, drop EOL 3.6 by @hugovk in <a href=\"https://github.com/unitedstates/images/pull/213\">https://github.com/unitedstates/images/pull/213</a></li>\\n<li>Fix coverage upload by @hugovk in <a href=\"https://github.com/unitedstates/images/pull/214\">https://github.com/unitedstates/images/pull/214</a></li>\\n</ul>\\nNew Contributors\\n<ul>\\n<li>@ryparker made their first contribution in <a href=\"https://github.com/unitedstates/images/pull/212\">https://github.com/unitedstates/images/pull/212</a></li>\\n</ul>\\n<p><strong>Full Changelog</strong>: <a href=\"https://github.com/unitedstates/images/compare/2021.04...2022.02\">https://github.com/unitedstates/images/compare/2021.04...2022.02</a></p>', 'access_right': 'open', 'creators': [{'name': 'Hugo van Kemenade', 'affiliation': 'Nord Software'}, {'name': 'Derek Willis', 'affiliation': '@openelections'}, {'name': 'Eric Mill', 'affiliation': '@GoogleChrome'}, {'name': 'm. simon borg', 'affiliation': None}, {'name': 'Sam', 'affiliation': None}, {'name': 'Peter Andringa', 'affiliation': 'The Washington Post'}, {'name': 'Joshua Tauberer', 'affiliation': '@larsa4d and @govtrack'}, {'name': 'Imgbot', 'affiliation': 'Imgbot'}, {'name': 'Addam Joor', 'affiliation': None}, {'name': 'Nick Merwin', 'affiliation': None}, {'name': 'Steven', 'affiliation': None}, {'name': 'Chris Herbert', 'affiliation': 'Longwell Partners'}, {'name': 'David Yoon', 'affiliation': None}, {'name': 'Ken Mickles', 'affiliation': 'Fight for the Future'}, {'name': 'Ryan Parker', 'affiliation': '@aws'}, {'name': 'Ryan T. Hosford', 'affiliation': None}, {'name': 'timball', 'affiliation': None}], 'related_identifiers': [{'identifier': 'https://github.com/unitedstates/images/tree/2022.02', 'relation': 'isSupplementTo', 'scheme': 'url'}], 'version': '2022.02', 'license': 'other-open', 'imprint_publisher': 'Zenodo', 'upload_type': 'software', 'prereserve_doi': {'doi': '10.5281/zenodo.6162606', 'recid': 6162606}}, 'title': 'unitedstates/images: Release 2022.02', 'links': {'self': 'https://zenodo.org/api/records/6162606', 'self_html': 'https://zenodo.org/records/6162606', 'self_doi': 'https://zenodo.org/doi/10.5281/zenodo.6162606', 'doi': 'https://doi.org/10.5281/zenodo.6162606', 'parent': 'https://zenodo.org/api/records/3723105', 'parent_html': 'https://zenodo.org/records/3723105', 'parent_doi': 'https://zenodo.org/doi/10.5281/zenodo.3723105', 'self_iiif_manifest': 'https://zenodo.org/api/iiif/record:6162606/manifest', 'self_iiif_sequence': 'https://zenodo.org/api/iiif/record:6162606/sequence/default', 'files': 'https://zenodo.org/api/records/6162606/files', 'media_files': 'https://zenodo.org/api/records/6162606/media-files', 'archive': 'https://zenodo.org/api/records/6162606/files-archive', 'archive_media': 'https://zenodo.org/api/records/6162606/media-files-archive', 'latest': 'https://zenodo.org/api/records/6162606/versions/latest', 'latest_html': 'https://zenodo.org/records/6162606/latest', 'draft': 'https://zenodo.org/api/records/6162606/draft', 'versions': 'https://zenodo.org/api/records/6162606/versions', 'access_links': 'https://zenodo.org/api/records/6162606/access/links', 'access_users': 'https://zenodo.org/api/records/6162606/access/users', 'access_request': 'https://zenodo.org/api/records/6162606/access/request', 'access': 'https://zenodo.org/api/records/6162606/access', 'reserve_doi': 'https://zenodo.org/api/records/6162606/draft/pids/doi', 'communities': 'https://zenodo.org/api/records/6162606/communities', 'communities-suggestions': 'https://zenodo.org/api/records/6162606/communities-suggestions', 'requests': 'https://zenodo.org/api/records/6162606/requests'}, 'record_id': 6162606, 'owner': 12746, 'files': [{'id': 'f1071973-2bbf-410b-a891-67d40b371503', 'filename': 'unitedstates/images-2022.02.zip', 'filesize': 751263851, 'checksum': '71c9031b470d47b880744bc82571353d', 'links': {'self': 'https://zenodo.org/api/records/6162606/files/f1071973-2bbf-410b-a891-67d40b371503'}}], 'state': 'done', 'submitted': True}, {'created': '2023-04-30T23:23:26.992942+00:00', 'modified': '2023-05-01T14:26:46.625398+00:00', 'id': 7882172, 'conceptrecid': '7851255', 'doi': '10.5281/zenodo.7882172', 'conceptdoi': '10.5281/zenodo.7851255', 'doi_url': 'https://doi.org/10.5281/zenodo.7882172', 'metadata': {'title': 'jreeves3/PReLearn: v1.1', 'doi': '10.5281/zenodo.7882172', 'publication_date': '2023-04-30', 'description': '<p>Adding kissat data with proof-logging</p>', 'access_right': 'open', 'creators': [{'name': 'jreeves3', 'affiliation': None}], 'related_identifiers': [{'identifier': 'https://github.com/jreeves3/PReLearn/tree/v1.1', 'relation': 'isSupplementTo', 'scheme': 'url'}], 'version': 'v1.1', 'license': 'other-open', 'imprint_publisher': 'Zenodo', 'upload_type': 'software', 'prereserve_doi': {'doi': '10.5281/zenodo.7882172', 'recid': 7882172}}, 'title': 'jreeves3/PReLearn: v1.1', 'links': {'self': 'https://zenodo.org/api/records/7882172', 'self_html': 'https://zenodo.org/records/7882172', 'self_doi': 'https://zenodo.org/doi/10.5281/zenodo.7882172', 'doi': 'https://doi.org/10.5281/zenodo.7882172', 'parent': 'https://zenodo.org/api/records/7851255', 'parent_html': 'https://zenodo.org/records/7851255', 'parent_doi': 'https://zenodo.org/doi/10.5281/zenodo.7851255', 'self_iiif_manifest': 'https://zenodo.org/api/iiif/record:7882172/manifest', 'self_iiif_sequence': 'https://zenodo.org/api/iiif/record:7882172/sequence/default', 'files': 'https://zenodo.org/api/records/7882172/files', 'media_files': 'https://zenodo.org/api/records/7882172/media-files', 'archive': 'https://zenodo.org/api/records/7882172/files-archive', 'archive_media': 'https://zenodo.org/api/records/7882172/media-files-archive', 'latest': 'https://zenodo.org/api/records/7882172/versions/latest', 'latest_html': 'https://zenodo.org/records/7882172/latest', 'draft': 'https://zenodo.org/api/records/7882172/draft', 'versions': 'https://zenodo.org/api/records/7882172/versions', 'access_links': 'https://zenodo.org/api/records/7882172/access/links', 'access_users': 'https://zenodo.org/api/records/7882172/access/users', 'access_request': 'https://zenodo.org/api/records/7882172/access/request', 'access': 'https://zenodo.org/api/records/7882172/access', 'reserve_doi': 'https://zenodo.org/api/records/7882172/draft/pids/doi', 'communities': 'https://zenodo.org/api/records/7882172/communities', 'communities-suggestions': 'https://zenodo.org/api/records/7882172/communities-suggestions', 'requests': 'https://zenodo.org/api/records/7882172/requests'}, 'record_id': 7882172, 'owner': 267753, 'files': [{'id': '7d445365-7db4-4e94-a6b2-5f15ecd7acd1', 'filename': 'jreeves3/PReLearn-v1.1.zip', 'filesize': 15705183, 'checksum': 'a94f54d276f674314ef9a495491bec34', 'links': {'self': 'https://zenodo.org/api/records/7882172/files/7d445365-7db4-4e94-a6b2-5f15ecd7acd1'}}], 'state': 'done', 'submitted': True}, {'created': '2022-06-12T17:43:19.981544+00:00', 'modified': '2022-06-13T13:50:56.139457+00:00', 'id': 6636328, 'conceptrecid': '6636327', 'doi': '10.5281/zenodo.6636328', 'conceptdoi': '10.5281/zenodo.6636327', 'doi_url': 'https://doi.org/10.5281/zenodo.6636328', 'metadata': {'title': 'jmert/UnixMmap.jl: v1.0.0', 'doi': '10.5281/zenodo.6636328', 'publication_date': '2021-12-24', 'description': 'UnixMmap v1.0.0\\n<p><a href=\"https://github.com/jmert/UnixMmap.jl/compare/v0.1.1...v1.0.0\">Diff since v0.1.1</a></p>\\n<p><strong>Merged pull requests:</strong></p>\\n<ul>\\n<li>Update CI with changes from PkgTemplates.jl (#5) (@jmert)</li>\\n<li>Add binding for msync and associated constants (#6) (@jmert)</li>\\n<li>Prepare for registration (#7) (@jmert)</li>\\n</ul>', 'access_right': 'open', 'creators': [{'name': 'Justin Willmert', 'affiliation': None}], 'related_identifiers': [{'identifier': 'https://github.com/jmert/UnixMmap.jl/tree/v1.0.0', 'relation': 'isSupplementTo', 'scheme': 'url'}], 'version': 'v1.0.0', 'license': 'other-open', 'imprint_publisher': 'Zenodo', 'upload_type': 'software', 'prereserve_doi': {'doi': '10.5281/zenodo.6636328', 'recid': 6636328}}, 'title': 'jmert/UnixMmap.jl: v1.0.0', 'links': {'self': 'https://zenodo.org/api/records/6636328', 'self_html': 'https://zenodo.org/records/6636328', 'self_doi': 'https://zenodo.org/doi/10.5281/zenodo.6636328', 'doi': 'https://doi.org/10.5281/zenodo.6636328', 'parent': 'https://zenodo.org/api/records/6636327', 'parent_html': 'https://zenodo.org/records/6636327', 'parent_doi': 'https://zenodo.org/doi/10.5281/zenodo.6636327', 'self_iiif_manifest': 'https://zenodo.org/api/iiif/record:6636328/manifest', 'self_iiif_sequence': 'https://zenodo.org/api/iiif/record:6636328/sequence/default', 'files': 'https://zenodo.org/api/records/6636328/files', 'media_files': 'https://zenodo.org/api/records/6636328/media-files', 'archive': 'https://zenodo.org/api/records/6636328/files-archive', 'archive_media': 'https://zenodo.org/api/records/6636328/media-files-archive', 'latest': 'https://zenodo.org/api/records/6636328/versions/latest', 'latest_html': 'https://zenodo.org/records/6636328/latest', 'draft': 'https://zenodo.org/api/records/6636328/draft', 'versions': 'https://zenodo.org/api/records/6636328/versions', 'access_links': 'https://zenodo.org/api/records/6636328/access/links', 'access_users': 'https://zenodo.org/api/records/6636328/access/users', 'access_request': 'https://zenodo.org/api/records/6636328/access/request', 'access': 'https://zenodo.org/api/records/6636328/access', 'reserve_doi': 'https://zenodo.org/api/records/6636328/draft/pids/doi', 'communities': 'https://zenodo.org/api/records/6636328/communities', 'communities-suggestions': 'https://zenodo.org/api/records/6636328/communities-suggestions', 'requests': 'https://zenodo.org/api/records/6636328/requests'}, 'record_id': 6636328, 'owner': 360790, 'files': [{'id': 'f8653e36-c4c7-4c3f-b3dc-fff3dfdde003', 'filename': 'jmert/UnixMmap.jl-v1.0.0.zip', 'filesize': 17903, 'checksum': 'f1b9ad205560bb562665442e5a39803a', 'links': {'self': 'https://zenodo.org/api/records/6636328/files/f8653e36-c4c7-4c3f-b3dc-fff3dfdde003'}}], 'state': 'done', 'submitted': True}, {'created': '2022-06-30T12:15:37.886632+00:00', 'modified': '2022-06-30T13:50:58.489534+00:00', 'id': 6783138, 'conceptrecid': '6783137', 'doi': '10.5281/zenodo.6783138', 'conceptdoi': '10.5281/zenodo.6783137', 'doi_url': 'https://doi.org/10.5281/zenodo.6783138', 'metadata': {'title': 'bethanharris/precipitation-VOD-ISV: v1.0', 'doi': '10.5281/zenodo.6783138', 'publication_date': '2022-06-30', 'description': '<p>Code used to generate results for revised version of \"Satellite-Observed Vegetation Responses to Intraseasonal Precipitation Variability\" (Harris et al., 2022).</p>', 'access_right': 'open', 'creators': [{'name': 'bethanharris', 'affiliation': None}], 'related_identifiers': [{'identifier': 'https://github.com/bethanharris/precipitation-VOD-ISV/tree/v1.0', 'relation': 'isSupplementTo', 'scheme': 'url'}], 'version': 'v1.0', 'license': 'other-open', 'imprint_publisher': 'Zenodo', 'upload_type': 'software', 'prereserve_doi': {'doi': '10.5281/zenodo.6783138', 'recid': 6783138}}, 'title': 'bethanharris/precipitation-VOD-ISV: v1.0', 'links': {'self': 'https://zenodo.org/api/records/6783138', 'self_html': 'https://zenodo.org/records/6783138', 'self_doi': 'https://zenodo.org/doi/10.5281/zenodo.6783138', 'doi': 'https://doi.org/10.5281/zenodo.6783138', 'parent': 'https://zenodo.org/api/records/6783137', 'parent_html': 'https://zenodo.org/records/6783137', 'parent_doi': 'https://zenodo.org/doi/10.5281/zenodo.6783137', 'self_iiif_manifest': 'https://zenodo.org/api/iiif/record:6783138/manifest', 'self_iiif_sequence': 'https://zenodo.org/api/iiif/record:6783138/sequence/default', 'files': 'https://zenodo.org/api/records/6783138/files', 'media_files': 'https://zenodo.org/api/records/6783138/media-files', 'archive': 'https://zenodo.org/api/records/6783138/files-archive', 'archive_media': 'https://zenodo.org/api/records/6783138/media-files-archive', 'latest': 'https://zenodo.org/api/records/6783138/versions/latest', 'latest_html': 'https://zenodo.org/records/6783138/latest', 'draft': 'https://zenodo.org/api/records/6783138/draft', 'versions': 'https://zenodo.org/api/records/6783138/versions', 'access_links': 'https://zenodo.org/api/records/6783138/access/links', 'access_users': 'https://zenodo.org/api/records/6783138/access/users', 'access_request': 'https://zenodo.org/api/records/6783138/access/request', 'access': 'https://zenodo.org/api/records/6783138/access', 'reserve_doi': 'https://zenodo.org/api/records/6783138/draft/pids/doi', 'communities': 'https://zenodo.org/api/records/6783138/communities', 'communities-suggestions': 'https://zenodo.org/api/records/6783138/communities-suggestions', 'requests': 'https://zenodo.org/api/records/6783138/requests'}, 'record_id': 6783138, 'owner': 368193, 'files': [{'id': '53022a7b-9e33-4f1b-8466-f42b48979263', 'filename': 'bethanharris/precipitation-VOD-ISV-v1.0.zip', 'filesize': 53604, 'checksum': '51498f85c5edac8317931fd0a732cf2c', 'links': {'self': 'https://zenodo.org/api/records/6783138/files/53022a7b-9e33-4f1b-8466-f42b48979263'}}], 'state': 'done', 'submitted': True}, {'created': '2023-02-28T21:14:29.485742+00:00', 'modified': '2023-03-01T02:27:15.088601+00:00', 'id': 7686292, 'conceptrecid': '7686291', 'doi': '10.5281/zenodo.7686292', 'conceptdoi': '10.5281/zenodo.7686291', 'doi_url': 'https://doi.org/10.5281/zenodo.7686292', 'metadata': {'title': 'cwsauburn/NA_Hydroclimate: Zenodo Releasev1.0.0', 'doi': '10.5281/zenodo.7686292', 'publication_date': '2023-02-28', 'description': '<p><strong>Full Changelog</strong>: <a href=\"https://github.com/cwsauburn/NA_Hydroclimate/commits/Na_hydro\">https://github.com/cwsauburn/NA_Hydroclimate/commits/Na_hydro</a></p>', 'access_right': 'open', 'creators': [{'name': 'CWSAUBURN', 'affiliation': None}], 'related_identifiers': [{'identifier': 'https://github.com/cwsauburn/NA_Hydroclimate/tree/Na_hydro', 'relation': 'isSupplementTo', 'scheme': 'url'}], 'version': 'Na_hydro', 'license': 'other-open', 'imprint_publisher': 'Zenodo', 'upload_type': 'software', 'prereserve_doi': {'doi': '10.5281/zenodo.7686292', 'recid': 7686292}}, 'title': 'cwsauburn/NA_Hydroclimate: Zenodo Releasev1.0.0', 'links': {'self': 'https://zenodo.org/api/records/7686292', 'self_html': 'https://zenodo.org/records/7686292', 'self_doi': 'https://zenodo.org/doi/10.5281/zenodo.7686292', 'doi': 'https://doi.org/10.5281/zenodo.7686292', 'parent': 'https://zenodo.org/api/records/7686291', 'parent_html': 'https://zenodo.org/records/7686291', 'parent_doi': 'https://zenodo.org/doi/10.5281/zenodo.7686291', 'self_iiif_manifest': 'https://zenodo.org/api/iiif/record:7686292/manifest', 'self_iiif_sequence': 'https://zenodo.org/api/iiif/record:7686292/sequence/default', 'files': 'https://zenodo.org/api/records/7686292/files', 'media_files': 'https://zenodo.org/api/records/7686292/media-files', 'archive': 'https://zenodo.org/api/records/7686292/files-archive', 'archive_media': 'https://zenodo.org/api/records/7686292/media-files-archive', 'latest': 'https://zenodo.org/api/records/7686292/versions/latest', 'latest_html': 'https://zenodo.org/records/7686292/latest', 'draft': 'https://zenodo.org/api/records/7686292/draft', 'versions': 'https://zenodo.org/api/records/7686292/versions', 'access_links': 'https://zenodo.org/api/records/7686292/access/links', 'access_users': 'https://zenodo.org/api/records/7686292/access/users', 'access_request': 'https://zenodo.org/api/records/7686292/access/request', 'access': 'https://zenodo.org/api/records/7686292/access', 'reserve_doi': 'https://zenodo.org/api/records/7686292/draft/pids/doi', 'communities': 'https://zenodo.org/api/records/7686292/communities', 'communities-suggestions': 'https://zenodo.org/api/records/7686292/communities-suggestions', 'requests': 'https://zenodo.org/api/records/7686292/requests'}, 'record_id': 7686292, 'owner': 506653, 'files': [{'id': '6dc1f740-5b4b-48a8-986a-762576a20503', 'filename': 'cwsauburn/NA_Hydroclimate-Na_hydro.zip', 'filesize': 663142, 'checksum': '2323dad77c3ea28090b4162fb2b4f0eb', 'links': {'self': 'https://zenodo.org/api/records/7686292/files/6dc1f740-5b4b-48a8-986a-762576a20503'}}], 'state': 'done', 'submitted': True}, {'created': '2022-03-31T11:47:24.213510+00:00', 'modified': '2022-03-31T13:49:32.679729+00:00', 'id': 6401535, 'conceptrecid': '4311794', 'doi': '10.5281/zenodo.6401535', 'conceptdoi': '10.5281/zenodo.4311794', 'doi_url': 'https://doi.org/10.5281/zenodo.6401535', 'metadata': {'title': 'seankmartin/NeuralConnections: Version of code for paper update 31.03.2021', 'doi': '10.5281/zenodo.6401535', 'publication_date': '2022-03-31', 'description': '<p><strong>Full Changelog</strong>: <a href=\"https://github.com/seankmartin/NeuralConnections/compare/v0.11...v0.20\">https://github.com/seankmartin/NeuralConnections/compare/v0.11...v0.20</a></p>\\n<p>Vastly updated the framework to handle more complex situations.</p>', 'access_right': 'open', 'creators': [{'name': 'Sean Martin', 'affiliation': 'Trinity College Dublin'}], 'related_identifiers': [{'identifier': 'https://github.com/seankmartin/NeuralConnections/tree/v0.20', 'relation': 'isSupplementTo', 'scheme': 'url'}], 'version': 'v0.20', 'license': 'other-open', 'imprint_publisher': 'Zenodo', 'upload_type': 'software', 'prereserve_doi': {'doi': '10.5281/zenodo.6401535', 'recid': 6401535}}, 'title': 'seankmartin/NeuralConnections: Version of code for paper update 31.03.2021', 'links': {'self': 'https://zenodo.org/api/records/6401535', 'self_html': 'https://zenodo.org/records/6401535', 'self_doi': 'https://zenodo.org/doi/10.5281/zenodo.6401535', 'doi': 'https://doi.org/10.5281/zenodo.6401535', 'parent': 'https://zenodo.org/api/records/4311794', 'parent_html': 'https://zenodo.org/records/4311794', 'parent_doi': 'https://zenodo.org/doi/10.5281/zenodo.4311794', 'self_iiif_manifest': 'https://zenodo.org/api/iiif/record:6401535/manifest', 'self_iiif_sequence': 'https://zenodo.org/api/iiif/record:6401535/sequence/default', 'files': 'https://zenodo.org/api/records/6401535/files', 'media_files': 'https://zenodo.org/api/records/6401535/media-files', 'archive': 'https://zenodo.org/api/records/6401535/files-archive', 'archive_media': 'https://zenodo.org/api/records/6401535/media-files-archive', 'latest': 'https://zenodo.org/api/records/6401535/versions/latest', 'latest_html': 'https://zenodo.org/records/6401535/latest', 'draft': 'https://zenodo.org/api/records/6401535/draft', 'versions': 'https://zenodo.org/api/records/6401535/versions', 'access_links': 'https://zenodo.org/api/records/6401535/access/links', 'access_users': 'https://zenodo.org/api/records/6401535/access/users', 'access_request': 'https://zenodo.org/api/records/6401535/access/request', 'access': 'https://zenodo.org/api/records/6401535/access', 'reserve_doi': 'https://zenodo.org/api/records/6401535/draft/pids/doi', 'communities': 'https://zenodo.org/api/records/6401535/communities', 'communities-suggestions': 'https://zenodo.org/api/records/6401535/communities-suggestions', 'requests': 'https://zenodo.org/api/records/6401535/requests'}, 'record_id': 6401535, 'owner': 79970, 'files': [{'id': 'ed05bf76-cfc2-4aae-bd9c-deb03fb17322', 'filename': 'seankmartin/NeuralConnections-v0.20.zip', 'filesize': 450411, 'checksum': '91c0a7d3e202bda5afe0fb8a46a47010', 'links': {'self': 'https://zenodo.org/api/records/6401535/files/ed05bf76-cfc2-4aae-bd9c-deb03fb17322'}}], 'state': 'done', 'submitted': True}]\n"
     ]
    }
   ],
   "source": [
    "records_api_url = 'https://zenodo.org/api/records'\n",
    "search_query = 'type:software'\n",
    "r = requests.get(records_api_url, params={'q': search_query, 'all_versions': 'true', 'size': 20, 'page': 1})\n",
    "\n",
    "print(r.status_code)\n",
    "print(r.links)\n",
    "print(r.next)\n",
    "data = r.json()\n",
    "print(data)"
   ]
  },
  {
   "cell_type": "code",
   "execution_count": 119,
   "id": "9a29edf0",
   "metadata": {},
   "outputs": [
    {
     "name": "stdout",
     "output_type": "stream",
     "text": [
      "200\n",
      "{}\n",
      "None\n",
      "[{'created': '2021-01-22T19:52:11.886069+00:00', 'modified': '2021-01-23T00:27:22.757516+00:00', 'id': 4458287, 'conceptrecid': '4458286', 'doi': '10.5281/zenodo.4458287', 'conceptdoi': '10.5281/zenodo.4458286', 'doi_url': 'https://doi.org/10.5281/zenodo.4458287', 'metadata': {'title': 'zadkhosh/intelligentRoutingFramework: ThesisCodes', 'doi': '10.5281/zenodo.4458287', 'publication_date': '2021-01-22', 'description': 'PHDThesis', 'access_right': 'open', 'creators': [{'name': 'zadkhosh', 'affiliation': None}], 'related_identifiers': [{'identifier': 'https://github.com/zadkhosh/intelligentRoutingFramework/tree/v0.1-thesis', 'relation': 'isSupplementTo', 'scheme': 'url'}], 'version': 'v0.1-thesis', 'license': 'other-open', 'imprint_publisher': 'Zenodo', 'upload_type': 'software', 'prereserve_doi': {'doi': '10.5281/zenodo.4458287', 'recid': 4458287}}, 'title': 'zadkhosh/intelligentRoutingFramework: ThesisCodes', 'links': {'self': 'https://zenodo.org/api/records/4458287', 'self_html': 'https://zenodo.org/records/4458287', 'self_doi': 'https://zenodo.org/doi/10.5281/zenodo.4458287', 'doi': 'https://doi.org/10.5281/zenodo.4458287', 'parent': 'https://zenodo.org/api/records/4458286', 'parent_html': 'https://zenodo.org/records/4458286', 'parent_doi': 'https://zenodo.org/doi/10.5281/zenodo.4458286', 'self_iiif_manifest': 'https://zenodo.org/api/iiif/record:4458287/manifest', 'self_iiif_sequence': 'https://zenodo.org/api/iiif/record:4458287/sequence/default', 'files': 'https://zenodo.org/api/records/4458287/files', 'media_files': 'https://zenodo.org/api/records/4458287/media-files', 'archive': 'https://zenodo.org/api/records/4458287/files-archive', 'archive_media': 'https://zenodo.org/api/records/4458287/media-files-archive', 'latest': 'https://zenodo.org/api/records/4458287/versions/latest', 'latest_html': 'https://zenodo.org/records/4458287/latest', 'draft': 'https://zenodo.org/api/records/4458287/draft', 'versions': 'https://zenodo.org/api/records/4458287/versions', 'access_links': 'https://zenodo.org/api/records/4458287/access/links', 'access_users': 'https://zenodo.org/api/records/4458287/access/users', 'access_request': 'https://zenodo.org/api/records/4458287/access/request', 'access': 'https://zenodo.org/api/records/4458287/access', 'reserve_doi': 'https://zenodo.org/api/records/4458287/draft/pids/doi', 'communities': 'https://zenodo.org/api/records/4458287/communities', 'communities-suggestions': 'https://zenodo.org/api/records/4458287/communities-suggestions', 'requests': 'https://zenodo.org/api/records/4458287/requests'}, 'record_id': 4458287, 'owner': 190204, 'files': [{'id': '109316b8-52fa-489e-8c98-5e32a6ac598d', 'filename': 'zadkhosh/intelligentRoutingFramework-v0.1-thesis.zip', 'filesize': 830673, 'checksum': '711a0d008bf5c2dbb1bac4724399bf2f', 'links': {'self': 'https://zenodo.org/api/records/4458287/files/109316b8-52fa-489e-8c98-5e32a6ac598d'}}], 'state': 'done', 'submitted': True}, {'created': '2021-08-19T21:19:09.773093+00:00', 'modified': '2021-08-20T01:48:24.202774+00:00', 'id': 5224852, 'conceptrecid': '5224851', 'doi': '10.5281/zenodo.5224852', 'conceptdoi': '10.5281/zenodo.5224851', 'doi_url': 'https://doi.org/10.5281/zenodo.5224852', 'metadata': {'title': 'snowmodel-tools/preprocess_matlab: Initial release August 12th, 2021.', 'doi': '10.5281/zenodo.5224852', 'publication_date': '2021-08-19', 'description': '<p>This is the initial release to accompany the Hydrology and Earth Systems Science publication in August 2021.</p>', 'access_right': 'open', 'creators': [{'name': 'David Hill', 'affiliation': 'Oregon State University'}, {'name': 'nina-aragon', 'affiliation': None}], 'related_identifiers': [{'identifier': 'https://github.com/snowmodel-tools/preprocess_matlab/tree/v0.1.0', 'relation': 'isSupplementTo', 'scheme': 'url'}], 'version': 'v0.1.0', 'license': 'other-open', 'imprint_publisher': 'Zenodo', 'upload_type': 'software', 'prereserve_doi': {'doi': '10.5281/zenodo.5224852', 'recid': 5224852}}, 'title': 'snowmodel-tools/preprocess_matlab: Initial release August 12th, 2021.', 'links': {'self': 'https://zenodo.org/api/records/5224852', 'self_html': 'https://zenodo.org/records/5224852', 'self_doi': 'https://zenodo.org/doi/10.5281/zenodo.5224852', 'doi': 'https://doi.org/10.5281/zenodo.5224852', 'parent': 'https://zenodo.org/api/records/5224851', 'parent_html': 'https://zenodo.org/records/5224851', 'parent_doi': 'https://zenodo.org/doi/10.5281/zenodo.5224851', 'self_iiif_manifest': 'https://zenodo.org/api/iiif/record:5224852/manifest', 'self_iiif_sequence': 'https://zenodo.org/api/iiif/record:5224852/sequence/default', 'files': 'https://zenodo.org/api/records/5224852/files', 'media_files': 'https://zenodo.org/api/records/5224852/media-files', 'archive': 'https://zenodo.org/api/records/5224852/files-archive', 'archive_media': 'https://zenodo.org/api/records/5224852/media-files-archive', 'latest': 'https://zenodo.org/api/records/5224852/versions/latest', 'latest_html': 'https://zenodo.org/records/5224852/latest', 'draft': 'https://zenodo.org/api/records/5224852/draft', 'versions': 'https://zenodo.org/api/records/5224852/versions', 'access_links': 'https://zenodo.org/api/records/5224852/access/links', 'access_users': 'https://zenodo.org/api/records/5224852/access/users', 'access_request': 'https://zenodo.org/api/records/5224852/access/request', 'access': 'https://zenodo.org/api/records/5224852/access', 'reserve_doi': 'https://zenodo.org/api/records/5224852/draft/pids/doi', 'communities': 'https://zenodo.org/api/records/5224852/communities', 'communities-suggestions': 'https://zenodo.org/api/records/5224852/communities-suggestions', 'requests': 'https://zenodo.org/api/records/5224852/requests'}, 'record_id': 5224852, 'owner': 247811, 'files': [{'id': 'de380cc3-a3ce-494f-b6b7-3ef426d69b19', 'filename': 'snowmodel-tools/preprocess_matlab-v0.1.0.zip', 'filesize': 8713, 'checksum': '9517d027fa48df9891b6794b1a5c3eda', 'links': {'self': 'https://zenodo.org/api/records/5224852/files/de380cc3-a3ce-494f-b6b7-3ef426d69b19'}}], 'state': 'done', 'submitted': True}, {'created': '2021-07-19T20:20:49.093855+00:00', 'modified': '2021-07-20T01:48:23.044483+00:00', 'id': 5115007, 'conceptrecid': '5115006', 'doi': '10.5281/zenodo.5115007', 'conceptdoi': '10.5281/zenodo.5115006', 'doi_url': 'https://doi.org/10.5281/zenodo.5115007', 'metadata': {'title': 'Fast and energy-efficient neuromorphic deep learning with first-spike times', 'doi': '10.5281/zenodo.5115007', 'publication_date': '2021-07-19', 'description': '<p>Training a network of LIF neurons to classify patterns using <code>pytorch</code> as used in Goeltz, Kriener, et. al, see https://arxiv.org/abs/1912.11443</p>', 'access_right': 'open', 'creators': [{'name': 'Göltz, Julian', 'affiliation': 'Heidelberg University', 'orcid': '0000-0002-5378-932X'}, {'name': 'Kriener, Laura', 'affiliation': 'University of Bern'}, {'name': 'Baumbach, Andreas', 'affiliation': 'Heidelberg University'}, {'name': 'Billaudelle, Sebastian', 'affiliation': 'Heidelberg University'}, {'name': 'Breitwieser, Oliver', 'affiliation': 'Heidelberg University'}, {'name': 'Cramer, Benjamin', 'affiliation': 'Heidelberg University'}, {'name': 'Kungl, Akos', 'affiliation': 'Heidelberg University'}, {'name': 'Petrovici, Mihai Alexandru', 'affiliation': 'University of Bern'}], 'related_identifiers': [{'identifier': 'https://github.com/JulianGoeltz/fastAndDeep/tree/v1.0.0', 'relation': 'isSupplementTo', 'scheme': 'url'}], 'version': 'v1.0.0', 'grants': [{'id': '10.13039/501100000780::800858'}, {'id': '10.13039/501100000780::945539'}, {'id': '10.13039/501100000780::785907'}, {'id': '10.13039/501100000780::720270'}, {'id': '604102'}], 'license': 'other-open', 'imprint_publisher': 'Zenodo', 'upload_type': 'software', 'prereserve_doi': {'doi': '10.5281/zenodo.5115007', 'recid': 5115007}}, 'title': 'Fast and energy-efficient neuromorphic deep learning with first-spike times', 'links': {'self': 'https://zenodo.org/api/records/5115007', 'self_html': 'https://zenodo.org/records/5115007', 'self_doi': 'https://zenodo.org/doi/10.5281/zenodo.5115007', 'doi': 'https://doi.org/10.5281/zenodo.5115007', 'parent': 'https://zenodo.org/api/records/5115006', 'parent_html': 'https://zenodo.org/records/5115006', 'parent_doi': 'https://zenodo.org/doi/10.5281/zenodo.5115006', 'self_iiif_manifest': 'https://zenodo.org/api/iiif/record:5115007/manifest', 'self_iiif_sequence': 'https://zenodo.org/api/iiif/record:5115007/sequence/default', 'files': 'https://zenodo.org/api/records/5115007/files', 'media_files': 'https://zenodo.org/api/records/5115007/media-files', 'archive': 'https://zenodo.org/api/records/5115007/files-archive', 'archive_media': 'https://zenodo.org/api/records/5115007/media-files-archive', 'latest': 'https://zenodo.org/api/records/5115007/versions/latest', 'latest_html': 'https://zenodo.org/records/5115007/latest', 'draft': 'https://zenodo.org/api/records/5115007/draft', 'versions': 'https://zenodo.org/api/records/5115007/versions', 'access_links': 'https://zenodo.org/api/records/5115007/access/links', 'access_users': 'https://zenodo.org/api/records/5115007/access/users', 'access_request': 'https://zenodo.org/api/records/5115007/access/request', 'access': 'https://zenodo.org/api/records/5115007/access', 'reserve_doi': 'https://zenodo.org/api/records/5115007/draft/pids/doi', 'communities': 'https://zenodo.org/api/records/5115007/communities', 'communities-suggestions': 'https://zenodo.org/api/records/5115007/communities-suggestions', 'requests': 'https://zenodo.org/api/records/5115007/requests'}, 'record_id': 5115007, 'owner': 243344, 'files': [{'id': '53cef6f2-fb6e-49fe-8844-c2d3315c840a', 'filename': 'JulianGoeltz/fastAndDeep-v1.0.0.zip', 'filesize': 19278716, 'checksum': 'bc34113788d7019a1ffe16b10d10f5b6', 'links': {'self': 'https://zenodo.org/api/records/5115007/files/53cef6f2-fb6e-49fe-8844-c2d3315c840a'}}], 'state': 'done', 'submitted': True}, {'created': '2021-08-04T06:33:00.835771+00:00', 'modified': '2021-08-04T13:48:23.668783+00:00', 'id': 5157894, 'conceptrecid': '5157893', 'doi': '10.5281/zenodo.5157894', 'conceptdoi': '10.5281/zenodo.5157893', 'doi_url': 'https://doi.org/10.5281/zenodo.5157894', 'metadata': {'title': 'nmarzano/Thesis-DOI: Thesis code', 'doi': '10.5281/zenodo.5157894', 'publication_date': '2021-08-04', 'description': \"<p>Code to analyse and plot single-molecule FRET data as presented in Nicholas Marzano's thesis entitled 'Developing single-molecule approaches for the study of molecular chaperones'.</p>\", 'access_right': 'open', 'creators': [{'name': 'nmarzano', 'affiliation': None}], 'related_identifiers': [{'identifier': 'https://github.com/nmarzano/Thesis-DOI/tree/0.1', 'relation': 'isSupplementTo', 'scheme': 'url'}], 'version': '0.1', 'license': 'other-open', 'imprint_publisher': 'Zenodo', 'upload_type': 'software', 'prereserve_doi': {'doi': '10.5281/zenodo.5157894', 'recid': 5157894}}, 'title': 'nmarzano/Thesis-DOI: Thesis code', 'links': {'self': 'https://zenodo.org/api/records/5157894', 'self_html': 'https://zenodo.org/records/5157894', 'self_doi': 'https://zenodo.org/doi/10.5281/zenodo.5157894', 'doi': 'https://doi.org/10.5281/zenodo.5157894', 'parent': 'https://zenodo.org/api/records/5157893', 'parent_html': 'https://zenodo.org/records/5157893', 'parent_doi': 'https://zenodo.org/doi/10.5281/zenodo.5157893', 'self_iiif_manifest': 'https://zenodo.org/api/iiif/record:5157894/manifest', 'self_iiif_sequence': 'https://zenodo.org/api/iiif/record:5157894/sequence/default', 'files': 'https://zenodo.org/api/records/5157894/files', 'media_files': 'https://zenodo.org/api/records/5157894/media-files', 'archive': 'https://zenodo.org/api/records/5157894/files-archive', 'archive_media': 'https://zenodo.org/api/records/5157894/media-files-archive', 'latest': 'https://zenodo.org/api/records/5157894/versions/latest', 'latest_html': 'https://zenodo.org/records/5157894/latest', 'draft': 'https://zenodo.org/api/records/5157894/draft', 'versions': 'https://zenodo.org/api/records/5157894/versions', 'access_links': 'https://zenodo.org/api/records/5157894/access/links', 'access_users': 'https://zenodo.org/api/records/5157894/access/users', 'access_request': 'https://zenodo.org/api/records/5157894/access/request', 'access': 'https://zenodo.org/api/records/5157894/access', 'reserve_doi': 'https://zenodo.org/api/records/5157894/draft/pids/doi', 'communities': 'https://zenodo.org/api/records/5157894/communities', 'communities-suggestions': 'https://zenodo.org/api/records/5157894/communities-suggestions', 'requests': 'https://zenodo.org/api/records/5157894/requests'}, 'record_id': 5157894, 'owner': 246342, 'files': [{'id': '896bcbf0-58cc-4036-85e4-581499d54be6', 'filename': 'nmarzano/Thesis-DOI-0.1.zip', 'filesize': 19921, 'checksum': '033585fe61f659e93a41f9d921f5ce4d', 'links': {'self': 'https://zenodo.org/api/records/5157894/files/896bcbf0-58cc-4036-85e4-581499d54be6'}}], 'state': 'done', 'submitted': True}, {'created': '2022-04-01T16:09:16.787714+00:00', 'modified': '2022-04-02T13:50:17.308656+00:00', 'id': 6406817, 'conceptrecid': '6406816', 'doi': '10.5281/zenodo.6406817', 'conceptdoi': '10.5281/zenodo.6406816', 'doi_url': 'https://doi.org/10.5281/zenodo.6406817', 'metadata': {'title': 'frank-pk/STB_AEGNG_AI: STB_AEGNG_AI', 'doi': '10.5281/zenodo.6406817', 'publication_date': '2022-04-01', 'description': '<p>This release contains the code for reproducing the results in Karvelis, P., &amp; Diaconescu, A. O. (2022). A Computational Model of Hopelessness and Active-Escape Bias in Suicidality. Computational Psychiatry, 6(1), 34–59. DOI: <a href=\"http://doi.org/10.5334/cpsy.80\">http://doi.org/10.5334/cpsy.80</a></p>', 'access_right': 'open', 'creators': [{'name': 'Povilas Karvelis', 'affiliation': 'Krembil Centre for Neuroinformatics, CAMH'}], 'related_identifiers': [{'identifier': 'https://github.com/frank-pk/STB_AEGNG_AI/tree/v1', 'relation': 'isSupplementTo', 'scheme': 'url'}], 'version': 'v1', 'license': 'other-open', 'imprint_publisher': 'Zenodo', 'upload_type': 'software', 'prereserve_doi': {'doi': '10.5281/zenodo.6406817', 'recid': 6406817}}, 'title': 'frank-pk/STB_AEGNG_AI: STB_AEGNG_AI', 'links': {'self': 'https://zenodo.org/api/records/6406817', 'self_html': 'https://zenodo.org/records/6406817', 'self_doi': 'https://zenodo.org/doi/10.5281/zenodo.6406817', 'doi': 'https://doi.org/10.5281/zenodo.6406817', 'parent': 'https://zenodo.org/api/records/6406816', 'parent_html': 'https://zenodo.org/records/6406816', 'parent_doi': 'https://zenodo.org/doi/10.5281/zenodo.6406816', 'self_iiif_manifest': 'https://zenodo.org/api/iiif/record:6406817/manifest', 'self_iiif_sequence': 'https://zenodo.org/api/iiif/record:6406817/sequence/default', 'files': 'https://zenodo.org/api/records/6406817/files', 'media_files': 'https://zenodo.org/api/records/6406817/media-files', 'archive': 'https://zenodo.org/api/records/6406817/files-archive', 'archive_media': 'https://zenodo.org/api/records/6406817/media-files-archive', 'latest': 'https://zenodo.org/api/records/6406817/versions/latest', 'latest_html': 'https://zenodo.org/records/6406817/latest', 'draft': 'https://zenodo.org/api/records/6406817/draft', 'versions': 'https://zenodo.org/api/records/6406817/versions', 'access_links': 'https://zenodo.org/api/records/6406817/access/links', 'access_users': 'https://zenodo.org/api/records/6406817/access/users', 'access_request': 'https://zenodo.org/api/records/6406817/access/request', 'access': 'https://zenodo.org/api/records/6406817/access', 'reserve_doi': 'https://zenodo.org/api/records/6406817/draft/pids/doi', 'communities': 'https://zenodo.org/api/records/6406817/communities', 'communities-suggestions': 'https://zenodo.org/api/records/6406817/communities-suggestions', 'requests': 'https://zenodo.org/api/records/6406817/requests'}, 'record_id': 6406817, 'owner': 330396, 'files': [{'id': '3316db3b-e1f1-4b3b-a728-10634cd95718', 'filename': 'frank-pk/STB_AEGNG_AI-v1.zip', 'filesize': 22403, 'checksum': '2758322767a825cd5140289b1ff6a01d', 'links': {'self': 'https://zenodo.org/api/records/6406817/files/3316db3b-e1f1-4b3b-a728-10634cd95718'}}], 'state': 'done', 'submitted': True}, {'created': '2022-10-03T22:09:18.180434+00:00', 'modified': '2022-10-04T03:22:22.034486+00:00', 'id': 7140895, 'conceptrecid': '7140894', 'doi': '10.5281/zenodo.7140895', 'conceptdoi': '10.5281/zenodo.7140894', 'doi_url': 'https://doi.org/10.5281/zenodo.7140895', 'metadata': {'title': 'johli/aparent-resnet: APARENT2 Zenodo Release (updated)', 'doi': '10.5281/zenodo.7140895', 'publication_date': '2022-10-03', 'description': '<p><strong>Full Changelog</strong>: <a href=\"https://github.com/johli/aparent-resnet/commits/v1.0.2\">https://github.com/johli/aparent-resnet/commits/v1.0.2</a></p>', 'access_right': 'open', 'creators': [{'name': 'jlinder2', 'affiliation': None}, {'name': 'johli', 'affiliation': None}], 'related_identifiers': [{'identifier': 'https://github.com/johli/aparent-resnet/tree/v1.0.2', 'relation': 'isSupplementTo', 'scheme': 'url'}], 'version': 'v1.0.2', 'license': 'other-open', 'imprint_publisher': 'Zenodo', 'upload_type': 'software', 'prereserve_doi': {'doi': '10.5281/zenodo.7140895', 'recid': 7140895}}, 'title': 'johli/aparent-resnet: APARENT2 Zenodo Release (updated)', 'links': {'self': 'https://zenodo.org/api/records/7140895', 'self_html': 'https://zenodo.org/records/7140895', 'self_doi': 'https://zenodo.org/doi/10.5281/zenodo.7140895', 'doi': 'https://doi.org/10.5281/zenodo.7140895', 'parent': 'https://zenodo.org/api/records/7140894', 'parent_html': 'https://zenodo.org/records/7140894', 'parent_doi': 'https://zenodo.org/doi/10.5281/zenodo.7140894', 'self_iiif_manifest': 'https://zenodo.org/api/iiif/record:7140895/manifest', 'self_iiif_sequence': 'https://zenodo.org/api/iiif/record:7140895/sequence/default', 'files': 'https://zenodo.org/api/records/7140895/files', 'media_files': 'https://zenodo.org/api/records/7140895/media-files', 'archive': 'https://zenodo.org/api/records/7140895/files-archive', 'archive_media': 'https://zenodo.org/api/records/7140895/media-files-archive', 'latest': 'https://zenodo.org/api/records/7140895/versions/latest', 'latest_html': 'https://zenodo.org/records/7140895/latest', 'draft': 'https://zenodo.org/api/records/7140895/draft', 'versions': 'https://zenodo.org/api/records/7140895/versions', 'access_links': 'https://zenodo.org/api/records/7140895/access/links', 'access_users': 'https://zenodo.org/api/records/7140895/access/users', 'access_request': 'https://zenodo.org/api/records/7140895/access/request', 'access': 'https://zenodo.org/api/records/7140895/access', 'reserve_doi': 'https://zenodo.org/api/records/7140895/draft/pids/doi', 'communities': 'https://zenodo.org/api/records/7140895/communities', 'communities-suggestions': 'https://zenodo.org/api/records/7140895/communities-suggestions', 'requests': 'https://zenodo.org/api/records/7140895/requests'}, 'record_id': 7140895, 'owner': 264651, 'files': [{'id': 'fc2c1d5f-4e49-45fa-91c0-4c3180f6fefc', 'filename': 'johli/aparent-resnet-v1.0.2.zip', 'filesize': 53154403, 'checksum': 'd8edbce6d1b93f2f4752a6143d8df30f', 'links': {'self': 'https://zenodo.org/api/records/7140895/files/fc2c1d5f-4e49-45fa-91c0-4c3180f6fefc'}}], 'state': 'done', 'submitted': True}, {'created': '2022-10-06T04:29:19.611254+00:00', 'modified': '2022-10-27T09:09:25.843963+00:00', 'id': 7151427, 'conceptrecid': '7151426', 'doi': '10.5281/zenodo.7151427', 'conceptdoi': '10.5281/zenodo.7151426', 'doi_url': 'https://doi.org/10.5281/zenodo.7151427', 'metadata': {'title': 'Polymeric micelles effectively reprogram tumor microenvironment to potentiate nano-immunotherapy in mouse breast cancer models', 'doi': '10.5281/zenodo.7151427', 'publication_date': '2022-10-06', 'description': '<p>Computer code for Area Fraction analysis</p>', 'access_right': 'open', 'creators': [{'name': 'Myrofora Panagi', 'affiliation': 'Cancer Biophysics Laboratory, Department of Mechanical and Manufacturing Engineering, University of Cyprus, Cyprus'}, {'name': 'Fotios Mpekris', 'affiliation': 'Cancer Biophysics Laboratory, Department of Mechanical and Manufacturing Engineering, University of Cyprus, Cyprus'}, {'name': 'Pengwen Chen', 'affiliation': 'Department of Bioengineering, Graduate School of Engineering, The University of Tokyo, Bunkyo, Tokyo, Japan'}, {'name': 'Chrysovalantis Voutouri', 'affiliation': 'Cancer Biophysics Laboratory, Department of Mechanical and Manufacturing Engineering, University of Cyprus, Cyprus'}, {'name': 'Yasuhiro Nakagawa', 'affiliation': 'Department of Bioengineering, Graduate School of Engineering, The University of Tokyo, Bunkyo, Tokyo, Japan'}, {'name': 'John D. Martin', 'affiliation': 'Department of Bioengineering, Graduate School of Engineering, The University of Tokyo, Bunkyo, Tokyo, Japan'}, {'name': 'Tetsuro Hiroi', 'affiliation': 'Division of Pathology, Exploratory Oncology Research & Clinical Trial Center, National Cancer Center, Kashiwanoha, Kashiwa, Chiba, Japan'}, {'name': 'Hiroko Hashimoto', 'affiliation': 'Division of Innovative Pathology and Laboratory Medicine, Exploratory Oncology Research & Clinical Trial Center, National Cancer Center, Kashiwanoha, Kashiwa, Chiba, Japan'}, {'name': 'Philippos Demetriou', 'affiliation': 'The Center for the Study of Hematological and other Malignancies, Nicosia, Cyprus'}, {'name': 'Chryso Pierides', 'affiliation': 'The Center for the Study of Hematological and other Malignancies, Nicosia, Cyprus'}, {'name': 'Rekha Samuel', 'affiliation': 'Center for Stem Cell Research (a unit of inStem Bengaluru), Christian Medical College Campus Bagayam, Vellore Tamil Nadu, India'}, {'name': 'Andreas Stylianou', 'affiliation': 'Cancer Biophysics Laboratory, Department of Mechanical and Manufacturing Engineering, University of Cyprus, Cyprus'}, {'name': 'Christina Michael', 'affiliation': 'Cancer Biophysics Laboratory, Department of Mechanical and Manufacturing Engineering, University of Cyprus, Cyprus'}, {'name': 'Shigeto Fukushima', 'affiliation': 'Department of Bioengineering, Graduate School of Engineering, The University of Tokyo, Bunkyo, Tokyo, Japan'}, {'name': 'Paraskevi Georgiou', 'affiliation': 'Basic and Translational Cancer Research Center, School of Sciences, European University of Cyprus, Nicosia, Cyprus'}, {'name': 'Panagiotis Papageorgis', 'affiliation': 'Basic and Translational Cancer Research Center, School of Sciences, European University of Cyprus, Nicosia, Cyprus'}, {'name': 'Petri Ch. Papaphilippou', 'affiliation': 'Cancer Biophysics Laboratory, Department of Mechanical and Manufacturing Engineering, University of Cyprus, Cyprus'}, {'name': 'Laura Koumas', 'affiliation': 'Karaiskakio Foundation, Nicosia, Cyprus'}, {'name': 'Paul Costeas', 'affiliation': 'Karaiskakio Foundation, Nicosia, Cyprus'}, {'name': 'Genichiro Ishii', 'affiliation': 'Department of Pathology and Clinical Laboratories, National Cancer Center Hospital East, Kashiwanoha, Kashiwa, Chiba, Japan'}, {'name': 'Motohiro Kojima', 'affiliation': 'Division of Pathology, Exploratory Oncology Research & Clinical Trial Center, National Cancer Center, Kashiwanoha, Kashiwa, Chiba, Japan'}, {'name': 'Kazunori Kataoka', 'affiliation': 'Innovation Center of NanoMedicine, Kawasaki Institute of Industrial Promotion, Kawasaki, Japan'}, {'name': 'Horacio Cabral', 'affiliation': 'Innovation Center of NanoMedicine, Kawasaki Institute of Industrial Promotion, Kawasaki, Japan'}, {'name': 'Triantafyllos Stylianopoulos', 'affiliation': 'Cancer Biophysics Laboratory, Department of Mechanical and Manufacturing Engineering, University of Cyprus, Cyprus'}], 'related_identifiers': [{'identifier': '10.5281/zenodo.7151427', 'relation': 'isCitedBy', 'resource_type': 'image-other', 'scheme': 'doi'}], 'grants': [{'id': '10.13039/501100000780::838414'}], 'license': 'cc-by-4.0', 'imprint_publisher': 'Zenodo', 'upload_type': 'software', 'prereserve_doi': {'doi': '10.5281/zenodo.7151427', 'recid': 7151427}}, 'title': 'Polymeric micelles effectively reprogram tumor microenvironment to potentiate nano-immunotherapy in mouse breast cancer models', 'links': {'self': 'https://zenodo.org/api/records/7151427', 'self_html': 'https://zenodo.org/records/7151427', 'self_doi': 'https://zenodo.org/doi/10.5281/zenodo.7151427', 'doi': 'https://doi.org/10.5281/zenodo.7151427', 'parent': 'https://zenodo.org/api/records/7151426', 'parent_html': 'https://zenodo.org/records/7151426', 'parent_doi': 'https://zenodo.org/doi/10.5281/zenodo.7151426', 'self_iiif_manifest': 'https://zenodo.org/api/iiif/record:7151427/manifest', 'self_iiif_sequence': 'https://zenodo.org/api/iiif/record:7151427/sequence/default', 'files': 'https://zenodo.org/api/records/7151427/files', 'media_files': 'https://zenodo.org/api/records/7151427/media-files', 'archive': 'https://zenodo.org/api/records/7151427/files-archive', 'archive_media': 'https://zenodo.org/api/records/7151427/media-files-archive', 'latest': 'https://zenodo.org/api/records/7151427/versions/latest', 'latest_html': 'https://zenodo.org/records/7151427/latest', 'draft': 'https://zenodo.org/api/records/7151427/draft', 'versions': 'https://zenodo.org/api/records/7151427/versions', 'access_links': 'https://zenodo.org/api/records/7151427/access/links', 'access_users': 'https://zenodo.org/api/records/7151427/access/users', 'access_request': 'https://zenodo.org/api/records/7151427/access/request', 'access': 'https://zenodo.org/api/records/7151427/access', 'reserve_doi': 'https://zenodo.org/api/records/7151427/draft/pids/doi', 'communities': 'https://zenodo.org/api/records/7151427/communities', 'communities-suggestions': 'https://zenodo.org/api/records/7151427/communities-suggestions', 'requests': 'https://zenodo.org/api/records/7151427/requests'}, 'record_id': 7151427, 'owner': 92572, 'files': [{'id': '57850e9d-bf32-4f42-a3ad-01c40b83ffe3', 'filename': 'matlab_analysis.pdf', 'filesize': 72961, 'checksum': '8b6222d0fc8d06ef45108fff7bfab06c', 'links': {'self': 'https://zenodo.org/api/records/7151427/files/57850e9d-bf32-4f42-a3ad-01c40b83ffe3'}}], 'state': 'done', 'submitted': True}, {'created': '2022-03-11T12:40:01.935223+00:00', 'modified': '2022-03-11T13:49:11.157964+00:00', 'id': 6346739, 'conceptrecid': '5703245', 'doi': '10.5281/zenodo.6346739', 'conceptdoi': '10.5281/zenodo.5703245', 'doi_url': 'https://doi.org/10.5281/zenodo.6346739', 'metadata': {'title': 'extract or remove seqs from fasta GUI(.exe)', 'doi': '10.5281/zenodo.6346739', 'publication_date': '2021-11-15', 'description': '<p>Extract or remove sequences to fasta with the option to export as multi-fasta or single fasta files&nbsp;</p>', 'access_right': 'open', 'creators': [{'name': 'Olga Tsiouri', 'affiliation': 'university of thessaly'}], 'version': 'v2.0', 'license': 'cc-by-4.0', 'imprint_publisher': 'Zenodo', 'upload_type': 'software', 'prereserve_doi': {'doi': '10.5281/zenodo.6346739', 'recid': 6346739}}, 'title': 'extract or remove seqs from fasta GUI(.exe)', 'links': {'self': 'https://zenodo.org/api/records/6346739', 'self_html': 'https://zenodo.org/records/6346739', 'self_doi': 'https://zenodo.org/doi/10.5281/zenodo.6346739', 'doi': 'https://doi.org/10.5281/zenodo.6346739', 'parent': 'https://zenodo.org/api/records/5703245', 'parent_html': 'https://zenodo.org/records/5703245', 'parent_doi': 'https://zenodo.org/doi/10.5281/zenodo.5703245', 'self_iiif_manifest': 'https://zenodo.org/api/iiif/record:6346739/manifest', 'self_iiif_sequence': 'https://zenodo.org/api/iiif/record:6346739/sequence/default', 'files': 'https://zenodo.org/api/records/6346739/files', 'media_files': 'https://zenodo.org/api/records/6346739/media-files', 'archive': 'https://zenodo.org/api/records/6346739/files-archive', 'archive_media': 'https://zenodo.org/api/records/6346739/media-files-archive', 'latest': 'https://zenodo.org/api/records/6346739/versions/latest', 'latest_html': 'https://zenodo.org/records/6346739/latest', 'draft': 'https://zenodo.org/api/records/6346739/draft', 'versions': 'https://zenodo.org/api/records/6346739/versions', 'access_links': 'https://zenodo.org/api/records/6346739/access/links', 'access_users': 'https://zenodo.org/api/records/6346739/access/users', 'access_request': 'https://zenodo.org/api/records/6346739/access/request', 'access': 'https://zenodo.org/api/records/6346739/access', 'reserve_doi': 'https://zenodo.org/api/records/6346739/draft/pids/doi', 'communities': 'https://zenodo.org/api/records/6346739/communities', 'communities-suggestions': 'https://zenodo.org/api/records/6346739/communities-suggestions', 'requests': 'https://zenodo.org/api/records/6346739/requests'}, 'record_id': 6346739, 'owner': 143298, 'files': [{'id': '39cc0c98-9af0-4a24-a9a0-27a671782996', 'filename': 'extract_or_remove_seqs_from_fasta_gui.exe', 'filesize': 280993906, 'checksum': '521fa3146aa3fe2884b0c17519802b46', 'links': {'self': 'https://zenodo.org/api/records/6346739/files/39cc0c98-9af0-4a24-a9a0-27a671782996'}}, {'id': '514128e2-8cf9-4e96-84a2-ec40619d5073', 'filename': 'program_gui.png', 'filesize': 697716, 'checksum': '896257858fc115c584098574456ee227', 'links': {'self': 'https://zenodo.org/api/records/6346739/files/514128e2-8cf9-4e96-84a2-ec40619d5073'}}], 'state': 'done', 'submitted': True}, {'created': '2021-07-16T00:50:36.540520+00:00', 'modified': '2021-07-16T13:48:21.158168+00:00', 'id': 5108888, 'conceptrecid': '3872204', 'doi': '10.5281/zenodo.5108888', 'conceptdoi': '10.5281/zenodo.3872204', 'doi_url': 'https://doi.org/10.5281/zenodo.5108888', 'metadata': {'title': 'geomyidia/reverb:', 'doi': '10.5281/zenodo.5108888', 'publication_date': '2021-07-16', 'description': 'A gRPC Server API Convenience Wrapper', 'access_right': 'open', 'creators': [{'name': 'Duncan McGreggor', 'affiliation': None}], 'related_identifiers': [{'identifier': 'https://github.com/geomyidia/reverb/tree/v0.2.0', 'relation': 'isSupplementTo', 'scheme': 'url'}], 'version': 'v0.2.0', 'license': 'other-open', 'imprint_publisher': 'Zenodo', 'upload_type': 'software', 'prereserve_doi': {'doi': '10.5281/zenodo.5108888', 'recid': 5108888}}, 'title': 'geomyidia/reverb:', 'links': {'self': 'https://zenodo.org/api/records/5108888', 'self_html': 'https://zenodo.org/records/5108888', 'self_doi': 'https://zenodo.org/doi/10.5281/zenodo.5108888', 'doi': 'https://doi.org/10.5281/zenodo.5108888', 'parent': 'https://zenodo.org/api/records/3872204', 'parent_html': 'https://zenodo.org/records/3872204', 'parent_doi': 'https://zenodo.org/doi/10.5281/zenodo.3872204', 'self_iiif_manifest': 'https://zenodo.org/api/iiif/record:5108888/manifest', 'self_iiif_sequence': 'https://zenodo.org/api/iiif/record:5108888/sequence/default', 'files': 'https://zenodo.org/api/records/5108888/files', 'media_files': 'https://zenodo.org/api/records/5108888/media-files', 'archive': 'https://zenodo.org/api/records/5108888/files-archive', 'archive_media': 'https://zenodo.org/api/records/5108888/media-files-archive', 'latest': 'https://zenodo.org/api/records/5108888/versions/latest', 'latest_html': 'https://zenodo.org/records/5108888/latest', 'draft': 'https://zenodo.org/api/records/5108888/draft', 'versions': 'https://zenodo.org/api/records/5108888/versions', 'access_links': 'https://zenodo.org/api/records/5108888/access/links', 'access_users': 'https://zenodo.org/api/records/5108888/access/users', 'access_request': 'https://zenodo.org/api/records/5108888/access/request', 'access': 'https://zenodo.org/api/records/5108888/access', 'reserve_doi': 'https://zenodo.org/api/records/5108888/draft/pids/doi', 'communities': 'https://zenodo.org/api/records/5108888/communities', 'communities-suggestions': 'https://zenodo.org/api/records/5108888/communities-suggestions', 'requests': 'https://zenodo.org/api/records/5108888/requests'}, 'record_id': 5108888, 'owner': 104321, 'files': [{'id': '97ce0271-dd4b-4676-afbe-51ee2b91b44c', 'filename': 'geomyidia/reverb-v0.2.0.zip', 'filesize': 7597, 'checksum': '4da8626eeb742e68d807b0e861f3e616', 'links': {'self': 'https://zenodo.org/api/records/5108888/files/97ce0271-dd4b-4676-afbe-51ee2b91b44c'}}], 'state': 'done', 'submitted': True}, {'created': '2021-10-07T20:01:12.017655+00:00', 'modified': '2021-10-08T01:48:33.560423+00:00', 'id': 5555241, 'conceptrecid': '5555240', 'doi': '10.5281/zenodo.5555241', 'conceptdoi': '10.5281/zenodo.5555240', 'doi_url': 'https://doi.org/10.5281/zenodo.5555241', 'metadata': {'title': 'yxie618/longPASC: longPASC V1.0.0', 'doi': '10.5281/zenodo.5555241', 'publication_date': '2021-10-07', 'description': 'Burden of COVID PASC by populations and manifestations', 'access_right': 'open', 'creators': [{'name': 'yxie618', 'affiliation': None}], 'related_identifiers': [{'identifier': 'https://github.com/yxie618/longPASC/tree/tag1', 'relation': 'isSupplementTo', 'scheme': 'url'}], 'version': 'tag1', 'license': 'other-open', 'imprint_publisher': 'Zenodo', 'upload_type': 'software', 'prereserve_doi': {'doi': '10.5281/zenodo.5555241', 'recid': 5555241}}, 'title': 'yxie618/longPASC: longPASC V1.0.0', 'links': {'self': 'https://zenodo.org/api/records/5555241', 'self_html': 'https://zenodo.org/records/5555241', 'self_doi': 'https://zenodo.org/doi/10.5281/zenodo.5555241', 'doi': 'https://doi.org/10.5281/zenodo.5555241', 'parent': 'https://zenodo.org/api/records/5555240', 'parent_html': 'https://zenodo.org/records/5555240', 'parent_doi': 'https://zenodo.org/doi/10.5281/zenodo.5555240', 'self_iiif_manifest': 'https://zenodo.org/api/iiif/record:5555241/manifest', 'self_iiif_sequence': 'https://zenodo.org/api/iiif/record:5555241/sequence/default', 'files': 'https://zenodo.org/api/records/5555241/files', 'media_files': 'https://zenodo.org/api/records/5555241/media-files', 'archive': 'https://zenodo.org/api/records/5555241/files-archive', 'archive_media': 'https://zenodo.org/api/records/5555241/media-files-archive', 'latest': 'https://zenodo.org/api/records/5555241/versions/latest', 'latest_html': 'https://zenodo.org/records/5555241/latest', 'draft': 'https://zenodo.org/api/records/5555241/draft', 'versions': 'https://zenodo.org/api/records/5555241/versions', 'access_links': 'https://zenodo.org/api/records/5555241/access/links', 'access_users': 'https://zenodo.org/api/records/5555241/access/users', 'access_request': 'https://zenodo.org/api/records/5555241/access/request', 'access': 'https://zenodo.org/api/records/5555241/access', 'reserve_doi': 'https://zenodo.org/api/records/5555241/draft/pids/doi', 'communities': 'https://zenodo.org/api/records/5555241/communities', 'communities-suggestions': 'https://zenodo.org/api/records/5555241/communities-suggestions', 'requests': 'https://zenodo.org/api/records/5555241/requests'}, 'record_id': 5555241, 'owner': 258148, 'files': [{'id': '27c9aa8b-cbb4-4eda-a514-d22ef5a3cfd3', 'filename': 'yxie618/longPASC-tag1.zip', 'filesize': 15355, 'checksum': '7a8afee37d2f6c5ed2d56e404970e95f', 'links': {'self': 'https://zenodo.org/api/records/5555241/files/27c9aa8b-cbb4-4eda-a514-d22ef5a3cfd3'}}], 'state': 'done', 'submitted': True}, {'created': '2022-02-11T18:11:20.407116+00:00', 'modified': '2022-02-12T01:49:17.037099+00:00', 'id': 6047752, 'conceptrecid': '6047751', 'doi': '10.5281/zenodo.6047752', 'conceptdoi': '10.5281/zenodo.6047751', 'doi_url': 'https://doi.org/10.5281/zenodo.6047752', 'metadata': {'title': 'yunguan-wang/SPROD: Sprod', 'doi': '10.5281/zenodo.6047752', 'publication_date': '2022-02-11', 'description': 'What\\'s Changed\\n<ul>\\n<li>Initial release</li>\\n</ul>\\nNew Contributors\\n<ul>\\n<li>@yunguan-wang made their first contribution in <a href=\"https://github.com/yunguan-wang/SPROD/pull/1\">https://github.com/yunguan-wang/SPROD/pull/1</a></li>\\n<li>@ice4prince made their first contribution in <a href=\"https://github.com/yunguan-wang/SPROD/pull/6\">https://github.com/yunguan-wang/SPROD/pull/6</a></li>\\n<li>@wtwt5237 made their first contribution in <a href=\"https://github.com/yunguan-wang/SPROD/pull/8\">https://github.com/yunguan-wang/SPROD/pull/8</a></li>\\n</ul>\\n<p><strong>Full Changelog</strong>: <a href=\"https://github.com/yunguan-wang/SPROD/commits/v1.0\">https://github.com/yunguan-wang/SPROD/commits/v1.0</a></p>', 'access_right': 'open', 'creators': [{'name': 'Yunguan Wang', 'affiliation': None}, {'name': 'Sunny Songss', 'affiliation': None}, {'name': 'Tao Wang', 'affiliation': 'UT Southwestern'}], 'related_identifiers': [{'identifier': 'https://github.com/yunguan-wang/SPROD/tree/v1.0', 'relation': 'isSupplementTo', 'scheme': 'url'}], 'version': 'v1.0', 'license': 'other-open', 'imprint_publisher': 'Zenodo', 'upload_type': 'software', 'prereserve_doi': {'doi': '10.5281/zenodo.6047752', 'recid': 6047752}}, 'title': 'yunguan-wang/SPROD: Sprod', 'links': {'self': 'https://zenodo.org/api/records/6047752', 'self_html': 'https://zenodo.org/records/6047752', 'self_doi': 'https://zenodo.org/doi/10.5281/zenodo.6047752', 'doi': 'https://doi.org/10.5281/zenodo.6047752', 'parent': 'https://zenodo.org/api/records/6047751', 'parent_html': 'https://zenodo.org/records/6047751', 'parent_doi': 'https://zenodo.org/doi/10.5281/zenodo.6047751', 'self_iiif_manifest': 'https://zenodo.org/api/iiif/record:6047752/manifest', 'self_iiif_sequence': 'https://zenodo.org/api/iiif/record:6047752/sequence/default', 'files': 'https://zenodo.org/api/records/6047752/files', 'media_files': 'https://zenodo.org/api/records/6047752/media-files', 'archive': 'https://zenodo.org/api/records/6047752/files-archive', 'archive_media': 'https://zenodo.org/api/records/6047752/media-files-archive', 'latest': 'https://zenodo.org/api/records/6047752/versions/latest', 'latest_html': 'https://zenodo.org/records/6047752/latest', 'draft': 'https://zenodo.org/api/records/6047752/draft', 'versions': 'https://zenodo.org/api/records/6047752/versions', 'access_links': 'https://zenodo.org/api/records/6047752/access/links', 'access_users': 'https://zenodo.org/api/records/6047752/access/users', 'access_request': 'https://zenodo.org/api/records/6047752/access/request', 'access': 'https://zenodo.org/api/records/6047752/access', 'reserve_doi': 'https://zenodo.org/api/records/6047752/draft/pids/doi', 'communities': 'https://zenodo.org/api/records/6047752/communities', 'communities-suggestions': 'https://zenodo.org/api/records/6047752/communities-suggestions', 'requests': 'https://zenodo.org/api/records/6047752/requests'}, 'record_id': 6047752, 'owner': 303870, 'files': [{'id': '76bc3963-b2ff-433f-9af2-f12863df6f0f', 'filename': 'yunguan-wang/SPROD-v1.0.zip', 'filesize': 5347820, 'checksum': '9973eaaed7482f33688dc5d8b27d7908', 'links': {'self': 'https://zenodo.org/api/records/6047752/files/76bc3963-b2ff-433f-9af2-f12863df6f0f'}}], 'state': 'done', 'submitted': True}, {'created': '2022-09-12T19:15:04.347787+00:00', 'modified': '2022-09-13T02:26:27.036067+00:00', 'id': 7072571, 'conceptrecid': '7072570', 'doi': '10.5281/zenodo.7072571', 'conceptdoi': '10.5281/zenodo.7072570', 'doi_url': 'https://doi.org/10.5281/zenodo.7072571', 'metadata': {'title': 'Simple hybrid sea ice nudging method for improving control over partitioning of sea ice concentration and thickness', 'doi': '10.5281/zenodo.7072571', 'publication_date': '2022-09-12', 'description': '<p>This contains the necessary files to run the sea ice hybrid nudging method with CESM1. Instructions on how to use these files is included in the README.md</p>', 'access_right': 'open', 'creators': [{'name': 'Audette, Alexandre', 'affiliation': 'University of Toronto'}], 'license': 'cc-by-4.0', 'imprint_publisher': 'Zenodo', 'upload_type': 'software', 'prereserve_doi': {'doi': '10.5281/zenodo.7072571', 'recid': 7072571}}, 'title': 'Simple hybrid sea ice nudging method for improving control over partitioning of sea ice concentration and thickness', 'links': {'self': 'https://zenodo.org/api/records/7072571', 'self_html': 'https://zenodo.org/records/7072571', 'self_doi': 'https://zenodo.org/doi/10.5281/zenodo.7072571', 'doi': 'https://doi.org/10.5281/zenodo.7072571', 'parent': 'https://zenodo.org/api/records/7072570', 'parent_html': 'https://zenodo.org/records/7072570', 'parent_doi': 'https://zenodo.org/doi/10.5281/zenodo.7072570', 'self_iiif_manifest': 'https://zenodo.org/api/iiif/record:7072571/manifest', 'self_iiif_sequence': 'https://zenodo.org/api/iiif/record:7072571/sequence/default', 'files': 'https://zenodo.org/api/records/7072571/files', 'media_files': 'https://zenodo.org/api/records/7072571/media-files', 'archive': 'https://zenodo.org/api/records/7072571/files-archive', 'archive_media': 'https://zenodo.org/api/records/7072571/media-files-archive', 'latest': 'https://zenodo.org/api/records/7072571/versions/latest', 'latest_html': 'https://zenodo.org/records/7072571/latest', 'draft': 'https://zenodo.org/api/records/7072571/draft', 'versions': 'https://zenodo.org/api/records/7072571/versions', 'access_links': 'https://zenodo.org/api/records/7072571/access/links', 'access_users': 'https://zenodo.org/api/records/7072571/access/users', 'access_request': 'https://zenodo.org/api/records/7072571/access/request', 'access': 'https://zenodo.org/api/records/7072571/access', 'reserve_doi': 'https://zenodo.org/api/records/7072571/draft/pids/doi', 'communities': 'https://zenodo.org/api/records/7072571/communities', 'communities-suggestions': 'https://zenodo.org/api/records/7072571/communities-suggestions', 'requests': 'https://zenodo.org/api/records/7072571/requests'}, 'record_id': 7072571, 'owner': 404594, 'files': [{'id': 'f06e86f5-e148-4e64-8728-2f03067af529', 'filename': 'user_nl_cam', 'filesize': 1153, 'checksum': '7001e495d0c9312c295743dbdf202aca', 'links': {'self': 'https://zenodo.org/api/records/7072571/files/f06e86f5-e148-4e64-8728-2f03067af529'}}, {'id': '82c0119a-be79-4255-8daa-71901f87bd30', 'filename': 'CICE_RunMod.F90', 'filesize': 32002, 'checksum': '18fc08ba6062aed675c85faf91f18e03', 'links': {'self': 'https://zenodo.org/api/records/7072571/files/82c0119a-be79-4255-8daa-71901f87bd30'}}, {'id': 'ba1c0f8c-3b54-4ec5-86b1-8d5616c28ab9', 'filename': 'ice_comp_mct.F90', 'filesize': 66635, 'checksum': '3b9f92be0556f5ca5b746c1ae9453183', 'links': {'self': 'https://zenodo.org/api/records/7072571/files/ba1c0f8c-3b54-4ec5-86b1-8d5616c28ab9'}}, {'id': 'c2d59970-ef3f-4cb0-b731-008c18af436b', 'filename': 'ice_diagnostics.F90', 'filesize': 52296, 'checksum': 'bd2f1e1a1d3a015a9287e4550bc65f8c', 'links': {'self': 'https://zenodo.org/api/records/7072571/files/c2d59970-ef3f-4cb0-b731-008c18af436b'}}, {'id': '4a4778a5-8be6-450d-a246-cd4fa8e24b52', 'filename': 'ice_therm_vertical.F90', 'filesize': 174820, 'checksum': 'b2d034da56bc953fba3414cef96de1c5', 'links': {'self': 'https://zenodo.org/api/records/7072571/files/4a4778a5-8be6-450d-a246-cd4fa8e24b52'}}, {'id': '5a4272cf-449d-4be8-961a-9e120a8fc974', 'filename': 'lw_prescribed_mod.F90', 'filesize': 20939, 'checksum': '98a91fb71b11fffb7095964e178f1669', 'links': {'self': 'https://zenodo.org/api/records/7072571/files/5a4272cf-449d-4be8-961a-9e120a8fc974'}}, {'id': 'fa4ac23a-9462-4251-8ede-90a0a4711083', 'filename': 'namelist_definition.xml', 'filesize': 26024, 'checksum': '017ffab4db6556bfd9baa5417dd6459e', 'links': {'self': 'https://zenodo.org/api/records/7072571/files/fa4ac23a-9462-4251-8ede-90a0a4711083'}}, {'id': '095cd766-ce22-4152-a0a2-ee5e23584b44', 'filename': 'README.md', 'filesize': 954, 'checksum': '0fe2d0700911c05fd3e20f80eff36cf9', 'links': {'self': 'https://zenodo.org/api/records/7072571/files/095cd766-ce22-4152-a0a2-ee5e23584b44'}}, {'id': '767ee05a-4f89-4957-8c99-c1e52f83fecb', 'filename': 'user_nl_cice', 'filesize': 1015, 'checksum': '0ee83df26ac5f8ead60a2894903c1cc7', 'links': {'self': 'https://zenodo.org/api/records/7072571/files/767ee05a-4f89-4957-8c99-c1e52f83fecb'}}], 'state': 'done', 'submitted': True}, {'created': '2022-09-25T03:07:22.040254+00:00', 'modified': '2022-09-26T02:26:20.260168+00:00', 'id': 7110840, 'conceptrecid': '7110839', 'doi': '10.5281/zenodo.7110840', 'conceptdoi': '10.5281/zenodo.7110839', 'doi_url': 'https://doi.org/10.5281/zenodo.7110840', 'metadata': {'title': 'liping22/yolov4-tiny-attention-mechanisms-pytorch: yolov4-tiny-attention mechanisms-pytorch', 'doi': '10.5281/zenodo.7110840', 'publication_date': '2022-09-25', 'description': '<p>yolov4-tiny-attention mechanisms-pytorch</p>', 'access_right': 'open', 'creators': [{'name': 'Bubbliiiing', 'affiliation': None}, {'name': 'liping22', 'affiliation': None}], 'related_identifiers': [{'identifier': 'https://github.com/liping22/yolov4-tiny-attention-mechanisms-pytorch/tree/0.1', 'relation': 'isSupplementTo', 'scheme': 'url'}], 'version': '0.1', 'license': 'other-open', 'imprint_publisher': 'Zenodo', 'upload_type': 'software', 'prereserve_doi': {'doi': '10.5281/zenodo.7110840', 'recid': 7110840}}, 'title': 'liping22/yolov4-tiny-attention-mechanisms-pytorch: yolov4-tiny-attention mechanisms-pytorch', 'links': {'self': 'https://zenodo.org/api/records/7110840', 'self_html': 'https://zenodo.org/records/7110840', 'self_doi': 'https://zenodo.org/doi/10.5281/zenodo.7110840', 'doi': 'https://doi.org/10.5281/zenodo.7110840', 'parent': 'https://zenodo.org/api/records/7110839', 'parent_html': 'https://zenodo.org/records/7110839', 'parent_doi': 'https://zenodo.org/doi/10.5281/zenodo.7110839', 'self_iiif_manifest': 'https://zenodo.org/api/iiif/record:7110840/manifest', 'self_iiif_sequence': 'https://zenodo.org/api/iiif/record:7110840/sequence/default', 'files': 'https://zenodo.org/api/records/7110840/files', 'media_files': 'https://zenodo.org/api/records/7110840/media-files', 'archive': 'https://zenodo.org/api/records/7110840/files-archive', 'archive_media': 'https://zenodo.org/api/records/7110840/media-files-archive', 'latest': 'https://zenodo.org/api/records/7110840/versions/latest', 'latest_html': 'https://zenodo.org/records/7110840/latest', 'draft': 'https://zenodo.org/api/records/7110840/draft', 'versions': 'https://zenodo.org/api/records/7110840/versions', 'access_links': 'https://zenodo.org/api/records/7110840/access/links', 'access_users': 'https://zenodo.org/api/records/7110840/access/users', 'access_request': 'https://zenodo.org/api/records/7110840/access/request', 'access': 'https://zenodo.org/api/records/7110840/access', 'reserve_doi': 'https://zenodo.org/api/records/7110840/draft/pids/doi', 'communities': 'https://zenodo.org/api/records/7110840/communities', 'communities-suggestions': 'https://zenodo.org/api/records/7110840/communities-suggestions', 'requests': 'https://zenodo.org/api/records/7110840/requests'}, 'record_id': 7110840, 'owner': 323269, 'files': [{'id': 'e11d3414-16bd-4b2d-a857-ee0aebb0a028', 'filename': 'liping22/yolov4-tiny-attention-mechanisms-pytorch-0.1.zip', 'filesize': 5140409, 'checksum': 'bacb0dfb717e9244c18929ab875a7d63', 'links': {'self': 'https://zenodo.org/api/records/7110840/files/e11d3414-16bd-4b2d-a857-ee0aebb0a028'}}], 'state': 'done', 'submitted': True}, {'created': '2021-01-22T13:59:45.272079+00:00', 'modified': '2021-01-23T00:27:22.171526+00:00', 'id': 4457307, 'conceptrecid': '4457306', 'doi': '10.5281/zenodo.4457307', 'conceptdoi': '10.5281/zenodo.4457306', 'doi_url': 'https://doi.org/10.5281/zenodo.4457307', 'metadata': {'title': 'dtControl: decision tree learning algorithms for controller representation (HSCC 20 Repeatability Evaluation Package)', 'doi': '10.5281/zenodo.4457307', 'publication_date': '2020-04-22', 'description': '<p>This is the Repeatability Evaluation Package associated with the HSCC 2020 paper &#39;<strong>dtControl: Decision Tree Learning Algorithms for Controller Representation&#39;</strong>.</p>\\n\\n<p>The README inside gives all the information&nbsp;necessary to repeat our experiments and reproduce the tables. This package is made available only for reproducibility and archival purposes, and for any use of dtControl in practice, we recommend using the latest version available in the <a href=\"https://pypi.org/project/dtcontrol/\">PyPI repository</a> or through the <a href=\"https://dtcontrol.model.in.tum.de/\">official webpage</a>.</p>\\n\\n<p>&nbsp;</p>\\n\\n<p><strong>Paper abstract</strong></p>\\n\\n<p>Decision tree learning is a popular classification technique most commonly used in machine learning applications. Recent work has shown that decision trees can be used to represent provably-correct controllers concisely. Compared to representations using lookup tables or binary decision diagrams, decision trees are smaller and more explainable. We present dtControl, an easily extensible tool for representing memoryless controllers as decision trees. We give a comprehensive evaluation of various decision tree learning algorithms applied to 10 case studies arising out of correct-by-construction controller synthesis. These algorithms include two new techniques, one for using arbitrary linear binary classifiers in the decision tree learning, and one novel approach for determinizing controllers during the decision tree construction. In particular the latter turns out to be extremely efficient, yielding decision trees with a single-digit number of decision nodes on 5 of the case studies.</p>', 'access_right': 'open', 'creators': [{'name': 'Ashok, Pranav', 'affiliation': 'Technical University of Munich', 'orcid': '0000-0002-1083-4741'}, {'name': 'Jackermeier, Mathias', 'affiliation': 'Technical University of Munich'}, {'name': 'Jagtap, Pushpak', 'affiliation': 'Technical University of Munich', 'orcid': '0000-0002-5452-8850'}, {'name': 'Křetínský, Jan', 'affiliation': 'Technical University of Munich', 'orcid': '0000-0002-8122-2881'}, {'name': 'Weininger, Maximilian', 'affiliation': 'Technical University of Munich', 'orcid': '0000-0002-0163-2152'}, {'name': 'Zamani, Majid', 'affiliation': 'University of Colorado Boulder and Ludwig Maximilian University of Munich', 'orcid': '0000-0001-6608-3708'}], 'keywords': ['controller representation', 'decision trees', 'hybrid systems', 'explainable learning'], 'related_identifiers': [{'identifier': '10.1145/3365365.3382220', 'relation': 'isSupplementTo', 'resource_type': 'publication-conferencepaper', 'scheme': 'doi'}, {'identifier': '10.1145/3365365.3383468', 'relation': 'isSupplementTo', 'resource_type': 'publication-other', 'scheme': 'doi'}, {'identifier': '10.5281/zenodo.4437168', 'relation': 'isPreviousVersionOf', 'resource_type': 'software', 'scheme': 'doi'}], 'version': '1.0.0rc1', 'language': 'eng', 'license': 'mit-license', 'imprint_publisher': 'Zenodo', 'upload_type': 'software', 'prereserve_doi': {'doi': '10.5281/zenodo.4457307', 'recid': 4457307}}, 'title': 'dtControl: decision tree learning algorithms for controller representation (HSCC 20 Repeatability Evaluation Package)', 'links': {'self': 'https://zenodo.org/api/records/4457307', 'self_html': 'https://zenodo.org/records/4457307', 'self_doi': 'https://zenodo.org/doi/10.5281/zenodo.4457307', 'doi': 'https://doi.org/10.5281/zenodo.4457307', 'parent': 'https://zenodo.org/api/records/4457306', 'parent_html': 'https://zenodo.org/records/4457306', 'parent_doi': 'https://zenodo.org/doi/10.5281/zenodo.4457306', 'self_iiif_manifest': 'https://zenodo.org/api/iiif/record:4457307/manifest', 'self_iiif_sequence': 'https://zenodo.org/api/iiif/record:4457307/sequence/default', 'files': 'https://zenodo.org/api/records/4457307/files', 'media_files': 'https://zenodo.org/api/records/4457307/media-files', 'archive': 'https://zenodo.org/api/records/4457307/files-archive', 'archive_media': 'https://zenodo.org/api/records/4457307/media-files-archive', 'latest': 'https://zenodo.org/api/records/4457307/versions/latest', 'latest_html': 'https://zenodo.org/records/4457307/latest', 'draft': 'https://zenodo.org/api/records/4457307/draft', 'versions': 'https://zenodo.org/api/records/4457307/versions', 'access_links': 'https://zenodo.org/api/records/4457307/access/links', 'access_users': 'https://zenodo.org/api/records/4457307/access/users', 'access_request': 'https://zenodo.org/api/records/4457307/access/request', 'access': 'https://zenodo.org/api/records/4457307/access', 'reserve_doi': 'https://zenodo.org/api/records/4457307/draft/pids/doi', 'communities': 'https://zenodo.org/api/records/4457307/communities', 'communities-suggestions': 'https://zenodo.org/api/records/4457307/communities-suggestions', 'requests': 'https://zenodo.org/api/records/4457307/requests'}, 'record_id': 4457307, 'owner': 187838, 'files': [{'id': '06476793-3895-49d7-add6-e9af9ddb2ff6', 'filename': 'dtcontrol-1.0.0rc1.zip', 'filesize': 74306545, 'checksum': 'b602c0bb32ebb1f848daa43bc8a7391f', 'links': {'self': 'https://zenodo.org/api/records/4457307/files/06476793-3895-49d7-add6-e9af9ddb2ff6'}}], 'state': 'done', 'submitted': True}, {'created': '2022-01-19T16:45:01.151709+00:00', 'modified': '2022-01-20T01:49:10.597049+00:00', 'id': 5879304, 'conceptrecid': '5844128', 'doi': '10.5281/zenodo.5879304', 'conceptdoi': '10.5281/zenodo.5844128', 'doi_url': 'https://doi.org/10.5281/zenodo.5879304', 'metadata': {'title': 'PraneshPadmanabhan/COVID-19-vaccine-efficacies: Vaccine_protection_v2', 'doi': '10.5281/zenodo.5879304', 'publication_date': '2022-01-19', 'description': '<p>Codes for Padmanabhan et al NCS</p>', 'access_right': 'open', 'creators': [{'name': 'Pranesh Padmanabhan', 'affiliation': None}], 'related_identifiers': [{'identifier': 'https://github.com/PraneshPadmanabhan/COVID-19-vaccine-efficacies/tree/v2', 'relation': 'isSupplementTo', 'scheme': 'url'}], 'version': 'v2', 'license': 'other-open', 'imprint_publisher': 'Zenodo', 'upload_type': 'software', 'prereserve_doi': {'doi': '10.5281/zenodo.5879304', 'recid': 5879304}}, 'title': 'PraneshPadmanabhan/COVID-19-vaccine-efficacies: Vaccine_protection_v2', 'links': {'self': 'https://zenodo.org/api/records/5879304', 'self_html': 'https://zenodo.org/records/5879304', 'self_doi': 'https://zenodo.org/doi/10.5281/zenodo.5879304', 'doi': 'https://doi.org/10.5281/zenodo.5879304', 'parent': 'https://zenodo.org/api/records/5844128', 'parent_html': 'https://zenodo.org/records/5844128', 'parent_doi': 'https://zenodo.org/doi/10.5281/zenodo.5844128', 'self_iiif_manifest': 'https://zenodo.org/api/iiif/record:5879304/manifest', 'self_iiif_sequence': 'https://zenodo.org/api/iiif/record:5879304/sequence/default', 'files': 'https://zenodo.org/api/records/5879304/files', 'media_files': 'https://zenodo.org/api/records/5879304/media-files', 'archive': 'https://zenodo.org/api/records/5879304/files-archive', 'archive_media': 'https://zenodo.org/api/records/5879304/media-files-archive', 'latest': 'https://zenodo.org/api/records/5879304/versions/latest', 'latest_html': 'https://zenodo.org/records/5879304/latest', 'draft': 'https://zenodo.org/api/records/5879304/draft', 'versions': 'https://zenodo.org/api/records/5879304/versions', 'access_links': 'https://zenodo.org/api/records/5879304/access/links', 'access_users': 'https://zenodo.org/api/records/5879304/access/users', 'access_request': 'https://zenodo.org/api/records/5879304/access/request', 'access': 'https://zenodo.org/api/records/5879304/access', 'reserve_doi': 'https://zenodo.org/api/records/5879304/draft/pids/doi', 'communities': 'https://zenodo.org/api/records/5879304/communities', 'communities-suggestions': 'https://zenodo.org/api/records/5879304/communities-suggestions', 'requests': 'https://zenodo.org/api/records/5879304/requests'}, 'record_id': 5879304, 'owner': 286067, 'files': [{'id': 'f80fe81d-2fe7-49c7-920c-116ea3df2468', 'filename': 'PraneshPadmanabhan/COVID-19-vaccine-efficacies-v2.zip', 'filesize': 21274340, 'checksum': 'b5b1c8678854b84b36592f84990e812f', 'links': {'self': 'https://zenodo.org/api/records/5879304/files/f80fe81d-2fe7-49c7-920c-116ea3df2468'}}], 'state': 'done', 'submitted': True}, {'created': '2022-07-26T14:33:49.610390+00:00', 'modified': '2022-07-27T01:49:06.690608+00:00', 'id': 6856320, 'conceptrecid': '6856319', 'doi': '10.5281/zenodo.6856320', 'conceptdoi': '10.5281/zenodo.6856319', 'doi_url': 'https://doi.org/10.5281/zenodo.6856320', 'metadata': {'title': 'Decadal sea surface temperature variability in the Eastern Mediterranean during the Last Interglacial', 'doi': '10.5281/zenodo.6856320', 'publication_date': '2022-08-01', 'description': '<p>The Last Interglacial (LIG; ~129,000 to 116,000 years ago) is the most recent geologic period with a warmer-than-present climate. Consequently, climate reconstructions from this period provide an opportunity to relate current and projected climatic trends to natural climate variability from a warmer world. We established a ~4.800 year-long record of sea surface temperature (SST) variability from the Eastern Mediterranean Sea at 1-to-4-year resolution by applying mass spectrometry imaging of long-chain alkenones on the finely laminated sapropel deposited during the LIG. Reconstructed SSTs rapidly increased during the early part of sapropel deposition and subsequently remained at a level similar or above modern SSTs. In the early stage of sapropel deposition, the maximal amplitude of decadal variability reached higher values than recorded in the same region during the instrumental era, plausibly due to a highly stratified water column that led to reduced vertical mixing and thus different forcing of SST than today. The later stage of sapropel deposition is characterised by varve deposition, suggesting weakened stratification and its breakdown in the colder months; this implies the establishment of oceanographic conditions with SST forcing similar to modern. A comparison of the decadal SST variabilities from this varved part and the instrumental era reveals that the maximal amplitude of reconstructed decadal SST variability did not exceed the range of the recent period of warming climate. However, examining the more gradual SST trend reveals that the maximal centennial-scale SST increase from the varved sapropel section is below projected centennial-scale SST warming in the 21st century under medium-to-low-emissions scenarios, while the high-emissions scenarios suggest that future SST rise could even outpace the warming trends observed during early sapropel deposition underneath a highly stratified water column.</p>', 'access_right': 'open', 'creators': [{'name': 'Obreht, Igor', 'affiliation': 'MARUM - University of Bremen', 'orcid': '0000-0001-9710-8365'}, {'name': 'De Vleeschouwer, David', 'affiliation': 'University of Münster', 'orcid': '0000-0002-3323-807X'}], 'grants': [{'id': '10.13039/501100000780::670115'}], 'license': 'cc-by-4.0', 'journal_title': 'Nature Geoscience', 'imprint_publisher': 'Zenodo', 'upload_type': 'software', 'prereserve_doi': {'doi': '10.5281/zenodo.6856320', 'recid': 6856320}}, 'title': 'Decadal sea surface temperature variability in the Eastern Mediterranean during the Last Interglacial', 'links': {'self': 'https://zenodo.org/api/records/6856320', 'self_html': 'https://zenodo.org/records/6856320', 'self_doi': 'https://zenodo.org/doi/10.5281/zenodo.6856320', 'doi': 'https://doi.org/10.5281/zenodo.6856320', 'parent': 'https://zenodo.org/api/records/6856319', 'parent_html': 'https://zenodo.org/records/6856319', 'parent_doi': 'https://zenodo.org/doi/10.5281/zenodo.6856319', 'self_iiif_manifest': 'https://zenodo.org/api/iiif/record:6856320/manifest', 'self_iiif_sequence': 'https://zenodo.org/api/iiif/record:6856320/sequence/default', 'files': 'https://zenodo.org/api/records/6856320/files', 'media_files': 'https://zenodo.org/api/records/6856320/media-files', 'archive': 'https://zenodo.org/api/records/6856320/files-archive', 'archive_media': 'https://zenodo.org/api/records/6856320/media-files-archive', 'latest': 'https://zenodo.org/api/records/6856320/versions/latest', 'latest_html': 'https://zenodo.org/records/6856320/latest', 'draft': 'https://zenodo.org/api/records/6856320/draft', 'versions': 'https://zenodo.org/api/records/6856320/versions', 'access_links': 'https://zenodo.org/api/records/6856320/access/links', 'access_users': 'https://zenodo.org/api/records/6856320/access/users', 'access_request': 'https://zenodo.org/api/records/6856320/access/request', 'access': 'https://zenodo.org/api/records/6856320/access', 'reserve_doi': 'https://zenodo.org/api/records/6856320/draft/pids/doi', 'communities': 'https://zenodo.org/api/records/6856320/communities', 'communities-suggestions': 'https://zenodo.org/api/records/6856320/communities-suggestions', 'requests': 'https://zenodo.org/api/records/6856320/requests'}, 'record_id': 6856320, 'owner': 169481, 'files': [{'id': '657f8cd5-00a8-4242-882d-d856fe0ee22c', 'filename': 'data_on_ageSSTnozero2.csv', 'filesize': 96868, 'checksum': '723bc65ca5f0a947fc7926b6d1110197', 'links': {'self': 'https://zenodo.org/api/records/6856320/files/657f8cd5-00a8-4242-882d-d856fe0ee22c'}}, {'id': 'e670886c-8cda-4371-9216-7296a6641553', 'filename': 'Obreht_2022_Figure_3.R', 'filesize': 5646, 'checksum': '4de1f296e51a809f9eac271508e38796', 'links': {'self': 'https://zenodo.org/api/records/6856320/files/e670886c-8cda-4371-9216-7296a6641553'}}, {'id': '8db3e4ec-77fb-4848-8353-b0d02ccfaddd', 'filename': '1854-2020 SST with model+0.4.csv', 'filesize': 6584, 'checksum': '7538e5ce69671e4bd5f200b361e556d9', 'links': {'self': 'https://zenodo.org/api/records/6856320/files/8db3e4ec-77fb-4848-8353-b0d02ccfaddd'}}, {'id': 'd961dcd2-469f-43dd-841d-03e5d0f88f9d', 'filename': 'Obreht_2022_Figure_4.R', 'filesize': 12832, 'checksum': '1a22e2cab9c2442c41b0c83e866472b2', 'links': {'self': 'https://zenodo.org/api/records/6856320/files/d961dcd2-469f-43dd-841d-03e5d0f88f9d'}}], 'state': 'done', 'submitted': True}, {'created': '2022-08-10T13:22:37.830513+00:00', 'modified': '2022-08-10T14:26:19.559271+00:00', 'id': 6980041, 'conceptrecid': '6980040', 'doi': '10.5281/zenodo.6980041', 'conceptdoi': '10.5281/zenodo.6980040', 'doi_url': 'https://doi.org/10.5281/zenodo.6980041', 'metadata': {'title': 'joschwrzr/High-Res-Incubation_modelFit: Init', 'doi': '10.5281/zenodo.6980041', 'publication_date': '2022-08-10', 'description': 'Applying three different model approaches to an incuabtion data-set', 'access_right': 'open', 'creators': [{'name': 'Claire T', 'affiliation': None}, {'name': 'joschwrzr', 'affiliation': None}], 'related_identifiers': [{'identifier': 'https://github.com/joschwrzr/High-Res-Incubation_modelFit/tree/v0.0.1', 'relation': 'isSupplementTo', 'scheme': 'url'}], 'version': 'v0.0.1', 'license': 'other-open', 'imprint_publisher': 'Zenodo', 'upload_type': 'software', 'prereserve_doi': {'doi': '10.5281/zenodo.6980041', 'recid': 6980041}}, 'title': 'joschwrzr/High-Res-Incubation_modelFit: Init', 'links': {'self': 'https://zenodo.org/api/records/6980041', 'self_html': 'https://zenodo.org/records/6980041', 'self_doi': 'https://zenodo.org/doi/10.5281/zenodo.6980041', 'doi': 'https://doi.org/10.5281/zenodo.6980041', 'parent': 'https://zenodo.org/api/records/6980040', 'parent_html': 'https://zenodo.org/records/6980040', 'parent_doi': 'https://zenodo.org/doi/10.5281/zenodo.6980040', 'self_iiif_manifest': 'https://zenodo.org/api/iiif/record:6980041/manifest', 'self_iiif_sequence': 'https://zenodo.org/api/iiif/record:6980041/sequence/default', 'files': 'https://zenodo.org/api/records/6980041/files', 'media_files': 'https://zenodo.org/api/records/6980041/media-files', 'archive': 'https://zenodo.org/api/records/6980041/files-archive', 'archive_media': 'https://zenodo.org/api/records/6980041/media-files-archive', 'latest': 'https://zenodo.org/api/records/6980041/versions/latest', 'latest_html': 'https://zenodo.org/records/6980041/latest', 'draft': 'https://zenodo.org/api/records/6980041/draft', 'versions': 'https://zenodo.org/api/records/6980041/versions', 'access_links': 'https://zenodo.org/api/records/6980041/access/links', 'access_users': 'https://zenodo.org/api/records/6980041/access/users', 'access_request': 'https://zenodo.org/api/records/6980041/access/request', 'access': 'https://zenodo.org/api/records/6980041/access', 'reserve_doi': 'https://zenodo.org/api/records/6980041/draft/pids/doi', 'communities': 'https://zenodo.org/api/records/6980041/communities', 'communities-suggestions': 'https://zenodo.org/api/records/6980041/communities-suggestions', 'requests': 'https://zenodo.org/api/records/6980041/requests'}, 'record_id': 6980041, 'owner': 264072, 'files': [{'id': 'bcbe035d-57af-4741-9ced-ec16e1e2b3d7', 'filename': 'joschwrzr/High-Res-Incubation_modelFit-v0.0.1.zip', 'filesize': 77360, 'checksum': 'cc15bacc5cbbb5043139749b9a9a3366', 'links': {'self': 'https://zenodo.org/api/records/6980041/files/bcbe035d-57af-4741-9ced-ec16e1e2b3d7'}}], 'state': 'done', 'submitted': True}, {'created': '2022-10-12T20:01:19.480348+00:00', 'modified': '2022-10-13T02:26:34.723077+00:00', 'id': 7191370, 'conceptrecid': '7191369', 'doi': '10.5281/zenodo.7191370', 'conceptdoi': '10.5281/zenodo.7191369', 'doi_url': 'https://doi.org/10.5281/zenodo.7191370', 'metadata': {'title': 'lynch-lab/Talis_et_al_2022_JAE: Variability, Skipped Breeding, and Heavy-tailed Dynamics in an Antarctic Seabird', 'doi': '10.5281/zenodo.7191370', 'publication_date': '2022-10-12', 'description': '<p>Final code for this manuscript.</p>', 'access_right': 'open', 'creators': [{'name': 'Emma Talis', 'affiliation': None}], 'related_identifiers': [{'identifier': 'https://github.com/lynch-lab/Talis_et_al_2022_JAE/tree/v0.0.0', 'relation': 'isSupplementTo', 'scheme': 'url'}], 'version': 'v0.0.0', 'license': 'other-open', 'imprint_publisher': 'Zenodo', 'upload_type': 'software', 'prereserve_doi': {'doi': '10.5281/zenodo.7191370', 'recid': 7191370}}, 'title': 'lynch-lab/Talis_et_al_2022_JAE: Variability, Skipped Breeding, and Heavy-tailed Dynamics in an Antarctic Seabird', 'links': {'self': 'https://zenodo.org/api/records/7191370', 'self_html': 'https://zenodo.org/records/7191370', 'self_doi': 'https://zenodo.org/doi/10.5281/zenodo.7191370', 'doi': 'https://doi.org/10.5281/zenodo.7191370', 'parent': 'https://zenodo.org/api/records/7191369', 'parent_html': 'https://zenodo.org/records/7191369', 'parent_doi': 'https://zenodo.org/doi/10.5281/zenodo.7191369', 'self_iiif_manifest': 'https://zenodo.org/api/iiif/record:7191370/manifest', 'self_iiif_sequence': 'https://zenodo.org/api/iiif/record:7191370/sequence/default', 'files': 'https://zenodo.org/api/records/7191370/files', 'media_files': 'https://zenodo.org/api/records/7191370/media-files', 'archive': 'https://zenodo.org/api/records/7191370/files-archive', 'archive_media': 'https://zenodo.org/api/records/7191370/media-files-archive', 'latest': 'https://zenodo.org/api/records/7191370/versions/latest', 'latest_html': 'https://zenodo.org/records/7191370/latest', 'draft': 'https://zenodo.org/api/records/7191370/draft', 'versions': 'https://zenodo.org/api/records/7191370/versions', 'access_links': 'https://zenodo.org/api/records/7191370/access/links', 'access_users': 'https://zenodo.org/api/records/7191370/access/users', 'access_request': 'https://zenodo.org/api/records/7191370/access/request', 'access': 'https://zenodo.org/api/records/7191370/access', 'reserve_doi': 'https://zenodo.org/api/records/7191370/draft/pids/doi', 'communities': 'https://zenodo.org/api/records/7191370/communities', 'communities-suggestions': 'https://zenodo.org/api/records/7191370/communities-suggestions', 'requests': 'https://zenodo.org/api/records/7191370/requests'}, 'record_id': 7191370, 'owner': 424097, 'files': [{'id': 'a85a5886-9d3b-4fc5-923d-36896e711eca', 'filename': 'lynch-lab/Talis_et_al_2022_JAE-v0.0.0.zip', 'filesize': 8350820, 'checksum': 'db914d8f2d755307310234778da2607e', 'links': {'self': 'https://zenodo.org/api/records/7191370/files/a85a5886-9d3b-4fc5-923d-36896e711eca'}}], 'state': 'done', 'submitted': True}, {'created': '2021-01-17T20:01:21.783919+00:00', 'modified': '2021-01-18T00:27:16.506501+00:00', 'id': 4446138, 'conceptrecid': '4446137', 'doi': '10.5281/zenodo.4446138', 'conceptdoi': '10.5281/zenodo.4446137', 'doi_url': 'https://doi.org/10.5281/zenodo.4446138', 'metadata': {'title': 'lauric-cecillon/PARTYsoc: Second version of the PARTYsoc statistical model', 'doi': '10.5281/zenodo.4446138', 'publication_date': '2021-01-17', 'description': '<p>PARTYsoc: a statistical model partitioning soil organic carbon (SOC) into its centennially active and stable fractions based on Rock-Eval thermal analysis</p>', 'access_right': 'open', 'creators': [{'name': 'Lauric Cécillon', 'affiliation': 'INRAE'}], 'keywords': ['soil organic carbon', 'thermal analysis', 'rock-eval'], 'related_identifiers': [{'identifier': 'https://github.com/lauric-cecillon/PARTYsoc/tree/v2.0', 'relation': 'isSupplementTo', 'scheme': 'url'}], 'version': 'v2.0', 'license': 'other-open', 'imprint_publisher': 'Zenodo', 'upload_type': 'software', 'prereserve_doi': {'doi': '10.5281/zenodo.4446138', 'recid': 4446138}}, 'title': 'lauric-cecillon/PARTYsoc: Second version of the PARTYsoc statistical model', 'links': {'self': 'https://zenodo.org/api/records/4446138', 'self_html': 'https://zenodo.org/records/4446138', 'self_doi': 'https://zenodo.org/doi/10.5281/zenodo.4446138', 'doi': 'https://doi.org/10.5281/zenodo.4446138', 'parent': 'https://zenodo.org/api/records/4446137', 'parent_html': 'https://zenodo.org/records/4446137', 'parent_doi': 'https://zenodo.org/doi/10.5281/zenodo.4446137', 'self_iiif_manifest': 'https://zenodo.org/api/iiif/record:4446138/manifest', 'self_iiif_sequence': 'https://zenodo.org/api/iiif/record:4446138/sequence/default', 'files': 'https://zenodo.org/api/records/4446138/files', 'media_files': 'https://zenodo.org/api/records/4446138/media-files', 'archive': 'https://zenodo.org/api/records/4446138/files-archive', 'archive_media': 'https://zenodo.org/api/records/4446138/media-files-archive', 'latest': 'https://zenodo.org/api/records/4446138/versions/latest', 'latest_html': 'https://zenodo.org/records/4446138/latest', 'draft': 'https://zenodo.org/api/records/4446138/draft', 'versions': 'https://zenodo.org/api/records/4446138/versions', 'access_links': 'https://zenodo.org/api/records/4446138/access/links', 'access_users': 'https://zenodo.org/api/records/4446138/access/users', 'access_request': 'https://zenodo.org/api/records/4446138/access/request', 'access': 'https://zenodo.org/api/records/4446138/access', 'reserve_doi': 'https://zenodo.org/api/records/4446138/draft/pids/doi', 'communities': 'https://zenodo.org/api/records/4446138/communities', 'communities-suggestions': 'https://zenodo.org/api/records/4446138/communities-suggestions', 'requests': 'https://zenodo.org/api/records/4446138/requests'}, 'record_id': 4446138, 'owner': 168191, 'files': [{'id': 'f58da002-0bb8-4b20-a887-ffdd24eef642', 'filename': 'lauric-cecillon/PARTYsoc-v2.0.zip', 'filesize': 669604, 'checksum': '9448c0886384e16c87e364c98df93c86', 'links': {'self': 'https://zenodo.org/api/records/4446138/files/f58da002-0bb8-4b20-a887-ffdd24eef642'}}], 'state': 'done', 'submitted': True}, {'created': '2021-01-25T14:04:19.638809+00:00', 'modified': '2021-01-26T00:27:24.836998+00:00', 'id': 4462545, 'conceptrecid': '4462544', 'doi': '10.5281/zenodo.4462545', 'conceptdoi': '10.5281/zenodo.4462544', 'doi_url': 'https://doi.org/10.5281/zenodo.4462545', 'metadata': {'title': 'ngiangre/GrOMOP: First release', 'doi': '10.5281/zenodo.4462545', 'publication_date': '2021-01-25', 'description': 'Genome Graphs into OMOPOMICs', 'access_right': 'open', 'creators': [{'name': 'Eric T. Dawson', 'affiliation': '@nvidia'}, {'name': 'Andrew Clugston', 'affiliation': 'University of Pittsburgh'}, {'name': 'Nick Giangreco', 'affiliation': None}, {'name': 'Ben Busby', 'affiliation': 'DNAnexus + Mountain Genomics!'}], 'related_identifiers': [{'identifier': 'https://github.com/ngiangre/GrOMOP/tree/v1.0.0', 'relation': 'isSupplementTo', 'scheme': 'url'}], 'version': 'v1.0.0', 'license': 'other-open', 'imprint_publisher': 'Zenodo', 'upload_type': 'software', 'prereserve_doi': {'doi': '10.5281/zenodo.4462545', 'recid': 4462545}}, 'title': 'ngiangre/GrOMOP: First release', 'links': {'self': 'https://zenodo.org/api/records/4462545', 'self_html': 'https://zenodo.org/records/4462545', 'self_doi': 'https://zenodo.org/doi/10.5281/zenodo.4462545', 'doi': 'https://doi.org/10.5281/zenodo.4462545', 'parent': 'https://zenodo.org/api/records/4462544', 'parent_html': 'https://zenodo.org/records/4462544', 'parent_doi': 'https://zenodo.org/doi/10.5281/zenodo.4462544', 'self_iiif_manifest': 'https://zenodo.org/api/iiif/record:4462545/manifest', 'self_iiif_sequence': 'https://zenodo.org/api/iiif/record:4462545/sequence/default', 'files': 'https://zenodo.org/api/records/4462545/files', 'media_files': 'https://zenodo.org/api/records/4462545/media-files', 'archive': 'https://zenodo.org/api/records/4462545/files-archive', 'archive_media': 'https://zenodo.org/api/records/4462545/media-files-archive', 'latest': 'https://zenodo.org/api/records/4462545/versions/latest', 'latest_html': 'https://zenodo.org/records/4462545/latest', 'draft': 'https://zenodo.org/api/records/4462545/draft', 'versions': 'https://zenodo.org/api/records/4462545/versions', 'access_links': 'https://zenodo.org/api/records/4462545/access/links', 'access_users': 'https://zenodo.org/api/records/4462545/access/users', 'access_request': 'https://zenodo.org/api/records/4462545/access/request', 'access': 'https://zenodo.org/api/records/4462545/access', 'reserve_doi': 'https://zenodo.org/api/records/4462545/draft/pids/doi', 'communities': 'https://zenodo.org/api/records/4462545/communities', 'communities-suggestions': 'https://zenodo.org/api/records/4462545/communities-suggestions', 'requests': 'https://zenodo.org/api/records/4462545/requests'}, 'record_id': 4462545, 'owner': 189705, 'files': [{'id': 'ebd8413f-bd0e-406c-a4ca-5d4ea4fc3789', 'filename': 'ngiangre/GrOMOP-v1.0.0.zip', 'filesize': 7289942, 'checksum': 'eb1d98971f13e9f2a6b46e5b07954fd7', 'links': {'self': 'https://zenodo.org/api/records/4462545/files/ebd8413f-bd0e-406c-a4ca-5d4ea4fc3789'}}], 'state': 'done', 'submitted': True}]\n"
     ]
    }
   ],
   "source": [
    "records_api_url = 'https://zenodo.org/api/records'\n",
    "search_query = 'type:software'\n",
    "r = requests.get(records_api_url, params={'q': search_query, 'all_versions': 'true', 'size': 20, 'page': 2})\n",
    "\n",
    "print(r.status_code)\n",
    "print(r.links)\n",
    "print(r.next)\n",
    "data = r.json()\n",
    "print(data)"
   ]
  },
  {
   "cell_type": "code",
   "execution_count": 99,
   "id": "57453f5d",
   "metadata": {},
   "outputs": [
    {
     "data": {
      "text/plain": [
       "25"
      ]
     },
     "execution_count": 99,
     "metadata": {},
     "output_type": "execute_result"
    }
   ],
   "source": [
    "len(r.json())"
   ]
  },
  {
   "cell_type": "code",
   "execution_count": null,
   "id": "f54020db",
   "metadata": {},
   "outputs": [],
   "source": []
  },
  {
   "cell_type": "code",
   "execution_count": 104,
   "id": "5c0473ee",
   "metadata": {},
   "outputs": [
    {
     "ename": "TypeError",
     "evalue": "the JSON object must be str, bytes or bytearray, not list",
     "output_type": "error",
     "traceback": [
      "\u001b[0;31m---------------------------------------------------------------------------\u001b[0m",
      "\u001b[0;31mTypeError\u001b[0m                                 Traceback (most recent call last)",
      "Cell \u001b[0;32mIn[104], line 1\u001b[0m\n\u001b[0;32m----> 1\u001b[0m \u001b[43mjson\u001b[49m\u001b[38;5;241;43m.\u001b[39;49m\u001b[43mloads\u001b[49m\u001b[43m(\u001b[49m\u001b[43mjson\u001b[49m\u001b[38;5;241;43m.\u001b[39;49m\u001b[43mloads\u001b[49m\u001b[43m(\u001b[49m\u001b[43mjsondata\u001b[49m\u001b[43m)\u001b[49m\u001b[43m)\u001b[49m\n",
      "File \u001b[0;32m~/miniconda3/envs/coding-smart-github/lib/python3.10/json/__init__.py:339\u001b[0m, in \u001b[0;36mloads\u001b[0;34m(s, cls, object_hook, parse_float, parse_int, parse_constant, object_pairs_hook, **kw)\u001b[0m\n\u001b[1;32m    337\u001b[0m \u001b[38;5;28;01melse\u001b[39;00m:\n\u001b[1;32m    338\u001b[0m     \u001b[38;5;28;01mif\u001b[39;00m \u001b[38;5;129;01mnot\u001b[39;00m \u001b[38;5;28misinstance\u001b[39m(s, (\u001b[38;5;28mbytes\u001b[39m, \u001b[38;5;28mbytearray\u001b[39m)):\n\u001b[0;32m--> 339\u001b[0m         \u001b[38;5;28;01mraise\u001b[39;00m \u001b[38;5;167;01mTypeError\u001b[39;00m(\u001b[38;5;124mf\u001b[39m\u001b[38;5;124m'\u001b[39m\u001b[38;5;124mthe JSON object must be str, bytes or bytearray, \u001b[39m\u001b[38;5;124m'\u001b[39m\n\u001b[1;32m    340\u001b[0m                         \u001b[38;5;124mf\u001b[39m\u001b[38;5;124m'\u001b[39m\u001b[38;5;124mnot \u001b[39m\u001b[38;5;132;01m{\u001b[39;00ms\u001b[38;5;241m.\u001b[39m\u001b[38;5;18m__class__\u001b[39m\u001b[38;5;241m.\u001b[39m\u001b[38;5;18m__name__\u001b[39m\u001b[38;5;132;01m}\u001b[39;00m\u001b[38;5;124m'\u001b[39m)\n\u001b[1;32m    341\u001b[0m     s \u001b[38;5;241m=\u001b[39m s\u001b[38;5;241m.\u001b[39mdecode(detect_encoding(s), \u001b[38;5;124m'\u001b[39m\u001b[38;5;124msurrogatepass\u001b[39m\u001b[38;5;124m'\u001b[39m)\n\u001b[1;32m    343\u001b[0m \u001b[38;5;28;01mif\u001b[39;00m (\u001b[38;5;28mcls\u001b[39m \u001b[38;5;129;01mis\u001b[39;00m \u001b[38;5;28;01mNone\u001b[39;00m \u001b[38;5;129;01mand\u001b[39;00m object_hook \u001b[38;5;129;01mis\u001b[39;00m \u001b[38;5;28;01mNone\u001b[39;00m \u001b[38;5;129;01mand\u001b[39;00m\n\u001b[1;32m    344\u001b[0m         parse_int \u001b[38;5;129;01mis\u001b[39;00m \u001b[38;5;28;01mNone\u001b[39;00m \u001b[38;5;129;01mand\u001b[39;00m parse_float \u001b[38;5;129;01mis\u001b[39;00m \u001b[38;5;28;01mNone\u001b[39;00m \u001b[38;5;129;01mand\u001b[39;00m\n\u001b[1;32m    345\u001b[0m         parse_constant \u001b[38;5;129;01mis\u001b[39;00m \u001b[38;5;28;01mNone\u001b[39;00m \u001b[38;5;129;01mand\u001b[39;00m object_pairs_hook \u001b[38;5;129;01mis\u001b[39;00m \u001b[38;5;28;01mNone\u001b[39;00m \u001b[38;5;129;01mand\u001b[39;00m \u001b[38;5;129;01mnot\u001b[39;00m kw):\n",
      "\u001b[0;31mTypeError\u001b[0m: the JSON object must be str, bytes or bytearray, not list"
     ]
    }
   ],
   "source": []
  },
  {
   "cell_type": "code",
   "execution_count": null,
   "id": "e3b88739",
   "metadata": {},
   "outputs": [],
   "source": []
  },
  {
   "cell_type": "code",
   "execution_count": 93,
   "id": "e71f53ea",
   "metadata": {},
   "outputs": [
    {
     "data": {
      "text/plain": [
       "['__bool__',\n",
       " '__class__',\n",
       " '__delattr__',\n",
       " '__dir__',\n",
       " '__doc__',\n",
       " '__eq__',\n",
       " '__format__',\n",
       " '__ge__',\n",
       " '__getattribute__',\n",
       " '__gt__',\n",
       " '__hash__',\n",
       " '__init__',\n",
       " '__init_subclass__',\n",
       " '__le__',\n",
       " '__lt__',\n",
       " '__ne__',\n",
       " '__new__',\n",
       " '__reduce__',\n",
       " '__reduce_ex__',\n",
       " '__repr__',\n",
       " '__setattr__',\n",
       " '__sizeof__',\n",
       " '__str__',\n",
       " '__subclasshook__']"
      ]
     },
     "execution_count": 93,
     "metadata": {},
     "output_type": "execute_result"
    }
   ],
   "source": [
    "dir(r.next)"
   ]
  },
  {
   "cell_type": "code",
   "execution_count": 6,
   "id": "4363e265",
   "metadata": {},
   "outputs": [
    {
     "name": "stdout",
     "output_type": "stream",
     "text": [
      "[5694496, 5520494, 6500649, 6029408, 6558631, 7495452, 5901450, 5228707, 5946593, 7057132, 6578814, 6700714, 4388632, 6567232, 6162606, 7882172, 6636328, 6783138, 7686292, 6401535]\n"
     ]
    }
   ],
   "source": [
    "r.raise_for_status()\n",
    "\n",
    "identifiers = [] \n",
    "\n",
    "for record_id in r.json():\n",
    "    identifiers.append(record_id['id'])\n",
    "\n",
    "\n",
    "\n",
    "# still_iterating = True\n",
    "\n",
    "# while (len(identifiers) < 50): \n",
    "#     for record_id in r.json()['id']:\n",
    "#         identifiers.append(record_id)\n",
    "\n",
    "print(identifiers)\n",
    "\n",
    "####### read this: https://github.com/dvolgyes/zenodo_get/blob/master/zenodo_get/zget.py  line ~307\n",
    "\n"
   ]
  },
  {
   "cell_type": "code",
   "execution_count": 7,
   "id": "dab1008c",
   "metadata": {},
   "outputs": [],
   "source": [
    "#for record_id in identifiers: \n",
    "#    print(r.json()['metadata']['related_identifiers'])"
   ]
  },
  {
   "cell_type": "code",
   "execution_count": 69,
   "id": "d01d71b1",
   "metadata": {},
   "outputs": [
    {
     "name": "stdout",
     "output_type": "stream",
     "text": [
      "5694496 spawaskar-cora/cora-docs: v2.1.0 Open Community Release <class 'dict'> <class 'list'> https://github.com/spawaskar-cora/cora-docs/tree/v2.1.0\n",
      "https://github.com/spawaskar-cora/cora-docs/tree/v2.1.0\n",
      "5520494 sbernasek/binding: Release for P/Y Paper <class 'dict'> <class 'list'> https://github.com/sbernasek/binding/tree/v0.3\n",
      "https://github.com/sbernasek/binding/tree/v0.3\n",
      "6500649 Jean-Baptiste-Camps/word_normalisation_data: v0.1 DH Tokyo Abstract <class 'dict'> <class 'list'> https://github.com/Jean-Baptiste-Camps/word_normalisation_data/tree/v0.1\n",
      "https://github.com/Jean-Baptiste-Camps/word_normalisation_data/tree/v0.1\n",
      "6029408 pkeys/WAM2layersPython: <class 'dict'> <class 'list'> https://github.com/pkeys/WAM2layersPython/tree/v2.4.08\n",
      "https://github.com/pkeys/WAM2layersPython/tree/v2.4.08\n",
      "6558631 bc/stfeasibility: May 17 Submission to PNAS <class 'dict'> <class 'list'> https://github.com/bc/stfeasibility/tree/Pub\n",
      "https://github.com/bc/stfeasibility/tree/Pub\n",
      "7495452 TerraPIN: Terraces Put Into Numerics <class 'dict'> <class 'list'> https://github.com/awickert/terrapin/tree/v0.0.0\n",
      "https://github.com/awickert/terrapin/tree/v0.0.0\n",
      "5901450 Data from: Environmental drivers of population-level variation in the migratory and diving ontogeny of an Arctic top predator <class 'dict'> <class 'list'> 10.5281/zenodo.5901390\n",
      "5228707 ZeRO-Infinity: Breaking the GPU Memory Wall for Extreme Scale Deep Learning <class 'dict'> <class 'list'> https://github.com/jeffra/DeepSpeed/tree/sc21\n",
      "https://github.com/jeffra/DeepSpeed/tree/sc21\n",
      "5946593 permedtau/covid-vaccination-biobeat-paper: v1.0.0 <class 'dict'> <class 'list'> https://github.com/permedtau/covid-vaccination-biobeat-paper/tree/v.1.0.0\n",
      "https://github.com/permedtau/covid-vaccination-biobeat-paper/tree/v.1.0.0\n",
      "7057132 GVI: Greenness Visibility Index R package <class 'dict'> <class 'list'> https://github.com/STBrinkmann/GVI\n",
      "https://github.com/STBrinkmann/GVI\n",
      "6578814 aimerykong/pollenDetClsSystem: MEE-code-release-v1 <class 'dict'> <class 'list'> https://github.com/aimerykong/pollenDetClsSystem/tree/MEE-code-release-v1\n",
      "https://github.com/aimerykong/pollenDetClsSystem/tree/MEE-code-release-v1\n",
      "6700714 Zibunas/Towards-circular-plastics-within-planetary-boundaries-Q-matrix: v1.0.1 Zibunas/Towards-circular-plastics-within-planetary-boundaries-Q-matrix <class 'dict'> <class 'list'> https://github.com/Zibunas/Towards-circular-plastics-within-planetary-boundaries-Q-matrix/tree/v1.0.2\n",
      "https://github.com/Zibunas/Towards-circular-plastics-within-planetary-boundaries-Q-matrix/tree/v1.0.2\n",
      "4388632 SCALE-SDM source code and configuration files for Isolated cumulus congestus based on SCMS campaign\n",
      "6567232 globalbioticinteractions/choy2017: update index configuration <class 'dict'> <class 'list'> https://github.com/globalbioticinteractions/choy2017/tree/0.3\n",
      "https://github.com/globalbioticinteractions/choy2017/tree/0.3\n",
      "6162606 unitedstates/images: Release 2022.02 <class 'dict'> <class 'list'> https://github.com/unitedstates/images/tree/2022.02\n",
      "https://github.com/unitedstates/images/tree/2022.02\n",
      "7882172 jreeves3/PReLearn: v1.1 <class 'dict'> <class 'list'> https://github.com/jreeves3/PReLearn/tree/v1.1\n",
      "https://github.com/jreeves3/PReLearn/tree/v1.1\n",
      "6636328 jmert/UnixMmap.jl: v1.0.0 <class 'dict'> <class 'list'> https://github.com/jmert/UnixMmap.jl/tree/v1.0.0\n",
      "https://github.com/jmert/UnixMmap.jl/tree/v1.0.0\n",
      "6783138 bethanharris/precipitation-VOD-ISV: v1.0 <class 'dict'> <class 'list'> https://github.com/bethanharris/precipitation-VOD-ISV/tree/v1.0\n",
      "https://github.com/bethanharris/precipitation-VOD-ISV/tree/v1.0\n",
      "7686292 cwsauburn/NA_Hydroclimate: Zenodo Releasev1.0.0 <class 'dict'> <class 'list'> https://github.com/cwsauburn/NA_Hydroclimate/tree/Na_hydro\n",
      "https://github.com/cwsauburn/NA_Hydroclimate/tree/Na_hydro\n",
      "6401535 seankmartin/NeuralConnections: Version of code for paper update 31.03.2021 <class 'dict'> <class 'list'> https://github.com/seankmartin/NeuralConnections/tree/v0.20\n",
      "https://github.com/seankmartin/NeuralConnections/tree/v0.20\n"
     ]
    }
   ],
   "source": [
    "#### WORK ON THIS - it doesn't work!! \n",
    "\n",
    "# f = open('../../data/zenodo-results.csv', 'w')\n",
    "# writer = csv.writer(f)\n",
    "\n",
    "# header = ['Zenodo ID', 'Title', 'DOI', 'GitHub Related Link', 'Relation Type']\n",
    "# writer.writerow(header)\n",
    "\n",
    "for record_id in identifiers:\n",
    "    r = requests.get(\"https://zenodo.org/api/records/{}\".format(record_id))\n",
    "\n",
    "    #if (\"github.com\" in r.json()['metadata']['related_identifiers']) & (\"url\" in r.json()['metadata']['related_identifiers']):\n",
    "    #if (\"github.com\" in r.json()['metadata']['related_identifiers']):\n",
    "    if 'metadata' in r.json():\n",
    "    \n",
    "        record_title = r.json()['title']\n",
    "        record_doi = r.json()['doi']\n",
    "        record_metadata = r.json()['metadata']\n",
    "        \n",
    "        if 'related_identifiers' in record_metadata: \n",
    "            record_metadata_identifiers = r.json()['metadata']['related_identifiers']\n",
    "    \n",
    "            print(\n",
    "                record_id, \n",
    "                record_title, \n",
    "                type(record_metadata), \n",
    "                type(record_metadata_identifiers), \n",
    "                record_metadata_identifiers[0]['identifier']\n",
    "            )\n",
    "            \n",
    "            if (\"github.com\" in record_metadata_identifiers[0]['identifier']) & (\"url\" in record_metadata_identifiers[0]['scheme']):\n",
    "                record_gh_repo_url = record_metadata_identifiers[0]['identifier']\n",
    "                print(record_gh_repo_url)\n",
    "        \n",
    "        else: \n",
    "            print(record_id, record_title)\n",
    "\n",
    "    else: \n",
    "        print(\"no metadata\")\n",
    "        continue\n",
    "        \n",
    "\n",
    "    #for id in r.json()['metadata']['related_identifiers']:\n",
    "    #    if (\"github.com\" in id['identifier']) & (\"url\" in id['scheme']):\n",
    "    #        row = []\n",
    "    #        row.append(record_id)\n",
    "    #        row.append(record_title)\n",
    "    #        row.append(record_doi)\n",
    "    #        row.append(id['identifier'])\n",
    "    #        row.append(id['relation'])\n",
    "    #        writer.writerow(row)\n",
    "\n",
    "#f.close()"
   ]
  },
  {
   "cell_type": "code",
   "execution_count": 70,
   "id": "bc003f69",
   "metadata": {},
   "outputs": [],
   "source": [
    "# \n",
    "\n",
    "f = open('../../data/zenodo-results.csv', 'w')\n",
    "writer = csv.writer(f)\n",
    "\n",
    "header = ['Zenodo ID', 'Title', 'DOI', 'GitHub Link']\n",
    "writer.writerow(header)\n",
    "\n",
    "for record_id in identifiers:\n",
    "    r = requests.get(\"https://zenodo.org/api/records/{}\".format(record_id))\n",
    "\n",
    "    if 'metadata' in r.json():\n",
    "    \n",
    "        record_title = r.json()['title']\n",
    "        record_doi = r.json()['doi']\n",
    "        record_metadata = r.json()['metadata']\n",
    "        \n",
    "        if 'related_identifiers' in record_metadata: \n",
    "            record_metadata_identifiers = r.json()['metadata']['related_identifiers']\n",
    "    \n",
    "#             print(\n",
    "#                 record_id, \n",
    "#                 record_title, \n",
    "#                 type(record_metadata), \n",
    "#                 type(record_metadata_identifiers), \n",
    "#                 record_metadata_identifiers[0]['identifier']\n",
    "#             )\n",
    "            \n",
    "            if (\"github.com\" in record_metadata_identifiers[0]['identifier']) & (\"url\" in record_metadata_identifiers[0]['scheme']):\n",
    "                \n",
    "                record_gh_repo_url = record_metadata_identifiers[0]['identifier']\n",
    "                \n",
    "                row = []\n",
    "                row.append(record_id)\n",
    "                row.append(record_title)\n",
    "                row.append(record_doi)\n",
    "                row.append(record_gh_repo_url)\n",
    "                writer.writerow(row)\n",
    "\n",
    "                \n",
    "#                 print(record_gh_repo_url)\n",
    "        \n",
    "        else: \n",
    "            #print(record_id, record_title)\n",
    "            continue\n",
    "\n",
    "    else: \n",
    "        #print(\"no metadata\")\n",
    "        continue\n",
    "\n",
    "f.close()"
   ]
  },
  {
   "cell_type": "code",
   "execution_count": null,
   "id": "d5040810",
   "metadata": {},
   "outputs": [],
   "source": []
  },
  {
   "cell_type": "code",
   "execution_count": 120,
   "id": "4a2eda66",
   "metadata": {},
   "outputs": [],
   "source": [
    "\n"
   ]
  },
  {
   "cell_type": "code",
   "execution_count": 125,
   "id": "e5b12177",
   "metadata": {},
   "outputs": [
    {
     "name": "stdout",
     "output_type": "stream",
     "text": [
      "1\n",
      "2\n",
      "3\n",
      "4\n",
      "5\n",
      "6\n",
      "7\n",
      "8\n",
      "9\n",
      "10\n",
      "11\n",
      "12\n",
      "13\n",
      "14\n",
      "15\n",
      "16\n",
      "17\n",
      "18\n",
      "19\n",
      "20\n",
      "21\n",
      "22\n",
      "23\n",
      "24\n",
      "25\n",
      "26\n",
      "27\n",
      "28\n",
      "29\n",
      "30\n",
      "31\n",
      "32\n",
      "33\n",
      "34\n",
      "35\n",
      "36\n",
      "37\n",
      "38\n",
      "39\n",
      "40\n",
      "41\n",
      "42\n",
      "43\n",
      "44\n",
      "45\n",
      "46\n",
      "47\n",
      "48\n",
      "49\n",
      "50\n",
      "51\n",
      "52\n",
      "53\n",
      "54\n",
      "55\n",
      "56\n",
      "57\n",
      "58\n",
      "59\n",
      "60\n",
      "61\n",
      "62\n",
      "63\n",
      "64\n",
      "65\n",
      "66\n",
      "67\n",
      "68\n",
      "69\n",
      "70\n",
      "71\n",
      "72\n",
      "73\n",
      "74\n",
      "75\n",
      "76\n",
      "77\n",
      "78\n",
      "79\n",
      "80\n",
      "81\n",
      "82\n",
      "83\n",
      "84\n",
      "85\n",
      "86\n",
      "87\n",
      "88\n",
      "89\n",
      "90\n",
      "91\n",
      "92\n",
      "93\n",
      "94\n",
      "95\n",
      "96\n",
      "97\n",
      "98\n",
      "99\n",
      "100\n",
      "[5694496, 5520494, 6500649, 6029408, 6558631, 7495452, 5901450, 5228707, 5946593, 7057132, 6578814, 6700714, 4388632, 6567232, 6162606, 7882172, 6636328, 6783138, 7686292, 6401535, 8243106, 7439127, 8125737, 7774907, 7792055, 401135, 1010793, 3964240, 5570390, 5717384, 5873595, 5181822, 4541874, 4633135, 4430074, 4919431, 5090764, 5574462, 6635701, 5420862, 7656586, 8132067, 8180947, 832982, 1298444, 1208675, 6384727, 7595224, 8385388, 8412672, 206353, 854651, 6467636, 7352528, 7613133, 7735184, 7779067, 7792223, 8280714, 8408343, 5654741, 5787688, 5573141, 5721504, 6606972, 6259048, 4769851, 5709970, 7096607, 5526788, 6632129, 7084978, 4756246, 5213063, 6717314, 7063211, 5013872, 5914078, 5975221, 5037864, 5549474, 6615532, 7071777, 5236567, 4898339, 4412227, 4422106, 5718516, 5763993, 5511236, 5539919, 6683570, 4774220, 4449549, 5519426, 6532990, 6594518, 6419859, 7092437, 4412023]\n"
     ]
    }
   ],
   "source": [
    "records_api_url = 'https://zenodo.org/api/records'\n",
    "search_query = 'type:software'\n",
    "\n",
    "page_iterator = 1\n",
    "identifiers = [] \n",
    "\n",
    "while (len(identifiers) < 100):\n",
    "    \n",
    "    r = requests.get(records_api_url, params={'q': search_query, 'all_versions': 'true', 'size': 20, 'page': page_iterator})\n",
    "\n",
    "    r.raise_for_status()\n",
    "    \n",
    "    for record_id in r.json():\n",
    "        identifiers.append(record_id['id'])\n",
    "        #print(identifiers)\n",
    "        \n",
    "        print(len(identifiers))\n",
    "        \n",
    "        page_iterator += 1\n",
    "\n",
    "print(identifiers)"
   ]
  },
  {
   "cell_type": "code",
   "execution_count": null,
   "id": "b0b8453f",
   "metadata": {},
   "outputs": [],
   "source": [
    "### THIS WORKS NICELY \n",
    "\n",
    "\n",
    "records_api_url = 'https://zenodo.org/api/records'\n",
    "search_query = 'type:software'\n",
    "\n",
    "page_iterator = 1\n",
    "identifiers = [] \n",
    "\n",
    "while (len(identifiers) < 100):\n",
    "    \n",
    "    r = requests.get(records_api_url, params={'q': search_query, 'all_versions': 'true', 'size': 20, 'page': page_iterator})\n",
    "\n",
    "    r.raise_for_status()\n",
    "    \n",
    "    for record_id in r.json():\n",
    "        identifiers.append(record_id['id'])\n",
    "        #print(identifiers)\n",
    "        \n",
    "        print(len(identifiers))\n",
    "        \n",
    "        page_iterator += 1\n",
    "\n",
    "print(identifiers)"
   ]
  },
  {
   "cell_type": "code",
   "execution_count": 126,
   "id": "b6606d29",
   "metadata": {},
   "outputs": [],
   "source": [
    "#### THIS ALSO WORKS NICELY!!! \n",
    "\n",
    "\n",
    "f = open('../../data/zenodo-results.csv', 'w')\n",
    "writer = csv.writer(f)\n",
    "\n",
    "header = ['Zenodo ID', 'Title', 'DOI', 'GitHub Link']\n",
    "writer.writerow(header)\n",
    "\n",
    "for record_id in identifiers:\n",
    "    r = requests.get(f\"{records_api_url}/{record_id}\")\n",
    "\n",
    "    if 'metadata' in r.json():\n",
    "    \n",
    "        record_title = r.json()['title']\n",
    "        record_doi = r.json()['doi']\n",
    "        record_metadata = r.json()['metadata']\n",
    "        \n",
    "        if 'related_identifiers' in record_metadata: \n",
    "            record_metadata_identifiers = r.json()['metadata']['related_identifiers']\n",
    "    \n",
    "#             print(\n",
    "#                 record_id, \n",
    "#                 record_title, \n",
    "#                 type(record_metadata), \n",
    "#                 type(record_metadata_identifiers), \n",
    "#                 record_metadata_identifiers[0]['identifier']\n",
    "#             )\n",
    "            \n",
    "            if (\"github.com\" in record_metadata_identifiers[0]['identifier']) & (\"url\" in record_metadata_identifiers[0]['scheme']):\n",
    "                \n",
    "                record_gh_repo_url = record_metadata_identifiers[0]['identifier']\n",
    "                \n",
    "                row = []\n",
    "                row.append(record_id)\n",
    "                row.append(record_title)\n",
    "                row.append(record_doi)\n",
    "                row.append(record_gh_repo_url)\n",
    "                writer.writerow(row)\n",
    "\n",
    "                \n",
    "#                 print(record_gh_repo_url)\n",
    "        \n",
    "        else: \n",
    "            #print(record_id, record_title)\n",
    "            continue\n",
    "\n",
    "    else: \n",
    "        #print(\"no metadata\")\n",
    "        continue\n",
    "\n",
    "f.close()"
   ]
  },
  {
   "cell_type": "code",
   "execution_count": null,
   "id": "e0562f1a",
   "metadata": {},
   "outputs": [],
   "source": []
  },
  {
   "cell_type": "code",
   "execution_count": null,
   "id": "24d0c465",
   "metadata": {},
   "outputs": [],
   "source": []
  },
  {
   "cell_type": "code",
   "execution_count": null,
   "id": "d2762173",
   "metadata": {},
   "outputs": [],
   "source": []
  },
  {
   "cell_type": "code",
   "execution_count": null,
   "id": "accb48b0",
   "metadata": {},
   "outputs": [],
   "source": []
  },
  {
   "cell_type": "code",
   "execution_count": 26,
   "id": "f2ae04a6",
   "metadata": {},
   "outputs": [
    {
     "data": {
      "text/plain": [
       "[{'identifier': 'https://github.com/ultralytics/yolov5/tree/v7.0',\n",
       "  'relation': 'isSupplementTo',\n",
       "  'scheme': 'url'}]"
      ]
     },
     "execution_count": 26,
     "metadata": {},
     "output_type": "execute_result"
    }
   ],
   "source": [
    "#res.json()[0]['metadata']['related_identifiers']"
   ]
  },
  {
   "cell_type": "code",
   "execution_count": null,
   "id": "765b6b3b",
   "metadata": {},
   "outputs": [],
   "source": [
    "# Field details here: https://help.zenodo.org/guides/search/  "
   ]
  },
  {
   "cell_type": "code",
   "execution_count": 96,
   "id": "c89c085c",
   "metadata": {},
   "outputs": [
    {
     "data": {
      "text/plain": [
       "dict_keys(['title', 'doi', 'publication_date', 'description', 'access_right', 'creators', 'related_identifiers', 'version', 'license', 'imprint_publisher', 'upload_type', 'prereserve_doi'])"
      ]
     },
     "execution_count": 96,
     "metadata": {},
     "output_type": "execute_result"
    }
   ],
   "source": [
    "#res.json()[0].get('metadata').keys()"
   ]
  },
  {
   "cell_type": "code",
   "execution_count": 107,
   "id": "74e02d61",
   "metadata": {},
   "outputs": [
    {
     "data": {
      "text/plain": [
       "[{'identifier': 'https://github.com/ultralytics/yolov5/tree/v7.0',\n",
       "  'relation': 'isSupplementTo',\n",
       "  'scheme': 'url'}]"
      ]
     },
     "execution_count": 107,
     "metadata": {},
     "output_type": "execute_result"
    }
   ],
   "source": [
    "#res.json()[0].get('metadata').get('related_identifiers')"
   ]
  },
  {
   "cell_type": "code",
   "execution_count": 258,
   "id": "e74ebf7c",
   "metadata": {},
   "outputs": [],
   "source": [
    "content = pd.DataFrame.from_dict(res.json())\n",
    " # pulling the json query output into a dataframe \n",
    "    # can then begin to pull data out of metadata column... \n",
    "    # ... where it's got related_identifiers including github.com"
   ]
  },
  {
   "cell_type": "code",
   "execution_count": 259,
   "id": "38a6d91c",
   "metadata": {},
   "outputs": [
    {
     "name": "stdout",
     "output_type": "stream",
     "text": [
      "                            created                          modified  \\\n",
      "0  2022-11-22T15:29:21.125713+00:00  2022-11-23T02:26:37.566894+00:00   \n",
      "1  2023-09-15T14:02:38.609718+00:00  2023-09-15T14:26:57.370604+00:00   \n",
      "2  2023-10-05T08:49:40.550242+00:00  2023-10-05T14:27:13.161473+00:00   \n",
      "3  2023-09-29T19:01:55.671486+00:00  2023-09-30T02:27:05.766147+00:00   \n",
      "4  2023-08-26T10:02:01.165552+00:00  2023-08-27T02:26:55.890297+00:00   \n",
      "5  2023-10-09T04:42:46.029552+00:00  2023-10-09T14:27:00.049603+00:00   \n",
      "6  2023-09-20T21:02:10.942443+00:00  2023-09-21T02:27:04.290583+00:00   \n",
      "7  2020-03-20T13:53:21.347110+00:00  2020-03-20T20:20:39.657140+00:00   \n",
      "8  2023-09-15T02:33:47.463107+00:00  2023-09-15T14:26:56.948563+00:00   \n",
      "9         2015-07-16T12:45:24+00:00  2020-01-29T13:09:11.520772+00:00   \n",
      "\n",
      "        id conceptrecid                     doi              conceptdoi  \\\n",
      "0  7347926      3908559  10.5281/zenodo.7347926  10.5281/zenodo.3908559   \n",
      "1  8349181       596518  10.5281/zenodo.8349181   10.5281/zenodo.596518   \n",
      "2  8409685      1243862  10.5281/zenodo.8409685  10.5281/zenodo.1243862   \n",
      "3  8393472       592845  10.5281/zenodo.8393472   10.5281/zenodo.592845   \n",
      "4  8284953       605791  10.5281/zenodo.8284953   10.5281/zenodo.605791   \n",
      "5  8419851      3996439  10.5281/zenodo.8419851  10.5281/zenodo.3996439   \n",
      "6  8364959      3509134  10.5281/zenodo.8364959  10.5281/zenodo.3509134   \n",
      "7  3719296       597993  10.5281/zenodo.3719296   10.5281/zenodo.597993   \n",
      "8  8347255       592536  10.5281/zenodo.8347255   10.5281/zenodo.592536   \n",
      "9    20349       611345    10.5281/zenodo.20349   10.5281/zenodo.611345   \n",
      "\n",
      "                                  doi_url  \\\n",
      "0  https://doi.org/10.5281/zenodo.7347926   \n",
      "1  https://doi.org/10.5281/zenodo.8349181   \n",
      "2  https://doi.org/10.5281/zenodo.8409685   \n",
      "3  https://doi.org/10.5281/zenodo.8393472   \n",
      "4  https://doi.org/10.5281/zenodo.8284953   \n",
      "5  https://doi.org/10.5281/zenodo.8419851   \n",
      "6  https://doi.org/10.5281/zenodo.8364959   \n",
      "7  https://doi.org/10.5281/zenodo.3719296   \n",
      "8  https://doi.org/10.5281/zenodo.8347255   \n",
      "9    https://doi.org/10.5281/zenodo.20349   \n",
      "\n",
      "                                            metadata  \\\n",
      "0  {'title': 'ultralytics/yolov5: v7.0 - YOLOv5 S...   \n",
      "1  {'title': 'python-pillow/Pillow: 10.0.1', 'doi...   \n",
      "2  {'title': 'Scientific colour maps', 'doi': '10...   \n",
      "3  {'title': 'mwaskom/seaborn:  v0.13.0 (Septembe...   \n",
      "4  {'title': 'Colour 0.4.3', 'doi': '10.5281/zeno...   \n",
      "5  {'title': 'Trixi.jl', 'doi': '10.5281/zenodo.8...   \n",
      "6  {'title': 'pandas-dev/pandas: Pandas', 'doi': ...   \n",
      "7  {'title': 'Xenon', 'doi': '10.5281/zenodo.3719...   \n",
      "8  {'title': 'Matplotlib: Visualization with Pyth...   \n",
      "9  {'title': 'Eddy-Covariance Software TK3', 'doi...   \n",
      "\n",
      "                                               title  \\\n",
      "0  ultralytics/yolov5: v7.0 - YOLOv5 SOTA Realtim...   \n",
      "1                       python-pillow/Pillow: 10.0.1   \n",
      "2                             Scientific colour maps   \n",
      "3         mwaskom/seaborn:  v0.13.0 (September 2023)   \n",
      "4                                       Colour 0.4.3   \n",
      "5                                           Trixi.jl   \n",
      "6                          pandas-dev/pandas: Pandas   \n",
      "7                                              Xenon   \n",
      "8              Matplotlib: Visualization with Python   \n",
      "9                       Eddy-Covariance Software TK3   \n",
      "\n",
      "                                               links  record_id  owner  \\\n",
      "0  {'self': 'https://zenodo.org/api/records/73479...    7347926  64193   \n",
      "1  {'self': 'https://zenodo.org/api/records/83491...    8349181  17549   \n",
      "2  {'self': 'https://zenodo.org/api/records/84096...    8409685  43498   \n",
      "3  {'self': 'https://zenodo.org/api/records/83934...    8393472   6810   \n",
      "4  {'self': 'https://zenodo.org/api/records/82849...    8284953   5866   \n",
      "5  {'self': 'https://zenodo.org/api/records/84198...    8419851  58288   \n",
      "6  {'self': 'https://zenodo.org/api/records/83649...    8364959  76185   \n",
      "7  {'self': 'https://zenodo.org/api/records/37192...    3719296  19641   \n",
      "8  {'self': 'https://zenodo.org/api/records/83472...    8347255   5742   \n",
      "9  {'self': 'https://zenodo.org/api/records/20349...      20349   6825   \n",
      "\n",
      "                                               files state  submitted  \n",
      "0  [{'id': '6d9a4918-34ef-47ed-a472-e11bb6edcdcf'...  done       True  \n",
      "1  [{'id': '453c7390-aa5c-4ca8-b727-d0f11c837828'...  done       True  \n",
      "2  [{'id': 'df9ec0f1-6ad8-46d2-8485-5e93eb5d8593'...  done       True  \n",
      "3  [{'id': 'e54069d6-e095-46b5-adef-450dd2a78cf7'...  done       True  \n",
      "4  [{'id': '6bac0d3f-ba73-4a4a-8505-fb43b2b60317'...  done       True  \n",
      "5  [{'id': 'f019370d-4a46-4579-a879-db695a43081e'...  done       True  \n",
      "6  [{'id': '0a0ff1b0-e508-48fc-825e-482a82513aed'...  done       True  \n",
      "7  [{'id': 'bb327c7c-2d7e-48c6-aacb-482956eadb09'...  done       True  \n",
      "8  [{'id': '15f489ba-bba4-4cc4-8cb4-76f1ec9f95dd'...  done       True  \n",
      "9  [{'id': '1fc83c3b-71a3-4669-aba0-9ea621388a44'...  done       True  \n"
     ]
    }
   ],
   "source": [
    "print(content)"
   ]
  },
  {
   "cell_type": "code",
   "execution_count": 260,
   "id": "901c5bc0",
   "metadata": {},
   "outputs": [
    {
     "data": {
      "text/plain": [
       "{'self': 'https://zenodo.org/api/records/8409685',\n",
       " 'self_html': 'https://zenodo.org/records/8409685',\n",
       " 'self_doi': 'https://zenodo.org/doi/10.5281/zenodo.8409685',\n",
       " 'doi': 'https://doi.org/10.5281/zenodo.8409685',\n",
       " 'parent': 'https://zenodo.org/api/records/1243862',\n",
       " 'parent_html': 'https://zenodo.org/records/1243862',\n",
       " 'parent_doi': 'https://zenodo.org/doi/10.5281/zenodo.1243862',\n",
       " 'self_iiif_manifest': 'https://zenodo.org/api/iiif/record:8409685/manifest',\n",
       " 'self_iiif_sequence': 'https://zenodo.org/api/iiif/record:8409685/sequence/default',\n",
       " 'files': 'https://zenodo.org/api/records/8409685/files',\n",
       " 'media_files': 'https://zenodo.org/api/records/8409685/media-files',\n",
       " 'archive': 'https://zenodo.org/api/records/8409685/files-archive',\n",
       " 'archive_media': 'https://zenodo.org/api/records/8409685/media-files-archive',\n",
       " 'latest': 'https://zenodo.org/api/records/8409685/versions/latest',\n",
       " 'latest_html': 'https://zenodo.org/records/8409685/latest',\n",
       " 'draft': 'https://zenodo.org/api/records/8409685/draft',\n",
       " 'versions': 'https://zenodo.org/api/records/8409685/versions',\n",
       " 'access_links': 'https://zenodo.org/api/records/8409685/access/links',\n",
       " 'access_users': 'https://zenodo.org/api/records/8409685/access/users',\n",
       " 'access_request': 'https://zenodo.org/api/records/8409685/access/request',\n",
       " 'access': 'https://zenodo.org/api/records/8409685/access',\n",
       " 'reserve_doi': 'https://zenodo.org/api/records/8409685/draft/pids/doi',\n",
       " 'communities': 'https://zenodo.org/api/records/8409685/communities',\n",
       " 'communities-suggestions': 'https://zenodo.org/api/records/8409685/communities-suggestions',\n",
       " 'requests': 'https://zenodo.org/api/records/8409685/requests'}"
      ]
     },
     "execution_count": 260,
     "metadata": {},
     "output_type": "execute_result"
    }
   ],
   "source": [
    "content.links[2]"
   ]
  },
  {
   "cell_type": "code",
   "execution_count": 149,
   "id": "1a0571b9",
   "metadata": {},
   "outputs": [],
   "source": [
    "#### START HERE #####\n",
    "\n",
    "#### continue by pulling the github.com/*/* content out into a file. \n"
   ]
  },
  {
   "cell_type": "code",
   "execution_count": null,
   "id": "03ef3d1e",
   "metadata": {},
   "outputs": [],
   "source": []
  },
  {
   "cell_type": "code",
   "execution_count": null,
   "id": "b514195a",
   "metadata": {},
   "outputs": [],
   "source": []
  },
  {
   "cell_type": "code",
   "execution_count": null,
   "id": "f88e08f7",
   "metadata": {},
   "outputs": [],
   "source": []
  },
  {
   "cell_type": "code",
   "execution_count": null,
   "id": "3c3fa076",
   "metadata": {},
   "outputs": [],
   "source": []
  },
  {
   "cell_type": "code",
   "execution_count": 80,
   "id": "4d5f058b",
   "metadata": {},
   "outputs": [
    {
     "data": {
      "text/plain": [
       "Index(['created', 'modified', 'id', 'conceptrecid', 'doi', 'conceptdoi',\n",
       "       'doi_url', 'metadata', 'title', 'links', 'record_id', 'owner', 'files',\n",
       "       'state', 'submitted'],\n",
       "      dtype='object')"
      ]
     },
     "execution_count": 80,
     "metadata": {},
     "output_type": "execute_result"
    }
   ],
   "source": [
    "content.keys()"
   ]
  },
  {
   "cell_type": "code",
   "execution_count": 112,
   "id": "86c19ebb",
   "metadata": {},
   "outputs": [],
   "source": [
    "content['related_identifiers'] = content[['metadata']].apply(lambda x: [x.get('related_identifiers') for x in x])"
   ]
  },
  {
   "cell_type": "code",
   "execution_count": 113,
   "id": "8429d7fb",
   "metadata": {},
   "outputs": [
    {
     "data": {
      "text/html": [
       "<div>\n",
       "<style scoped>\n",
       "    .dataframe tbody tr th:only-of-type {\n",
       "        vertical-align: middle;\n",
       "    }\n",
       "\n",
       "    .dataframe tbody tr th {\n",
       "        vertical-align: top;\n",
       "    }\n",
       "\n",
       "    .dataframe thead th {\n",
       "        text-align: right;\n",
       "    }\n",
       "</style>\n",
       "<table border=\"1\" class=\"dataframe\">\n",
       "  <thead>\n",
       "    <tr style=\"text-align: right;\">\n",
       "      <th></th>\n",
       "      <th>created</th>\n",
       "      <th>modified</th>\n",
       "      <th>id</th>\n",
       "      <th>conceptrecid</th>\n",
       "      <th>doi</th>\n",
       "      <th>conceptdoi</th>\n",
       "      <th>doi_url</th>\n",
       "      <th>metadata</th>\n",
       "      <th>title</th>\n",
       "      <th>links</th>\n",
       "      <th>record_id</th>\n",
       "      <th>owner</th>\n",
       "      <th>files</th>\n",
       "      <th>state</th>\n",
       "      <th>submitted</th>\n",
       "      <th>related_identifiers</th>\n",
       "      <th>related_identifiers_url</th>\n",
       "    </tr>\n",
       "  </thead>\n",
       "  <tbody>\n",
       "    <tr>\n",
       "      <th>0</th>\n",
       "      <td>2022-11-22T15:29:21.125713+00:00</td>\n",
       "      <td>2022-11-23T02:26:37.566894+00:00</td>\n",
       "      <td>7347926</td>\n",
       "      <td>3908559</td>\n",
       "      <td>10.5281/zenodo.7347926</td>\n",
       "      <td>10.5281/zenodo.3908559</td>\n",
       "      <td>https://doi.org/10.5281/zenodo.7347926</td>\n",
       "      <td>{'title': 'ultralytics/yolov5: v7.0 - YOLOv5 S...</td>\n",
       "      <td>ultralytics/yolov5: v7.0 - YOLOv5 SOTA Realtim...</td>\n",
       "      <td>{'self': 'https://zenodo.org/api/records/73479...</td>\n",
       "      <td>7347926</td>\n",
       "      <td>64193</td>\n",
       "      <td>[{'id': '6d9a4918-34ef-47ed-a472-e11bb6edcdcf'...</td>\n",
       "      <td>done</td>\n",
       "      <td>True</td>\n",
       "      <td>[{'identifier': 'https://github.com/ultralytic...</td>\n",
       "      <td>None</td>\n",
       "    </tr>\n",
       "    <tr>\n",
       "      <th>1</th>\n",
       "      <td>2023-09-15T14:02:38.609718+00:00</td>\n",
       "      <td>2023-09-15T14:26:57.370604+00:00</td>\n",
       "      <td>8349181</td>\n",
       "      <td>596518</td>\n",
       "      <td>10.5281/zenodo.8349181</td>\n",
       "      <td>10.5281/zenodo.596518</td>\n",
       "      <td>https://doi.org/10.5281/zenodo.8349181</td>\n",
       "      <td>{'title': 'python-pillow/Pillow: 10.0.1', 'doi...</td>\n",
       "      <td>python-pillow/Pillow: 10.0.1</td>\n",
       "      <td>{'self': 'https://zenodo.org/api/records/83491...</td>\n",
       "      <td>8349181</td>\n",
       "      <td>17549</td>\n",
       "      <td>[{'id': '453c7390-aa5c-4ca8-b727-d0f11c837828'...</td>\n",
       "      <td>done</td>\n",
       "      <td>True</td>\n",
       "      <td>[{'identifier': 'https://github.com/python-pil...</td>\n",
       "      <td>None</td>\n",
       "    </tr>\n",
       "    <tr>\n",
       "      <th>2</th>\n",
       "      <td>2023-10-05T08:49:40.550242+00:00</td>\n",
       "      <td>2023-10-05T14:27:13.161473+00:00</td>\n",
       "      <td>8409685</td>\n",
       "      <td>1243862</td>\n",
       "      <td>10.5281/zenodo.8409685</td>\n",
       "      <td>10.5281/zenodo.1243862</td>\n",
       "      <td>https://doi.org/10.5281/zenodo.8409685</td>\n",
       "      <td>{'title': 'Scientific colour maps', 'doi': '10...</td>\n",
       "      <td>Scientific colour maps</td>\n",
       "      <td>{'self': 'https://zenodo.org/api/records/84096...</td>\n",
       "      <td>8409685</td>\n",
       "      <td>43498</td>\n",
       "      <td>[{'id': 'df9ec0f1-6ad8-46d2-8485-5e93eb5d8593'...</td>\n",
       "      <td>done</td>\n",
       "      <td>True</td>\n",
       "      <td>[{'identifier': '10.5194/gmd-2017-328', 'relat...</td>\n",
       "      <td>None</td>\n",
       "    </tr>\n",
       "  </tbody>\n",
       "</table>\n",
       "</div>"
      ],
      "text/plain": [
       "                            created                          modified  \\\n",
       "0  2022-11-22T15:29:21.125713+00:00  2022-11-23T02:26:37.566894+00:00   \n",
       "1  2023-09-15T14:02:38.609718+00:00  2023-09-15T14:26:57.370604+00:00   \n",
       "2  2023-10-05T08:49:40.550242+00:00  2023-10-05T14:27:13.161473+00:00   \n",
       "\n",
       "        id conceptrecid                     doi              conceptdoi  \\\n",
       "0  7347926      3908559  10.5281/zenodo.7347926  10.5281/zenodo.3908559   \n",
       "1  8349181       596518  10.5281/zenodo.8349181   10.5281/zenodo.596518   \n",
       "2  8409685      1243862  10.5281/zenodo.8409685  10.5281/zenodo.1243862   \n",
       "\n",
       "                                  doi_url  \\\n",
       "0  https://doi.org/10.5281/zenodo.7347926   \n",
       "1  https://doi.org/10.5281/zenodo.8349181   \n",
       "2  https://doi.org/10.5281/zenodo.8409685   \n",
       "\n",
       "                                            metadata  \\\n",
       "0  {'title': 'ultralytics/yolov5: v7.0 - YOLOv5 S...   \n",
       "1  {'title': 'python-pillow/Pillow: 10.0.1', 'doi...   \n",
       "2  {'title': 'Scientific colour maps', 'doi': '10...   \n",
       "\n",
       "                                               title  \\\n",
       "0  ultralytics/yolov5: v7.0 - YOLOv5 SOTA Realtim...   \n",
       "1                       python-pillow/Pillow: 10.0.1   \n",
       "2                             Scientific colour maps   \n",
       "\n",
       "                                               links  record_id  owner  \\\n",
       "0  {'self': 'https://zenodo.org/api/records/73479...    7347926  64193   \n",
       "1  {'self': 'https://zenodo.org/api/records/83491...    8349181  17549   \n",
       "2  {'self': 'https://zenodo.org/api/records/84096...    8409685  43498   \n",
       "\n",
       "                                               files state  submitted  \\\n",
       "0  [{'id': '6d9a4918-34ef-47ed-a472-e11bb6edcdcf'...  done       True   \n",
       "1  [{'id': '453c7390-aa5c-4ca8-b727-d0f11c837828'...  done       True   \n",
       "2  [{'id': 'df9ec0f1-6ad8-46d2-8485-5e93eb5d8593'...  done       True   \n",
       "\n",
       "                                 related_identifiers related_identifiers_url  \n",
       "0  [{'identifier': 'https://github.com/ultralytic...                    None  \n",
       "1  [{'identifier': 'https://github.com/python-pil...                    None  \n",
       "2  [{'identifier': '10.5194/gmd-2017-328', 'relat...                    None  "
      ]
     },
     "execution_count": 113,
     "metadata": {},
     "output_type": "execute_result"
    }
   ],
   "source": [
    "content"
   ]
  },
  {
   "cell_type": "code",
   "execution_count": 243,
   "id": "0965628f",
   "metadata": {},
   "outputs": [
    {
     "name": "stdout",
     "output_type": "stream",
     "text": [
      "[{'identifier': 'https://github.com/ultralytics/yolov5/tree/v7.0', 'relation': 'isSupplementTo', 'scheme': 'url'}]\n",
      "[{'identifier': 'https://github.com/python-pillow/Pillow/tree/10.0.1', 'relation': 'isSupplementTo', 'scheme': 'url'}]\n",
      "[{'identifier': '10.5194/gmd-2017-328', 'relation': 'isDocumentedBy', 'scheme': 'doi'}]\n"
     ]
    }
   ],
   "source": [
    "for id in content['related_identifiers']:\n",
    "\n",
    "    print(id)"
   ]
  },
  {
   "cell_type": "code",
   "execution_count": 236,
   "id": "de9d6984",
   "metadata": {},
   "outputs": [
    {
     "name": "stdout",
     "output_type": "stream",
     "text": [
      "https://github.com/ultralytics/yolov5/tree/v7.0\n",
      "isSupplementTo\n",
      "url\n",
      "https://github.com/python-pillow/Pillow/tree/10.0.1\n",
      "isSupplementTo\n",
      "url\n",
      "10.5194/gmd-2017-328\n",
      "isDocumentedBy\n",
      "doi\n"
     ]
    }
   ],
   "source": [
    "for id in content['related_identifiers']:\n",
    "#         if (\"github.com\" in id['identifier']):\n",
    "#             row = []\n",
    "#             row.append(record_id)\n",
    "#             row.append(id['identifier'])\n",
    "#             row.append(id['relation'])\n",
    "\n",
    "    print(id[0].get('identifier'))\n",
    "    print(id[0].get('relation'))\n",
    "    print(id[0].get('scheme'))"
   ]
  },
  {
   "cell_type": "code",
   "execution_count": 238,
   "id": "c0c475bb",
   "metadata": {},
   "outputs": [
    {
     "name": "stdout",
     "output_type": "stream",
     "text": [
      "https://github.com/ultralytics/yolov5/tree/v7.0\n",
      "isSupplementTo\n",
      "url\n",
      "https://github.com/python-pillow/Pillow/tree/10.0.1\n",
      "isSupplementTo\n",
      "url\n"
     ]
    }
   ],
   "source": [
    "for id in content['related_identifiers']:\n",
    "\n",
    "    if (\"github.com\" in id[0].get('identifier')):\n",
    "        print(id[0].get('identifier'))\n",
    "        print(id[0].get('relation'))\n",
    "        print(id[0].get('scheme'))"
   ]
  },
  {
   "cell_type": "code",
   "execution_count": 239,
   "id": "dc7f02b5",
   "metadata": {},
   "outputs": [
    {
     "data": {
      "text/plain": [
       "0    7347926\n",
       "1    8349181\n",
       "2    8409685\n",
       "Name: id, dtype: int64"
      ]
     },
     "execution_count": 239,
     "metadata": {},
     "output_type": "execute_result"
    }
   ],
   "source": [
    "identifiers"
   ]
  },
  {
   "cell_type": "code",
   "execution_count": 232,
   "id": "a14960d6",
   "metadata": {},
   "outputs": [
    {
     "data": {
      "text/plain": [
       "Index(['created', 'modified', 'id', 'conceptrecid', 'doi', 'conceptdoi',\n",
       "       'doi_url', 'metadata', 'title', 'links', 'record_id', 'owner', 'files',\n",
       "       'state', 'submitted', 'related_identifiers', 'related_identifiers_url',\n",
       "       'related_identifiers_gh', 'related_identifiers_gh_str'],\n",
       "      dtype='object')"
      ]
     },
     "execution_count": 232,
     "metadata": {},
     "output_type": "execute_result"
    }
   ],
   "source": [
    "content.columns"
   ]
  },
  {
   "cell_type": "code",
   "execution_count": 22,
   "id": "1130cee1",
   "metadata": {},
   "outputs": [],
   "source": [
    "# get zenodo records with type software  \n",
    "# via: https://github.com/npch/reporunner/blob/main/notebooks/zenodo.ipynb\n",
    "\n",
    "#search_query = \"software\"\n",
    "#r = requests.get(\"https://zenodo.org/api/records\", params={'type': 'software'})  \n",
    "  # this comes from the format w/in 'records' entity here: https://pythonhosted.org/zenodo/api/records.html  "
   ]
  },
  {
   "cell_type": "markdown",
   "id": "6a6f4c9b",
   "metadata": {},
   "source": [
    "This search just pulls software records from the api ^  "
   ]
  },
  {
   "cell_type": "code",
   "execution_count": 9,
   "id": "00cd8b68",
   "metadata": {},
   "outputs": [
    {
     "data": {
      "text/plain": [
       "{'server': 'nginx', 'date': 'Mon, 16 Oct 2023 15:14:32 GMT', 'content-type': 'application/json', 'transfer-encoding': 'chunked', 'vary': 'Accept-Encoding', 'x-ratelimit-limit': '60', 'x-ratelimit-remaining': '58', 'x-ratelimit-reset': '1697469332', 'retry-after': '59', 'permissions-policy': 'interest-cohort=()', 'x-frame-options': 'sameorigin', 'x-xss-protection': '1; mode=block', 'x-content-type-options': 'nosniff', 'content-security-policy': \"default-src 'self' fonts.googleapis.com *.gstatic.com data: 'unsafe-inline' 'unsafe-eval' blob: zenodo-broker.web.cern.ch zenodo-broker-qa.web.cern.ch maxcdn.bootstrapcdn.com cdnjs.cloudflare.com ajax.googleapis.com webanalytics.web.cern.ch\", 'strict-transport-security': 'max-age=31556926; includeSubDomains, max-age=15768000', 'referrer-policy': 'strict-origin-when-cross-origin', 'access-control-allow-origin': '*', 'access-control-expose-headers': 'Content-Type, ETag, Link, X-RateLimit-Limit, X-RateLimit-Remaining, X-RateLimit-Reset', 'set-cookie': 'session=5ef951ce1586fc19_652d5358.S_02fZRhoo3PV-A-24oGxKKoR1g; Secure; HttpOnly; Path=/; SameSite=Lax, 5569e5a730cade8ff2b54f1e815f3670=99ff61ab2387084ce7b5c95f764ec010; path=/; HttpOnly; Secure; SameSite=None', 'x-request-id': 'b5a378b7b6bf4c38cbc8e8c5dfda2320', 'content-encoding': 'gzip', 'cache-control': 'private'}"
      ]
     },
     "execution_count": 9,
     "metadata": {},
     "output_type": "execute_result"
    }
   ],
   "source": [
    "r.headers"
   ]
  },
  {
   "cell_type": "code",
   "execution_count": 20,
   "id": "1bdf14f6",
   "metadata": {},
   "outputs": [
    {
     "data": {
      "text/plain": [
       "'https://zenodo.org/api/records?type=software'"
      ]
     },
     "execution_count": 20,
     "metadata": {},
     "output_type": "execute_result"
    }
   ],
   "source": [
    "r.url"
   ]
  },
  {
   "cell_type": "code",
   "execution_count": 138,
   "id": "377ad3be",
   "metadata": {},
   "outputs": [],
   "source": []
  }
 ],
 "metadata": {
  "kernelspec": {
   "display_name": "Python 3 (ipykernel)",
   "language": "python",
   "name": "python3"
  },
  "language_info": {
   "codemirror_mode": {
    "name": "ipython",
    "version": 3
   },
   "file_extension": ".py",
   "mimetype": "text/x-python",
   "name": "python",
   "nbconvert_exporter": "python",
   "pygments_lexer": "ipython3",
   "version": "3.10.9"
  }
 },
 "nbformat": 4,
 "nbformat_minor": 5
}
