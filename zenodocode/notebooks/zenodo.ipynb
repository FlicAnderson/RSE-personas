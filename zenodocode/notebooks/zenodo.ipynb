{
 "cells": [
  {
   "cell_type": "markdown",
   "id": "24fe9aa3",
   "metadata": {},
   "source": [
    "# Zenodo API code for getting GitHub Repos "
   ]
  },
  {
   "cell_type": "markdown",
   "id": "531c33a2",
   "metadata": {},
   "source": [
    "### Setup  \n",
    "\n",
    "Ensure you are in the `coding-smart-github` conda environment and have the following python packages in your environment:\n",
    "  * requests    \n",
    "\n",
    "#### Github Authentication\n",
    "\n",
    "Create an access token via Zenodo Applications settings [here](https://zenodo.org/account/settings/applications/tokens/) and create a file called `zenodoconfig.cfg` with the following content:\n",
    "\n",
    "    [ACCESS]\n",
    "    token = <your-access-token>\n",
    "    \n",
    "Ensure you've pasted in your token, but leave `[ACCESS]` and `token =` ."
   ]
  },
  {
   "cell_type": "code",
   "execution_count": 10,
   "id": "2c67829e",
   "metadata": {},
   "outputs": [],
   "source": [
    "#import pandas as pd\n",
    "#import numpy as np \n",
    "import os \n",
    "from os import path\n",
    "import configparser \n",
    "import requests\n",
    "import csv"
   ]
  },
  {
   "cell_type": "code",
   "execution_count": 8,
   "id": "4f76d687",
   "metadata": {},
   "outputs": [
    {
     "name": "stdout",
     "output_type": "stream",
     "text": [
      "<Response [200]>\n"
     ]
    },
    {
     "data": {
      "text/plain": [
       "200"
      ]
     },
     "execution_count": 8,
     "metadata": {},
     "output_type": "execute_result"
    }
   ],
   "source": [
    "# set up zenodo access token\n",
    "\n",
    "config = configparser.ConfigParser()\n",
    "config.read('../zenodoconfig.cfg')\n",
    "config.sections()\n",
    "\n",
    "access_token = config['ACCESS']['token']\n",
    "\n",
    "r = requests.get('https://zenodo.org/api/deposit/depositions',\n",
    "                  params={'access_token': access_token})\n",
    "\n",
    "print(r)\n",
    "\n",
    "r.status_code\n",
    "# 200\n",
    "\n",
    "#r.json()\n",
    "# []\n"
   ]
  },
  {
   "cell_type": "code",
   "execution_count": 21,
   "id": "3de400f0",
   "metadata": {},
   "outputs": [],
   "source": [
    "# get zenodo records with type software  \n",
    "# via: https://github.com/npch/reporunner/blob/main/notebooks/zenodo.ipynb\n",
    "\n",
    "search_query = \"software\"\n",
    "r = requests.get(\"https://zenodo.org/api/records\", params={'type': 'software'})"
   ]
  },
  {
   "cell_type": "code",
   "execution_count": 15,
   "id": "f03831b3",
   "metadata": {},
   "outputs": [
    {
     "data": {
      "text/plain": [
       "['__attrs__',\n",
       " '__bool__',\n",
       " '__class__',\n",
       " '__delattr__',\n",
       " '__dict__',\n",
       " '__dir__',\n",
       " '__doc__',\n",
       " '__enter__',\n",
       " '__eq__',\n",
       " '__exit__',\n",
       " '__format__',\n",
       " '__ge__',\n",
       " '__getattribute__',\n",
       " '__getstate__',\n",
       " '__gt__',\n",
       " '__hash__',\n",
       " '__init__',\n",
       " '__init_subclass__',\n",
       " '__iter__',\n",
       " '__le__',\n",
       " '__lt__',\n",
       " '__module__',\n",
       " '__ne__',\n",
       " '__new__',\n",
       " '__nonzero__',\n",
       " '__reduce__',\n",
       " '__reduce_ex__',\n",
       " '__repr__',\n",
       " '__setattr__',\n",
       " '__setstate__',\n",
       " '__sizeof__',\n",
       " '__str__',\n",
       " '__subclasshook__',\n",
       " '__weakref__',\n",
       " '_content',\n",
       " '_content_consumed',\n",
       " '_next',\n",
       " 'apparent_encoding',\n",
       " 'close',\n",
       " 'connection',\n",
       " 'content',\n",
       " 'cookies',\n",
       " 'elapsed',\n",
       " 'encoding',\n",
       " 'headers',\n",
       " 'history',\n",
       " 'is_permanent_redirect',\n",
       " 'is_redirect',\n",
       " 'iter_content',\n",
       " 'iter_lines',\n",
       " 'json',\n",
       " 'links',\n",
       " 'next',\n",
       " 'ok',\n",
       " 'raise_for_status',\n",
       " 'raw',\n",
       " 'reason',\n",
       " 'request',\n",
       " 'status_code',\n",
       " 'text',\n",
       " 'url']"
      ]
     },
     "execution_count": 15,
     "metadata": {},
     "output_type": "execute_result"
    }
   ],
   "source": [
    "dir(r)"
   ]
  },
  {
   "cell_type": "code",
   "execution_count": 18,
   "id": "ee4675b9",
   "metadata": {},
   "outputs": [
    {
     "data": {
      "text/plain": [
       "{'conceptdoi': '10.5281/zenodo.8435515',\n",
       " 'conceptrecid': '8435515',\n",
       " 'created': '2023-10-12T13:30:46.414361+00:00',\n",
       " 'doi': '10.5281/zenodo.8435516',\n",
       " 'files': [{'bucket': '5d139941-9d0f-46c4-84bd-e39f7a43897e',\n",
       "   'checksum': 'md5:a86ba9d65527846fbbafd8783bae7a6b',\n",
       "   'key': 'SushiLab/omrgc_v2_scripts-v1.0.0.zip',\n",
       "   'links': {'self': 'https://zenodo.org/api/files/5d139941-9d0f-46c4-84bd-e39f7a43897e/SushiLab/omrgc_v2_scripts-v1.0.0.zip'},\n",
       "   'size': 3123746,\n",
       "   'type': 'zip'}],\n",
       " 'id': 8435516,\n",
       " 'links': {'badge': 'https://zenodo.org/badge/doi/10.5281/zenodo.8435516.svg',\n",
       "  'bucket': 'https://zenodo.org/api/files/5d139941-9d0f-46c4-84bd-e39f7a43897e',\n",
       "  'conceptbadge': 'https://zenodo.org/badge/doi/10.5281/zenodo.8435515.svg',\n",
       "  'conceptdoi': 'https://doi.org/10.5281/zenodo.8435515',\n",
       "  'doi': 'https://doi.org/10.5281/zenodo.8435516',\n",
       "  'html': 'https://zenodo.org/record/8435516',\n",
       "  'latest': 'https://zenodo.org/api/records/8435516',\n",
       "  'latest_html': 'https://zenodo.org/record/8435516',\n",
       "  'self': 'https://zenodo.org/api/records/8435516'},\n",
       " 'metadata': {'access_right': 'open',\n",
       "  'access_right_category': 'success',\n",
       "  'creators': [{'name': 'Lucas Paoli'},\n",
       "   {'affiliation': 'ETH Zurich', 'name': 'Hans-Joachim Ruscheweyh'},\n",
       "   {'name': 'Guillem Salazar'}],\n",
       "  'description': 'No description provided.',\n",
       "  'doi': '10.5281/zenodo.8435516',\n",
       "  'license': {'id': 'other-open'},\n",
       "  'publication_date': '2023-10-12',\n",
       "  'related_identifiers': [{'identifier': 'https://github.com/SushiLab/omrgc_v2_scripts/tree/v1.0.0',\n",
       "    'relation': 'isSupplementTo',\n",
       "    'scheme': 'url'},\n",
       "   {'identifier': '10.5281/zenodo.8435515',\n",
       "    'relation': 'isVersionOf',\n",
       "    'scheme': 'doi'}],\n",
       "  'relations': {'version': [{'count': 1,\n",
       "     'index': 0,\n",
       "     'is_last': True,\n",
       "     'last_child': {'pid_type': 'recid', 'pid_value': '8435516'},\n",
       "     'parent': {'pid_type': 'recid', 'pid_value': '8435515'}}]},\n",
       "  'resource_type': {'title': 'Software', 'type': 'software'},\n",
       "  'title': 'SushiLab/omrgc_v2_scripts: v1.0.0',\n",
       "  'version': 'v1.0.0'},\n",
       " 'owners': [109878],\n",
       " 'revision': 3,\n",
       " 'stats': {'downloads': 0.0,\n",
       "  'unique_downloads': 0.0,\n",
       "  'unique_views': 0.0,\n",
       "  'version_downloads': 0.0,\n",
       "  'version_unique_downloads': 0.0,\n",
       "  'version_unique_views': 0.0,\n",
       "  'version_views': 0.0,\n",
       "  'version_volume': 0.0,\n",
       "  'views': 0.0,\n",
       "  'volume': 0.0},\n",
       " 'updated': '2023-10-12T14:26:59.212786+00:00'}"
      ]
     },
     "execution_count": 18,
     "metadata": {},
     "output_type": "execute_result"
    }
   ],
   "source": [
    "r.json()"
   ]
  },
  {
   "cell_type": "code",
   "execution_count": 22,
   "id": "dcb7ff67",
   "metadata": {},
   "outputs": [
    {
     "name": "stdout",
     "output_type": "stream",
     "text": [
      "[8436192, 8436186, 8436185, 8436176, 8436164, 8436160, 8436146, 8436118, 8436113, 8436090, 8436070, 8436065, 8436046, 8436041, 8422895, 8436030, 8436010, 8436003, 8435965, 8435958, 8435918, 8435829, 8435828, 8435736, 8435735, 8435731, 8435729, 8435720, 8435664, 8435646, 8435641, 8435614, 8435603, 8435554, 8435519, 8435516, 8435512, 8435495, 8435487, 8435486, 8435482, 8435478, 8435466, 8435463, 8435453, 8435438, 8435431, 8435345, 8435296, 8435277]\n"
     ]
    }
   ],
   "source": [
    "identifiers = [] # create empty list for record IDs of SOFTWARE records   \n",
    "\n",
    "if 'hits' in r.json():\n",
    "    still_iterating = True\n",
    "else:\n",
    "    still_iterating = False\n",
    "\n",
    "while still_iterating and (len(identifiers) < 50):\n",
    "#while len(identifiers) < 50:\n",
    "    if 'hits' in r.json():\n",
    "        for hit in r.json()['hits']['hits']:\n",
    "#            print(hit['id'])\n",
    "#        print(hit['metadata']['title'])\n",
    "            identifiers.append(hit['id'])\n",
    "            \n",
    "        if 'next' in r.json()['links']:\n",
    "            r = requests.get(r.json()['links']['next'])\n",
    "        else: \n",
    "            still_iterating = False\n",
    "    else:\n",
    "        still_iterating = False\n",
    "        \n",
    "print(identifiers)"
   ]
  },
  {
   "cell_type": "code",
   "execution_count": 23,
   "id": "d9e1aeb3",
   "metadata": {},
   "outputs": [],
   "source": [
    "# Get GitHub links from a list of Zenodo IDs\n",
    "\n",
    "f = open('results.csv', 'w')\n",
    "writer = csv.writer(f)\n",
    "\n",
    "header = ['Zenodo ID', 'GitHub Related Link', 'Relation Type']\n",
    "writer.writerow(header)\n",
    "\n",
    "for record_id in identifiers:\n",
    "    r = requests.get(\"https://zenodo.org/api/records/{}\".format(record_id))\n",
    "\n",
    "    for id in r.json()['metadata']['related_identifiers']:\n",
    "        if (\"github.com\" in id['identifier']):\n",
    "            row = []\n",
    "            row.append(record_id)\n",
    "            row.append(id['identifier'])\n",
    "            row.append(id['relation'])\n",
    "            writer.writerow(row)\n",
    "\n",
    "f.close()"
   ]
  }
 ],
 "metadata": {
  "kernelspec": {
   "display_name": "Python 3 (ipykernel)",
   "language": "python",
   "name": "python3"
  },
  "language_info": {
   "codemirror_mode": {
    "name": "ipython",
    "version": 3
   },
   "file_extension": ".py",
   "mimetype": "text/x-python",
   "name": "python",
   "nbconvert_exporter": "python",
   "pygments_lexer": "ipython3",
   "version": "3.10.9"
  }
 },
 "nbformat": 4,
 "nbformat_minor": 5
}
